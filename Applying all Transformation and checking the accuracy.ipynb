{
 "cells": [
  {
   "cell_type": "markdown",
   "metadata": {},
   "source": [
    "# Importing Libraries"
   ]
  },
  {
   "cell_type": "code",
   "execution_count": 1,
   "metadata": {},
   "outputs": [],
   "source": [
    "import numpy as np\n",
    "import pandas as pd\n",
    "import scipy.stats as stats\n",
    "import matplotlib.pyplot as plt\n",
    "import seaborn as sns\n",
    "import warnings\n",
    "warnings.filterwarnings(\"ignore\")"
   ]
  },
  {
   "cell_type": "markdown",
   "metadata": {},
   "source": [
    "# Loading dataset"
   ]
  },
  {
   "cell_type": "code",
   "execution_count": 2,
   "metadata": {},
   "outputs": [],
   "source": [
    "data = pd.read_csv('online_shoppers_intention.csv')"
   ]
  },
  {
   "cell_type": "code",
   "execution_count": 3,
   "metadata": {},
   "outputs": [
    {
     "data": {
      "text/html": [
       "<div>\n",
       "<style scoped>\n",
       "    .dataframe tbody tr th:only-of-type {\n",
       "        vertical-align: middle;\n",
       "    }\n",
       "\n",
       "    .dataframe tbody tr th {\n",
       "        vertical-align: top;\n",
       "    }\n",
       "\n",
       "    .dataframe thead th {\n",
       "        text-align: right;\n",
       "    }\n",
       "</style>\n",
       "<table border=\"1\" class=\"dataframe\">\n",
       "  <thead>\n",
       "    <tr style=\"text-align: right;\">\n",
       "      <th></th>\n",
       "      <th>Administrative</th>\n",
       "      <th>Administrative_Duration</th>\n",
       "      <th>Informational</th>\n",
       "      <th>Informational_Duration</th>\n",
       "      <th>ProductRelated</th>\n",
       "      <th>ProductRelated_Duration</th>\n",
       "      <th>BounceRates</th>\n",
       "      <th>ExitRates</th>\n",
       "      <th>PageValues</th>\n",
       "      <th>SpecialDay</th>\n",
       "      <th>Month</th>\n",
       "      <th>OperatingSystems</th>\n",
       "      <th>Browser</th>\n",
       "      <th>Region</th>\n",
       "      <th>TrafficType</th>\n",
       "      <th>VisitorType</th>\n",
       "      <th>Weekend</th>\n",
       "      <th>Revenue</th>\n",
       "    </tr>\n",
       "  </thead>\n",
       "  <tbody>\n",
       "    <tr>\n",
       "      <th>0</th>\n",
       "      <td>0</td>\n",
       "      <td>0.0</td>\n",
       "      <td>0</td>\n",
       "      <td>0.0</td>\n",
       "      <td>1</td>\n",
       "      <td>0.000000</td>\n",
       "      <td>0.20</td>\n",
       "      <td>0.20</td>\n",
       "      <td>0.0</td>\n",
       "      <td>0.0</td>\n",
       "      <td>Feb</td>\n",
       "      <td>1</td>\n",
       "      <td>1</td>\n",
       "      <td>1</td>\n",
       "      <td>1</td>\n",
       "      <td>Returning_Visitor</td>\n",
       "      <td>False</td>\n",
       "      <td>False</td>\n",
       "    </tr>\n",
       "    <tr>\n",
       "      <th>1</th>\n",
       "      <td>0</td>\n",
       "      <td>0.0</td>\n",
       "      <td>0</td>\n",
       "      <td>0.0</td>\n",
       "      <td>2</td>\n",
       "      <td>64.000000</td>\n",
       "      <td>0.00</td>\n",
       "      <td>0.10</td>\n",
       "      <td>0.0</td>\n",
       "      <td>0.0</td>\n",
       "      <td>Feb</td>\n",
       "      <td>2</td>\n",
       "      <td>2</td>\n",
       "      <td>1</td>\n",
       "      <td>2</td>\n",
       "      <td>Returning_Visitor</td>\n",
       "      <td>False</td>\n",
       "      <td>False</td>\n",
       "    </tr>\n",
       "    <tr>\n",
       "      <th>2</th>\n",
       "      <td>0</td>\n",
       "      <td>0.0</td>\n",
       "      <td>0</td>\n",
       "      <td>0.0</td>\n",
       "      <td>1</td>\n",
       "      <td>0.000000</td>\n",
       "      <td>0.20</td>\n",
       "      <td>0.20</td>\n",
       "      <td>0.0</td>\n",
       "      <td>0.0</td>\n",
       "      <td>Feb</td>\n",
       "      <td>4</td>\n",
       "      <td>1</td>\n",
       "      <td>9</td>\n",
       "      <td>3</td>\n",
       "      <td>Returning_Visitor</td>\n",
       "      <td>False</td>\n",
       "      <td>False</td>\n",
       "    </tr>\n",
       "    <tr>\n",
       "      <th>3</th>\n",
       "      <td>0</td>\n",
       "      <td>0.0</td>\n",
       "      <td>0</td>\n",
       "      <td>0.0</td>\n",
       "      <td>2</td>\n",
       "      <td>2.666667</td>\n",
       "      <td>0.05</td>\n",
       "      <td>0.14</td>\n",
       "      <td>0.0</td>\n",
       "      <td>0.0</td>\n",
       "      <td>Feb</td>\n",
       "      <td>3</td>\n",
       "      <td>2</td>\n",
       "      <td>2</td>\n",
       "      <td>4</td>\n",
       "      <td>Returning_Visitor</td>\n",
       "      <td>False</td>\n",
       "      <td>False</td>\n",
       "    </tr>\n",
       "    <tr>\n",
       "      <th>4</th>\n",
       "      <td>0</td>\n",
       "      <td>0.0</td>\n",
       "      <td>0</td>\n",
       "      <td>0.0</td>\n",
       "      <td>10</td>\n",
       "      <td>627.500000</td>\n",
       "      <td>0.02</td>\n",
       "      <td>0.05</td>\n",
       "      <td>0.0</td>\n",
       "      <td>0.0</td>\n",
       "      <td>Feb</td>\n",
       "      <td>3</td>\n",
       "      <td>3</td>\n",
       "      <td>1</td>\n",
       "      <td>4</td>\n",
       "      <td>Returning_Visitor</td>\n",
       "      <td>True</td>\n",
       "      <td>False</td>\n",
       "    </tr>\n",
       "  </tbody>\n",
       "</table>\n",
       "</div>"
      ],
      "text/plain": [
       "   Administrative  Administrative_Duration  Informational  \\\n",
       "0               0                      0.0              0   \n",
       "1               0                      0.0              0   \n",
       "2               0                      0.0              0   \n",
       "3               0                      0.0              0   \n",
       "4               0                      0.0              0   \n",
       "\n",
       "   Informational_Duration  ProductRelated  ProductRelated_Duration  \\\n",
       "0                     0.0               1                 0.000000   \n",
       "1                     0.0               2                64.000000   \n",
       "2                     0.0               1                 0.000000   \n",
       "3                     0.0               2                 2.666667   \n",
       "4                     0.0              10               627.500000   \n",
       "\n",
       "   BounceRates  ExitRates  PageValues  SpecialDay Month  OperatingSystems  \\\n",
       "0         0.20       0.20         0.0         0.0   Feb                 1   \n",
       "1         0.00       0.10         0.0         0.0   Feb                 2   \n",
       "2         0.20       0.20         0.0         0.0   Feb                 4   \n",
       "3         0.05       0.14         0.0         0.0   Feb                 3   \n",
       "4         0.02       0.05         0.0         0.0   Feb                 3   \n",
       "\n",
       "   Browser  Region  TrafficType        VisitorType  Weekend  Revenue  \n",
       "0        1       1            1  Returning_Visitor    False    False  \n",
       "1        2       1            2  Returning_Visitor    False    False  \n",
       "2        1       9            3  Returning_Visitor    False    False  \n",
       "3        2       2            4  Returning_Visitor    False    False  \n",
       "4        3       1            4  Returning_Visitor     True    False  "
      ]
     },
     "execution_count": 3,
     "metadata": {},
     "output_type": "execute_result"
    }
   ],
   "source": [
    "data.head()"
   ]
  },
  {
   "cell_type": "code",
   "execution_count": 4,
   "metadata": {},
   "outputs": [],
   "source": [
    "data1 = data.copy()"
   ]
  },
  {
   "cell_type": "markdown",
   "metadata": {},
   "source": [
    "# Encoding the Categorical Columns to Numerical"
   ]
  },
  {
   "cell_type": "code",
   "execution_count": 5,
   "metadata": {},
   "outputs": [],
   "source": [
    "from sklearn.preprocessing import LabelEncoder"
   ]
  },
  {
   "cell_type": "code",
   "execution_count": 6,
   "metadata": {},
   "outputs": [],
   "source": [
    "LB = LabelEncoder()"
   ]
  },
  {
   "cell_type": "code",
   "execution_count": 7,
   "metadata": {},
   "outputs": [],
   "source": [
    "data1['Month'] = LB.fit_transform(data['Month'])\n",
    "data1['VisitorType'] = LB.fit_transform(data['VisitorType'])\n",
    "data1['Weekend'] = LB.fit_transform(data['Weekend'])\n",
    "data1['Revenue'] = LB.fit_transform(data['Revenue'])"
   ]
  },
  {
   "cell_type": "code",
   "execution_count": 8,
   "metadata": {},
   "outputs": [
    {
     "data": {
      "text/html": [
       "<div>\n",
       "<style scoped>\n",
       "    .dataframe tbody tr th:only-of-type {\n",
       "        vertical-align: middle;\n",
       "    }\n",
       "\n",
       "    .dataframe tbody tr th {\n",
       "        vertical-align: top;\n",
       "    }\n",
       "\n",
       "    .dataframe thead th {\n",
       "        text-align: right;\n",
       "    }\n",
       "</style>\n",
       "<table border=\"1\" class=\"dataframe\">\n",
       "  <thead>\n",
       "    <tr style=\"text-align: right;\">\n",
       "      <th></th>\n",
       "      <th>Administrative</th>\n",
       "      <th>Administrative_Duration</th>\n",
       "      <th>Informational</th>\n",
       "      <th>Informational_Duration</th>\n",
       "      <th>ProductRelated</th>\n",
       "      <th>ProductRelated_Duration</th>\n",
       "      <th>BounceRates</th>\n",
       "      <th>ExitRates</th>\n",
       "      <th>PageValues</th>\n",
       "      <th>SpecialDay</th>\n",
       "      <th>Month</th>\n",
       "      <th>OperatingSystems</th>\n",
       "      <th>Browser</th>\n",
       "      <th>Region</th>\n",
       "      <th>TrafficType</th>\n",
       "      <th>VisitorType</th>\n",
       "      <th>Weekend</th>\n",
       "      <th>Revenue</th>\n",
       "    </tr>\n",
       "  </thead>\n",
       "  <tbody>\n",
       "    <tr>\n",
       "      <th>0</th>\n",
       "      <td>0</td>\n",
       "      <td>0.0</td>\n",
       "      <td>0</td>\n",
       "      <td>0.0</td>\n",
       "      <td>1</td>\n",
       "      <td>0.000000</td>\n",
       "      <td>0.20</td>\n",
       "      <td>0.20</td>\n",
       "      <td>0.0</td>\n",
       "      <td>0.0</td>\n",
       "      <td>2</td>\n",
       "      <td>1</td>\n",
       "      <td>1</td>\n",
       "      <td>1</td>\n",
       "      <td>1</td>\n",
       "      <td>2</td>\n",
       "      <td>0</td>\n",
       "      <td>0</td>\n",
       "    </tr>\n",
       "    <tr>\n",
       "      <th>1</th>\n",
       "      <td>0</td>\n",
       "      <td>0.0</td>\n",
       "      <td>0</td>\n",
       "      <td>0.0</td>\n",
       "      <td>2</td>\n",
       "      <td>64.000000</td>\n",
       "      <td>0.00</td>\n",
       "      <td>0.10</td>\n",
       "      <td>0.0</td>\n",
       "      <td>0.0</td>\n",
       "      <td>2</td>\n",
       "      <td>2</td>\n",
       "      <td>2</td>\n",
       "      <td>1</td>\n",
       "      <td>2</td>\n",
       "      <td>2</td>\n",
       "      <td>0</td>\n",
       "      <td>0</td>\n",
       "    </tr>\n",
       "    <tr>\n",
       "      <th>2</th>\n",
       "      <td>0</td>\n",
       "      <td>0.0</td>\n",
       "      <td>0</td>\n",
       "      <td>0.0</td>\n",
       "      <td>1</td>\n",
       "      <td>0.000000</td>\n",
       "      <td>0.20</td>\n",
       "      <td>0.20</td>\n",
       "      <td>0.0</td>\n",
       "      <td>0.0</td>\n",
       "      <td>2</td>\n",
       "      <td>4</td>\n",
       "      <td>1</td>\n",
       "      <td>9</td>\n",
       "      <td>3</td>\n",
       "      <td>2</td>\n",
       "      <td>0</td>\n",
       "      <td>0</td>\n",
       "    </tr>\n",
       "    <tr>\n",
       "      <th>3</th>\n",
       "      <td>0</td>\n",
       "      <td>0.0</td>\n",
       "      <td>0</td>\n",
       "      <td>0.0</td>\n",
       "      <td>2</td>\n",
       "      <td>2.666667</td>\n",
       "      <td>0.05</td>\n",
       "      <td>0.14</td>\n",
       "      <td>0.0</td>\n",
       "      <td>0.0</td>\n",
       "      <td>2</td>\n",
       "      <td>3</td>\n",
       "      <td>2</td>\n",
       "      <td>2</td>\n",
       "      <td>4</td>\n",
       "      <td>2</td>\n",
       "      <td>0</td>\n",
       "      <td>0</td>\n",
       "    </tr>\n",
       "    <tr>\n",
       "      <th>4</th>\n",
       "      <td>0</td>\n",
       "      <td>0.0</td>\n",
       "      <td>0</td>\n",
       "      <td>0.0</td>\n",
       "      <td>10</td>\n",
       "      <td>627.500000</td>\n",
       "      <td>0.02</td>\n",
       "      <td>0.05</td>\n",
       "      <td>0.0</td>\n",
       "      <td>0.0</td>\n",
       "      <td>2</td>\n",
       "      <td>3</td>\n",
       "      <td>3</td>\n",
       "      <td>1</td>\n",
       "      <td>4</td>\n",
       "      <td>2</td>\n",
       "      <td>1</td>\n",
       "      <td>0</td>\n",
       "    </tr>\n",
       "  </tbody>\n",
       "</table>\n",
       "</div>"
      ],
      "text/plain": [
       "   Administrative  Administrative_Duration  Informational  \\\n",
       "0               0                      0.0              0   \n",
       "1               0                      0.0              0   \n",
       "2               0                      0.0              0   \n",
       "3               0                      0.0              0   \n",
       "4               0                      0.0              0   \n",
       "\n",
       "   Informational_Duration  ProductRelated  ProductRelated_Duration  \\\n",
       "0                     0.0               1                 0.000000   \n",
       "1                     0.0               2                64.000000   \n",
       "2                     0.0               1                 0.000000   \n",
       "3                     0.0               2                 2.666667   \n",
       "4                     0.0              10               627.500000   \n",
       "\n",
       "   BounceRates  ExitRates  PageValues  SpecialDay  Month  OperatingSystems  \\\n",
       "0         0.20       0.20         0.0         0.0      2                 1   \n",
       "1         0.00       0.10         0.0         0.0      2                 2   \n",
       "2         0.20       0.20         0.0         0.0      2                 4   \n",
       "3         0.05       0.14         0.0         0.0      2                 3   \n",
       "4         0.02       0.05         0.0         0.0      2                 3   \n",
       "\n",
       "   Browser  Region  TrafficType  VisitorType  Weekend  Revenue  \n",
       "0        1       1            1            2        0        0  \n",
       "1        2       1            2            2        0        0  \n",
       "2        1       9            3            2        0        0  \n",
       "3        2       2            4            2        0        0  \n",
       "4        3       1            4            2        1        0  "
      ]
     },
     "execution_count": 8,
     "metadata": {},
     "output_type": "execute_result"
    }
   ],
   "source": [
    "data1.head()"
   ]
  },
  {
   "cell_type": "code",
   "execution_count": 9,
   "metadata": {},
   "outputs": [],
   "source": [
    "from sklearn.preprocessing import StandardScaler,MinMaxScaler,MaxAbsScaler,RobustScaler,QuantileTransformer,PowerTransformer,Normalizer"
   ]
  },
  {
   "cell_type": "code",
   "execution_count": 10,
   "metadata": {},
   "outputs": [],
   "source": [
    "sc = StandardScaler()\n",
    "sc_data = sc.fit_transform(data1)\n",
    "sc_data = pd.DataFrame(sc_data,columns=data1.columns)"
   ]
  },
  {
   "cell_type": "code",
   "execution_count": 11,
   "metadata": {},
   "outputs": [],
   "source": [
    "mm = MinMaxScaler()\n",
    "mm_data = mm.fit_transform(data1)\n",
    "mm_data = pd.DataFrame(mm_data,columns=data1.columns)"
   ]
  },
  {
   "cell_type": "code",
   "execution_count": 12,
   "metadata": {},
   "outputs": [],
   "source": [
    "ma = MaxAbsScaler()\n",
    "ma_data = ma.fit_transform(data1)\n",
    "ma_data = pd.DataFrame(ma_data,columns=data1.columns)"
   ]
  },
  {
   "cell_type": "code",
   "execution_count": 13,
   "metadata": {},
   "outputs": [],
   "source": [
    "rs = RobustScaler()\n",
    "rs_data = rs.fit_transform(data1)\n",
    "rs_data = pd.DataFrame(rs_data,columns=data1.columns)"
   ]
  },
  {
   "cell_type": "code",
   "execution_count": 14,
   "metadata": {},
   "outputs": [],
   "source": [
    "qt = QuantileTransformer(output_distribution='normal')\n",
    "qt_data = qt.fit_transform(data1)\n",
    "qt_data = pd.DataFrame(qt_data,columns=data1.columns)"
   ]
  },
  {
   "cell_type": "code",
   "execution_count": 15,
   "metadata": {},
   "outputs": [],
   "source": [
    "qt_u = QuantileTransformer(output_distribution='uniform')\n",
    "qtu_data = qt_u.fit_transform(data1)\n",
    "qtu_data = pd.DataFrame(qtu_data,columns=data1.columns)"
   ]
  },
  {
   "cell_type": "code",
   "execution_count": 16,
   "metadata": {},
   "outputs": [],
   "source": [
    "pt = PowerTransformer(method='yeo-johnson')\n",
    "pt_data = pt.fit_transform(data1)\n",
    "pt_data = pd.DataFrame(pt_data,columns=data1.columns)"
   ]
  },
  {
   "cell_type": "code",
   "execution_count": 17,
   "metadata": {},
   "outputs": [],
   "source": [
    "nm = Normalizer()\n",
    "nm_data = nm.fit_transform(data1)\n",
    "nm_data =pd.DataFrame(nm_data,columns=data1.columns)"
   ]
  },
  {
   "cell_type": "code",
   "execution_count": 18,
   "metadata": {},
   "outputs": [],
   "source": [
    "from sklearn.linear_model import LogisticRegression\n",
    "from sklearn.neighbors import KNeighborsRegressor\n",
    "from sklearn.tree import DecisionTreeClassifier\n",
    "from sklearn.ensemble import RandomForestClassifier\n",
    "from sklearn.model_selection import GridSearchCV,KFold\n",
    "import sklearn.metrics as metrics"
   ]
  },
  {
   "cell_type": "markdown",
   "metadata": {},
   "source": [
    "# Standard Scalar"
   ]
  },
  {
   "cell_type": "markdown",
   "metadata": {},
   "source": [
    "## Logistic Regression"
   ]
  },
  {
   "cell_type": "code",
   "execution_count": 19,
   "metadata": {},
   "outputs": [],
   "source": [
    "X = sc_data.drop('Revenue',axis=1)\n",
    "Y = data1.Revenue"
   ]
  },
  {
   "cell_type": "code",
   "execution_count": 20,
   "metadata": {},
   "outputs": [],
   "source": [
    "LR = LogisticRegression()"
   ]
  },
  {
   "cell_type": "markdown",
   "metadata": {},
   "source": [
    "###  K Fold Cross Validation"
   ]
  },
  {
   "cell_type": "code",
   "execution_count": 21,
   "metadata": {},
   "outputs": [],
   "source": [
    "kf = KFold(n_splits=5,shuffle=True,random_state=0)"
   ]
  },
  {
   "cell_type": "code",
   "execution_count": 22,
   "metadata": {},
   "outputs": [
    {
     "name": "stdout",
     "output_type": "stream",
     "text": [
      " Accuracy: 0.88  Precision: 0.75  Recall: 0.38  ROC-AOC: 0.68\n"
     ]
    }
   ],
   "source": [
    "precision=[]\n",
    "recall  =[]\n",
    "roc_auc = []\n",
    "accuracy=[]\n",
    "for train,test in kf.split(X,Y):\n",
    "    xtrain,xtest=X.iloc[train,:],X.iloc[test,:]\n",
    "    ytrain,ytest=Y.iloc[train],Y.iloc[test]\n",
    "    LR.fit(xtrain,ytrain)\n",
    "    y_predict = LR.predict(xtest)\n",
    "    precision.append(metrics.precision_score(ytest,y_predict))\n",
    "    recall.append(metrics.recall_score(ytest,y_predict))\n",
    "    fpr,tpr,_=metrics.roc_curve(ytest,y_predict)\n",
    "    roc_auc.append(metrics.auc(fpr,tpr))\n",
    "    accuracy.append(metrics.accuracy_score(ytest,y_predict))\n",
    "print(' Accuracy: %0.02f  Precision: %0.02f  Recall: %0.02f  ROC-AOC: %0.02F'\n",
    "      %(np.mean(accuracy),np.mean(precision),np.mean(recall),np.mean(roc_auc)))"
   ]
  },
  {
   "cell_type": "code",
   "execution_count": 23,
   "metadata": {},
   "outputs": [
    {
     "data": {
      "text/html": [
       "<div>\n",
       "<style scoped>\n",
       "    .dataframe tbody tr th:only-of-type {\n",
       "        vertical-align: middle;\n",
       "    }\n",
       "\n",
       "    .dataframe tbody tr th {\n",
       "        vertical-align: top;\n",
       "    }\n",
       "\n",
       "    .dataframe thead th {\n",
       "        text-align: right;\n",
       "    }\n",
       "</style>\n",
       "<table border=\"1\" class=\"dataframe\">\n",
       "  <thead>\n",
       "    <tr style=\"text-align: right;\">\n",
       "      <th></th>\n",
       "      <th>Scaling</th>\n",
       "      <th>Model</th>\n",
       "      <th>Accuracy</th>\n",
       "      <th>Precision</th>\n",
       "      <th>Recall</th>\n",
       "      <th>ROC-AUC</th>\n",
       "    </tr>\n",
       "  </thead>\n",
       "  <tbody>\n",
       "    <tr>\n",
       "      <th>0</th>\n",
       "      <td>Standard</td>\n",
       "      <td>Logistic Regression</td>\n",
       "      <td>0.884509</td>\n",
       "      <td>0.753793</td>\n",
       "      <td>0.376252</td>\n",
       "      <td>0.676892</td>\n",
       "    </tr>\n",
       "  </tbody>\n",
       "</table>\n",
       "</div>"
      ],
      "text/plain": [
       "    Scaling                Model  Accuracy  Precision    Recall   ROC-AUC\n",
       "0  Standard  Logistic Regression  0.884509   0.753793  0.376252  0.676892"
      ]
     },
     "execution_count": 23,
     "metadata": {},
     "output_type": "execute_result"
    }
   ],
   "source": [
    "# Storing results in a dataframe\n",
    "resultsDf = pd.DataFrame({'Scaling':['Standard'],'Model':['Logistic Regression'], \n",
    "                          'Accuracy': [np.mean(accuracy)], 'Precision': [np.mean(precision)],\n",
    "                          'Recall':[np.mean(recall)],'ROC-AUC':[np.mean(roc_auc)]})\n",
    "resultsDf = resultsDf[['Scaling','Model', 'Accuracy', 'Precision','Recall','ROC-AUC']]\n",
    "resultsDf"
   ]
  },
  {
   "cell_type": "markdown",
   "metadata": {},
   "source": [
    "## Decision Tree"
   ]
  },
  {
   "cell_type": "code",
   "execution_count": 24,
   "metadata": {},
   "outputs": [],
   "source": [
    "DT = DecisionTreeClassifier()"
   ]
  },
  {
   "cell_type": "code",
   "execution_count": 25,
   "metadata": {},
   "outputs": [
    {
     "data": {
      "text/plain": [
       "GridSearchCV(cv=3, error_score='raise-deprecating',\n",
       "       estimator=DecisionTreeClassifier(class_weight=None, criterion='gini', max_depth=None,\n",
       "            max_features=None, max_leaf_nodes=None,\n",
       "            min_impurity_decrease=0.0, min_impurity_split=None,\n",
       "            min_samples_leaf=1, min_samples_split=2,\n",
       "            min_weight_fraction_leaf=0.0, presort=False, random_state=None,\n",
       "            splitter='best'),\n",
       "       fit_params=None, iid='warn', n_jobs=None,\n",
       "       param_grid={'max_depth': array([1, 2, 3, 4, 5, 6, 7, 8, 9])},\n",
       "       pre_dispatch='2*n_jobs', refit=True, return_train_score='warn',\n",
       "       scoring=None, verbose=0)"
      ]
     },
     "execution_count": 25,
     "metadata": {},
     "output_type": "execute_result"
    }
   ],
   "source": [
    "parameter ={'max_depth':np.arange(1,10)}\n",
    "GS=GridSearchCV(DT,parameter,cv=3)\n",
    "GS.fit(X,Y)"
   ]
  },
  {
   "cell_type": "code",
   "execution_count": 26,
   "metadata": {},
   "outputs": [
    {
     "data": {
      "text/plain": [
       "{'max_depth': 2}"
      ]
     },
     "execution_count": 26,
     "metadata": {},
     "output_type": "execute_result"
    }
   ],
   "source": [
    "GS.best_params_"
   ]
  },
  {
   "cell_type": "code",
   "execution_count": 27,
   "metadata": {},
   "outputs": [],
   "source": [
    "DT = DecisionTreeClassifier(max_depth=2)"
   ]
  },
  {
   "cell_type": "markdown",
   "metadata": {},
   "source": [
    "###  K Fold Cross Validation"
   ]
  },
  {
   "cell_type": "code",
   "execution_count": 28,
   "metadata": {},
   "outputs": [],
   "source": [
    "kf = KFold(n_splits=5,shuffle=True,random_state=0)"
   ]
  },
  {
   "cell_type": "code",
   "execution_count": 29,
   "metadata": {},
   "outputs": [
    {
     "name": "stdout",
     "output_type": "stream",
     "text": [
      " Accuracy: 0.89  Precision: 0.73  Recall: 0.46  ROC-AOC: 0.71\n"
     ]
    }
   ],
   "source": [
    "precision=[]\n",
    "recall  =[]\n",
    "roc_auc = []\n",
    "accuracy=[]\n",
    "for train,test in kf.split(X,Y):\n",
    "    xtrain,xtest=X.iloc[train,:],X.iloc[test,:]\n",
    "    ytrain,ytest=Y.iloc[train],Y.iloc[test]\n",
    "    DT.fit(xtrain,ytrain)\n",
    "    y_predict = DT.predict(xtest)\n",
    "    precision.append(metrics.precision_score(ytest,y_predict))\n",
    "    recall.append(metrics.recall_score(ytest,y_predict))\n",
    "    fpr,tpr,_=metrics.roc_curve(ytest,y_predict)\n",
    "    roc_auc.append(metrics.auc(fpr,tpr))\n",
    "    accuracy.append(metrics.accuracy_score(ytest,y_predict))\n",
    "print(' Accuracy: %0.02f  Precision: %0.02f  Recall: %0.02f  ROC-AOC: %0.02F'\n",
    "      %(np.mean(accuracy),np.mean(precision),np.mean(recall),np.mean(roc_auc)))"
   ]
  },
  {
   "cell_type": "code",
   "execution_count": 30,
   "metadata": {},
   "outputs": [
    {
     "data": {
      "text/html": [
       "<div>\n",
       "<style scoped>\n",
       "    .dataframe tbody tr th:only-of-type {\n",
       "        vertical-align: middle;\n",
       "    }\n",
       "\n",
       "    .dataframe tbody tr th {\n",
       "        vertical-align: top;\n",
       "    }\n",
       "\n",
       "    .dataframe thead th {\n",
       "        text-align: right;\n",
       "    }\n",
       "</style>\n",
       "<table border=\"1\" class=\"dataframe\">\n",
       "  <thead>\n",
       "    <tr style=\"text-align: right;\">\n",
       "      <th></th>\n",
       "      <th>Scaling</th>\n",
       "      <th>Model</th>\n",
       "      <th>Accuracy</th>\n",
       "      <th>Precision</th>\n",
       "      <th>Recall</th>\n",
       "      <th>ROC-AUC</th>\n",
       "    </tr>\n",
       "  </thead>\n",
       "  <tbody>\n",
       "    <tr>\n",
       "      <th>0</th>\n",
       "      <td>Standard</td>\n",
       "      <td>Logistic Regression</td>\n",
       "      <td>0.884509</td>\n",
       "      <td>0.753793</td>\n",
       "      <td>0.376252</td>\n",
       "      <td>0.676892</td>\n",
       "    </tr>\n",
       "    <tr>\n",
       "      <th>0</th>\n",
       "      <td>Standard</td>\n",
       "      <td>Decision Tree</td>\n",
       "      <td>0.890187</td>\n",
       "      <td>0.731083</td>\n",
       "      <td>0.460727</td>\n",
       "      <td>0.714861</td>\n",
       "    </tr>\n",
       "  </tbody>\n",
       "</table>\n",
       "</div>"
      ],
      "text/plain": [
       "    Scaling                Model  Accuracy  Precision    Recall   ROC-AUC\n",
       "0  Standard  Logistic Regression  0.884509   0.753793  0.376252  0.676892\n",
       "0  Standard        Decision Tree  0.890187   0.731083  0.460727  0.714861"
      ]
     },
     "execution_count": 30,
     "metadata": {},
     "output_type": "execute_result"
    }
   ],
   "source": [
    "# Storing results in a dataframe\n",
    "tempResultsDf = pd.DataFrame({'Scaling':['Standard'],'Model':['Decision Tree'], \n",
    "                          'Accuracy': [np.mean(accuracy)], 'Precision': [np.mean(precision)],\n",
    "                          'Recall':[np.mean(recall)],'ROC-AUC':[np.mean(roc_auc)]})\n",
    "resultsDf = pd.concat([resultsDf, tempResultsDf])\n",
    "resultsDf = resultsDf[['Scaling','Model', 'Accuracy', 'Precision','Recall','ROC-AUC']]\n",
    "resultsDf"
   ]
  },
  {
   "cell_type": "markdown",
   "metadata": {},
   "source": [
    "## Random Forest"
   ]
  },
  {
   "cell_type": "code",
   "execution_count": 31,
   "metadata": {},
   "outputs": [],
   "source": [
    "RT = RandomForestClassifier(random_state=0)"
   ]
  },
  {
   "cell_type": "code",
   "execution_count": 32,
   "metadata": {},
   "outputs": [
    {
     "data": {
      "text/plain": [
       "GridSearchCV(cv=3, error_score='raise-deprecating',\n",
       "       estimator=RandomForestClassifier(bootstrap=True, class_weight=None, criterion='gini',\n",
       "            max_depth=None, max_features='auto', max_leaf_nodes=None,\n",
       "            min_impurity_decrease=0.0, min_impurity_split=None,\n",
       "            min_samples_leaf=1, min_samples_split=2,\n",
       "            min_weight_fraction_leaf=0.0, n_estimators='warn', n_jobs=None,\n",
       "            oob_score=False, random_state=0, verbose=0, warm_start=False),\n",
       "       fit_params=None, iid='warn', n_jobs=None,\n",
       "       param_grid={'n_estimators': array([1, 2, 3, 4, 5, 6, 7, 8, 9]), 'max_depth': array([1, 2, 3, 4, 5, 6, 7, 8, 9])},\n",
       "       pre_dispatch='2*n_jobs', refit=True, return_train_score='warn',\n",
       "       scoring=None, verbose=0)"
      ]
     },
     "execution_count": 32,
     "metadata": {},
     "output_type": "execute_result"
    }
   ],
   "source": [
    "parameter ={'n_estimators':np.arange(1,10),'max_depth':np.arange(1,10)}\n",
    "GS=GridSearchCV(RT,parameter,cv=3)\n",
    "GS.fit(X,Y)"
   ]
  },
  {
   "cell_type": "code",
   "execution_count": 33,
   "metadata": {},
   "outputs": [
    {
     "data": {
      "text/plain": [
       "{'max_depth': 5, 'n_estimators': 3}"
      ]
     },
     "execution_count": 33,
     "metadata": {},
     "output_type": "execute_result"
    }
   ],
   "source": [
    "GS.best_params_"
   ]
  },
  {
   "cell_type": "code",
   "execution_count": 34,
   "metadata": {},
   "outputs": [],
   "source": [
    "RT = RandomForestClassifier(n_estimators=3,max_depth=5,random_state=0)"
   ]
  },
  {
   "cell_type": "markdown",
   "metadata": {},
   "source": [
    "###  K Fold Cross Validation"
   ]
  },
  {
   "cell_type": "code",
   "execution_count": 35,
   "metadata": {},
   "outputs": [],
   "source": [
    "kf = KFold(n_splits=5,shuffle=True,random_state=0)"
   ]
  },
  {
   "cell_type": "code",
   "execution_count": 36,
   "metadata": {},
   "outputs": [
    {
     "name": "stdout",
     "output_type": "stream",
     "text": [
      " Accuracy: 0.89  Precision: 0.72  Recall: 0.54  ROC-AOC: 0.75\n"
     ]
    }
   ],
   "source": [
    "precision=[]\n",
    "recall  =[]\n",
    "roc_auc = []\n",
    "accuracy=[]\n",
    "for train,test in kf.split(X,Y):\n",
    "    xtrain,xtest=X.iloc[train,:],X.iloc[test,:]\n",
    "    ytrain,ytest=Y.iloc[train],Y.iloc[test]\n",
    "    RT.fit(xtrain,ytrain)\n",
    "    y_predict = RT.predict(xtest)\n",
    "    precision.append(metrics.precision_score(ytest,y_predict))\n",
    "    recall.append(metrics.recall_score(ytest,y_predict))\n",
    "    fpr,tpr,_=metrics.roc_curve(ytest,y_predict)\n",
    "    roc_auc.append(metrics.auc(fpr,tpr))\n",
    "    accuracy.append(metrics.accuracy_score(ytest,y_predict))\n",
    "print(' Accuracy: %0.02f  Precision: %0.02f  Recall: %0.02f  ROC-AOC: %0.02F'\n",
    "      %(np.mean(accuracy),np.mean(precision),np.mean(recall),np.mean(roc_auc)))"
   ]
  },
  {
   "cell_type": "code",
   "execution_count": 37,
   "metadata": {},
   "outputs": [
    {
     "data": {
      "text/html": [
       "<div>\n",
       "<style scoped>\n",
       "    .dataframe tbody tr th:only-of-type {\n",
       "        vertical-align: middle;\n",
       "    }\n",
       "\n",
       "    .dataframe tbody tr th {\n",
       "        vertical-align: top;\n",
       "    }\n",
       "\n",
       "    .dataframe thead th {\n",
       "        text-align: right;\n",
       "    }\n",
       "</style>\n",
       "<table border=\"1\" class=\"dataframe\">\n",
       "  <thead>\n",
       "    <tr style=\"text-align: right;\">\n",
       "      <th></th>\n",
       "      <th>Scaling</th>\n",
       "      <th>Model</th>\n",
       "      <th>Accuracy</th>\n",
       "      <th>Precision</th>\n",
       "      <th>Recall</th>\n",
       "      <th>ROC-AUC</th>\n",
       "    </tr>\n",
       "  </thead>\n",
       "  <tbody>\n",
       "    <tr>\n",
       "      <th>0</th>\n",
       "      <td>Standard</td>\n",
       "      <td>Logistic Regression</td>\n",
       "      <td>0.884509</td>\n",
       "      <td>0.753793</td>\n",
       "      <td>0.376252</td>\n",
       "      <td>0.676892</td>\n",
       "    </tr>\n",
       "    <tr>\n",
       "      <th>0</th>\n",
       "      <td>Standard</td>\n",
       "      <td>Decision Tree</td>\n",
       "      <td>0.890187</td>\n",
       "      <td>0.731083</td>\n",
       "      <td>0.460727</td>\n",
       "      <td>0.714861</td>\n",
       "    </tr>\n",
       "    <tr>\n",
       "      <th>0</th>\n",
       "      <td>Standard</td>\n",
       "      <td>Random Forest</td>\n",
       "      <td>0.894809</td>\n",
       "      <td>0.719285</td>\n",
       "      <td>0.541100</td>\n",
       "      <td>0.750618</td>\n",
       "    </tr>\n",
       "  </tbody>\n",
       "</table>\n",
       "</div>"
      ],
      "text/plain": [
       "    Scaling                Model  Accuracy  Precision    Recall   ROC-AUC\n",
       "0  Standard  Logistic Regression  0.884509   0.753793  0.376252  0.676892\n",
       "0  Standard        Decision Tree  0.890187   0.731083  0.460727  0.714861\n",
       "0  Standard        Random Forest  0.894809   0.719285  0.541100  0.750618"
      ]
     },
     "execution_count": 37,
     "metadata": {},
     "output_type": "execute_result"
    }
   ],
   "source": [
    "# Storing results in a dataframe\n",
    "tempResultsDf = pd.DataFrame({'Scaling':['Standard'],'Model':['Random Forest'], \n",
    "                          'Accuracy': [np.mean(accuracy)], 'Precision': [np.mean(precision)],\n",
    "                          'Recall':[np.mean(recall)],'ROC-AUC':[np.mean(roc_auc)]})\n",
    "resultsDf = pd.concat([resultsDf, tempResultsDf])\n",
    "resultsDf = resultsDf[['Scaling','Model', 'Accuracy', 'Precision','Recall','ROC-AUC']]\n",
    "resultsDf"
   ]
  },
  {
   "cell_type": "markdown",
   "metadata": {},
   "source": [
    "# MinMax Scalar"
   ]
  },
  {
   "cell_type": "markdown",
   "metadata": {},
   "source": [
    "## Logistic Regression"
   ]
  },
  {
   "cell_type": "code",
   "execution_count": 38,
   "metadata": {},
   "outputs": [],
   "source": [
    "X = mm_data.drop('Revenue',axis=1)\n",
    "Y = data1.Revenue"
   ]
  },
  {
   "cell_type": "code",
   "execution_count": 39,
   "metadata": {},
   "outputs": [],
   "source": [
    "LR = LogisticRegression()"
   ]
  },
  {
   "cell_type": "markdown",
   "metadata": {},
   "source": [
    "###  K Fold Cross Validation"
   ]
  },
  {
   "cell_type": "code",
   "execution_count": 40,
   "metadata": {},
   "outputs": [],
   "source": [
    "kf = KFold(n_splits=5,shuffle=True,random_state=0)"
   ]
  },
  {
   "cell_type": "code",
   "execution_count": 41,
   "metadata": {},
   "outputs": [
    {
     "name": "stdout",
     "output_type": "stream",
     "text": [
      " Accuracy: 0.88  Precision: 0.77  Recall: 0.28  ROC-AOC: 0.63\n"
     ]
    }
   ],
   "source": [
    "precision=[]\n",
    "recall  =[]\n",
    "roc_auc = []\n",
    "accuracy=[]\n",
    "for train,test in kf.split(X,Y):\n",
    "    xtrain,xtest=X.iloc[train,:],X.iloc[test,:]\n",
    "    ytrain,ytest=Y.iloc[train],Y.iloc[test]\n",
    "    LR.fit(xtrain,ytrain)\n",
    "    y_predict = LR.predict(xtest)\n",
    "    precision.append(metrics.precision_score(ytest,y_predict))\n",
    "    recall.append(metrics.recall_score(ytest,y_predict))\n",
    "    fpr,tpr,_=metrics.roc_curve(ytest,y_predict)\n",
    "    roc_auc.append(metrics.auc(fpr,tpr))\n",
    "    accuracy.append(metrics.accuracy_score(ytest,y_predict))\n",
    "print(' Accuracy: %0.02f  Precision: %0.02f  Recall: %0.02f  ROC-AOC: %0.02F'\n",
    "      %(np.mean(accuracy),np.mean(precision),np.mean(recall),np.mean(roc_auc)))"
   ]
  },
  {
   "cell_type": "code",
   "execution_count": 42,
   "metadata": {},
   "outputs": [
    {
     "data": {
      "text/html": [
       "<div>\n",
       "<style scoped>\n",
       "    .dataframe tbody tr th:only-of-type {\n",
       "        vertical-align: middle;\n",
       "    }\n",
       "\n",
       "    .dataframe tbody tr th {\n",
       "        vertical-align: top;\n",
       "    }\n",
       "\n",
       "    .dataframe thead th {\n",
       "        text-align: right;\n",
       "    }\n",
       "</style>\n",
       "<table border=\"1\" class=\"dataframe\">\n",
       "  <thead>\n",
       "    <tr style=\"text-align: right;\">\n",
       "      <th></th>\n",
       "      <th>Scaling</th>\n",
       "      <th>Model</th>\n",
       "      <th>Accuracy</th>\n",
       "      <th>Precision</th>\n",
       "      <th>Recall</th>\n",
       "      <th>ROC-AUC</th>\n",
       "    </tr>\n",
       "  </thead>\n",
       "  <tbody>\n",
       "    <tr>\n",
       "      <th>0</th>\n",
       "      <td>Standard</td>\n",
       "      <td>Logistic Regression</td>\n",
       "      <td>0.884509</td>\n",
       "      <td>0.753793</td>\n",
       "      <td>0.376252</td>\n",
       "      <td>0.676892</td>\n",
       "    </tr>\n",
       "    <tr>\n",
       "      <th>0</th>\n",
       "      <td>Standard</td>\n",
       "      <td>Decision Tree</td>\n",
       "      <td>0.890187</td>\n",
       "      <td>0.731083</td>\n",
       "      <td>0.460727</td>\n",
       "      <td>0.714861</td>\n",
       "    </tr>\n",
       "    <tr>\n",
       "      <th>0</th>\n",
       "      <td>Standard</td>\n",
       "      <td>Random Forest</td>\n",
       "      <td>0.894809</td>\n",
       "      <td>0.719285</td>\n",
       "      <td>0.541100</td>\n",
       "      <td>0.750618</td>\n",
       "    </tr>\n",
       "    <tr>\n",
       "      <th>0</th>\n",
       "      <td>MinMax</td>\n",
       "      <td>Logistic Regression</td>\n",
       "      <td>0.875020</td>\n",
       "      <td>0.768471</td>\n",
       "      <td>0.275069</td>\n",
       "      <td>0.629997</td>\n",
       "    </tr>\n",
       "  </tbody>\n",
       "</table>\n",
       "</div>"
      ],
      "text/plain": [
       "    Scaling                Model  Accuracy  Precision    Recall   ROC-AUC\n",
       "0  Standard  Logistic Regression  0.884509   0.753793  0.376252  0.676892\n",
       "0  Standard        Decision Tree  0.890187   0.731083  0.460727  0.714861\n",
       "0  Standard        Random Forest  0.894809   0.719285  0.541100  0.750618\n",
       "0    MinMax  Logistic Regression  0.875020   0.768471  0.275069  0.629997"
      ]
     },
     "execution_count": 42,
     "metadata": {},
     "output_type": "execute_result"
    }
   ],
   "source": [
    "# Storing results in a dataframe\n",
    "tempResultsDf = pd.DataFrame({'Scaling':['MinMax'],'Model':['Logistic Regression'], \n",
    "                          'Accuracy': [np.mean(accuracy)], 'Precision': [np.mean(precision)],\n",
    "                          'Recall':[np.mean(recall)],'ROC-AUC':[np.mean(roc_auc)]})\n",
    "resultsDf = pd.concat([resultsDf, tempResultsDf])\n",
    "resultsDf = resultsDf[['Scaling','Model', 'Accuracy', 'Precision','Recall','ROC-AUC']]\n",
    "resultsDf"
   ]
  },
  {
   "cell_type": "markdown",
   "metadata": {},
   "source": [
    "## Decision Tree"
   ]
  },
  {
   "cell_type": "code",
   "execution_count": 43,
   "metadata": {},
   "outputs": [],
   "source": [
    "DT = DecisionTreeClassifier()"
   ]
  },
  {
   "cell_type": "code",
   "execution_count": 44,
   "metadata": {},
   "outputs": [
    {
     "data": {
      "text/plain": [
       "GridSearchCV(cv=3, error_score='raise-deprecating',\n",
       "       estimator=DecisionTreeClassifier(class_weight=None, criterion='gini', max_depth=None,\n",
       "            max_features=None, max_leaf_nodes=None,\n",
       "            min_impurity_decrease=0.0, min_impurity_split=None,\n",
       "            min_samples_leaf=1, min_samples_split=2,\n",
       "            min_weight_fraction_leaf=0.0, presort=False, random_state=None,\n",
       "            splitter='best'),\n",
       "       fit_params=None, iid='warn', n_jobs=None,\n",
       "       param_grid={'max_depth': array([1, 2, 3, 4, 5, 6, 7, 8, 9])},\n",
       "       pre_dispatch='2*n_jobs', refit=True, return_train_score='warn',\n",
       "       scoring=None, verbose=0)"
      ]
     },
     "execution_count": 44,
     "metadata": {},
     "output_type": "execute_result"
    }
   ],
   "source": [
    "parameter ={'max_depth':np.arange(1,10)}\n",
    "GS=GridSearchCV(DT,parameter,cv=3)\n",
    "GS.fit(X,Y)"
   ]
  },
  {
   "cell_type": "code",
   "execution_count": 45,
   "metadata": {},
   "outputs": [
    {
     "data": {
      "text/plain": [
       "{'max_depth': 2}"
      ]
     },
     "execution_count": 45,
     "metadata": {},
     "output_type": "execute_result"
    }
   ],
   "source": [
    "GS.best_params_"
   ]
  },
  {
   "cell_type": "code",
   "execution_count": 46,
   "metadata": {},
   "outputs": [],
   "source": [
    "DT = DecisionTreeClassifier(max_depth=2)"
   ]
  },
  {
   "cell_type": "markdown",
   "metadata": {},
   "source": [
    "###  K Fold Cross Validation"
   ]
  },
  {
   "cell_type": "code",
   "execution_count": 47,
   "metadata": {},
   "outputs": [],
   "source": [
    "kf = KFold(n_splits=5,shuffle=True,random_state=0)"
   ]
  },
  {
   "cell_type": "code",
   "execution_count": 48,
   "metadata": {},
   "outputs": [
    {
     "name": "stdout",
     "output_type": "stream",
     "text": [
      " Accuracy: 0.89  Precision: 0.73  Recall: 0.46  ROC-AOC: 0.71\n"
     ]
    }
   ],
   "source": [
    "precision=[]\n",
    "recall  =[]\n",
    "roc_auc = []\n",
    "accuracy=[]\n",
    "for train,test in kf.split(X,Y):\n",
    "    xtrain,xtest=X.iloc[train,:],X.iloc[test,:]\n",
    "    ytrain,ytest=Y.iloc[train],Y.iloc[test]\n",
    "    DT.fit(xtrain,ytrain)\n",
    "    y_predict = DT.predict(xtest)\n",
    "    precision.append(metrics.precision_score(ytest,y_predict))\n",
    "    recall.append(metrics.recall_score(ytest,y_predict))\n",
    "    fpr,tpr,_=metrics.roc_curve(ytest,y_predict)\n",
    "    roc_auc.append(metrics.auc(fpr,tpr))\n",
    "    accuracy.append(metrics.accuracy_score(ytest,y_predict))\n",
    "print(' Accuracy: %0.02f  Precision: %0.02f  Recall: %0.02f  ROC-AOC: %0.02F'\n",
    "      %(np.mean(accuracy),np.mean(precision),np.mean(recall),np.mean(roc_auc)))"
   ]
  },
  {
   "cell_type": "code",
   "execution_count": 49,
   "metadata": {},
   "outputs": [
    {
     "data": {
      "text/html": [
       "<div>\n",
       "<style scoped>\n",
       "    .dataframe tbody tr th:only-of-type {\n",
       "        vertical-align: middle;\n",
       "    }\n",
       "\n",
       "    .dataframe tbody tr th {\n",
       "        vertical-align: top;\n",
       "    }\n",
       "\n",
       "    .dataframe thead th {\n",
       "        text-align: right;\n",
       "    }\n",
       "</style>\n",
       "<table border=\"1\" class=\"dataframe\">\n",
       "  <thead>\n",
       "    <tr style=\"text-align: right;\">\n",
       "      <th></th>\n",
       "      <th>Scaling</th>\n",
       "      <th>Model</th>\n",
       "      <th>Accuracy</th>\n",
       "      <th>Precision</th>\n",
       "      <th>Recall</th>\n",
       "      <th>ROC-AUC</th>\n",
       "    </tr>\n",
       "  </thead>\n",
       "  <tbody>\n",
       "    <tr>\n",
       "      <th>0</th>\n",
       "      <td>Standard</td>\n",
       "      <td>Logistic Regression</td>\n",
       "      <td>0.884509</td>\n",
       "      <td>0.753793</td>\n",
       "      <td>0.376252</td>\n",
       "      <td>0.676892</td>\n",
       "    </tr>\n",
       "    <tr>\n",
       "      <th>0</th>\n",
       "      <td>Standard</td>\n",
       "      <td>Decision Tree</td>\n",
       "      <td>0.890187</td>\n",
       "      <td>0.731083</td>\n",
       "      <td>0.460727</td>\n",
       "      <td>0.714861</td>\n",
       "    </tr>\n",
       "    <tr>\n",
       "      <th>0</th>\n",
       "      <td>Standard</td>\n",
       "      <td>Random Forest</td>\n",
       "      <td>0.894809</td>\n",
       "      <td>0.719285</td>\n",
       "      <td>0.541100</td>\n",
       "      <td>0.750618</td>\n",
       "    </tr>\n",
       "    <tr>\n",
       "      <th>0</th>\n",
       "      <td>MinMax</td>\n",
       "      <td>Logistic Regression</td>\n",
       "      <td>0.875020</td>\n",
       "      <td>0.768471</td>\n",
       "      <td>0.275069</td>\n",
       "      <td>0.629997</td>\n",
       "    </tr>\n",
       "    <tr>\n",
       "      <th>0</th>\n",
       "      <td>MinMax</td>\n",
       "      <td>Decision Tree</td>\n",
       "      <td>0.890187</td>\n",
       "      <td>0.731083</td>\n",
       "      <td>0.460727</td>\n",
       "      <td>0.714861</td>\n",
       "    </tr>\n",
       "  </tbody>\n",
       "</table>\n",
       "</div>"
      ],
      "text/plain": [
       "    Scaling                Model  Accuracy  Precision    Recall   ROC-AUC\n",
       "0  Standard  Logistic Regression  0.884509   0.753793  0.376252  0.676892\n",
       "0  Standard        Decision Tree  0.890187   0.731083  0.460727  0.714861\n",
       "0  Standard        Random Forest  0.894809   0.719285  0.541100  0.750618\n",
       "0    MinMax  Logistic Regression  0.875020   0.768471  0.275069  0.629997\n",
       "0    MinMax        Decision Tree  0.890187   0.731083  0.460727  0.714861"
      ]
     },
     "execution_count": 49,
     "metadata": {},
     "output_type": "execute_result"
    }
   ],
   "source": [
    "# Storing results in a dataframe\n",
    "tempResultsDf = pd.DataFrame({'Scaling':['MinMax'],'Model':['Decision Tree'], \n",
    "                          'Accuracy': [np.mean(accuracy)], 'Precision': [np.mean(precision)],\n",
    "                          'Recall':[np.mean(recall)],'ROC-AUC':[np.mean(roc_auc)]})\n",
    "resultsDf = pd.concat([resultsDf, tempResultsDf])\n",
    "resultsDf = resultsDf[['Scaling','Model', 'Accuracy', 'Precision','Recall','ROC-AUC']]\n",
    "resultsDf"
   ]
  },
  {
   "cell_type": "markdown",
   "metadata": {},
   "source": [
    "## Random Forest"
   ]
  },
  {
   "cell_type": "code",
   "execution_count": 50,
   "metadata": {},
   "outputs": [],
   "source": [
    "RT = RandomForestClassifier(random_state=0)"
   ]
  },
  {
   "cell_type": "code",
   "execution_count": 51,
   "metadata": {},
   "outputs": [
    {
     "data": {
      "text/plain": [
       "GridSearchCV(cv=3, error_score='raise-deprecating',\n",
       "       estimator=RandomForestClassifier(bootstrap=True, class_weight=None, criterion='gini',\n",
       "            max_depth=None, max_features='auto', max_leaf_nodes=None,\n",
       "            min_impurity_decrease=0.0, min_impurity_split=None,\n",
       "            min_samples_leaf=1, min_samples_split=2,\n",
       "            min_weight_fraction_leaf=0.0, n_estimators='warn', n_jobs=None,\n",
       "            oob_score=False, random_state=0, verbose=0, warm_start=False),\n",
       "       fit_params=None, iid='warn', n_jobs=None,\n",
       "       param_grid={'n_estimators': array([1, 2, 3, 4, 5, 6, 7, 8, 9]), 'max_depth': array([1, 2, 3, 4, 5, 6, 7, 8, 9])},\n",
       "       pre_dispatch='2*n_jobs', refit=True, return_train_score='warn',\n",
       "       scoring=None, verbose=0)"
      ]
     },
     "execution_count": 51,
     "metadata": {},
     "output_type": "execute_result"
    }
   ],
   "source": [
    "parameter ={'n_estimators':np.arange(1,10),'max_depth':np.arange(1,10)}\n",
    "GS=GridSearchCV(RT,parameter,cv=3)\n",
    "GS.fit(X,Y)"
   ]
  },
  {
   "cell_type": "code",
   "execution_count": 52,
   "metadata": {},
   "outputs": [
    {
     "data": {
      "text/plain": [
       "{'max_depth': 5, 'n_estimators': 3}"
      ]
     },
     "execution_count": 52,
     "metadata": {},
     "output_type": "execute_result"
    }
   ],
   "source": [
    "GS.best_params_"
   ]
  },
  {
   "cell_type": "code",
   "execution_count": 53,
   "metadata": {},
   "outputs": [],
   "source": [
    "RT = RandomForestClassifier(n_estimators=3,max_depth=5,random_state=0)"
   ]
  },
  {
   "cell_type": "markdown",
   "metadata": {},
   "source": [
    "###  K Fold Cross Validation"
   ]
  },
  {
   "cell_type": "code",
   "execution_count": 54,
   "metadata": {},
   "outputs": [],
   "source": [
    "kf = KFold(n_splits=5,shuffle=True,random_state=0)"
   ]
  },
  {
   "cell_type": "code",
   "execution_count": 55,
   "metadata": {},
   "outputs": [
    {
     "name": "stdout",
     "output_type": "stream",
     "text": [
      " Accuracy: 0.89  Precision: 0.72  Recall: 0.54  ROC-AOC: 0.75\n"
     ]
    }
   ],
   "source": [
    "precision=[]\n",
    "recall  =[]\n",
    "roc_auc = []\n",
    "accuracy=[]\n",
    "for train,test in kf.split(X,Y):\n",
    "    xtrain,xtest=X.iloc[train,:],X.iloc[test,:]\n",
    "    ytrain,ytest=Y.iloc[train],Y.iloc[test]\n",
    "    RT.fit(xtrain,ytrain)\n",
    "    y_predict = RT.predict(xtest)\n",
    "    precision.append(metrics.precision_score(ytest,y_predict))\n",
    "    recall.append(metrics.recall_score(ytest,y_predict))\n",
    "    fpr,tpr,_=metrics.roc_curve(ytest,y_predict)\n",
    "    roc_auc.append(metrics.auc(fpr,tpr))\n",
    "    accuracy.append(metrics.accuracy_score(ytest,y_predict))\n",
    "print(' Accuracy: %0.02f  Precision: %0.02f  Recall: %0.02f  ROC-AOC: %0.02F'\n",
    "      %(np.mean(accuracy),np.mean(precision),np.mean(recall),np.mean(roc_auc)))"
   ]
  },
  {
   "cell_type": "code",
   "execution_count": 56,
   "metadata": {},
   "outputs": [
    {
     "data": {
      "text/html": [
       "<div>\n",
       "<style scoped>\n",
       "    .dataframe tbody tr th:only-of-type {\n",
       "        vertical-align: middle;\n",
       "    }\n",
       "\n",
       "    .dataframe tbody tr th {\n",
       "        vertical-align: top;\n",
       "    }\n",
       "\n",
       "    .dataframe thead th {\n",
       "        text-align: right;\n",
       "    }\n",
       "</style>\n",
       "<table border=\"1\" class=\"dataframe\">\n",
       "  <thead>\n",
       "    <tr style=\"text-align: right;\">\n",
       "      <th></th>\n",
       "      <th>Scaling</th>\n",
       "      <th>Model</th>\n",
       "      <th>Accuracy</th>\n",
       "      <th>Precision</th>\n",
       "      <th>Recall</th>\n",
       "      <th>ROC-AUC</th>\n",
       "    </tr>\n",
       "  </thead>\n",
       "  <tbody>\n",
       "    <tr>\n",
       "      <th>0</th>\n",
       "      <td>Standard</td>\n",
       "      <td>Logistic Regression</td>\n",
       "      <td>0.884509</td>\n",
       "      <td>0.753793</td>\n",
       "      <td>0.376252</td>\n",
       "      <td>0.676892</td>\n",
       "    </tr>\n",
       "    <tr>\n",
       "      <th>0</th>\n",
       "      <td>Standard</td>\n",
       "      <td>Decision Tree</td>\n",
       "      <td>0.890187</td>\n",
       "      <td>0.731083</td>\n",
       "      <td>0.460727</td>\n",
       "      <td>0.714861</td>\n",
       "    </tr>\n",
       "    <tr>\n",
       "      <th>0</th>\n",
       "      <td>Standard</td>\n",
       "      <td>Random Forest</td>\n",
       "      <td>0.894809</td>\n",
       "      <td>0.719285</td>\n",
       "      <td>0.541100</td>\n",
       "      <td>0.750618</td>\n",
       "    </tr>\n",
       "    <tr>\n",
       "      <th>0</th>\n",
       "      <td>MinMax</td>\n",
       "      <td>Logistic Regression</td>\n",
       "      <td>0.875020</td>\n",
       "      <td>0.768471</td>\n",
       "      <td>0.275069</td>\n",
       "      <td>0.629997</td>\n",
       "    </tr>\n",
       "    <tr>\n",
       "      <th>0</th>\n",
       "      <td>MinMax</td>\n",
       "      <td>Decision Tree</td>\n",
       "      <td>0.890187</td>\n",
       "      <td>0.731083</td>\n",
       "      <td>0.460727</td>\n",
       "      <td>0.714861</td>\n",
       "    </tr>\n",
       "    <tr>\n",
       "      <th>0</th>\n",
       "      <td>MinMax</td>\n",
       "      <td>Random Forest</td>\n",
       "      <td>0.894891</td>\n",
       "      <td>0.719843</td>\n",
       "      <td>0.541100</td>\n",
       "      <td>0.750666</td>\n",
       "    </tr>\n",
       "  </tbody>\n",
       "</table>\n",
       "</div>"
      ],
      "text/plain": [
       "    Scaling                Model  Accuracy  Precision    Recall   ROC-AUC\n",
       "0  Standard  Logistic Regression  0.884509   0.753793  0.376252  0.676892\n",
       "0  Standard        Decision Tree  0.890187   0.731083  0.460727  0.714861\n",
       "0  Standard        Random Forest  0.894809   0.719285  0.541100  0.750618\n",
       "0    MinMax  Logistic Regression  0.875020   0.768471  0.275069  0.629997\n",
       "0    MinMax        Decision Tree  0.890187   0.731083  0.460727  0.714861\n",
       "0    MinMax        Random Forest  0.894891   0.719843  0.541100  0.750666"
      ]
     },
     "execution_count": 56,
     "metadata": {},
     "output_type": "execute_result"
    }
   ],
   "source": [
    "# Storing results in a dataframe\n",
    "tempResultsDf = pd.DataFrame({'Scaling':['MinMax'],'Model':['Random Forest'], \n",
    "                          'Accuracy': [np.mean(accuracy)], 'Precision': [np.mean(precision)],\n",
    "                          'Recall':[np.mean(recall)],'ROC-AUC':[np.mean(roc_auc)]})\n",
    "resultsDf = pd.concat([resultsDf, tempResultsDf])\n",
    "resultsDf = resultsDf[['Scaling','Model', 'Accuracy', 'Precision','Recall','ROC-AUC']]\n",
    "resultsDf"
   ]
  },
  {
   "cell_type": "markdown",
   "metadata": {},
   "source": [
    "   # MAXABS Scalar"
   ]
  },
  {
   "cell_type": "markdown",
   "metadata": {},
   "source": [
    "## Logistic Regression"
   ]
  },
  {
   "cell_type": "code",
   "execution_count": 57,
   "metadata": {},
   "outputs": [],
   "source": [
    "X = ma_data.drop('Revenue',axis=1)\n",
    "Y = data1.Revenue"
   ]
  },
  {
   "cell_type": "code",
   "execution_count": 58,
   "metadata": {},
   "outputs": [],
   "source": [
    "LR = LogisticRegression()"
   ]
  },
  {
   "cell_type": "markdown",
   "metadata": {},
   "source": [
    "###  K Fold Cross Validation"
   ]
  },
  {
   "cell_type": "code",
   "execution_count": 59,
   "metadata": {},
   "outputs": [],
   "source": [
    "kf = KFold(n_splits=5,shuffle=True,random_state=0)"
   ]
  },
  {
   "cell_type": "code",
   "execution_count": 60,
   "metadata": {},
   "outputs": [
    {
     "name": "stdout",
     "output_type": "stream",
     "text": [
      " Accuracy: 0.88  Precision: 0.77  Recall: 0.28  ROC-AOC: 0.63\n"
     ]
    }
   ],
   "source": [
    "precision=[]\n",
    "recall  =[]\n",
    "roc_auc = []\n",
    "accuracy=[]\n",
    "for train,test in kf.split(X,Y):\n",
    "    xtrain,xtest=X.iloc[train,:],X.iloc[test,:]\n",
    "    ytrain,ytest=Y.iloc[train],Y.iloc[test]\n",
    "    LR.fit(xtrain,ytrain)\n",
    "    y_predict = LR.predict(xtest)\n",
    "    precision.append(metrics.precision_score(ytest,y_predict))\n",
    "    recall.append(metrics.recall_score(ytest,y_predict))\n",
    "    fpr,tpr,_=metrics.roc_curve(ytest,y_predict)\n",
    "    roc_auc.append(metrics.auc(fpr,tpr))\n",
    "    accuracy.append(metrics.accuracy_score(ytest,y_predict))\n",
    "print(' Accuracy: %0.02f  Precision: %0.02f  Recall: %0.02f  ROC-AOC: %0.02F'\n",
    "      %(np.mean(accuracy),np.mean(precision),np.mean(recall),np.mean(roc_auc)))"
   ]
  },
  {
   "cell_type": "code",
   "execution_count": 61,
   "metadata": {},
   "outputs": [
    {
     "data": {
      "text/html": [
       "<div>\n",
       "<style scoped>\n",
       "    .dataframe tbody tr th:only-of-type {\n",
       "        vertical-align: middle;\n",
       "    }\n",
       "\n",
       "    .dataframe tbody tr th {\n",
       "        vertical-align: top;\n",
       "    }\n",
       "\n",
       "    .dataframe thead th {\n",
       "        text-align: right;\n",
       "    }\n",
       "</style>\n",
       "<table border=\"1\" class=\"dataframe\">\n",
       "  <thead>\n",
       "    <tr style=\"text-align: right;\">\n",
       "      <th></th>\n",
       "      <th>Scaling</th>\n",
       "      <th>Model</th>\n",
       "      <th>Accuracy</th>\n",
       "      <th>Precision</th>\n",
       "      <th>Recall</th>\n",
       "      <th>ROC-AUC</th>\n",
       "    </tr>\n",
       "  </thead>\n",
       "  <tbody>\n",
       "    <tr>\n",
       "      <th>0</th>\n",
       "      <td>Standard</td>\n",
       "      <td>Logistic Regression</td>\n",
       "      <td>0.884509</td>\n",
       "      <td>0.753793</td>\n",
       "      <td>0.376252</td>\n",
       "      <td>0.676892</td>\n",
       "    </tr>\n",
       "    <tr>\n",
       "      <th>0</th>\n",
       "      <td>Standard</td>\n",
       "      <td>Decision Tree</td>\n",
       "      <td>0.890187</td>\n",
       "      <td>0.731083</td>\n",
       "      <td>0.460727</td>\n",
       "      <td>0.714861</td>\n",
       "    </tr>\n",
       "    <tr>\n",
       "      <th>0</th>\n",
       "      <td>Standard</td>\n",
       "      <td>Random Forest</td>\n",
       "      <td>0.894809</td>\n",
       "      <td>0.719285</td>\n",
       "      <td>0.541100</td>\n",
       "      <td>0.750618</td>\n",
       "    </tr>\n",
       "    <tr>\n",
       "      <th>0</th>\n",
       "      <td>MinMax</td>\n",
       "      <td>Logistic Regression</td>\n",
       "      <td>0.875020</td>\n",
       "      <td>0.768471</td>\n",
       "      <td>0.275069</td>\n",
       "      <td>0.629997</td>\n",
       "    </tr>\n",
       "    <tr>\n",
       "      <th>0</th>\n",
       "      <td>MinMax</td>\n",
       "      <td>Decision Tree</td>\n",
       "      <td>0.890187</td>\n",
       "      <td>0.731083</td>\n",
       "      <td>0.460727</td>\n",
       "      <td>0.714861</td>\n",
       "    </tr>\n",
       "    <tr>\n",
       "      <th>0</th>\n",
       "      <td>MinMax</td>\n",
       "      <td>Random Forest</td>\n",
       "      <td>0.894891</td>\n",
       "      <td>0.719843</td>\n",
       "      <td>0.541100</td>\n",
       "      <td>0.750666</td>\n",
       "    </tr>\n",
       "    <tr>\n",
       "      <th>0</th>\n",
       "      <td>MaxAbs</td>\n",
       "      <td>Logistic Regression</td>\n",
       "      <td>0.875020</td>\n",
       "      <td>0.768471</td>\n",
       "      <td>0.275069</td>\n",
       "      <td>0.629997</td>\n",
       "    </tr>\n",
       "  </tbody>\n",
       "</table>\n",
       "</div>"
      ],
      "text/plain": [
       "    Scaling                Model  Accuracy  Precision    Recall   ROC-AUC\n",
       "0  Standard  Logistic Regression  0.884509   0.753793  0.376252  0.676892\n",
       "0  Standard        Decision Tree  0.890187   0.731083  0.460727  0.714861\n",
       "0  Standard        Random Forest  0.894809   0.719285  0.541100  0.750618\n",
       "0    MinMax  Logistic Regression  0.875020   0.768471  0.275069  0.629997\n",
       "0    MinMax        Decision Tree  0.890187   0.731083  0.460727  0.714861\n",
       "0    MinMax        Random Forest  0.894891   0.719843  0.541100  0.750666\n",
       "0    MaxAbs  Logistic Regression  0.875020   0.768471  0.275069  0.629997"
      ]
     },
     "execution_count": 61,
     "metadata": {},
     "output_type": "execute_result"
    }
   ],
   "source": [
    "# Storing results in a dataframe\n",
    "tempResultsDf = pd.DataFrame({'Scaling':['MaxAbs'],'Model':['Logistic Regression'], \n",
    "                          'Accuracy': [np.mean(accuracy)], 'Precision': [np.mean(precision)],\n",
    "                          'Recall':[np.mean(recall)],'ROC-AUC':[np.mean(roc_auc)]})\n",
    "resultsDf = pd.concat([resultsDf, tempResultsDf])\n",
    "resultsDf = resultsDf[['Scaling','Model', 'Accuracy', 'Precision','Recall','ROC-AUC']]\n",
    "resultsDf"
   ]
  },
  {
   "cell_type": "markdown",
   "metadata": {},
   "source": [
    "## Decision Tree"
   ]
  },
  {
   "cell_type": "code",
   "execution_count": 62,
   "metadata": {},
   "outputs": [],
   "source": [
    "DT = DecisionTreeClassifier()"
   ]
  },
  {
   "cell_type": "code",
   "execution_count": 63,
   "metadata": {},
   "outputs": [
    {
     "data": {
      "text/plain": [
       "GridSearchCV(cv=3, error_score='raise-deprecating',\n",
       "       estimator=DecisionTreeClassifier(class_weight=None, criterion='gini', max_depth=None,\n",
       "            max_features=None, max_leaf_nodes=None,\n",
       "            min_impurity_decrease=0.0, min_impurity_split=None,\n",
       "            min_samples_leaf=1, min_samples_split=2,\n",
       "            min_weight_fraction_leaf=0.0, presort=False, random_state=None,\n",
       "            splitter='best'),\n",
       "       fit_params=None, iid='warn', n_jobs=None,\n",
       "       param_grid={'max_depth': array([1, 2, 3, 4, 5, 6, 7, 8, 9])},\n",
       "       pre_dispatch='2*n_jobs', refit=True, return_train_score='warn',\n",
       "       scoring=None, verbose=0)"
      ]
     },
     "execution_count": 63,
     "metadata": {},
     "output_type": "execute_result"
    }
   ],
   "source": [
    "parameter ={'max_depth':np.arange(1,10)}\n",
    "GS=GridSearchCV(DT,parameter,cv=3)\n",
    "GS.fit(X,Y)"
   ]
  },
  {
   "cell_type": "code",
   "execution_count": 64,
   "metadata": {},
   "outputs": [
    {
     "data": {
      "text/plain": [
       "{'max_depth': 2}"
      ]
     },
     "execution_count": 64,
     "metadata": {},
     "output_type": "execute_result"
    }
   ],
   "source": [
    "GS.best_params_"
   ]
  },
  {
   "cell_type": "code",
   "execution_count": 65,
   "metadata": {},
   "outputs": [],
   "source": [
    "DT = DecisionTreeClassifier(max_depth=2)"
   ]
  },
  {
   "cell_type": "markdown",
   "metadata": {},
   "source": [
    "###  K Fold Cross Validation"
   ]
  },
  {
   "cell_type": "code",
   "execution_count": 66,
   "metadata": {},
   "outputs": [],
   "source": [
    "kf = KFold(n_splits=5,shuffle=True,random_state=0)"
   ]
  },
  {
   "cell_type": "code",
   "execution_count": 67,
   "metadata": {},
   "outputs": [
    {
     "name": "stdout",
     "output_type": "stream",
     "text": [
      " Accuracy: 0.89  Precision: 0.73  Recall: 0.46  ROC-AOC: 0.71\n"
     ]
    }
   ],
   "source": [
    "precision=[]\n",
    "recall  =[]\n",
    "roc_auc = []\n",
    "accuracy=[]\n",
    "for train,test in kf.split(X,Y):\n",
    "    xtrain,xtest=X.iloc[train,:],X.iloc[test,:]\n",
    "    ytrain,ytest=Y.iloc[train],Y.iloc[test]\n",
    "    DT.fit(xtrain,ytrain)\n",
    "    y_predict = DT.predict(xtest)\n",
    "    precision.append(metrics.precision_score(ytest,y_predict))\n",
    "    recall.append(metrics.recall_score(ytest,y_predict))\n",
    "    fpr,tpr,_=metrics.roc_curve(ytest,y_predict)\n",
    "    roc_auc.append(metrics.auc(fpr,tpr))\n",
    "    accuracy.append(metrics.accuracy_score(ytest,y_predict))\n",
    "print(' Accuracy: %0.02f  Precision: %0.02f  Recall: %0.02f  ROC-AOC: %0.02F'\n",
    "      %(np.mean(accuracy),np.mean(precision),np.mean(recall),np.mean(roc_auc)))"
   ]
  },
  {
   "cell_type": "code",
   "execution_count": 68,
   "metadata": {},
   "outputs": [
    {
     "data": {
      "text/html": [
       "<div>\n",
       "<style scoped>\n",
       "    .dataframe tbody tr th:only-of-type {\n",
       "        vertical-align: middle;\n",
       "    }\n",
       "\n",
       "    .dataframe tbody tr th {\n",
       "        vertical-align: top;\n",
       "    }\n",
       "\n",
       "    .dataframe thead th {\n",
       "        text-align: right;\n",
       "    }\n",
       "</style>\n",
       "<table border=\"1\" class=\"dataframe\">\n",
       "  <thead>\n",
       "    <tr style=\"text-align: right;\">\n",
       "      <th></th>\n",
       "      <th>Scaling</th>\n",
       "      <th>Model</th>\n",
       "      <th>Accuracy</th>\n",
       "      <th>Precision</th>\n",
       "      <th>Recall</th>\n",
       "      <th>ROC-AUC</th>\n",
       "    </tr>\n",
       "  </thead>\n",
       "  <tbody>\n",
       "    <tr>\n",
       "      <th>0</th>\n",
       "      <td>Standard</td>\n",
       "      <td>Logistic Regression</td>\n",
       "      <td>0.884509</td>\n",
       "      <td>0.753793</td>\n",
       "      <td>0.376252</td>\n",
       "      <td>0.676892</td>\n",
       "    </tr>\n",
       "    <tr>\n",
       "      <th>0</th>\n",
       "      <td>Standard</td>\n",
       "      <td>Decision Tree</td>\n",
       "      <td>0.890187</td>\n",
       "      <td>0.731083</td>\n",
       "      <td>0.460727</td>\n",
       "      <td>0.714861</td>\n",
       "    </tr>\n",
       "    <tr>\n",
       "      <th>0</th>\n",
       "      <td>Standard</td>\n",
       "      <td>Random Forest</td>\n",
       "      <td>0.894809</td>\n",
       "      <td>0.719285</td>\n",
       "      <td>0.541100</td>\n",
       "      <td>0.750618</td>\n",
       "    </tr>\n",
       "    <tr>\n",
       "      <th>0</th>\n",
       "      <td>MinMax</td>\n",
       "      <td>Logistic Regression</td>\n",
       "      <td>0.875020</td>\n",
       "      <td>0.768471</td>\n",
       "      <td>0.275069</td>\n",
       "      <td>0.629997</td>\n",
       "    </tr>\n",
       "    <tr>\n",
       "      <th>0</th>\n",
       "      <td>MinMax</td>\n",
       "      <td>Decision Tree</td>\n",
       "      <td>0.890187</td>\n",
       "      <td>0.731083</td>\n",
       "      <td>0.460727</td>\n",
       "      <td>0.714861</td>\n",
       "    </tr>\n",
       "    <tr>\n",
       "      <th>0</th>\n",
       "      <td>MinMax</td>\n",
       "      <td>Random Forest</td>\n",
       "      <td>0.894891</td>\n",
       "      <td>0.719843</td>\n",
       "      <td>0.541100</td>\n",
       "      <td>0.750666</td>\n",
       "    </tr>\n",
       "    <tr>\n",
       "      <th>0</th>\n",
       "      <td>MaxAbs</td>\n",
       "      <td>Logistic Regression</td>\n",
       "      <td>0.875020</td>\n",
       "      <td>0.768471</td>\n",
       "      <td>0.275069</td>\n",
       "      <td>0.629997</td>\n",
       "    </tr>\n",
       "    <tr>\n",
       "      <th>0</th>\n",
       "      <td>MaxABS</td>\n",
       "      <td>Decision Tree</td>\n",
       "      <td>0.890187</td>\n",
       "      <td>0.731083</td>\n",
       "      <td>0.460727</td>\n",
       "      <td>0.714861</td>\n",
       "    </tr>\n",
       "  </tbody>\n",
       "</table>\n",
       "</div>"
      ],
      "text/plain": [
       "    Scaling                Model  Accuracy  Precision    Recall   ROC-AUC\n",
       "0  Standard  Logistic Regression  0.884509   0.753793  0.376252  0.676892\n",
       "0  Standard        Decision Tree  0.890187   0.731083  0.460727  0.714861\n",
       "0  Standard        Random Forest  0.894809   0.719285  0.541100  0.750618\n",
       "0    MinMax  Logistic Regression  0.875020   0.768471  0.275069  0.629997\n",
       "0    MinMax        Decision Tree  0.890187   0.731083  0.460727  0.714861\n",
       "0    MinMax        Random Forest  0.894891   0.719843  0.541100  0.750666\n",
       "0    MaxAbs  Logistic Regression  0.875020   0.768471  0.275069  0.629997\n",
       "0    MaxABS        Decision Tree  0.890187   0.731083  0.460727  0.714861"
      ]
     },
     "execution_count": 68,
     "metadata": {},
     "output_type": "execute_result"
    }
   ],
   "source": [
    "# Storing results in a dataframe\n",
    "tempResultsDf = pd.DataFrame({'Scaling':['MaxABS'],'Model':['Decision Tree'], \n",
    "                          'Accuracy': [np.mean(accuracy)], 'Precision': [np.mean(precision)],\n",
    "                          'Recall':[np.mean(recall)],'ROC-AUC':[np.mean(roc_auc)]})\n",
    "resultsDf = pd.concat([resultsDf, tempResultsDf])\n",
    "resultsDf = resultsDf[['Scaling','Model', 'Accuracy', 'Precision','Recall','ROC-AUC']]\n",
    "resultsDf"
   ]
  },
  {
   "cell_type": "markdown",
   "metadata": {},
   "source": [
    "## Random Forest"
   ]
  },
  {
   "cell_type": "code",
   "execution_count": 69,
   "metadata": {},
   "outputs": [],
   "source": [
    "RT = RandomForestClassifier(random_state=0)"
   ]
  },
  {
   "cell_type": "code",
   "execution_count": 70,
   "metadata": {},
   "outputs": [
    {
     "data": {
      "text/plain": [
       "GridSearchCV(cv=3, error_score='raise-deprecating',\n",
       "       estimator=RandomForestClassifier(bootstrap=True, class_weight=None, criterion='gini',\n",
       "            max_depth=None, max_features='auto', max_leaf_nodes=None,\n",
       "            min_impurity_decrease=0.0, min_impurity_split=None,\n",
       "            min_samples_leaf=1, min_samples_split=2,\n",
       "            min_weight_fraction_leaf=0.0, n_estimators='warn', n_jobs=None,\n",
       "            oob_score=False, random_state=0, verbose=0, warm_start=False),\n",
       "       fit_params=None, iid='warn', n_jobs=None,\n",
       "       param_grid={'n_estimators': array([1, 2, 3, 4, 5, 6, 7, 8, 9]), 'max_depth': array([1, 2, 3, 4, 5, 6, 7, 8, 9])},\n",
       "       pre_dispatch='2*n_jobs', refit=True, return_train_score='warn',\n",
       "       scoring=None, verbose=0)"
      ]
     },
     "execution_count": 70,
     "metadata": {},
     "output_type": "execute_result"
    }
   ],
   "source": [
    "parameter ={'n_estimators':np.arange(1,10),'max_depth':np.arange(1,10)}\n",
    "GS=GridSearchCV(RT,parameter,cv=3)\n",
    "GS.fit(X,Y)"
   ]
  },
  {
   "cell_type": "code",
   "execution_count": 71,
   "metadata": {},
   "outputs": [
    {
     "data": {
      "text/plain": [
       "{'max_depth': 5, 'n_estimators': 3}"
      ]
     },
     "execution_count": 71,
     "metadata": {},
     "output_type": "execute_result"
    }
   ],
   "source": [
    "GS.best_params_"
   ]
  },
  {
   "cell_type": "code",
   "execution_count": 72,
   "metadata": {},
   "outputs": [],
   "source": [
    "RT = RandomForestClassifier(n_estimators=3,max_depth=5,random_state=0)"
   ]
  },
  {
   "cell_type": "markdown",
   "metadata": {},
   "source": [
    "###  K Fold Cross Validation"
   ]
  },
  {
   "cell_type": "code",
   "execution_count": 73,
   "metadata": {},
   "outputs": [],
   "source": [
    "kf = KFold(n_splits=5,shuffle=True,random_state=0)"
   ]
  },
  {
   "cell_type": "code",
   "execution_count": 74,
   "metadata": {},
   "outputs": [
    {
     "name": "stdout",
     "output_type": "stream",
     "text": [
      " Accuracy: 0.89  Precision: 0.72  Recall: 0.54  ROC-AOC: 0.75\n"
     ]
    }
   ],
   "source": [
    "precision=[]\n",
    "recall  =[]\n",
    "roc_auc = []\n",
    "accuracy=[]\n",
    "for train,test in kf.split(X,Y):\n",
    "    xtrain,xtest=X.iloc[train,:],X.iloc[test,:]\n",
    "    ytrain,ytest=Y.iloc[train],Y.iloc[test]\n",
    "    RT.fit(xtrain,ytrain)\n",
    "    y_predict = RT.predict(xtest)\n",
    "    precision.append(metrics.precision_score(ytest,y_predict))\n",
    "    recall.append(metrics.recall_score(ytest,y_predict))\n",
    "    fpr,tpr,_=metrics.roc_curve(ytest,y_predict)\n",
    "    roc_auc.append(metrics.auc(fpr,tpr))\n",
    "    accuracy.append(metrics.accuracy_score(ytest,y_predict))\n",
    "print(' Accuracy: %0.02f  Precision: %0.02f  Recall: %0.02f  ROC-AOC: %0.02F'\n",
    "      %(np.mean(accuracy),np.mean(precision),np.mean(recall),np.mean(roc_auc)))"
   ]
  },
  {
   "cell_type": "code",
   "execution_count": 75,
   "metadata": {},
   "outputs": [
    {
     "data": {
      "text/html": [
       "<div>\n",
       "<style scoped>\n",
       "    .dataframe tbody tr th:only-of-type {\n",
       "        vertical-align: middle;\n",
       "    }\n",
       "\n",
       "    .dataframe tbody tr th {\n",
       "        vertical-align: top;\n",
       "    }\n",
       "\n",
       "    .dataframe thead th {\n",
       "        text-align: right;\n",
       "    }\n",
       "</style>\n",
       "<table border=\"1\" class=\"dataframe\">\n",
       "  <thead>\n",
       "    <tr style=\"text-align: right;\">\n",
       "      <th></th>\n",
       "      <th>Scaling</th>\n",
       "      <th>Model</th>\n",
       "      <th>Accuracy</th>\n",
       "      <th>Precision</th>\n",
       "      <th>Recall</th>\n",
       "      <th>ROC-AUC</th>\n",
       "    </tr>\n",
       "  </thead>\n",
       "  <tbody>\n",
       "    <tr>\n",
       "      <th>0</th>\n",
       "      <td>Standard</td>\n",
       "      <td>Logistic Regression</td>\n",
       "      <td>0.884509</td>\n",
       "      <td>0.753793</td>\n",
       "      <td>0.376252</td>\n",
       "      <td>0.676892</td>\n",
       "    </tr>\n",
       "    <tr>\n",
       "      <th>0</th>\n",
       "      <td>Standard</td>\n",
       "      <td>Decision Tree</td>\n",
       "      <td>0.890187</td>\n",
       "      <td>0.731083</td>\n",
       "      <td>0.460727</td>\n",
       "      <td>0.714861</td>\n",
       "    </tr>\n",
       "    <tr>\n",
       "      <th>0</th>\n",
       "      <td>Standard</td>\n",
       "      <td>Random Forest</td>\n",
       "      <td>0.894809</td>\n",
       "      <td>0.719285</td>\n",
       "      <td>0.541100</td>\n",
       "      <td>0.750618</td>\n",
       "    </tr>\n",
       "    <tr>\n",
       "      <th>0</th>\n",
       "      <td>MinMax</td>\n",
       "      <td>Logistic Regression</td>\n",
       "      <td>0.875020</td>\n",
       "      <td>0.768471</td>\n",
       "      <td>0.275069</td>\n",
       "      <td>0.629997</td>\n",
       "    </tr>\n",
       "    <tr>\n",
       "      <th>0</th>\n",
       "      <td>MinMax</td>\n",
       "      <td>Decision Tree</td>\n",
       "      <td>0.890187</td>\n",
       "      <td>0.731083</td>\n",
       "      <td>0.460727</td>\n",
       "      <td>0.714861</td>\n",
       "    </tr>\n",
       "    <tr>\n",
       "      <th>0</th>\n",
       "      <td>MinMax</td>\n",
       "      <td>Random Forest</td>\n",
       "      <td>0.894891</td>\n",
       "      <td>0.719843</td>\n",
       "      <td>0.541100</td>\n",
       "      <td>0.750666</td>\n",
       "    </tr>\n",
       "    <tr>\n",
       "      <th>0</th>\n",
       "      <td>MaxAbs</td>\n",
       "      <td>Logistic Regression</td>\n",
       "      <td>0.875020</td>\n",
       "      <td>0.768471</td>\n",
       "      <td>0.275069</td>\n",
       "      <td>0.629997</td>\n",
       "    </tr>\n",
       "    <tr>\n",
       "      <th>0</th>\n",
       "      <td>MaxABS</td>\n",
       "      <td>Decision Tree</td>\n",
       "      <td>0.890187</td>\n",
       "      <td>0.731083</td>\n",
       "      <td>0.460727</td>\n",
       "      <td>0.714861</td>\n",
       "    </tr>\n",
       "    <tr>\n",
       "      <th>0</th>\n",
       "      <td>MaxABS</td>\n",
       "      <td>Random Forest</td>\n",
       "      <td>0.894891</td>\n",
       "      <td>0.719843</td>\n",
       "      <td>0.541100</td>\n",
       "      <td>0.750666</td>\n",
       "    </tr>\n",
       "  </tbody>\n",
       "</table>\n",
       "</div>"
      ],
      "text/plain": [
       "    Scaling                Model  Accuracy  Precision    Recall   ROC-AUC\n",
       "0  Standard  Logistic Regression  0.884509   0.753793  0.376252  0.676892\n",
       "0  Standard        Decision Tree  0.890187   0.731083  0.460727  0.714861\n",
       "0  Standard        Random Forest  0.894809   0.719285  0.541100  0.750618\n",
       "0    MinMax  Logistic Regression  0.875020   0.768471  0.275069  0.629997\n",
       "0    MinMax        Decision Tree  0.890187   0.731083  0.460727  0.714861\n",
       "0    MinMax        Random Forest  0.894891   0.719843  0.541100  0.750666\n",
       "0    MaxAbs  Logistic Regression  0.875020   0.768471  0.275069  0.629997\n",
       "0    MaxABS        Decision Tree  0.890187   0.731083  0.460727  0.714861\n",
       "0    MaxABS        Random Forest  0.894891   0.719843  0.541100  0.750666"
      ]
     },
     "execution_count": 75,
     "metadata": {},
     "output_type": "execute_result"
    }
   ],
   "source": [
    "# Storing results in a dataframe\n",
    "tempResultsDf = pd.DataFrame({'Scaling':['MaxABS'],'Model':['Random Forest'], \n",
    "                          'Accuracy': [np.mean(accuracy)], 'Precision': [np.mean(precision)],\n",
    "                          'Recall':[np.mean(recall)],'ROC-AUC':[np.mean(roc_auc)]})\n",
    "resultsDf = pd.concat([resultsDf, tempResultsDf])\n",
    "resultsDf = resultsDf[['Scaling','Model', 'Accuracy', 'Precision','Recall','ROC-AUC']]\n",
    "resultsDf"
   ]
  },
  {
   "cell_type": "markdown",
   "metadata": {},
   "source": [
    "# Robust Scalar"
   ]
  },
  {
   "cell_type": "markdown",
   "metadata": {},
   "source": [
    "## Logistic Regression"
   ]
  },
  {
   "cell_type": "code",
   "execution_count": 76,
   "metadata": {},
   "outputs": [],
   "source": [
    "X = rs_data.drop('Revenue',axis=1)\n",
    "Y = data1.Revenue"
   ]
  },
  {
   "cell_type": "code",
   "execution_count": 77,
   "metadata": {},
   "outputs": [],
   "source": [
    "LR = LogisticRegression()"
   ]
  },
  {
   "cell_type": "markdown",
   "metadata": {},
   "source": [
    "###  K Fold Cross Validation"
   ]
  },
  {
   "cell_type": "code",
   "execution_count": 78,
   "metadata": {},
   "outputs": [],
   "source": [
    "kf = KFold(n_splits=5,shuffle=True,random_state=0)"
   ]
  },
  {
   "cell_type": "code",
   "execution_count": 79,
   "metadata": {},
   "outputs": [
    {
     "name": "stdout",
     "output_type": "stream",
     "text": [
      " Accuracy: 0.88  Precision: 0.75  Recall: 0.38  ROC-AOC: 0.68\n"
     ]
    }
   ],
   "source": [
    "precision=[]\n",
    "recall  =[]\n",
    "roc_auc = []\n",
    "accuracy=[]\n",
    "for train,test in kf.split(X,Y):\n",
    "    xtrain,xtest=X.iloc[train,:],X.iloc[test,:]\n",
    "    ytrain,ytest=Y.iloc[train],Y.iloc[test]\n",
    "    LR.fit(xtrain,ytrain)\n",
    "    y_predict = LR.predict(xtest)\n",
    "    precision.append(metrics.precision_score(ytest,y_predict))\n",
    "    recall.append(metrics.recall_score(ytest,y_predict))\n",
    "    fpr,tpr,_=metrics.roc_curve(ytest,y_predict)\n",
    "    roc_auc.append(metrics.auc(fpr,tpr))\n",
    "    accuracy.append(metrics.accuracy_score(ytest,y_predict))\n",
    "print(' Accuracy: %0.02f  Precision: %0.02f  Recall: %0.02f  ROC-AOC: %0.02F'\n",
    "      %(np.mean(accuracy),np.mean(precision),np.mean(recall),np.mean(roc_auc)))"
   ]
  },
  {
   "cell_type": "code",
   "execution_count": 80,
   "metadata": {},
   "outputs": [
    {
     "data": {
      "text/html": [
       "<div>\n",
       "<style scoped>\n",
       "    .dataframe tbody tr th:only-of-type {\n",
       "        vertical-align: middle;\n",
       "    }\n",
       "\n",
       "    .dataframe tbody tr th {\n",
       "        vertical-align: top;\n",
       "    }\n",
       "\n",
       "    .dataframe thead th {\n",
       "        text-align: right;\n",
       "    }\n",
       "</style>\n",
       "<table border=\"1\" class=\"dataframe\">\n",
       "  <thead>\n",
       "    <tr style=\"text-align: right;\">\n",
       "      <th></th>\n",
       "      <th>Scaling</th>\n",
       "      <th>Model</th>\n",
       "      <th>Accuracy</th>\n",
       "      <th>Precision</th>\n",
       "      <th>Recall</th>\n",
       "      <th>ROC-AUC</th>\n",
       "    </tr>\n",
       "  </thead>\n",
       "  <tbody>\n",
       "    <tr>\n",
       "      <th>0</th>\n",
       "      <td>Standard</td>\n",
       "      <td>Logistic Regression</td>\n",
       "      <td>0.884509</td>\n",
       "      <td>0.753793</td>\n",
       "      <td>0.376252</td>\n",
       "      <td>0.676892</td>\n",
       "    </tr>\n",
       "    <tr>\n",
       "      <th>0</th>\n",
       "      <td>Standard</td>\n",
       "      <td>Decision Tree</td>\n",
       "      <td>0.890187</td>\n",
       "      <td>0.731083</td>\n",
       "      <td>0.460727</td>\n",
       "      <td>0.714861</td>\n",
       "    </tr>\n",
       "    <tr>\n",
       "      <th>0</th>\n",
       "      <td>Standard</td>\n",
       "      <td>Random Forest</td>\n",
       "      <td>0.894809</td>\n",
       "      <td>0.719285</td>\n",
       "      <td>0.541100</td>\n",
       "      <td>0.750618</td>\n",
       "    </tr>\n",
       "    <tr>\n",
       "      <th>0</th>\n",
       "      <td>MinMax</td>\n",
       "      <td>Logistic Regression</td>\n",
       "      <td>0.875020</td>\n",
       "      <td>0.768471</td>\n",
       "      <td>0.275069</td>\n",
       "      <td>0.629997</td>\n",
       "    </tr>\n",
       "    <tr>\n",
       "      <th>0</th>\n",
       "      <td>MinMax</td>\n",
       "      <td>Decision Tree</td>\n",
       "      <td>0.890187</td>\n",
       "      <td>0.731083</td>\n",
       "      <td>0.460727</td>\n",
       "      <td>0.714861</td>\n",
       "    </tr>\n",
       "    <tr>\n",
       "      <th>0</th>\n",
       "      <td>MinMax</td>\n",
       "      <td>Random Forest</td>\n",
       "      <td>0.894891</td>\n",
       "      <td>0.719843</td>\n",
       "      <td>0.541100</td>\n",
       "      <td>0.750666</td>\n",
       "    </tr>\n",
       "    <tr>\n",
       "      <th>0</th>\n",
       "      <td>MaxAbs</td>\n",
       "      <td>Logistic Regression</td>\n",
       "      <td>0.875020</td>\n",
       "      <td>0.768471</td>\n",
       "      <td>0.275069</td>\n",
       "      <td>0.629997</td>\n",
       "    </tr>\n",
       "    <tr>\n",
       "      <th>0</th>\n",
       "      <td>MaxABS</td>\n",
       "      <td>Decision Tree</td>\n",
       "      <td>0.890187</td>\n",
       "      <td>0.731083</td>\n",
       "      <td>0.460727</td>\n",
       "      <td>0.714861</td>\n",
       "    </tr>\n",
       "    <tr>\n",
       "      <th>0</th>\n",
       "      <td>MaxABS</td>\n",
       "      <td>Random Forest</td>\n",
       "      <td>0.894891</td>\n",
       "      <td>0.719843</td>\n",
       "      <td>0.541100</td>\n",
       "      <td>0.750666</td>\n",
       "    </tr>\n",
       "    <tr>\n",
       "      <th>0</th>\n",
       "      <td>Robust</td>\n",
       "      <td>Logistic Regression</td>\n",
       "      <td>0.884672</td>\n",
       "      <td>0.754878</td>\n",
       "      <td>0.376770</td>\n",
       "      <td>0.677199</td>\n",
       "    </tr>\n",
       "  </tbody>\n",
       "</table>\n",
       "</div>"
      ],
      "text/plain": [
       "    Scaling                Model  Accuracy  Precision    Recall   ROC-AUC\n",
       "0  Standard  Logistic Regression  0.884509   0.753793  0.376252  0.676892\n",
       "0  Standard        Decision Tree  0.890187   0.731083  0.460727  0.714861\n",
       "0  Standard        Random Forest  0.894809   0.719285  0.541100  0.750618\n",
       "0    MinMax  Logistic Regression  0.875020   0.768471  0.275069  0.629997\n",
       "0    MinMax        Decision Tree  0.890187   0.731083  0.460727  0.714861\n",
       "0    MinMax        Random Forest  0.894891   0.719843  0.541100  0.750666\n",
       "0    MaxAbs  Logistic Regression  0.875020   0.768471  0.275069  0.629997\n",
       "0    MaxABS        Decision Tree  0.890187   0.731083  0.460727  0.714861\n",
       "0    MaxABS        Random Forest  0.894891   0.719843  0.541100  0.750666\n",
       "0    Robust  Logistic Regression  0.884672   0.754878  0.376770  0.677199"
      ]
     },
     "execution_count": 80,
     "metadata": {},
     "output_type": "execute_result"
    }
   ],
   "source": [
    "# Storing results in a dataframe\n",
    "tempResultsDf = pd.DataFrame({'Scaling':['Robust'],'Model':['Logistic Regression'], \n",
    "                          'Accuracy': [np.mean(accuracy)], 'Precision': [np.mean(precision)],\n",
    "                          'Recall':[np.mean(recall)],'ROC-AUC':[np.mean(roc_auc)]})\n",
    "resultsDf = pd.concat([resultsDf, tempResultsDf])\n",
    "resultsDf = resultsDf[['Scaling','Model', 'Accuracy', 'Precision','Recall','ROC-AUC']]\n",
    "resultsDf"
   ]
  },
  {
   "cell_type": "markdown",
   "metadata": {},
   "source": [
    "## Decision Tree"
   ]
  },
  {
   "cell_type": "code",
   "execution_count": 81,
   "metadata": {},
   "outputs": [],
   "source": [
    "DT = DecisionTreeClassifier()"
   ]
  },
  {
   "cell_type": "code",
   "execution_count": 82,
   "metadata": {},
   "outputs": [
    {
     "data": {
      "text/plain": [
       "GridSearchCV(cv=3, error_score='raise-deprecating',\n",
       "       estimator=DecisionTreeClassifier(class_weight=None, criterion='gini', max_depth=None,\n",
       "            max_features=None, max_leaf_nodes=None,\n",
       "            min_impurity_decrease=0.0, min_impurity_split=None,\n",
       "            min_samples_leaf=1, min_samples_split=2,\n",
       "            min_weight_fraction_leaf=0.0, presort=False, random_state=None,\n",
       "            splitter='best'),\n",
       "       fit_params=None, iid='warn', n_jobs=None,\n",
       "       param_grid={'max_depth': array([1, 2, 3, 4, 5, 6, 7, 8, 9])},\n",
       "       pre_dispatch='2*n_jobs', refit=True, return_train_score='warn',\n",
       "       scoring=None, verbose=0)"
      ]
     },
     "execution_count": 82,
     "metadata": {},
     "output_type": "execute_result"
    }
   ],
   "source": [
    "parameter ={'max_depth':np.arange(1,10)}\n",
    "GS=GridSearchCV(DT,parameter,cv=3)\n",
    "GS.fit(X,Y)"
   ]
  },
  {
   "cell_type": "code",
   "execution_count": 83,
   "metadata": {},
   "outputs": [
    {
     "data": {
      "text/plain": [
       "{'max_depth': 2}"
      ]
     },
     "execution_count": 83,
     "metadata": {},
     "output_type": "execute_result"
    }
   ],
   "source": [
    "GS.best_params_"
   ]
  },
  {
   "cell_type": "code",
   "execution_count": 84,
   "metadata": {},
   "outputs": [],
   "source": [
    "DT = DecisionTreeClassifier(max_depth=2)"
   ]
  },
  {
   "cell_type": "markdown",
   "metadata": {},
   "source": [
    "###  K Fold Cross Validation"
   ]
  },
  {
   "cell_type": "code",
   "execution_count": 85,
   "metadata": {},
   "outputs": [],
   "source": [
    "kf = KFold(n_splits=5,shuffle=True,random_state=0)"
   ]
  },
  {
   "cell_type": "code",
   "execution_count": 86,
   "metadata": {},
   "outputs": [
    {
     "name": "stdout",
     "output_type": "stream",
     "text": [
      " Accuracy: 0.89  Precision: 0.73  Recall: 0.46  ROC-AOC: 0.71\n"
     ]
    }
   ],
   "source": [
    "precision=[]\n",
    "recall  =[]\n",
    "roc_auc = []\n",
    "accuracy=[]\n",
    "for train,test in kf.split(X,Y):\n",
    "    xtrain,xtest=X.iloc[train,:],X.iloc[test,:]\n",
    "    ytrain,ytest=Y.iloc[train],Y.iloc[test]\n",
    "    DT.fit(xtrain,ytrain)\n",
    "    y_predict = DT.predict(xtest)\n",
    "    precision.append(metrics.precision_score(ytest,y_predict))\n",
    "    recall.append(metrics.recall_score(ytest,y_predict))\n",
    "    fpr,tpr,_=metrics.roc_curve(ytest,y_predict)\n",
    "    roc_auc.append(metrics.auc(fpr,tpr))\n",
    "    accuracy.append(metrics.accuracy_score(ytest,y_predict))\n",
    "print(' Accuracy: %0.02f  Precision: %0.02f  Recall: %0.02f  ROC-AOC: %0.02F'\n",
    "      %(np.mean(accuracy),np.mean(precision),np.mean(recall),np.mean(roc_auc)))"
   ]
  },
  {
   "cell_type": "code",
   "execution_count": 87,
   "metadata": {},
   "outputs": [
    {
     "data": {
      "text/html": [
       "<div>\n",
       "<style scoped>\n",
       "    .dataframe tbody tr th:only-of-type {\n",
       "        vertical-align: middle;\n",
       "    }\n",
       "\n",
       "    .dataframe tbody tr th {\n",
       "        vertical-align: top;\n",
       "    }\n",
       "\n",
       "    .dataframe thead th {\n",
       "        text-align: right;\n",
       "    }\n",
       "</style>\n",
       "<table border=\"1\" class=\"dataframe\">\n",
       "  <thead>\n",
       "    <tr style=\"text-align: right;\">\n",
       "      <th></th>\n",
       "      <th>Scaling</th>\n",
       "      <th>Model</th>\n",
       "      <th>Accuracy</th>\n",
       "      <th>Precision</th>\n",
       "      <th>Recall</th>\n",
       "      <th>ROC-AUC</th>\n",
       "    </tr>\n",
       "  </thead>\n",
       "  <tbody>\n",
       "    <tr>\n",
       "      <th>0</th>\n",
       "      <td>Standard</td>\n",
       "      <td>Logistic Regression</td>\n",
       "      <td>0.884509</td>\n",
       "      <td>0.753793</td>\n",
       "      <td>0.376252</td>\n",
       "      <td>0.676892</td>\n",
       "    </tr>\n",
       "    <tr>\n",
       "      <th>0</th>\n",
       "      <td>Standard</td>\n",
       "      <td>Decision Tree</td>\n",
       "      <td>0.890187</td>\n",
       "      <td>0.731083</td>\n",
       "      <td>0.460727</td>\n",
       "      <td>0.714861</td>\n",
       "    </tr>\n",
       "    <tr>\n",
       "      <th>0</th>\n",
       "      <td>Standard</td>\n",
       "      <td>Random Forest</td>\n",
       "      <td>0.894809</td>\n",
       "      <td>0.719285</td>\n",
       "      <td>0.541100</td>\n",
       "      <td>0.750618</td>\n",
       "    </tr>\n",
       "    <tr>\n",
       "      <th>0</th>\n",
       "      <td>MinMax</td>\n",
       "      <td>Logistic Regression</td>\n",
       "      <td>0.875020</td>\n",
       "      <td>0.768471</td>\n",
       "      <td>0.275069</td>\n",
       "      <td>0.629997</td>\n",
       "    </tr>\n",
       "    <tr>\n",
       "      <th>0</th>\n",
       "      <td>MinMax</td>\n",
       "      <td>Decision Tree</td>\n",
       "      <td>0.890187</td>\n",
       "      <td>0.731083</td>\n",
       "      <td>0.460727</td>\n",
       "      <td>0.714861</td>\n",
       "    </tr>\n",
       "    <tr>\n",
       "      <th>0</th>\n",
       "      <td>MinMax</td>\n",
       "      <td>Random Forest</td>\n",
       "      <td>0.894891</td>\n",
       "      <td>0.719843</td>\n",
       "      <td>0.541100</td>\n",
       "      <td>0.750666</td>\n",
       "    </tr>\n",
       "    <tr>\n",
       "      <th>0</th>\n",
       "      <td>MaxAbs</td>\n",
       "      <td>Logistic Regression</td>\n",
       "      <td>0.875020</td>\n",
       "      <td>0.768471</td>\n",
       "      <td>0.275069</td>\n",
       "      <td>0.629997</td>\n",
       "    </tr>\n",
       "    <tr>\n",
       "      <th>0</th>\n",
       "      <td>MaxABS</td>\n",
       "      <td>Decision Tree</td>\n",
       "      <td>0.890187</td>\n",
       "      <td>0.731083</td>\n",
       "      <td>0.460727</td>\n",
       "      <td>0.714861</td>\n",
       "    </tr>\n",
       "    <tr>\n",
       "      <th>0</th>\n",
       "      <td>MaxABS</td>\n",
       "      <td>Random Forest</td>\n",
       "      <td>0.894891</td>\n",
       "      <td>0.719843</td>\n",
       "      <td>0.541100</td>\n",
       "      <td>0.750666</td>\n",
       "    </tr>\n",
       "    <tr>\n",
       "      <th>0</th>\n",
       "      <td>Robust</td>\n",
       "      <td>Logistic Regression</td>\n",
       "      <td>0.884672</td>\n",
       "      <td>0.754878</td>\n",
       "      <td>0.376770</td>\n",
       "      <td>0.677199</td>\n",
       "    </tr>\n",
       "    <tr>\n",
       "      <th>0</th>\n",
       "      <td>Robust</td>\n",
       "      <td>Decision Tree</td>\n",
       "      <td>0.890187</td>\n",
       "      <td>0.731083</td>\n",
       "      <td>0.460727</td>\n",
       "      <td>0.714861</td>\n",
       "    </tr>\n",
       "  </tbody>\n",
       "</table>\n",
       "</div>"
      ],
      "text/plain": [
       "    Scaling                Model  Accuracy  Precision    Recall   ROC-AUC\n",
       "0  Standard  Logistic Regression  0.884509   0.753793  0.376252  0.676892\n",
       "0  Standard        Decision Tree  0.890187   0.731083  0.460727  0.714861\n",
       "0  Standard        Random Forest  0.894809   0.719285  0.541100  0.750618\n",
       "0    MinMax  Logistic Regression  0.875020   0.768471  0.275069  0.629997\n",
       "0    MinMax        Decision Tree  0.890187   0.731083  0.460727  0.714861\n",
       "0    MinMax        Random Forest  0.894891   0.719843  0.541100  0.750666\n",
       "0    MaxAbs  Logistic Regression  0.875020   0.768471  0.275069  0.629997\n",
       "0    MaxABS        Decision Tree  0.890187   0.731083  0.460727  0.714861\n",
       "0    MaxABS        Random Forest  0.894891   0.719843  0.541100  0.750666\n",
       "0    Robust  Logistic Regression  0.884672   0.754878  0.376770  0.677199\n",
       "0    Robust        Decision Tree  0.890187   0.731083  0.460727  0.714861"
      ]
     },
     "execution_count": 87,
     "metadata": {},
     "output_type": "execute_result"
    }
   ],
   "source": [
    "# Storing results in a dataframe\n",
    "tempResultsDf = pd.DataFrame({'Scaling':['Robust'],'Model':['Decision Tree'], \n",
    "                          'Accuracy': [np.mean(accuracy)], 'Precision': [np.mean(precision)],\n",
    "                          'Recall':[np.mean(recall)],'ROC-AUC':[np.mean(roc_auc)]})\n",
    "resultsDf = pd.concat([resultsDf, tempResultsDf])\n",
    "resultsDf = resultsDf[['Scaling','Model', 'Accuracy', 'Precision','Recall','ROC-AUC']]\n",
    "resultsDf"
   ]
  },
  {
   "cell_type": "markdown",
   "metadata": {},
   "source": [
    "## Random Forest"
   ]
  },
  {
   "cell_type": "code",
   "execution_count": 88,
   "metadata": {},
   "outputs": [],
   "source": [
    "RT = RandomForestClassifier(random_state=0)"
   ]
  },
  {
   "cell_type": "code",
   "execution_count": 89,
   "metadata": {},
   "outputs": [
    {
     "data": {
      "text/plain": [
       "GridSearchCV(cv=3, error_score='raise-deprecating',\n",
       "       estimator=RandomForestClassifier(bootstrap=True, class_weight=None, criterion='gini',\n",
       "            max_depth=None, max_features='auto', max_leaf_nodes=None,\n",
       "            min_impurity_decrease=0.0, min_impurity_split=None,\n",
       "            min_samples_leaf=1, min_samples_split=2,\n",
       "            min_weight_fraction_leaf=0.0, n_estimators='warn', n_jobs=None,\n",
       "            oob_score=False, random_state=0, verbose=0, warm_start=False),\n",
       "       fit_params=None, iid='warn', n_jobs=None,\n",
       "       param_grid={'n_estimators': array([1, 2, 3, 4, 5, 6, 7, 8, 9]), 'max_depth': array([1, 2, 3, 4, 5, 6, 7, 8, 9])},\n",
       "       pre_dispatch='2*n_jobs', refit=True, return_train_score='warn',\n",
       "       scoring=None, verbose=0)"
      ]
     },
     "execution_count": 89,
     "metadata": {},
     "output_type": "execute_result"
    }
   ],
   "source": [
    "parameter ={'n_estimators':np.arange(1,10),'max_depth':np.arange(1,10)}\n",
    "GS=GridSearchCV(RT,parameter,cv=3)\n",
    "GS.fit(X,Y)"
   ]
  },
  {
   "cell_type": "code",
   "execution_count": 90,
   "metadata": {},
   "outputs": [
    {
     "data": {
      "text/plain": [
       "{'max_depth': 5, 'n_estimators': 6}"
      ]
     },
     "execution_count": 90,
     "metadata": {},
     "output_type": "execute_result"
    }
   ],
   "source": [
    "GS.best_params_"
   ]
  },
  {
   "cell_type": "code",
   "execution_count": 91,
   "metadata": {},
   "outputs": [],
   "source": [
    "RT = RandomForestClassifier(n_estimators=6,max_depth=5,random_state=0)"
   ]
  },
  {
   "cell_type": "markdown",
   "metadata": {},
   "source": [
    "###  K Fold Cross Validation"
   ]
  },
  {
   "cell_type": "code",
   "execution_count": 92,
   "metadata": {},
   "outputs": [],
   "source": [
    "kf = KFold(n_splits=5,shuffle=True,random_state=0)"
   ]
  },
  {
   "cell_type": "code",
   "execution_count": 93,
   "metadata": {},
   "outputs": [
    {
     "name": "stdout",
     "output_type": "stream",
     "text": [
      " Accuracy: 0.89  Precision: 0.76  Recall: 0.45  ROC-AOC: 0.71\n"
     ]
    }
   ],
   "source": [
    "precision=[]\n",
    "recall  =[]\n",
    "roc_auc = []\n",
    "accuracy=[]\n",
    "for train,test in kf.split(X,Y):\n",
    "    xtrain,xtest=X.iloc[train,:],X.iloc[test,:]\n",
    "    ytrain,ytest=Y.iloc[train],Y.iloc[test]\n",
    "    RT.fit(xtrain,ytrain)\n",
    "    y_predict = RT.predict(xtest)\n",
    "    precision.append(metrics.precision_score(ytest,y_predict))\n",
    "    recall.append(metrics.recall_score(ytest,y_predict))\n",
    "    fpr,tpr,_=metrics.roc_curve(ytest,y_predict)\n",
    "    roc_auc.append(metrics.auc(fpr,tpr))\n",
    "    accuracy.append(metrics.accuracy_score(ytest,y_predict))\n",
    "print(' Accuracy: %0.02f  Precision: %0.02f  Recall: %0.02f  ROC-AOC: %0.02F'\n",
    "      %(np.mean(accuracy),np.mean(precision),np.mean(recall),np.mean(roc_auc)))"
   ]
  },
  {
   "cell_type": "code",
   "execution_count": 94,
   "metadata": {},
   "outputs": [
    {
     "data": {
      "text/html": [
       "<div>\n",
       "<style scoped>\n",
       "    .dataframe tbody tr th:only-of-type {\n",
       "        vertical-align: middle;\n",
       "    }\n",
       "\n",
       "    .dataframe tbody tr th {\n",
       "        vertical-align: top;\n",
       "    }\n",
       "\n",
       "    .dataframe thead th {\n",
       "        text-align: right;\n",
       "    }\n",
       "</style>\n",
       "<table border=\"1\" class=\"dataframe\">\n",
       "  <thead>\n",
       "    <tr style=\"text-align: right;\">\n",
       "      <th></th>\n",
       "      <th>Scaling</th>\n",
       "      <th>Model</th>\n",
       "      <th>Accuracy</th>\n",
       "      <th>Precision</th>\n",
       "      <th>Recall</th>\n",
       "      <th>ROC-AUC</th>\n",
       "    </tr>\n",
       "  </thead>\n",
       "  <tbody>\n",
       "    <tr>\n",
       "      <th>0</th>\n",
       "      <td>Standard</td>\n",
       "      <td>Logistic Regression</td>\n",
       "      <td>0.884509</td>\n",
       "      <td>0.753793</td>\n",
       "      <td>0.376252</td>\n",
       "      <td>0.676892</td>\n",
       "    </tr>\n",
       "    <tr>\n",
       "      <th>0</th>\n",
       "      <td>Standard</td>\n",
       "      <td>Decision Tree</td>\n",
       "      <td>0.890187</td>\n",
       "      <td>0.731083</td>\n",
       "      <td>0.460727</td>\n",
       "      <td>0.714861</td>\n",
       "    </tr>\n",
       "    <tr>\n",
       "      <th>0</th>\n",
       "      <td>Standard</td>\n",
       "      <td>Random Forest</td>\n",
       "      <td>0.894809</td>\n",
       "      <td>0.719285</td>\n",
       "      <td>0.541100</td>\n",
       "      <td>0.750618</td>\n",
       "    </tr>\n",
       "    <tr>\n",
       "      <th>0</th>\n",
       "      <td>MinMax</td>\n",
       "      <td>Logistic Regression</td>\n",
       "      <td>0.875020</td>\n",
       "      <td>0.768471</td>\n",
       "      <td>0.275069</td>\n",
       "      <td>0.629997</td>\n",
       "    </tr>\n",
       "    <tr>\n",
       "      <th>0</th>\n",
       "      <td>MinMax</td>\n",
       "      <td>Decision Tree</td>\n",
       "      <td>0.890187</td>\n",
       "      <td>0.731083</td>\n",
       "      <td>0.460727</td>\n",
       "      <td>0.714861</td>\n",
       "    </tr>\n",
       "    <tr>\n",
       "      <th>0</th>\n",
       "      <td>MinMax</td>\n",
       "      <td>Random Forest</td>\n",
       "      <td>0.894891</td>\n",
       "      <td>0.719843</td>\n",
       "      <td>0.541100</td>\n",
       "      <td>0.750666</td>\n",
       "    </tr>\n",
       "    <tr>\n",
       "      <th>0</th>\n",
       "      <td>MaxAbs</td>\n",
       "      <td>Logistic Regression</td>\n",
       "      <td>0.875020</td>\n",
       "      <td>0.768471</td>\n",
       "      <td>0.275069</td>\n",
       "      <td>0.629997</td>\n",
       "    </tr>\n",
       "    <tr>\n",
       "      <th>0</th>\n",
       "      <td>MaxABS</td>\n",
       "      <td>Decision Tree</td>\n",
       "      <td>0.890187</td>\n",
       "      <td>0.731083</td>\n",
       "      <td>0.460727</td>\n",
       "      <td>0.714861</td>\n",
       "    </tr>\n",
       "    <tr>\n",
       "      <th>0</th>\n",
       "      <td>MaxABS</td>\n",
       "      <td>Random Forest</td>\n",
       "      <td>0.894891</td>\n",
       "      <td>0.719843</td>\n",
       "      <td>0.541100</td>\n",
       "      <td>0.750666</td>\n",
       "    </tr>\n",
       "    <tr>\n",
       "      <th>0</th>\n",
       "      <td>Robust</td>\n",
       "      <td>Logistic Regression</td>\n",
       "      <td>0.884672</td>\n",
       "      <td>0.754878</td>\n",
       "      <td>0.376770</td>\n",
       "      <td>0.677199</td>\n",
       "    </tr>\n",
       "    <tr>\n",
       "      <th>0</th>\n",
       "      <td>Robust</td>\n",
       "      <td>Decision Tree</td>\n",
       "      <td>0.890187</td>\n",
       "      <td>0.731083</td>\n",
       "      <td>0.460727</td>\n",
       "      <td>0.714861</td>\n",
       "    </tr>\n",
       "    <tr>\n",
       "      <th>0</th>\n",
       "      <td>Robust</td>\n",
       "      <td>Random Forest</td>\n",
       "      <td>0.890268</td>\n",
       "      <td>0.755992</td>\n",
       "      <td>0.446261</td>\n",
       "      <td>0.709292</td>\n",
       "    </tr>\n",
       "  </tbody>\n",
       "</table>\n",
       "</div>"
      ],
      "text/plain": [
       "    Scaling                Model  Accuracy  Precision    Recall   ROC-AUC\n",
       "0  Standard  Logistic Regression  0.884509   0.753793  0.376252  0.676892\n",
       "0  Standard        Decision Tree  0.890187   0.731083  0.460727  0.714861\n",
       "0  Standard        Random Forest  0.894809   0.719285  0.541100  0.750618\n",
       "0    MinMax  Logistic Regression  0.875020   0.768471  0.275069  0.629997\n",
       "0    MinMax        Decision Tree  0.890187   0.731083  0.460727  0.714861\n",
       "0    MinMax        Random Forest  0.894891   0.719843  0.541100  0.750666\n",
       "0    MaxAbs  Logistic Regression  0.875020   0.768471  0.275069  0.629997\n",
       "0    MaxABS        Decision Tree  0.890187   0.731083  0.460727  0.714861\n",
       "0    MaxABS        Random Forest  0.894891   0.719843  0.541100  0.750666\n",
       "0    Robust  Logistic Regression  0.884672   0.754878  0.376770  0.677199\n",
       "0    Robust        Decision Tree  0.890187   0.731083  0.460727  0.714861\n",
       "0    Robust        Random Forest  0.890268   0.755992  0.446261  0.709292"
      ]
     },
     "execution_count": 94,
     "metadata": {},
     "output_type": "execute_result"
    }
   ],
   "source": [
    "# Storing results in a dataframe\n",
    "tempResultsDf = pd.DataFrame({'Scaling':['Robust'],'Model':['Random Forest'], \n",
    "                          'Accuracy': [np.mean(accuracy)], 'Precision': [np.mean(precision)],\n",
    "                          'Recall':[np.mean(recall)],'ROC-AUC':[np.mean(roc_auc)]})\n",
    "resultsDf = pd.concat([resultsDf, tempResultsDf])\n",
    "resultsDf = resultsDf[['Scaling','Model', 'Accuracy', 'Precision','Recall','ROC-AUC']]\n",
    "resultsDf"
   ]
  },
  {
   "cell_type": "markdown",
   "metadata": {},
   "source": [
    "# QuantileTransformer-Normal Scalar"
   ]
  },
  {
   "cell_type": "markdown",
   "metadata": {},
   "source": [
    "## Logistic Regression"
   ]
  },
  {
   "cell_type": "code",
   "execution_count": 95,
   "metadata": {},
   "outputs": [],
   "source": [
    "X = qt_data.drop('Revenue',axis=1)\n",
    "Y = data1.Revenue"
   ]
  },
  {
   "cell_type": "code",
   "execution_count": 96,
   "metadata": {},
   "outputs": [],
   "source": [
    "LR = LogisticRegression()"
   ]
  },
  {
   "cell_type": "markdown",
   "metadata": {},
   "source": [
    "###  K Fold Cross Validation"
   ]
  },
  {
   "cell_type": "code",
   "execution_count": 97,
   "metadata": {},
   "outputs": [],
   "source": [
    "kf = KFold(n_splits=5,shuffle=True,random_state=0)"
   ]
  },
  {
   "cell_type": "code",
   "execution_count": 98,
   "metadata": {},
   "outputs": [
    {
     "name": "stdout",
     "output_type": "stream",
     "text": [
      " Accuracy: 0.89  Precision: 0.67  Recall: 0.61  ROC-AOC: 0.78\n"
     ]
    }
   ],
   "source": [
    "precision=[]\n",
    "recall  =[]\n",
    "roc_auc = []\n",
    "accuracy=[]\n",
    "for train,test in kf.split(X,Y):\n",
    "    xtrain,xtest=X.iloc[train,:],X.iloc[test,:]\n",
    "    ytrain,ytest=Y.iloc[train],Y.iloc[test]\n",
    "    LR.fit(xtrain,ytrain)\n",
    "    y_predict = LR.predict(xtest)\n",
    "    precision.append(metrics.precision_score(ytest,y_predict))\n",
    "    recall.append(metrics.recall_score(ytest,y_predict))\n",
    "    fpr,tpr,_=metrics.roc_curve(ytest,y_predict)\n",
    "    roc_auc.append(metrics.auc(fpr,tpr))\n",
    "    accuracy.append(metrics.accuracy_score(ytest,y_predict))\n",
    "print(' Accuracy: %0.02f  Precision: %0.02f  Recall: %0.02f  ROC-AOC: %0.02F'\n",
    "      %(np.mean(accuracy),np.mean(precision),np.mean(recall),np.mean(roc_auc)))"
   ]
  },
  {
   "cell_type": "code",
   "execution_count": 99,
   "metadata": {},
   "outputs": [
    {
     "data": {
      "text/html": [
       "<div>\n",
       "<style scoped>\n",
       "    .dataframe tbody tr th:only-of-type {\n",
       "        vertical-align: middle;\n",
       "    }\n",
       "\n",
       "    .dataframe tbody tr th {\n",
       "        vertical-align: top;\n",
       "    }\n",
       "\n",
       "    .dataframe thead th {\n",
       "        text-align: right;\n",
       "    }\n",
       "</style>\n",
       "<table border=\"1\" class=\"dataframe\">\n",
       "  <thead>\n",
       "    <tr style=\"text-align: right;\">\n",
       "      <th></th>\n",
       "      <th>Scaling</th>\n",
       "      <th>Model</th>\n",
       "      <th>Accuracy</th>\n",
       "      <th>Precision</th>\n",
       "      <th>Recall</th>\n",
       "      <th>ROC-AUC</th>\n",
       "    </tr>\n",
       "  </thead>\n",
       "  <tbody>\n",
       "    <tr>\n",
       "      <th>0</th>\n",
       "      <td>Standard</td>\n",
       "      <td>Logistic Regression</td>\n",
       "      <td>0.884509</td>\n",
       "      <td>0.753793</td>\n",
       "      <td>0.376252</td>\n",
       "      <td>0.676892</td>\n",
       "    </tr>\n",
       "    <tr>\n",
       "      <th>0</th>\n",
       "      <td>Standard</td>\n",
       "      <td>Decision Tree</td>\n",
       "      <td>0.890187</td>\n",
       "      <td>0.731083</td>\n",
       "      <td>0.460727</td>\n",
       "      <td>0.714861</td>\n",
       "    </tr>\n",
       "    <tr>\n",
       "      <th>0</th>\n",
       "      <td>Standard</td>\n",
       "      <td>Random Forest</td>\n",
       "      <td>0.894809</td>\n",
       "      <td>0.719285</td>\n",
       "      <td>0.541100</td>\n",
       "      <td>0.750618</td>\n",
       "    </tr>\n",
       "    <tr>\n",
       "      <th>0</th>\n",
       "      <td>MinMax</td>\n",
       "      <td>Logistic Regression</td>\n",
       "      <td>0.875020</td>\n",
       "      <td>0.768471</td>\n",
       "      <td>0.275069</td>\n",
       "      <td>0.629997</td>\n",
       "    </tr>\n",
       "    <tr>\n",
       "      <th>0</th>\n",
       "      <td>MinMax</td>\n",
       "      <td>Decision Tree</td>\n",
       "      <td>0.890187</td>\n",
       "      <td>0.731083</td>\n",
       "      <td>0.460727</td>\n",
       "      <td>0.714861</td>\n",
       "    </tr>\n",
       "    <tr>\n",
       "      <th>0</th>\n",
       "      <td>MinMax</td>\n",
       "      <td>Random Forest</td>\n",
       "      <td>0.894891</td>\n",
       "      <td>0.719843</td>\n",
       "      <td>0.541100</td>\n",
       "      <td>0.750666</td>\n",
       "    </tr>\n",
       "    <tr>\n",
       "      <th>0</th>\n",
       "      <td>MaxAbs</td>\n",
       "      <td>Logistic Regression</td>\n",
       "      <td>0.875020</td>\n",
       "      <td>0.768471</td>\n",
       "      <td>0.275069</td>\n",
       "      <td>0.629997</td>\n",
       "    </tr>\n",
       "    <tr>\n",
       "      <th>0</th>\n",
       "      <td>MaxABS</td>\n",
       "      <td>Decision Tree</td>\n",
       "      <td>0.890187</td>\n",
       "      <td>0.731083</td>\n",
       "      <td>0.460727</td>\n",
       "      <td>0.714861</td>\n",
       "    </tr>\n",
       "    <tr>\n",
       "      <th>0</th>\n",
       "      <td>MaxABS</td>\n",
       "      <td>Random Forest</td>\n",
       "      <td>0.894891</td>\n",
       "      <td>0.719843</td>\n",
       "      <td>0.541100</td>\n",
       "      <td>0.750666</td>\n",
       "    </tr>\n",
       "    <tr>\n",
       "      <th>0</th>\n",
       "      <td>Robust</td>\n",
       "      <td>Logistic Regression</td>\n",
       "      <td>0.884672</td>\n",
       "      <td>0.754878</td>\n",
       "      <td>0.376770</td>\n",
       "      <td>0.677199</td>\n",
       "    </tr>\n",
       "    <tr>\n",
       "      <th>0</th>\n",
       "      <td>Robust</td>\n",
       "      <td>Decision Tree</td>\n",
       "      <td>0.890187</td>\n",
       "      <td>0.731083</td>\n",
       "      <td>0.460727</td>\n",
       "      <td>0.714861</td>\n",
       "    </tr>\n",
       "    <tr>\n",
       "      <th>0</th>\n",
       "      <td>Robust</td>\n",
       "      <td>Random Forest</td>\n",
       "      <td>0.890268</td>\n",
       "      <td>0.755992</td>\n",
       "      <td>0.446261</td>\n",
       "      <td>0.709292</td>\n",
       "    </tr>\n",
       "    <tr>\n",
       "      <th>0</th>\n",
       "      <td>Quantile-N</td>\n",
       "      <td>Logistic Regression</td>\n",
       "      <td>0.893755</td>\n",
       "      <td>0.673889</td>\n",
       "      <td>0.607714</td>\n",
       "      <td>0.776996</td>\n",
       "    </tr>\n",
       "  </tbody>\n",
       "</table>\n",
       "</div>"
      ],
      "text/plain": [
       "      Scaling                Model  Accuracy  Precision    Recall   ROC-AUC\n",
       "0    Standard  Logistic Regression  0.884509   0.753793  0.376252  0.676892\n",
       "0    Standard        Decision Tree  0.890187   0.731083  0.460727  0.714861\n",
       "0    Standard        Random Forest  0.894809   0.719285  0.541100  0.750618\n",
       "0      MinMax  Logistic Regression  0.875020   0.768471  0.275069  0.629997\n",
       "0      MinMax        Decision Tree  0.890187   0.731083  0.460727  0.714861\n",
       "0      MinMax        Random Forest  0.894891   0.719843  0.541100  0.750666\n",
       "0      MaxAbs  Logistic Regression  0.875020   0.768471  0.275069  0.629997\n",
       "0      MaxABS        Decision Tree  0.890187   0.731083  0.460727  0.714861\n",
       "0      MaxABS        Random Forest  0.894891   0.719843  0.541100  0.750666\n",
       "0      Robust  Logistic Regression  0.884672   0.754878  0.376770  0.677199\n",
       "0      Robust        Decision Tree  0.890187   0.731083  0.460727  0.714861\n",
       "0      Robust        Random Forest  0.890268   0.755992  0.446261  0.709292\n",
       "0  Quantile-N  Logistic Regression  0.893755   0.673889  0.607714  0.776996"
      ]
     },
     "execution_count": 99,
     "metadata": {},
     "output_type": "execute_result"
    }
   ],
   "source": [
    "# Storing results in a dataframe\n",
    "tempResultsDf = pd.DataFrame({'Scaling':['Quantile-N'],'Model':['Logistic Regression'], \n",
    "                          'Accuracy': [np.mean(accuracy)], 'Precision': [np.mean(precision)],\n",
    "                          'Recall':[np.mean(recall)],'ROC-AUC':[np.mean(roc_auc)]})\n",
    "resultsDf = pd.concat([resultsDf, tempResultsDf])\n",
    "resultsDf = resultsDf[['Scaling','Model', 'Accuracy', 'Precision','Recall','ROC-AUC']]\n",
    "resultsDf"
   ]
  },
  {
   "cell_type": "markdown",
   "metadata": {},
   "source": [
    "## Decision Tree"
   ]
  },
  {
   "cell_type": "code",
   "execution_count": 100,
   "metadata": {},
   "outputs": [],
   "source": [
    "DT = DecisionTreeClassifier()"
   ]
  },
  {
   "cell_type": "code",
   "execution_count": 101,
   "metadata": {},
   "outputs": [
    {
     "data": {
      "text/plain": [
       "GridSearchCV(cv=3, error_score='raise-deprecating',\n",
       "       estimator=DecisionTreeClassifier(class_weight=None, criterion='gini', max_depth=None,\n",
       "            max_features=None, max_leaf_nodes=None,\n",
       "            min_impurity_decrease=0.0, min_impurity_split=None,\n",
       "            min_samples_leaf=1, min_samples_split=2,\n",
       "            min_weight_fraction_leaf=0.0, presort=False, random_state=None,\n",
       "            splitter='best'),\n",
       "       fit_params=None, iid='warn', n_jobs=None,\n",
       "       param_grid={'max_depth': array([1, 2, 3, 4, 5, 6, 7, 8, 9])},\n",
       "       pre_dispatch='2*n_jobs', refit=True, return_train_score='warn',\n",
       "       scoring=None, verbose=0)"
      ]
     },
     "execution_count": 101,
     "metadata": {},
     "output_type": "execute_result"
    }
   ],
   "source": [
    "parameter ={'max_depth':np.arange(1,10)}\n",
    "GS=GridSearchCV(DT,parameter,cv=3)\n",
    "GS.fit(X,Y)"
   ]
  },
  {
   "cell_type": "code",
   "execution_count": 102,
   "metadata": {},
   "outputs": [
    {
     "data": {
      "text/plain": [
       "{'max_depth': 2}"
      ]
     },
     "execution_count": 102,
     "metadata": {},
     "output_type": "execute_result"
    }
   ],
   "source": [
    "GS.best_params_"
   ]
  },
  {
   "cell_type": "code",
   "execution_count": 103,
   "metadata": {},
   "outputs": [],
   "source": [
    "DT = DecisionTreeClassifier(max_depth=2)"
   ]
  },
  {
   "cell_type": "markdown",
   "metadata": {},
   "source": [
    "###  K Fold Cross Validation"
   ]
  },
  {
   "cell_type": "code",
   "execution_count": 104,
   "metadata": {},
   "outputs": [],
   "source": [
    "kf = KFold(n_splits=5,shuffle=True,random_state=0)"
   ]
  },
  {
   "cell_type": "code",
   "execution_count": 105,
   "metadata": {},
   "outputs": [
    {
     "name": "stdout",
     "output_type": "stream",
     "text": [
      " Accuracy: 0.89  Precision: 0.73  Recall: 0.46  ROC-AOC: 0.71\n"
     ]
    }
   ],
   "source": [
    "precision=[]\n",
    "recall  =[]\n",
    "roc_auc = []\n",
    "accuracy=[]\n",
    "for train,test in kf.split(X,Y):\n",
    "    xtrain,xtest=X.iloc[train,:],X.iloc[test,:]\n",
    "    ytrain,ytest=Y.iloc[train],Y.iloc[test]\n",
    "    DT.fit(xtrain,ytrain)\n",
    "    y_predict = DT.predict(xtest)\n",
    "    precision.append(metrics.precision_score(ytest,y_predict))\n",
    "    recall.append(metrics.recall_score(ytest,y_predict))\n",
    "    fpr,tpr,_=metrics.roc_curve(ytest,y_predict)\n",
    "    roc_auc.append(metrics.auc(fpr,tpr))\n",
    "    accuracy.append(metrics.accuracy_score(ytest,y_predict))\n",
    "print(' Accuracy: %0.02f  Precision: %0.02f  Recall: %0.02f  ROC-AOC: %0.02F'\n",
    "      %(np.mean(accuracy),np.mean(precision),np.mean(recall),np.mean(roc_auc)))"
   ]
  },
  {
   "cell_type": "code",
   "execution_count": 106,
   "metadata": {},
   "outputs": [
    {
     "data": {
      "text/html": [
       "<div>\n",
       "<style scoped>\n",
       "    .dataframe tbody tr th:only-of-type {\n",
       "        vertical-align: middle;\n",
       "    }\n",
       "\n",
       "    .dataframe tbody tr th {\n",
       "        vertical-align: top;\n",
       "    }\n",
       "\n",
       "    .dataframe thead th {\n",
       "        text-align: right;\n",
       "    }\n",
       "</style>\n",
       "<table border=\"1\" class=\"dataframe\">\n",
       "  <thead>\n",
       "    <tr style=\"text-align: right;\">\n",
       "      <th></th>\n",
       "      <th>Scaling</th>\n",
       "      <th>Model</th>\n",
       "      <th>Accuracy</th>\n",
       "      <th>Precision</th>\n",
       "      <th>Recall</th>\n",
       "      <th>ROC-AUC</th>\n",
       "    </tr>\n",
       "  </thead>\n",
       "  <tbody>\n",
       "    <tr>\n",
       "      <th>0</th>\n",
       "      <td>Standard</td>\n",
       "      <td>Logistic Regression</td>\n",
       "      <td>0.884509</td>\n",
       "      <td>0.753793</td>\n",
       "      <td>0.376252</td>\n",
       "      <td>0.676892</td>\n",
       "    </tr>\n",
       "    <tr>\n",
       "      <th>0</th>\n",
       "      <td>Standard</td>\n",
       "      <td>Decision Tree</td>\n",
       "      <td>0.890187</td>\n",
       "      <td>0.731083</td>\n",
       "      <td>0.460727</td>\n",
       "      <td>0.714861</td>\n",
       "    </tr>\n",
       "    <tr>\n",
       "      <th>0</th>\n",
       "      <td>Standard</td>\n",
       "      <td>Random Forest</td>\n",
       "      <td>0.894809</td>\n",
       "      <td>0.719285</td>\n",
       "      <td>0.541100</td>\n",
       "      <td>0.750618</td>\n",
       "    </tr>\n",
       "    <tr>\n",
       "      <th>0</th>\n",
       "      <td>MinMax</td>\n",
       "      <td>Logistic Regression</td>\n",
       "      <td>0.875020</td>\n",
       "      <td>0.768471</td>\n",
       "      <td>0.275069</td>\n",
       "      <td>0.629997</td>\n",
       "    </tr>\n",
       "    <tr>\n",
       "      <th>0</th>\n",
       "      <td>MinMax</td>\n",
       "      <td>Decision Tree</td>\n",
       "      <td>0.890187</td>\n",
       "      <td>0.731083</td>\n",
       "      <td>0.460727</td>\n",
       "      <td>0.714861</td>\n",
       "    </tr>\n",
       "    <tr>\n",
       "      <th>0</th>\n",
       "      <td>MinMax</td>\n",
       "      <td>Random Forest</td>\n",
       "      <td>0.894891</td>\n",
       "      <td>0.719843</td>\n",
       "      <td>0.541100</td>\n",
       "      <td>0.750666</td>\n",
       "    </tr>\n",
       "    <tr>\n",
       "      <th>0</th>\n",
       "      <td>MaxAbs</td>\n",
       "      <td>Logistic Regression</td>\n",
       "      <td>0.875020</td>\n",
       "      <td>0.768471</td>\n",
       "      <td>0.275069</td>\n",
       "      <td>0.629997</td>\n",
       "    </tr>\n",
       "    <tr>\n",
       "      <th>0</th>\n",
       "      <td>MaxABS</td>\n",
       "      <td>Decision Tree</td>\n",
       "      <td>0.890187</td>\n",
       "      <td>0.731083</td>\n",
       "      <td>0.460727</td>\n",
       "      <td>0.714861</td>\n",
       "    </tr>\n",
       "    <tr>\n",
       "      <th>0</th>\n",
       "      <td>MaxABS</td>\n",
       "      <td>Random Forest</td>\n",
       "      <td>0.894891</td>\n",
       "      <td>0.719843</td>\n",
       "      <td>0.541100</td>\n",
       "      <td>0.750666</td>\n",
       "    </tr>\n",
       "    <tr>\n",
       "      <th>0</th>\n",
       "      <td>Robust</td>\n",
       "      <td>Logistic Regression</td>\n",
       "      <td>0.884672</td>\n",
       "      <td>0.754878</td>\n",
       "      <td>0.376770</td>\n",
       "      <td>0.677199</td>\n",
       "    </tr>\n",
       "    <tr>\n",
       "      <th>0</th>\n",
       "      <td>Robust</td>\n",
       "      <td>Decision Tree</td>\n",
       "      <td>0.890187</td>\n",
       "      <td>0.731083</td>\n",
       "      <td>0.460727</td>\n",
       "      <td>0.714861</td>\n",
       "    </tr>\n",
       "    <tr>\n",
       "      <th>0</th>\n",
       "      <td>Robust</td>\n",
       "      <td>Random Forest</td>\n",
       "      <td>0.890268</td>\n",
       "      <td>0.755992</td>\n",
       "      <td>0.446261</td>\n",
       "      <td>0.709292</td>\n",
       "    </tr>\n",
       "    <tr>\n",
       "      <th>0</th>\n",
       "      <td>Quantile-N</td>\n",
       "      <td>Logistic Regression</td>\n",
       "      <td>0.893755</td>\n",
       "      <td>0.673889</td>\n",
       "      <td>0.607714</td>\n",
       "      <td>0.776996</td>\n",
       "    </tr>\n",
       "    <tr>\n",
       "      <th>0</th>\n",
       "      <td>Quantile-N</td>\n",
       "      <td>Decision Tree</td>\n",
       "      <td>0.890187</td>\n",
       "      <td>0.731083</td>\n",
       "      <td>0.460727</td>\n",
       "      <td>0.714861</td>\n",
       "    </tr>\n",
       "  </tbody>\n",
       "</table>\n",
       "</div>"
      ],
      "text/plain": [
       "      Scaling                Model  Accuracy  Precision    Recall   ROC-AUC\n",
       "0    Standard  Logistic Regression  0.884509   0.753793  0.376252  0.676892\n",
       "0    Standard        Decision Tree  0.890187   0.731083  0.460727  0.714861\n",
       "0    Standard        Random Forest  0.894809   0.719285  0.541100  0.750618\n",
       "0      MinMax  Logistic Regression  0.875020   0.768471  0.275069  0.629997\n",
       "0      MinMax        Decision Tree  0.890187   0.731083  0.460727  0.714861\n",
       "0      MinMax        Random Forest  0.894891   0.719843  0.541100  0.750666\n",
       "0      MaxAbs  Logistic Regression  0.875020   0.768471  0.275069  0.629997\n",
       "0      MaxABS        Decision Tree  0.890187   0.731083  0.460727  0.714861\n",
       "0      MaxABS        Random Forest  0.894891   0.719843  0.541100  0.750666\n",
       "0      Robust  Logistic Regression  0.884672   0.754878  0.376770  0.677199\n",
       "0      Robust        Decision Tree  0.890187   0.731083  0.460727  0.714861\n",
       "0      Robust        Random Forest  0.890268   0.755992  0.446261  0.709292\n",
       "0  Quantile-N  Logistic Regression  0.893755   0.673889  0.607714  0.776996\n",
       "0  Quantile-N        Decision Tree  0.890187   0.731083  0.460727  0.714861"
      ]
     },
     "execution_count": 106,
     "metadata": {},
     "output_type": "execute_result"
    }
   ],
   "source": [
    "# Storing results in a dataframe\n",
    "tempResultsDf = pd.DataFrame({'Scaling':['Quantile-N'],'Model':['Decision Tree'], \n",
    "                          'Accuracy': [np.mean(accuracy)], 'Precision': [np.mean(precision)],\n",
    "                          'Recall':[np.mean(recall)],'ROC-AUC':[np.mean(roc_auc)]})\n",
    "resultsDf = pd.concat([resultsDf, tempResultsDf])\n",
    "resultsDf = resultsDf[['Scaling','Model', 'Accuracy', 'Precision','Recall','ROC-AUC']]\n",
    "resultsDf"
   ]
  },
  {
   "cell_type": "markdown",
   "metadata": {},
   "source": [
    "## Random Forest"
   ]
  },
  {
   "cell_type": "code",
   "execution_count": 107,
   "metadata": {},
   "outputs": [],
   "source": [
    "RT = RandomForestClassifier(random_state=0)"
   ]
  },
  {
   "cell_type": "code",
   "execution_count": 108,
   "metadata": {},
   "outputs": [
    {
     "data": {
      "text/plain": [
       "GridSearchCV(cv=3, error_score='raise-deprecating',\n",
       "       estimator=RandomForestClassifier(bootstrap=True, class_weight=None, criterion='gini',\n",
       "            max_depth=None, max_features='auto', max_leaf_nodes=None,\n",
       "            min_impurity_decrease=0.0, min_impurity_split=None,\n",
       "            min_samples_leaf=1, min_samples_split=2,\n",
       "            min_weight_fraction_leaf=0.0, n_estimators='warn', n_jobs=None,\n",
       "            oob_score=False, random_state=0, verbose=0, warm_start=False),\n",
       "       fit_params=None, iid='warn', n_jobs=None,\n",
       "       param_grid={'n_estimators': array([1, 2, 3, 4, 5, 6, 7, 8, 9]), 'max_depth': array([1, 2, 3, 4, 5, 6, 7, 8, 9])},\n",
       "       pre_dispatch='2*n_jobs', refit=True, return_train_score='warn',\n",
       "       scoring=None, verbose=0)"
      ]
     },
     "execution_count": 108,
     "metadata": {},
     "output_type": "execute_result"
    }
   ],
   "source": [
    "parameter ={'n_estimators':np.arange(1,10),'max_depth':np.arange(1,10)}\n",
    "GS=GridSearchCV(RT,parameter,cv=3)\n",
    "GS.fit(X,Y)"
   ]
  },
  {
   "cell_type": "code",
   "execution_count": 109,
   "metadata": {},
   "outputs": [
    {
     "data": {
      "text/plain": [
       "{'max_depth': 5, 'n_estimators': 8}"
      ]
     },
     "execution_count": 109,
     "metadata": {},
     "output_type": "execute_result"
    }
   ],
   "source": [
    "GS.best_params_"
   ]
  },
  {
   "cell_type": "code",
   "execution_count": 110,
   "metadata": {},
   "outputs": [],
   "source": [
    "RT = RandomForestClassifier(n_estimators=8,max_depth=5)"
   ]
  },
  {
   "cell_type": "markdown",
   "metadata": {},
   "source": [
    "###  K Fold Cross Validation"
   ]
  },
  {
   "cell_type": "code",
   "execution_count": 111,
   "metadata": {},
   "outputs": [],
   "source": [
    "kf = KFold(n_splits=5,shuffle=True,random_state=0)"
   ]
  },
  {
   "cell_type": "code",
   "execution_count": 112,
   "metadata": {},
   "outputs": [
    {
     "name": "stdout",
     "output_type": "stream",
     "text": [
      " Accuracy: 0.90  Precision: 0.78  Recall: 0.48  ROC-AOC: 0.73\n"
     ]
    }
   ],
   "source": [
    "precision=[]\n",
    "recall  =[]\n",
    "roc_auc = []\n",
    "accuracy=[]\n",
    "for train,test in kf.split(X,Y):\n",
    "    xtrain,xtest=X.iloc[train,:],X.iloc[test,:]\n",
    "    ytrain,ytest=Y.iloc[train],Y.iloc[test]\n",
    "    RT.fit(xtrain,ytrain)\n",
    "    y_predict = RT.predict(xtest)\n",
    "    precision.append(metrics.precision_score(ytest,y_predict))\n",
    "    recall.append(metrics.recall_score(ytest,y_predict))\n",
    "    fpr,tpr,_=metrics.roc_curve(ytest,y_predict)\n",
    "    roc_auc.append(metrics.auc(fpr,tpr))\n",
    "    accuracy.append(metrics.accuracy_score(ytest,y_predict))\n",
    "print(' Accuracy: %0.02f  Precision: %0.02f  Recall: %0.02f  ROC-AOC: %0.02F'\n",
    "      %(np.mean(accuracy),np.mean(precision),np.mean(recall),np.mean(roc_auc)))"
   ]
  },
  {
   "cell_type": "code",
   "execution_count": 113,
   "metadata": {},
   "outputs": [
    {
     "data": {
      "text/html": [
       "<div>\n",
       "<style scoped>\n",
       "    .dataframe tbody tr th:only-of-type {\n",
       "        vertical-align: middle;\n",
       "    }\n",
       "\n",
       "    .dataframe tbody tr th {\n",
       "        vertical-align: top;\n",
       "    }\n",
       "\n",
       "    .dataframe thead th {\n",
       "        text-align: right;\n",
       "    }\n",
       "</style>\n",
       "<table border=\"1\" class=\"dataframe\">\n",
       "  <thead>\n",
       "    <tr style=\"text-align: right;\">\n",
       "      <th></th>\n",
       "      <th>Scaling</th>\n",
       "      <th>Model</th>\n",
       "      <th>Accuracy</th>\n",
       "      <th>Precision</th>\n",
       "      <th>Recall</th>\n",
       "      <th>ROC-AUC</th>\n",
       "    </tr>\n",
       "  </thead>\n",
       "  <tbody>\n",
       "    <tr>\n",
       "      <th>0</th>\n",
       "      <td>Standard</td>\n",
       "      <td>Logistic Regression</td>\n",
       "      <td>0.884509</td>\n",
       "      <td>0.753793</td>\n",
       "      <td>0.376252</td>\n",
       "      <td>0.676892</td>\n",
       "    </tr>\n",
       "    <tr>\n",
       "      <th>0</th>\n",
       "      <td>Standard</td>\n",
       "      <td>Decision Tree</td>\n",
       "      <td>0.890187</td>\n",
       "      <td>0.731083</td>\n",
       "      <td>0.460727</td>\n",
       "      <td>0.714861</td>\n",
       "    </tr>\n",
       "    <tr>\n",
       "      <th>0</th>\n",
       "      <td>Standard</td>\n",
       "      <td>Random Forest</td>\n",
       "      <td>0.894809</td>\n",
       "      <td>0.719285</td>\n",
       "      <td>0.541100</td>\n",
       "      <td>0.750618</td>\n",
       "    </tr>\n",
       "    <tr>\n",
       "      <th>0</th>\n",
       "      <td>MinMax</td>\n",
       "      <td>Logistic Regression</td>\n",
       "      <td>0.875020</td>\n",
       "      <td>0.768471</td>\n",
       "      <td>0.275069</td>\n",
       "      <td>0.629997</td>\n",
       "    </tr>\n",
       "    <tr>\n",
       "      <th>0</th>\n",
       "      <td>MinMax</td>\n",
       "      <td>Decision Tree</td>\n",
       "      <td>0.890187</td>\n",
       "      <td>0.731083</td>\n",
       "      <td>0.460727</td>\n",
       "      <td>0.714861</td>\n",
       "    </tr>\n",
       "    <tr>\n",
       "      <th>0</th>\n",
       "      <td>MinMax</td>\n",
       "      <td>Random Forest</td>\n",
       "      <td>0.894891</td>\n",
       "      <td>0.719843</td>\n",
       "      <td>0.541100</td>\n",
       "      <td>0.750666</td>\n",
       "    </tr>\n",
       "    <tr>\n",
       "      <th>0</th>\n",
       "      <td>MaxAbs</td>\n",
       "      <td>Logistic Regression</td>\n",
       "      <td>0.875020</td>\n",
       "      <td>0.768471</td>\n",
       "      <td>0.275069</td>\n",
       "      <td>0.629997</td>\n",
       "    </tr>\n",
       "    <tr>\n",
       "      <th>0</th>\n",
       "      <td>MaxABS</td>\n",
       "      <td>Decision Tree</td>\n",
       "      <td>0.890187</td>\n",
       "      <td>0.731083</td>\n",
       "      <td>0.460727</td>\n",
       "      <td>0.714861</td>\n",
       "    </tr>\n",
       "    <tr>\n",
       "      <th>0</th>\n",
       "      <td>MaxABS</td>\n",
       "      <td>Random Forest</td>\n",
       "      <td>0.894891</td>\n",
       "      <td>0.719843</td>\n",
       "      <td>0.541100</td>\n",
       "      <td>0.750666</td>\n",
       "    </tr>\n",
       "    <tr>\n",
       "      <th>0</th>\n",
       "      <td>Robust</td>\n",
       "      <td>Logistic Regression</td>\n",
       "      <td>0.884672</td>\n",
       "      <td>0.754878</td>\n",
       "      <td>0.376770</td>\n",
       "      <td>0.677199</td>\n",
       "    </tr>\n",
       "    <tr>\n",
       "      <th>0</th>\n",
       "      <td>Robust</td>\n",
       "      <td>Decision Tree</td>\n",
       "      <td>0.890187</td>\n",
       "      <td>0.731083</td>\n",
       "      <td>0.460727</td>\n",
       "      <td>0.714861</td>\n",
       "    </tr>\n",
       "    <tr>\n",
       "      <th>0</th>\n",
       "      <td>Robust</td>\n",
       "      <td>Random Forest</td>\n",
       "      <td>0.890268</td>\n",
       "      <td>0.755992</td>\n",
       "      <td>0.446261</td>\n",
       "      <td>0.709292</td>\n",
       "    </tr>\n",
       "    <tr>\n",
       "      <th>0</th>\n",
       "      <td>Quantile-N</td>\n",
       "      <td>Logistic Regression</td>\n",
       "      <td>0.893755</td>\n",
       "      <td>0.673889</td>\n",
       "      <td>0.607714</td>\n",
       "      <td>0.776996</td>\n",
       "    </tr>\n",
       "    <tr>\n",
       "      <th>0</th>\n",
       "      <td>Quantile-N</td>\n",
       "      <td>Decision Tree</td>\n",
       "      <td>0.890187</td>\n",
       "      <td>0.731083</td>\n",
       "      <td>0.460727</td>\n",
       "      <td>0.714861</td>\n",
       "    </tr>\n",
       "    <tr>\n",
       "      <th>0</th>\n",
       "      <td>Quantile-N</td>\n",
       "      <td>Random Forest</td>\n",
       "      <td>0.897405</td>\n",
       "      <td>0.778490</td>\n",
       "      <td>0.477129</td>\n",
       "      <td>0.725852</td>\n",
       "    </tr>\n",
       "  </tbody>\n",
       "</table>\n",
       "</div>"
      ],
      "text/plain": [
       "      Scaling                Model  Accuracy  Precision    Recall   ROC-AUC\n",
       "0    Standard  Logistic Regression  0.884509   0.753793  0.376252  0.676892\n",
       "0    Standard        Decision Tree  0.890187   0.731083  0.460727  0.714861\n",
       "0    Standard        Random Forest  0.894809   0.719285  0.541100  0.750618\n",
       "0      MinMax  Logistic Regression  0.875020   0.768471  0.275069  0.629997\n",
       "0      MinMax        Decision Tree  0.890187   0.731083  0.460727  0.714861\n",
       "0      MinMax        Random Forest  0.894891   0.719843  0.541100  0.750666\n",
       "0      MaxAbs  Logistic Regression  0.875020   0.768471  0.275069  0.629997\n",
       "0      MaxABS        Decision Tree  0.890187   0.731083  0.460727  0.714861\n",
       "0      MaxABS        Random Forest  0.894891   0.719843  0.541100  0.750666\n",
       "0      Robust  Logistic Regression  0.884672   0.754878  0.376770  0.677199\n",
       "0      Robust        Decision Tree  0.890187   0.731083  0.460727  0.714861\n",
       "0      Robust        Random Forest  0.890268   0.755992  0.446261  0.709292\n",
       "0  Quantile-N  Logistic Regression  0.893755   0.673889  0.607714  0.776996\n",
       "0  Quantile-N        Decision Tree  0.890187   0.731083  0.460727  0.714861\n",
       "0  Quantile-N        Random Forest  0.897405   0.778490  0.477129  0.725852"
      ]
     },
     "execution_count": 113,
     "metadata": {},
     "output_type": "execute_result"
    }
   ],
   "source": [
    "# Storing results in a dataframe\n",
    "tempResultsDf = pd.DataFrame({'Scaling':['Quantile-N'],'Model':['Random Forest'], \n",
    "                          'Accuracy': [np.mean(accuracy)], 'Precision': [np.mean(precision)],\n",
    "                          'Recall':[np.mean(recall)],'ROC-AUC':[np.mean(roc_auc)]})\n",
    "resultsDf = pd.concat([resultsDf, tempResultsDf])\n",
    "resultsDf = resultsDf[['Scaling','Model', 'Accuracy', 'Precision','Recall','ROC-AUC']]\n",
    "resultsDf"
   ]
  },
  {
   "cell_type": "markdown",
   "metadata": {},
   "source": [
    "# QuantileTransformer-Uniform Scalar"
   ]
  },
  {
   "cell_type": "markdown",
   "metadata": {},
   "source": [
    "## Logistic Regression"
   ]
  },
  {
   "cell_type": "code",
   "execution_count": 114,
   "metadata": {},
   "outputs": [],
   "source": [
    "X = qtu_data.drop('Revenue',axis=1)\n",
    "Y = data1.Revenue"
   ]
  },
  {
   "cell_type": "code",
   "execution_count": 115,
   "metadata": {},
   "outputs": [],
   "source": [
    "LR = LogisticRegression()"
   ]
  },
  {
   "cell_type": "markdown",
   "metadata": {},
   "source": [
    "###  K Fold Cross Validation"
   ]
  },
  {
   "cell_type": "code",
   "execution_count": 116,
   "metadata": {},
   "outputs": [],
   "source": [
    "kf = KFold(n_splits=5,shuffle=True,random_state=0)"
   ]
  },
  {
   "cell_type": "code",
   "execution_count": 117,
   "metadata": {},
   "outputs": [
    {
     "name": "stdout",
     "output_type": "stream",
     "text": [
      " Accuracy: 0.89  Precision: 0.68  Recall: 0.61  ROC-AOC: 0.78\n"
     ]
    }
   ],
   "source": [
    "precision=[]\n",
    "recall  =[]\n",
    "roc_auc = []\n",
    "accuracy=[]\n",
    "for train,test in kf.split(X,Y):\n",
    "    xtrain,xtest=X.iloc[train,:],X.iloc[test,:]\n",
    "    ytrain,ytest=Y.iloc[train],Y.iloc[test]\n",
    "    LR.fit(xtrain,ytrain)\n",
    "    y_predict = LR.predict(xtest)\n",
    "    precision.append(metrics.precision_score(ytest,y_predict))\n",
    "    recall.append(metrics.recall_score(ytest,y_predict))\n",
    "    fpr,tpr,_=metrics.roc_curve(ytest,y_predict)\n",
    "    roc_auc.append(metrics.auc(fpr,tpr))\n",
    "    accuracy.append(metrics.accuracy_score(ytest,y_predict))\n",
    "print(' Accuracy: %0.02f  Precision: %0.02f  Recall: %0.02f  ROC-AOC: %0.02F'\n",
    "      %(np.mean(accuracy),np.mean(precision),np.mean(recall),np.mean(roc_auc)))"
   ]
  },
  {
   "cell_type": "code",
   "execution_count": 118,
   "metadata": {},
   "outputs": [
    {
     "data": {
      "text/html": [
       "<div>\n",
       "<style scoped>\n",
       "    .dataframe tbody tr th:only-of-type {\n",
       "        vertical-align: middle;\n",
       "    }\n",
       "\n",
       "    .dataframe tbody tr th {\n",
       "        vertical-align: top;\n",
       "    }\n",
       "\n",
       "    .dataframe thead th {\n",
       "        text-align: right;\n",
       "    }\n",
       "</style>\n",
       "<table border=\"1\" class=\"dataframe\">\n",
       "  <thead>\n",
       "    <tr style=\"text-align: right;\">\n",
       "      <th></th>\n",
       "      <th>Scaling</th>\n",
       "      <th>Model</th>\n",
       "      <th>Accuracy</th>\n",
       "      <th>Precision</th>\n",
       "      <th>Recall</th>\n",
       "      <th>ROC-AUC</th>\n",
       "    </tr>\n",
       "  </thead>\n",
       "  <tbody>\n",
       "    <tr>\n",
       "      <th>0</th>\n",
       "      <td>Standard</td>\n",
       "      <td>Logistic Regression</td>\n",
       "      <td>0.884509</td>\n",
       "      <td>0.753793</td>\n",
       "      <td>0.376252</td>\n",
       "      <td>0.676892</td>\n",
       "    </tr>\n",
       "    <tr>\n",
       "      <th>0</th>\n",
       "      <td>Standard</td>\n",
       "      <td>Decision Tree</td>\n",
       "      <td>0.890187</td>\n",
       "      <td>0.731083</td>\n",
       "      <td>0.460727</td>\n",
       "      <td>0.714861</td>\n",
       "    </tr>\n",
       "    <tr>\n",
       "      <th>0</th>\n",
       "      <td>Standard</td>\n",
       "      <td>Random Forest</td>\n",
       "      <td>0.894809</td>\n",
       "      <td>0.719285</td>\n",
       "      <td>0.541100</td>\n",
       "      <td>0.750618</td>\n",
       "    </tr>\n",
       "    <tr>\n",
       "      <th>0</th>\n",
       "      <td>MinMax</td>\n",
       "      <td>Logistic Regression</td>\n",
       "      <td>0.875020</td>\n",
       "      <td>0.768471</td>\n",
       "      <td>0.275069</td>\n",
       "      <td>0.629997</td>\n",
       "    </tr>\n",
       "    <tr>\n",
       "      <th>0</th>\n",
       "      <td>MinMax</td>\n",
       "      <td>Decision Tree</td>\n",
       "      <td>0.890187</td>\n",
       "      <td>0.731083</td>\n",
       "      <td>0.460727</td>\n",
       "      <td>0.714861</td>\n",
       "    </tr>\n",
       "    <tr>\n",
       "      <th>0</th>\n",
       "      <td>MinMax</td>\n",
       "      <td>Random Forest</td>\n",
       "      <td>0.894891</td>\n",
       "      <td>0.719843</td>\n",
       "      <td>0.541100</td>\n",
       "      <td>0.750666</td>\n",
       "    </tr>\n",
       "    <tr>\n",
       "      <th>0</th>\n",
       "      <td>MaxAbs</td>\n",
       "      <td>Logistic Regression</td>\n",
       "      <td>0.875020</td>\n",
       "      <td>0.768471</td>\n",
       "      <td>0.275069</td>\n",
       "      <td>0.629997</td>\n",
       "    </tr>\n",
       "    <tr>\n",
       "      <th>0</th>\n",
       "      <td>MaxABS</td>\n",
       "      <td>Decision Tree</td>\n",
       "      <td>0.890187</td>\n",
       "      <td>0.731083</td>\n",
       "      <td>0.460727</td>\n",
       "      <td>0.714861</td>\n",
       "    </tr>\n",
       "    <tr>\n",
       "      <th>0</th>\n",
       "      <td>MaxABS</td>\n",
       "      <td>Random Forest</td>\n",
       "      <td>0.894891</td>\n",
       "      <td>0.719843</td>\n",
       "      <td>0.541100</td>\n",
       "      <td>0.750666</td>\n",
       "    </tr>\n",
       "    <tr>\n",
       "      <th>0</th>\n",
       "      <td>Robust</td>\n",
       "      <td>Logistic Regression</td>\n",
       "      <td>0.884672</td>\n",
       "      <td>0.754878</td>\n",
       "      <td>0.376770</td>\n",
       "      <td>0.677199</td>\n",
       "    </tr>\n",
       "    <tr>\n",
       "      <th>0</th>\n",
       "      <td>Robust</td>\n",
       "      <td>Decision Tree</td>\n",
       "      <td>0.890187</td>\n",
       "      <td>0.731083</td>\n",
       "      <td>0.460727</td>\n",
       "      <td>0.714861</td>\n",
       "    </tr>\n",
       "    <tr>\n",
       "      <th>0</th>\n",
       "      <td>Robust</td>\n",
       "      <td>Random Forest</td>\n",
       "      <td>0.890268</td>\n",
       "      <td>0.755992</td>\n",
       "      <td>0.446261</td>\n",
       "      <td>0.709292</td>\n",
       "    </tr>\n",
       "    <tr>\n",
       "      <th>0</th>\n",
       "      <td>Quantile-N</td>\n",
       "      <td>Logistic Regression</td>\n",
       "      <td>0.893755</td>\n",
       "      <td>0.673889</td>\n",
       "      <td>0.607714</td>\n",
       "      <td>0.776996</td>\n",
       "    </tr>\n",
       "    <tr>\n",
       "      <th>0</th>\n",
       "      <td>Quantile-N</td>\n",
       "      <td>Decision Tree</td>\n",
       "      <td>0.890187</td>\n",
       "      <td>0.731083</td>\n",
       "      <td>0.460727</td>\n",
       "      <td>0.714861</td>\n",
       "    </tr>\n",
       "    <tr>\n",
       "      <th>0</th>\n",
       "      <td>Quantile-N</td>\n",
       "      <td>Random Forest</td>\n",
       "      <td>0.897405</td>\n",
       "      <td>0.778490</td>\n",
       "      <td>0.477129</td>\n",
       "      <td>0.725852</td>\n",
       "    </tr>\n",
       "    <tr>\n",
       "      <th>0</th>\n",
       "      <td>Quantile-U</td>\n",
       "      <td>Logistic Regression</td>\n",
       "      <td>0.894891</td>\n",
       "      <td>0.679705</td>\n",
       "      <td>0.607286</td>\n",
       "      <td>0.777441</td>\n",
       "    </tr>\n",
       "  </tbody>\n",
       "</table>\n",
       "</div>"
      ],
      "text/plain": [
       "      Scaling                Model  Accuracy  Precision    Recall   ROC-AUC\n",
       "0    Standard  Logistic Regression  0.884509   0.753793  0.376252  0.676892\n",
       "0    Standard        Decision Tree  0.890187   0.731083  0.460727  0.714861\n",
       "0    Standard        Random Forest  0.894809   0.719285  0.541100  0.750618\n",
       "0      MinMax  Logistic Regression  0.875020   0.768471  0.275069  0.629997\n",
       "0      MinMax        Decision Tree  0.890187   0.731083  0.460727  0.714861\n",
       "0      MinMax        Random Forest  0.894891   0.719843  0.541100  0.750666\n",
       "0      MaxAbs  Logistic Regression  0.875020   0.768471  0.275069  0.629997\n",
       "0      MaxABS        Decision Tree  0.890187   0.731083  0.460727  0.714861\n",
       "0      MaxABS        Random Forest  0.894891   0.719843  0.541100  0.750666\n",
       "0      Robust  Logistic Regression  0.884672   0.754878  0.376770  0.677199\n",
       "0      Robust        Decision Tree  0.890187   0.731083  0.460727  0.714861\n",
       "0      Robust        Random Forest  0.890268   0.755992  0.446261  0.709292\n",
       "0  Quantile-N  Logistic Regression  0.893755   0.673889  0.607714  0.776996\n",
       "0  Quantile-N        Decision Tree  0.890187   0.731083  0.460727  0.714861\n",
       "0  Quantile-N        Random Forest  0.897405   0.778490  0.477129  0.725852\n",
       "0  Quantile-U  Logistic Regression  0.894891   0.679705  0.607286  0.777441"
      ]
     },
     "execution_count": 118,
     "metadata": {},
     "output_type": "execute_result"
    }
   ],
   "source": [
    "# Storing results in a dataframe\n",
    "tempResultsDf = pd.DataFrame({'Scaling':['Quantile-U'],'Model':['Logistic Regression'], \n",
    "                          'Accuracy': [np.mean(accuracy)], 'Precision': [np.mean(precision)],\n",
    "                          'Recall':[np.mean(recall)],'ROC-AUC':[np.mean(roc_auc)]})\n",
    "resultsDf = pd.concat([resultsDf, tempResultsDf])\n",
    "resultsDf = resultsDf[['Scaling','Model', 'Accuracy', 'Precision','Recall','ROC-AUC']]\n",
    "resultsDf"
   ]
  },
  {
   "cell_type": "markdown",
   "metadata": {},
   "source": [
    "## Decision Tree"
   ]
  },
  {
   "cell_type": "code",
   "execution_count": 119,
   "metadata": {},
   "outputs": [],
   "source": [
    "DT = DecisionTreeClassifier()"
   ]
  },
  {
   "cell_type": "code",
   "execution_count": 120,
   "metadata": {},
   "outputs": [
    {
     "data": {
      "text/plain": [
       "GridSearchCV(cv=3, error_score='raise-deprecating',\n",
       "       estimator=DecisionTreeClassifier(class_weight=None, criterion='gini', max_depth=None,\n",
       "            max_features=None, max_leaf_nodes=None,\n",
       "            min_impurity_decrease=0.0, min_impurity_split=None,\n",
       "            min_samples_leaf=1, min_samples_split=2,\n",
       "            min_weight_fraction_leaf=0.0, presort=False, random_state=None,\n",
       "            splitter='best'),\n",
       "       fit_params=None, iid='warn', n_jobs=None,\n",
       "       param_grid={'max_depth': array([1, 2, 3, 4, 5, 6, 7, 8, 9])},\n",
       "       pre_dispatch='2*n_jobs', refit=True, return_train_score='warn',\n",
       "       scoring=None, verbose=0)"
      ]
     },
     "execution_count": 120,
     "metadata": {},
     "output_type": "execute_result"
    }
   ],
   "source": [
    "parameter ={'max_depth':np.arange(1,10)}\n",
    "GS=GridSearchCV(DT,parameter,cv=3)\n",
    "GS.fit(X,Y)"
   ]
  },
  {
   "cell_type": "code",
   "execution_count": 121,
   "metadata": {},
   "outputs": [
    {
     "data": {
      "text/plain": [
       "{'max_depth': 2}"
      ]
     },
     "execution_count": 121,
     "metadata": {},
     "output_type": "execute_result"
    }
   ],
   "source": [
    "GS.best_params_"
   ]
  },
  {
   "cell_type": "code",
   "execution_count": 122,
   "metadata": {},
   "outputs": [],
   "source": [
    "DT = DecisionTreeClassifier(max_depth=2)"
   ]
  },
  {
   "cell_type": "markdown",
   "metadata": {},
   "source": [
    "###  K Fold Cross Validation"
   ]
  },
  {
   "cell_type": "code",
   "execution_count": 123,
   "metadata": {},
   "outputs": [],
   "source": [
    "kf = KFold(n_splits=5,shuffle=True,random_state=0)"
   ]
  },
  {
   "cell_type": "code",
   "execution_count": 124,
   "metadata": {},
   "outputs": [
    {
     "name": "stdout",
     "output_type": "stream",
     "text": [
      " Accuracy: 0.89  Precision: 0.73  Recall: 0.46  ROC-AOC: 0.71\n"
     ]
    }
   ],
   "source": [
    "precision=[]\n",
    "recall  =[]\n",
    "roc_auc = []\n",
    "accuracy=[]\n",
    "for train,test in kf.split(X,Y):\n",
    "    xtrain,xtest=X.iloc[train,:],X.iloc[test,:]\n",
    "    ytrain,ytest=Y.iloc[train],Y.iloc[test]\n",
    "    DT.fit(xtrain,ytrain)\n",
    "    y_predict = DT.predict(xtest)\n",
    "    precision.append(metrics.precision_score(ytest,y_predict))\n",
    "    recall.append(metrics.recall_score(ytest,y_predict))\n",
    "    fpr,tpr,_=metrics.roc_curve(ytest,y_predict)\n",
    "    roc_auc.append(metrics.auc(fpr,tpr))\n",
    "    accuracy.append(metrics.accuracy_score(ytest,y_predict))\n",
    "print(' Accuracy: %0.02f  Precision: %0.02f  Recall: %0.02f  ROC-AOC: %0.02F'\n",
    "      %(np.mean(accuracy),np.mean(precision),np.mean(recall),np.mean(roc_auc)))"
   ]
  },
  {
   "cell_type": "code",
   "execution_count": 125,
   "metadata": {},
   "outputs": [
    {
     "data": {
      "text/html": [
       "<div>\n",
       "<style scoped>\n",
       "    .dataframe tbody tr th:only-of-type {\n",
       "        vertical-align: middle;\n",
       "    }\n",
       "\n",
       "    .dataframe tbody tr th {\n",
       "        vertical-align: top;\n",
       "    }\n",
       "\n",
       "    .dataframe thead th {\n",
       "        text-align: right;\n",
       "    }\n",
       "</style>\n",
       "<table border=\"1\" class=\"dataframe\">\n",
       "  <thead>\n",
       "    <tr style=\"text-align: right;\">\n",
       "      <th></th>\n",
       "      <th>Scaling</th>\n",
       "      <th>Model</th>\n",
       "      <th>Accuracy</th>\n",
       "      <th>Precision</th>\n",
       "      <th>Recall</th>\n",
       "      <th>ROC-AUC</th>\n",
       "    </tr>\n",
       "  </thead>\n",
       "  <tbody>\n",
       "    <tr>\n",
       "      <th>0</th>\n",
       "      <td>Standard</td>\n",
       "      <td>Logistic Regression</td>\n",
       "      <td>0.884509</td>\n",
       "      <td>0.753793</td>\n",
       "      <td>0.376252</td>\n",
       "      <td>0.676892</td>\n",
       "    </tr>\n",
       "    <tr>\n",
       "      <th>0</th>\n",
       "      <td>Standard</td>\n",
       "      <td>Decision Tree</td>\n",
       "      <td>0.890187</td>\n",
       "      <td>0.731083</td>\n",
       "      <td>0.460727</td>\n",
       "      <td>0.714861</td>\n",
       "    </tr>\n",
       "    <tr>\n",
       "      <th>0</th>\n",
       "      <td>Standard</td>\n",
       "      <td>Random Forest</td>\n",
       "      <td>0.894809</td>\n",
       "      <td>0.719285</td>\n",
       "      <td>0.541100</td>\n",
       "      <td>0.750618</td>\n",
       "    </tr>\n",
       "    <tr>\n",
       "      <th>0</th>\n",
       "      <td>MinMax</td>\n",
       "      <td>Logistic Regression</td>\n",
       "      <td>0.875020</td>\n",
       "      <td>0.768471</td>\n",
       "      <td>0.275069</td>\n",
       "      <td>0.629997</td>\n",
       "    </tr>\n",
       "    <tr>\n",
       "      <th>0</th>\n",
       "      <td>MinMax</td>\n",
       "      <td>Decision Tree</td>\n",
       "      <td>0.890187</td>\n",
       "      <td>0.731083</td>\n",
       "      <td>0.460727</td>\n",
       "      <td>0.714861</td>\n",
       "    </tr>\n",
       "    <tr>\n",
       "      <th>0</th>\n",
       "      <td>MinMax</td>\n",
       "      <td>Random Forest</td>\n",
       "      <td>0.894891</td>\n",
       "      <td>0.719843</td>\n",
       "      <td>0.541100</td>\n",
       "      <td>0.750666</td>\n",
       "    </tr>\n",
       "    <tr>\n",
       "      <th>0</th>\n",
       "      <td>MaxAbs</td>\n",
       "      <td>Logistic Regression</td>\n",
       "      <td>0.875020</td>\n",
       "      <td>0.768471</td>\n",
       "      <td>0.275069</td>\n",
       "      <td>0.629997</td>\n",
       "    </tr>\n",
       "    <tr>\n",
       "      <th>0</th>\n",
       "      <td>MaxABS</td>\n",
       "      <td>Decision Tree</td>\n",
       "      <td>0.890187</td>\n",
       "      <td>0.731083</td>\n",
       "      <td>0.460727</td>\n",
       "      <td>0.714861</td>\n",
       "    </tr>\n",
       "    <tr>\n",
       "      <th>0</th>\n",
       "      <td>MaxABS</td>\n",
       "      <td>Random Forest</td>\n",
       "      <td>0.894891</td>\n",
       "      <td>0.719843</td>\n",
       "      <td>0.541100</td>\n",
       "      <td>0.750666</td>\n",
       "    </tr>\n",
       "    <tr>\n",
       "      <th>0</th>\n",
       "      <td>Robust</td>\n",
       "      <td>Logistic Regression</td>\n",
       "      <td>0.884672</td>\n",
       "      <td>0.754878</td>\n",
       "      <td>0.376770</td>\n",
       "      <td>0.677199</td>\n",
       "    </tr>\n",
       "    <tr>\n",
       "      <th>0</th>\n",
       "      <td>Robust</td>\n",
       "      <td>Decision Tree</td>\n",
       "      <td>0.890187</td>\n",
       "      <td>0.731083</td>\n",
       "      <td>0.460727</td>\n",
       "      <td>0.714861</td>\n",
       "    </tr>\n",
       "    <tr>\n",
       "      <th>0</th>\n",
       "      <td>Robust</td>\n",
       "      <td>Random Forest</td>\n",
       "      <td>0.890268</td>\n",
       "      <td>0.755992</td>\n",
       "      <td>0.446261</td>\n",
       "      <td>0.709292</td>\n",
       "    </tr>\n",
       "    <tr>\n",
       "      <th>0</th>\n",
       "      <td>Quantile-N</td>\n",
       "      <td>Logistic Regression</td>\n",
       "      <td>0.893755</td>\n",
       "      <td>0.673889</td>\n",
       "      <td>0.607714</td>\n",
       "      <td>0.776996</td>\n",
       "    </tr>\n",
       "    <tr>\n",
       "      <th>0</th>\n",
       "      <td>Quantile-N</td>\n",
       "      <td>Decision Tree</td>\n",
       "      <td>0.890187</td>\n",
       "      <td>0.731083</td>\n",
       "      <td>0.460727</td>\n",
       "      <td>0.714861</td>\n",
       "    </tr>\n",
       "    <tr>\n",
       "      <th>0</th>\n",
       "      <td>Quantile-N</td>\n",
       "      <td>Random Forest</td>\n",
       "      <td>0.897405</td>\n",
       "      <td>0.778490</td>\n",
       "      <td>0.477129</td>\n",
       "      <td>0.725852</td>\n",
       "    </tr>\n",
       "    <tr>\n",
       "      <th>0</th>\n",
       "      <td>Quantile-U</td>\n",
       "      <td>Logistic Regression</td>\n",
       "      <td>0.894891</td>\n",
       "      <td>0.679705</td>\n",
       "      <td>0.607286</td>\n",
       "      <td>0.777441</td>\n",
       "    </tr>\n",
       "    <tr>\n",
       "      <th>0</th>\n",
       "      <td>Quantile-U</td>\n",
       "      <td>Decision Tree</td>\n",
       "      <td>0.890187</td>\n",
       "      <td>0.731083</td>\n",
       "      <td>0.460727</td>\n",
       "      <td>0.714861</td>\n",
       "    </tr>\n",
       "  </tbody>\n",
       "</table>\n",
       "</div>"
      ],
      "text/plain": [
       "      Scaling                Model  Accuracy  Precision    Recall   ROC-AUC\n",
       "0    Standard  Logistic Regression  0.884509   0.753793  0.376252  0.676892\n",
       "0    Standard        Decision Tree  0.890187   0.731083  0.460727  0.714861\n",
       "0    Standard        Random Forest  0.894809   0.719285  0.541100  0.750618\n",
       "0      MinMax  Logistic Regression  0.875020   0.768471  0.275069  0.629997\n",
       "0      MinMax        Decision Tree  0.890187   0.731083  0.460727  0.714861\n",
       "0      MinMax        Random Forest  0.894891   0.719843  0.541100  0.750666\n",
       "0      MaxAbs  Logistic Regression  0.875020   0.768471  0.275069  0.629997\n",
       "0      MaxABS        Decision Tree  0.890187   0.731083  0.460727  0.714861\n",
       "0      MaxABS        Random Forest  0.894891   0.719843  0.541100  0.750666\n",
       "0      Robust  Logistic Regression  0.884672   0.754878  0.376770  0.677199\n",
       "0      Robust        Decision Tree  0.890187   0.731083  0.460727  0.714861\n",
       "0      Robust        Random Forest  0.890268   0.755992  0.446261  0.709292\n",
       "0  Quantile-N  Logistic Regression  0.893755   0.673889  0.607714  0.776996\n",
       "0  Quantile-N        Decision Tree  0.890187   0.731083  0.460727  0.714861\n",
       "0  Quantile-N        Random Forest  0.897405   0.778490  0.477129  0.725852\n",
       "0  Quantile-U  Logistic Regression  0.894891   0.679705  0.607286  0.777441\n",
       "0  Quantile-U        Decision Tree  0.890187   0.731083  0.460727  0.714861"
      ]
     },
     "execution_count": 125,
     "metadata": {},
     "output_type": "execute_result"
    }
   ],
   "source": [
    "# Storing results in a dataframe\n",
    "tempResultsDf = pd.DataFrame({'Scaling':['Quantile-U'],'Model':['Decision Tree'], \n",
    "                          'Accuracy': [np.mean(accuracy)], 'Precision': [np.mean(precision)],\n",
    "                          'Recall':[np.mean(recall)],'ROC-AUC':[np.mean(roc_auc)]})\n",
    "resultsDf = pd.concat([resultsDf, tempResultsDf])\n",
    "resultsDf = resultsDf[['Scaling','Model', 'Accuracy', 'Precision','Recall','ROC-AUC']]\n",
    "resultsDf"
   ]
  },
  {
   "cell_type": "markdown",
   "metadata": {},
   "source": [
    "## Random Forest"
   ]
  },
  {
   "cell_type": "code",
   "execution_count": 126,
   "metadata": {},
   "outputs": [],
   "source": [
    "RT = RandomForestClassifier(random_state=0)"
   ]
  },
  {
   "cell_type": "code",
   "execution_count": 127,
   "metadata": {},
   "outputs": [
    {
     "data": {
      "text/plain": [
       "GridSearchCV(cv=3, error_score='raise-deprecating',\n",
       "       estimator=RandomForestClassifier(bootstrap=True, class_weight=None, criterion='gini',\n",
       "            max_depth=None, max_features='auto', max_leaf_nodes=None,\n",
       "            min_impurity_decrease=0.0, min_impurity_split=None,\n",
       "            min_samples_leaf=1, min_samples_split=2,\n",
       "            min_weight_fraction_leaf=0.0, n_estimators='warn', n_jobs=None,\n",
       "            oob_score=False, random_state=0, verbose=0, warm_start=False),\n",
       "       fit_params=None, iid='warn', n_jobs=None,\n",
       "       param_grid={'n_estimators': array([1, 2, 3, 4, 5, 6, 7, 8, 9]), 'max_depth': array([1, 2, 3, 4, 5, 6, 7, 8, 9])},\n",
       "       pre_dispatch='2*n_jobs', refit=True, return_train_score='warn',\n",
       "       scoring=None, verbose=0)"
      ]
     },
     "execution_count": 127,
     "metadata": {},
     "output_type": "execute_result"
    }
   ],
   "source": [
    "parameter ={'n_estimators':np.arange(1,10),'max_depth':np.arange(1,10)}\n",
    "GS=GridSearchCV(RT,parameter,cv=3)\n",
    "GS.fit(X,Y)"
   ]
  },
  {
   "cell_type": "code",
   "execution_count": 128,
   "metadata": {},
   "outputs": [
    {
     "data": {
      "text/plain": [
       "{'max_depth': 5, 'n_estimators': 8}"
      ]
     },
     "execution_count": 128,
     "metadata": {},
     "output_type": "execute_result"
    }
   ],
   "source": [
    "GS.best_params_"
   ]
  },
  {
   "cell_type": "code",
   "execution_count": 129,
   "metadata": {},
   "outputs": [],
   "source": [
    "RT = RandomForestClassifier(n_estimators=8,max_depth=5)"
   ]
  },
  {
   "cell_type": "markdown",
   "metadata": {},
   "source": [
    "###  K Fold Cross Validation"
   ]
  },
  {
   "cell_type": "code",
   "execution_count": 130,
   "metadata": {},
   "outputs": [],
   "source": [
    "kf = KFold(n_splits=5,shuffle=True,random_state=0)"
   ]
  },
  {
   "cell_type": "code",
   "execution_count": 131,
   "metadata": {},
   "outputs": [
    {
     "name": "stdout",
     "output_type": "stream",
     "text": [
      " Accuracy: 0.90  Precision: 0.77  Recall: 0.47  ROC-AOC: 0.72\n"
     ]
    }
   ],
   "source": [
    "precision=[]\n",
    "recall  =[]\n",
    "roc_auc = []\n",
    "accuracy=[]\n",
    "for train,test in kf.split(X,Y):\n",
    "    xtrain,xtest=X.iloc[train,:],X.iloc[test,:]\n",
    "    ytrain,ytest=Y.iloc[train],Y.iloc[test]\n",
    "    RT.fit(xtrain,ytrain)\n",
    "    y_predict = RT.predict(xtest)\n",
    "    precision.append(metrics.precision_score(ytest,y_predict))\n",
    "    recall.append(metrics.recall_score(ytest,y_predict))\n",
    "    fpr,tpr,_=metrics.roc_curve(ytest,y_predict)\n",
    "    roc_auc.append(metrics.auc(fpr,tpr))\n",
    "    accuracy.append(metrics.accuracy_score(ytest,y_predict))\n",
    "print(' Accuracy: %0.02f  Precision: %0.02f  Recall: %0.02f  ROC-AOC: %0.02F'\n",
    "      %(np.mean(accuracy),np.mean(precision),np.mean(recall),np.mean(roc_auc)))"
   ]
  },
  {
   "cell_type": "code",
   "execution_count": 132,
   "metadata": {},
   "outputs": [
    {
     "data": {
      "text/html": [
       "<div>\n",
       "<style scoped>\n",
       "    .dataframe tbody tr th:only-of-type {\n",
       "        vertical-align: middle;\n",
       "    }\n",
       "\n",
       "    .dataframe tbody tr th {\n",
       "        vertical-align: top;\n",
       "    }\n",
       "\n",
       "    .dataframe thead th {\n",
       "        text-align: right;\n",
       "    }\n",
       "</style>\n",
       "<table border=\"1\" class=\"dataframe\">\n",
       "  <thead>\n",
       "    <tr style=\"text-align: right;\">\n",
       "      <th></th>\n",
       "      <th>Scaling</th>\n",
       "      <th>Model</th>\n",
       "      <th>Accuracy</th>\n",
       "      <th>Precision</th>\n",
       "      <th>Recall</th>\n",
       "      <th>ROC-AUC</th>\n",
       "    </tr>\n",
       "  </thead>\n",
       "  <tbody>\n",
       "    <tr>\n",
       "      <th>0</th>\n",
       "      <td>Standard</td>\n",
       "      <td>Logistic Regression</td>\n",
       "      <td>0.884509</td>\n",
       "      <td>0.753793</td>\n",
       "      <td>0.376252</td>\n",
       "      <td>0.676892</td>\n",
       "    </tr>\n",
       "    <tr>\n",
       "      <th>0</th>\n",
       "      <td>Standard</td>\n",
       "      <td>Decision Tree</td>\n",
       "      <td>0.890187</td>\n",
       "      <td>0.731083</td>\n",
       "      <td>0.460727</td>\n",
       "      <td>0.714861</td>\n",
       "    </tr>\n",
       "    <tr>\n",
       "      <th>0</th>\n",
       "      <td>Standard</td>\n",
       "      <td>Random Forest</td>\n",
       "      <td>0.894809</td>\n",
       "      <td>0.719285</td>\n",
       "      <td>0.541100</td>\n",
       "      <td>0.750618</td>\n",
       "    </tr>\n",
       "    <tr>\n",
       "      <th>0</th>\n",
       "      <td>MinMax</td>\n",
       "      <td>Logistic Regression</td>\n",
       "      <td>0.875020</td>\n",
       "      <td>0.768471</td>\n",
       "      <td>0.275069</td>\n",
       "      <td>0.629997</td>\n",
       "    </tr>\n",
       "    <tr>\n",
       "      <th>0</th>\n",
       "      <td>MinMax</td>\n",
       "      <td>Decision Tree</td>\n",
       "      <td>0.890187</td>\n",
       "      <td>0.731083</td>\n",
       "      <td>0.460727</td>\n",
       "      <td>0.714861</td>\n",
       "    </tr>\n",
       "    <tr>\n",
       "      <th>0</th>\n",
       "      <td>MinMax</td>\n",
       "      <td>Random Forest</td>\n",
       "      <td>0.894891</td>\n",
       "      <td>0.719843</td>\n",
       "      <td>0.541100</td>\n",
       "      <td>0.750666</td>\n",
       "    </tr>\n",
       "    <tr>\n",
       "      <th>0</th>\n",
       "      <td>MaxAbs</td>\n",
       "      <td>Logistic Regression</td>\n",
       "      <td>0.875020</td>\n",
       "      <td>0.768471</td>\n",
       "      <td>0.275069</td>\n",
       "      <td>0.629997</td>\n",
       "    </tr>\n",
       "    <tr>\n",
       "      <th>0</th>\n",
       "      <td>MaxABS</td>\n",
       "      <td>Decision Tree</td>\n",
       "      <td>0.890187</td>\n",
       "      <td>0.731083</td>\n",
       "      <td>0.460727</td>\n",
       "      <td>0.714861</td>\n",
       "    </tr>\n",
       "    <tr>\n",
       "      <th>0</th>\n",
       "      <td>MaxABS</td>\n",
       "      <td>Random Forest</td>\n",
       "      <td>0.894891</td>\n",
       "      <td>0.719843</td>\n",
       "      <td>0.541100</td>\n",
       "      <td>0.750666</td>\n",
       "    </tr>\n",
       "    <tr>\n",
       "      <th>0</th>\n",
       "      <td>Robust</td>\n",
       "      <td>Logistic Regression</td>\n",
       "      <td>0.884672</td>\n",
       "      <td>0.754878</td>\n",
       "      <td>0.376770</td>\n",
       "      <td>0.677199</td>\n",
       "    </tr>\n",
       "    <tr>\n",
       "      <th>0</th>\n",
       "      <td>Robust</td>\n",
       "      <td>Decision Tree</td>\n",
       "      <td>0.890187</td>\n",
       "      <td>0.731083</td>\n",
       "      <td>0.460727</td>\n",
       "      <td>0.714861</td>\n",
       "    </tr>\n",
       "    <tr>\n",
       "      <th>0</th>\n",
       "      <td>Robust</td>\n",
       "      <td>Random Forest</td>\n",
       "      <td>0.890268</td>\n",
       "      <td>0.755992</td>\n",
       "      <td>0.446261</td>\n",
       "      <td>0.709292</td>\n",
       "    </tr>\n",
       "    <tr>\n",
       "      <th>0</th>\n",
       "      <td>Quantile-N</td>\n",
       "      <td>Logistic Regression</td>\n",
       "      <td>0.893755</td>\n",
       "      <td>0.673889</td>\n",
       "      <td>0.607714</td>\n",
       "      <td>0.776996</td>\n",
       "    </tr>\n",
       "    <tr>\n",
       "      <th>0</th>\n",
       "      <td>Quantile-N</td>\n",
       "      <td>Decision Tree</td>\n",
       "      <td>0.890187</td>\n",
       "      <td>0.731083</td>\n",
       "      <td>0.460727</td>\n",
       "      <td>0.714861</td>\n",
       "    </tr>\n",
       "    <tr>\n",
       "      <th>0</th>\n",
       "      <td>Quantile-N</td>\n",
       "      <td>Random Forest</td>\n",
       "      <td>0.897405</td>\n",
       "      <td>0.778490</td>\n",
       "      <td>0.477129</td>\n",
       "      <td>0.725852</td>\n",
       "    </tr>\n",
       "    <tr>\n",
       "      <th>0</th>\n",
       "      <td>Quantile-U</td>\n",
       "      <td>Logistic Regression</td>\n",
       "      <td>0.894891</td>\n",
       "      <td>0.679705</td>\n",
       "      <td>0.607286</td>\n",
       "      <td>0.777441</td>\n",
       "    </tr>\n",
       "    <tr>\n",
       "      <th>0</th>\n",
       "      <td>Quantile-U</td>\n",
       "      <td>Decision Tree</td>\n",
       "      <td>0.890187</td>\n",
       "      <td>0.731083</td>\n",
       "      <td>0.460727</td>\n",
       "      <td>0.714861</td>\n",
       "    </tr>\n",
       "    <tr>\n",
       "      <th>0</th>\n",
       "      <td>Quantile-U</td>\n",
       "      <td>Random Forest</td>\n",
       "      <td>0.895702</td>\n",
       "      <td>0.772716</td>\n",
       "      <td>0.472064</td>\n",
       "      <td>0.722899</td>\n",
       "    </tr>\n",
       "  </tbody>\n",
       "</table>\n",
       "</div>"
      ],
      "text/plain": [
       "      Scaling                Model  Accuracy  Precision    Recall   ROC-AUC\n",
       "0    Standard  Logistic Regression  0.884509   0.753793  0.376252  0.676892\n",
       "0    Standard        Decision Tree  0.890187   0.731083  0.460727  0.714861\n",
       "0    Standard        Random Forest  0.894809   0.719285  0.541100  0.750618\n",
       "0      MinMax  Logistic Regression  0.875020   0.768471  0.275069  0.629997\n",
       "0      MinMax        Decision Tree  0.890187   0.731083  0.460727  0.714861\n",
       "0      MinMax        Random Forest  0.894891   0.719843  0.541100  0.750666\n",
       "0      MaxAbs  Logistic Regression  0.875020   0.768471  0.275069  0.629997\n",
       "0      MaxABS        Decision Tree  0.890187   0.731083  0.460727  0.714861\n",
       "0      MaxABS        Random Forest  0.894891   0.719843  0.541100  0.750666\n",
       "0      Robust  Logistic Regression  0.884672   0.754878  0.376770  0.677199\n",
       "0      Robust        Decision Tree  0.890187   0.731083  0.460727  0.714861\n",
       "0      Robust        Random Forest  0.890268   0.755992  0.446261  0.709292\n",
       "0  Quantile-N  Logistic Regression  0.893755   0.673889  0.607714  0.776996\n",
       "0  Quantile-N        Decision Tree  0.890187   0.731083  0.460727  0.714861\n",
       "0  Quantile-N        Random Forest  0.897405   0.778490  0.477129  0.725852\n",
       "0  Quantile-U  Logistic Regression  0.894891   0.679705  0.607286  0.777441\n",
       "0  Quantile-U        Decision Tree  0.890187   0.731083  0.460727  0.714861\n",
       "0  Quantile-U        Random Forest  0.895702   0.772716  0.472064  0.722899"
      ]
     },
     "execution_count": 132,
     "metadata": {},
     "output_type": "execute_result"
    }
   ],
   "source": [
    "# Storing results in a dataframe\n",
    "tempResultsDf = pd.DataFrame({'Scaling':['Quantile-U'],'Model':['Random Forest'], \n",
    "                          'Accuracy': [np.mean(accuracy)], 'Precision': [np.mean(precision)],\n",
    "                          'Recall':[np.mean(recall)],'ROC-AUC':[np.mean(roc_auc)]})\n",
    "resultsDf = pd.concat([resultsDf, tempResultsDf])\n",
    "resultsDf = resultsDf[['Scaling','Model', 'Accuracy', 'Precision','Recall','ROC-AUC']]\n",
    "resultsDf"
   ]
  },
  {
   "cell_type": "markdown",
   "metadata": {},
   "source": [
    "# PowerTransformer Scalar"
   ]
  },
  {
   "cell_type": "markdown",
   "metadata": {},
   "source": [
    "## Logistic Regression"
   ]
  },
  {
   "cell_type": "code",
   "execution_count": 133,
   "metadata": {},
   "outputs": [],
   "source": [
    "X = pt_data.drop('Revenue',axis=1)\n",
    "Y = data1.Revenue"
   ]
  },
  {
   "cell_type": "code",
   "execution_count": 134,
   "metadata": {},
   "outputs": [],
   "source": [
    "LR = LogisticRegression()"
   ]
  },
  {
   "cell_type": "markdown",
   "metadata": {},
   "source": [
    "###  K Fold Cross Validation"
   ]
  },
  {
   "cell_type": "code",
   "execution_count": 135,
   "metadata": {},
   "outputs": [],
   "source": [
    "kf = KFold(n_splits=5,shuffle=True,random_state=0)"
   ]
  },
  {
   "cell_type": "code",
   "execution_count": 136,
   "metadata": {},
   "outputs": [
    {
     "name": "stdout",
     "output_type": "stream",
     "text": [
      " Accuracy: 0.89  Precision: 0.66  Recall: 0.63  ROC-AOC: 0.78\n"
     ]
    }
   ],
   "source": [
    "precision=[]\n",
    "recall  =[]\n",
    "roc_auc = []\n",
    "accuracy=[]\n",
    "for train,test in kf.split(X,Y):\n",
    "    xtrain,xtest=X.iloc[train,:],X.iloc[test,:]\n",
    "    ytrain,ytest=Y.iloc[train],Y.iloc[test]\n",
    "    LR.fit(xtrain,ytrain)\n",
    "    y_predict = LR.predict(xtest)\n",
    "    precision.append(metrics.precision_score(ytest,y_predict))\n",
    "    recall.append(metrics.recall_score(ytest,y_predict))\n",
    "    fpr,tpr,_=metrics.roc_curve(ytest,y_predict)\n",
    "    roc_auc.append(metrics.auc(fpr,tpr))\n",
    "    accuracy.append(metrics.accuracy_score(ytest,y_predict))\n",
    "print(' Accuracy: %0.02f  Precision: %0.02f  Recall: %0.02f  ROC-AOC: %0.02F'\n",
    "      %(np.mean(accuracy),np.mean(precision),np.mean(recall),np.mean(roc_auc)))"
   ]
  },
  {
   "cell_type": "code",
   "execution_count": 137,
   "metadata": {},
   "outputs": [
    {
     "data": {
      "text/html": [
       "<div>\n",
       "<style scoped>\n",
       "    .dataframe tbody tr th:only-of-type {\n",
       "        vertical-align: middle;\n",
       "    }\n",
       "\n",
       "    .dataframe tbody tr th {\n",
       "        vertical-align: top;\n",
       "    }\n",
       "\n",
       "    .dataframe thead th {\n",
       "        text-align: right;\n",
       "    }\n",
       "</style>\n",
       "<table border=\"1\" class=\"dataframe\">\n",
       "  <thead>\n",
       "    <tr style=\"text-align: right;\">\n",
       "      <th></th>\n",
       "      <th>Scaling</th>\n",
       "      <th>Model</th>\n",
       "      <th>Accuracy</th>\n",
       "      <th>Precision</th>\n",
       "      <th>Recall</th>\n",
       "      <th>ROC-AUC</th>\n",
       "    </tr>\n",
       "  </thead>\n",
       "  <tbody>\n",
       "    <tr>\n",
       "      <th>0</th>\n",
       "      <td>Standard</td>\n",
       "      <td>Logistic Regression</td>\n",
       "      <td>0.884509</td>\n",
       "      <td>0.753793</td>\n",
       "      <td>0.376252</td>\n",
       "      <td>0.676892</td>\n",
       "    </tr>\n",
       "    <tr>\n",
       "      <th>0</th>\n",
       "      <td>Standard</td>\n",
       "      <td>Decision Tree</td>\n",
       "      <td>0.890187</td>\n",
       "      <td>0.731083</td>\n",
       "      <td>0.460727</td>\n",
       "      <td>0.714861</td>\n",
       "    </tr>\n",
       "    <tr>\n",
       "      <th>0</th>\n",
       "      <td>Standard</td>\n",
       "      <td>Random Forest</td>\n",
       "      <td>0.894809</td>\n",
       "      <td>0.719285</td>\n",
       "      <td>0.541100</td>\n",
       "      <td>0.750618</td>\n",
       "    </tr>\n",
       "    <tr>\n",
       "      <th>0</th>\n",
       "      <td>MinMax</td>\n",
       "      <td>Logistic Regression</td>\n",
       "      <td>0.875020</td>\n",
       "      <td>0.768471</td>\n",
       "      <td>0.275069</td>\n",
       "      <td>0.629997</td>\n",
       "    </tr>\n",
       "    <tr>\n",
       "      <th>0</th>\n",
       "      <td>MinMax</td>\n",
       "      <td>Decision Tree</td>\n",
       "      <td>0.890187</td>\n",
       "      <td>0.731083</td>\n",
       "      <td>0.460727</td>\n",
       "      <td>0.714861</td>\n",
       "    </tr>\n",
       "    <tr>\n",
       "      <th>0</th>\n",
       "      <td>MinMax</td>\n",
       "      <td>Random Forest</td>\n",
       "      <td>0.894891</td>\n",
       "      <td>0.719843</td>\n",
       "      <td>0.541100</td>\n",
       "      <td>0.750666</td>\n",
       "    </tr>\n",
       "    <tr>\n",
       "      <th>0</th>\n",
       "      <td>MaxAbs</td>\n",
       "      <td>Logistic Regression</td>\n",
       "      <td>0.875020</td>\n",
       "      <td>0.768471</td>\n",
       "      <td>0.275069</td>\n",
       "      <td>0.629997</td>\n",
       "    </tr>\n",
       "    <tr>\n",
       "      <th>0</th>\n",
       "      <td>MaxABS</td>\n",
       "      <td>Decision Tree</td>\n",
       "      <td>0.890187</td>\n",
       "      <td>0.731083</td>\n",
       "      <td>0.460727</td>\n",
       "      <td>0.714861</td>\n",
       "    </tr>\n",
       "    <tr>\n",
       "      <th>0</th>\n",
       "      <td>MaxABS</td>\n",
       "      <td>Random Forest</td>\n",
       "      <td>0.894891</td>\n",
       "      <td>0.719843</td>\n",
       "      <td>0.541100</td>\n",
       "      <td>0.750666</td>\n",
       "    </tr>\n",
       "    <tr>\n",
       "      <th>0</th>\n",
       "      <td>Robust</td>\n",
       "      <td>Logistic Regression</td>\n",
       "      <td>0.884672</td>\n",
       "      <td>0.754878</td>\n",
       "      <td>0.376770</td>\n",
       "      <td>0.677199</td>\n",
       "    </tr>\n",
       "    <tr>\n",
       "      <th>0</th>\n",
       "      <td>Robust</td>\n",
       "      <td>Decision Tree</td>\n",
       "      <td>0.890187</td>\n",
       "      <td>0.731083</td>\n",
       "      <td>0.460727</td>\n",
       "      <td>0.714861</td>\n",
       "    </tr>\n",
       "    <tr>\n",
       "      <th>0</th>\n",
       "      <td>Robust</td>\n",
       "      <td>Random Forest</td>\n",
       "      <td>0.890268</td>\n",
       "      <td>0.755992</td>\n",
       "      <td>0.446261</td>\n",
       "      <td>0.709292</td>\n",
       "    </tr>\n",
       "    <tr>\n",
       "      <th>0</th>\n",
       "      <td>Quantile-N</td>\n",
       "      <td>Logistic Regression</td>\n",
       "      <td>0.893755</td>\n",
       "      <td>0.673889</td>\n",
       "      <td>0.607714</td>\n",
       "      <td>0.776996</td>\n",
       "    </tr>\n",
       "    <tr>\n",
       "      <th>0</th>\n",
       "      <td>Quantile-N</td>\n",
       "      <td>Decision Tree</td>\n",
       "      <td>0.890187</td>\n",
       "      <td>0.731083</td>\n",
       "      <td>0.460727</td>\n",
       "      <td>0.714861</td>\n",
       "    </tr>\n",
       "    <tr>\n",
       "      <th>0</th>\n",
       "      <td>Quantile-N</td>\n",
       "      <td>Random Forest</td>\n",
       "      <td>0.897405</td>\n",
       "      <td>0.778490</td>\n",
       "      <td>0.477129</td>\n",
       "      <td>0.725852</td>\n",
       "    </tr>\n",
       "    <tr>\n",
       "      <th>0</th>\n",
       "      <td>Quantile-U</td>\n",
       "      <td>Logistic Regression</td>\n",
       "      <td>0.894891</td>\n",
       "      <td>0.679705</td>\n",
       "      <td>0.607286</td>\n",
       "      <td>0.777441</td>\n",
       "    </tr>\n",
       "    <tr>\n",
       "      <th>0</th>\n",
       "      <td>Quantile-U</td>\n",
       "      <td>Decision Tree</td>\n",
       "      <td>0.890187</td>\n",
       "      <td>0.731083</td>\n",
       "      <td>0.460727</td>\n",
       "      <td>0.714861</td>\n",
       "    </tr>\n",
       "    <tr>\n",
       "      <th>0</th>\n",
       "      <td>Quantile-U</td>\n",
       "      <td>Random Forest</td>\n",
       "      <td>0.895702</td>\n",
       "      <td>0.772716</td>\n",
       "      <td>0.472064</td>\n",
       "      <td>0.722899</td>\n",
       "    </tr>\n",
       "    <tr>\n",
       "      <th>0</th>\n",
       "      <td>Power Transform</td>\n",
       "      <td>Logistic Regression</td>\n",
       "      <td>0.893025</td>\n",
       "      <td>0.663586</td>\n",
       "      <td>0.627954</td>\n",
       "      <td>0.784804</td>\n",
       "    </tr>\n",
       "  </tbody>\n",
       "</table>\n",
       "</div>"
      ],
      "text/plain": [
       "           Scaling                Model  Accuracy  Precision    Recall  \\\n",
       "0         Standard  Logistic Regression  0.884509   0.753793  0.376252   \n",
       "0         Standard        Decision Tree  0.890187   0.731083  0.460727   \n",
       "0         Standard        Random Forest  0.894809   0.719285  0.541100   \n",
       "0           MinMax  Logistic Regression  0.875020   0.768471  0.275069   \n",
       "0           MinMax        Decision Tree  0.890187   0.731083  0.460727   \n",
       "0           MinMax        Random Forest  0.894891   0.719843  0.541100   \n",
       "0           MaxAbs  Logistic Regression  0.875020   0.768471  0.275069   \n",
       "0           MaxABS        Decision Tree  0.890187   0.731083  0.460727   \n",
       "0           MaxABS        Random Forest  0.894891   0.719843  0.541100   \n",
       "0           Robust  Logistic Regression  0.884672   0.754878  0.376770   \n",
       "0           Robust        Decision Tree  0.890187   0.731083  0.460727   \n",
       "0           Robust        Random Forest  0.890268   0.755992  0.446261   \n",
       "0       Quantile-N  Logistic Regression  0.893755   0.673889  0.607714   \n",
       "0       Quantile-N        Decision Tree  0.890187   0.731083  0.460727   \n",
       "0       Quantile-N        Random Forest  0.897405   0.778490  0.477129   \n",
       "0       Quantile-U  Logistic Regression  0.894891   0.679705  0.607286   \n",
       "0       Quantile-U        Decision Tree  0.890187   0.731083  0.460727   \n",
       "0       Quantile-U        Random Forest  0.895702   0.772716  0.472064   \n",
       "0  Power Transform  Logistic Regression  0.893025   0.663586  0.627954   \n",
       "\n",
       "    ROC-AUC  \n",
       "0  0.676892  \n",
       "0  0.714861  \n",
       "0  0.750618  \n",
       "0  0.629997  \n",
       "0  0.714861  \n",
       "0  0.750666  \n",
       "0  0.629997  \n",
       "0  0.714861  \n",
       "0  0.750666  \n",
       "0  0.677199  \n",
       "0  0.714861  \n",
       "0  0.709292  \n",
       "0  0.776996  \n",
       "0  0.714861  \n",
       "0  0.725852  \n",
       "0  0.777441  \n",
       "0  0.714861  \n",
       "0  0.722899  \n",
       "0  0.784804  "
      ]
     },
     "execution_count": 137,
     "metadata": {},
     "output_type": "execute_result"
    }
   ],
   "source": [
    "# Storing results in a dataframe\n",
    "tempResultsDf = pd.DataFrame({'Scaling':['Power Transform'],'Model':['Logistic Regression'], \n",
    "                          'Accuracy': [np.mean(accuracy)], 'Precision': [np.mean(precision)],\n",
    "                          'Recall':[np.mean(recall)],'ROC-AUC':[np.mean(roc_auc)]})\n",
    "resultsDf = pd.concat([resultsDf, tempResultsDf])\n",
    "resultsDf = resultsDf[['Scaling','Model', 'Accuracy', 'Precision','Recall','ROC-AUC']]\n",
    "resultsDf"
   ]
  },
  {
   "cell_type": "markdown",
   "metadata": {},
   "source": [
    "## Decision Tree"
   ]
  },
  {
   "cell_type": "code",
   "execution_count": 138,
   "metadata": {},
   "outputs": [],
   "source": [
    "DT = DecisionTreeClassifier()"
   ]
  },
  {
   "cell_type": "code",
   "execution_count": 139,
   "metadata": {},
   "outputs": [
    {
     "data": {
      "text/plain": [
       "GridSearchCV(cv=3, error_score='raise-deprecating',\n",
       "       estimator=DecisionTreeClassifier(class_weight=None, criterion='gini', max_depth=None,\n",
       "            max_features=None, max_leaf_nodes=None,\n",
       "            min_impurity_decrease=0.0, min_impurity_split=None,\n",
       "            min_samples_leaf=1, min_samples_split=2,\n",
       "            min_weight_fraction_leaf=0.0, presort=False, random_state=None,\n",
       "            splitter='best'),\n",
       "       fit_params=None, iid='warn', n_jobs=None,\n",
       "       param_grid={'max_depth': array([1, 2, 3, 4, 5, 6, 7, 8, 9])},\n",
       "       pre_dispatch='2*n_jobs', refit=True, return_train_score='warn',\n",
       "       scoring=None, verbose=0)"
      ]
     },
     "execution_count": 139,
     "metadata": {},
     "output_type": "execute_result"
    }
   ],
   "source": [
    "parameter ={'max_depth':np.arange(1,10)}\n",
    "GS=GridSearchCV(DT,parameter,cv=3)\n",
    "GS.fit(X,Y)"
   ]
  },
  {
   "cell_type": "code",
   "execution_count": 140,
   "metadata": {},
   "outputs": [
    {
     "data": {
      "text/plain": [
       "{'max_depth': 2}"
      ]
     },
     "execution_count": 140,
     "metadata": {},
     "output_type": "execute_result"
    }
   ],
   "source": [
    "GS.best_params_"
   ]
  },
  {
   "cell_type": "code",
   "execution_count": 141,
   "metadata": {},
   "outputs": [],
   "source": [
    "DT = DecisionTreeClassifier(max_depth=2)"
   ]
  },
  {
   "cell_type": "markdown",
   "metadata": {},
   "source": [
    "###  K Fold Cross Validation"
   ]
  },
  {
   "cell_type": "code",
   "execution_count": 142,
   "metadata": {},
   "outputs": [],
   "source": [
    "kf = KFold(n_splits=5,shuffle=True,random_state=0)"
   ]
  },
  {
   "cell_type": "code",
   "execution_count": 143,
   "metadata": {},
   "outputs": [
    {
     "name": "stdout",
     "output_type": "stream",
     "text": [
      " Accuracy: 0.89  Precision: 0.73  Recall: 0.46  ROC-AOC: 0.71\n"
     ]
    }
   ],
   "source": [
    "precision=[]\n",
    "recall  =[]\n",
    "roc_auc = []\n",
    "accuracy=[]\n",
    "for train,test in kf.split(X,Y):\n",
    "    xtrain,xtest=X.iloc[train,:],X.iloc[test,:]\n",
    "    ytrain,ytest=Y.iloc[train],Y.iloc[test]\n",
    "    DT.fit(xtrain,ytrain)\n",
    "    y_predict = DT.predict(xtest)\n",
    "    precision.append(metrics.precision_score(ytest,y_predict))\n",
    "    recall.append(metrics.recall_score(ytest,y_predict))\n",
    "    fpr,tpr,_=metrics.roc_curve(ytest,y_predict)\n",
    "    roc_auc.append(metrics.auc(fpr,tpr))\n",
    "    accuracy.append(metrics.accuracy_score(ytest,y_predict))\n",
    "print(' Accuracy: %0.02f  Precision: %0.02f  Recall: %0.02f  ROC-AOC: %0.02F'\n",
    "      %(np.mean(accuracy),np.mean(precision),np.mean(recall),np.mean(roc_auc)))"
   ]
  },
  {
   "cell_type": "code",
   "execution_count": 144,
   "metadata": {},
   "outputs": [
    {
     "data": {
      "text/html": [
       "<div>\n",
       "<style scoped>\n",
       "    .dataframe tbody tr th:only-of-type {\n",
       "        vertical-align: middle;\n",
       "    }\n",
       "\n",
       "    .dataframe tbody tr th {\n",
       "        vertical-align: top;\n",
       "    }\n",
       "\n",
       "    .dataframe thead th {\n",
       "        text-align: right;\n",
       "    }\n",
       "</style>\n",
       "<table border=\"1\" class=\"dataframe\">\n",
       "  <thead>\n",
       "    <tr style=\"text-align: right;\">\n",
       "      <th></th>\n",
       "      <th>Scaling</th>\n",
       "      <th>Model</th>\n",
       "      <th>Accuracy</th>\n",
       "      <th>Precision</th>\n",
       "      <th>Recall</th>\n",
       "      <th>ROC-AUC</th>\n",
       "    </tr>\n",
       "  </thead>\n",
       "  <tbody>\n",
       "    <tr>\n",
       "      <th>0</th>\n",
       "      <td>Standard</td>\n",
       "      <td>Logistic Regression</td>\n",
       "      <td>0.884509</td>\n",
       "      <td>0.753793</td>\n",
       "      <td>0.376252</td>\n",
       "      <td>0.676892</td>\n",
       "    </tr>\n",
       "    <tr>\n",
       "      <th>0</th>\n",
       "      <td>Standard</td>\n",
       "      <td>Decision Tree</td>\n",
       "      <td>0.890187</td>\n",
       "      <td>0.731083</td>\n",
       "      <td>0.460727</td>\n",
       "      <td>0.714861</td>\n",
       "    </tr>\n",
       "    <tr>\n",
       "      <th>0</th>\n",
       "      <td>Standard</td>\n",
       "      <td>Random Forest</td>\n",
       "      <td>0.894809</td>\n",
       "      <td>0.719285</td>\n",
       "      <td>0.541100</td>\n",
       "      <td>0.750618</td>\n",
       "    </tr>\n",
       "    <tr>\n",
       "      <th>0</th>\n",
       "      <td>MinMax</td>\n",
       "      <td>Logistic Regression</td>\n",
       "      <td>0.875020</td>\n",
       "      <td>0.768471</td>\n",
       "      <td>0.275069</td>\n",
       "      <td>0.629997</td>\n",
       "    </tr>\n",
       "    <tr>\n",
       "      <th>0</th>\n",
       "      <td>MinMax</td>\n",
       "      <td>Decision Tree</td>\n",
       "      <td>0.890187</td>\n",
       "      <td>0.731083</td>\n",
       "      <td>0.460727</td>\n",
       "      <td>0.714861</td>\n",
       "    </tr>\n",
       "    <tr>\n",
       "      <th>0</th>\n",
       "      <td>MinMax</td>\n",
       "      <td>Random Forest</td>\n",
       "      <td>0.894891</td>\n",
       "      <td>0.719843</td>\n",
       "      <td>0.541100</td>\n",
       "      <td>0.750666</td>\n",
       "    </tr>\n",
       "    <tr>\n",
       "      <th>0</th>\n",
       "      <td>MaxAbs</td>\n",
       "      <td>Logistic Regression</td>\n",
       "      <td>0.875020</td>\n",
       "      <td>0.768471</td>\n",
       "      <td>0.275069</td>\n",
       "      <td>0.629997</td>\n",
       "    </tr>\n",
       "    <tr>\n",
       "      <th>0</th>\n",
       "      <td>MaxABS</td>\n",
       "      <td>Decision Tree</td>\n",
       "      <td>0.890187</td>\n",
       "      <td>0.731083</td>\n",
       "      <td>0.460727</td>\n",
       "      <td>0.714861</td>\n",
       "    </tr>\n",
       "    <tr>\n",
       "      <th>0</th>\n",
       "      <td>MaxABS</td>\n",
       "      <td>Random Forest</td>\n",
       "      <td>0.894891</td>\n",
       "      <td>0.719843</td>\n",
       "      <td>0.541100</td>\n",
       "      <td>0.750666</td>\n",
       "    </tr>\n",
       "    <tr>\n",
       "      <th>0</th>\n",
       "      <td>Robust</td>\n",
       "      <td>Logistic Regression</td>\n",
       "      <td>0.884672</td>\n",
       "      <td>0.754878</td>\n",
       "      <td>0.376770</td>\n",
       "      <td>0.677199</td>\n",
       "    </tr>\n",
       "    <tr>\n",
       "      <th>0</th>\n",
       "      <td>Robust</td>\n",
       "      <td>Decision Tree</td>\n",
       "      <td>0.890187</td>\n",
       "      <td>0.731083</td>\n",
       "      <td>0.460727</td>\n",
       "      <td>0.714861</td>\n",
       "    </tr>\n",
       "    <tr>\n",
       "      <th>0</th>\n",
       "      <td>Robust</td>\n",
       "      <td>Random Forest</td>\n",
       "      <td>0.890268</td>\n",
       "      <td>0.755992</td>\n",
       "      <td>0.446261</td>\n",
       "      <td>0.709292</td>\n",
       "    </tr>\n",
       "    <tr>\n",
       "      <th>0</th>\n",
       "      <td>Quantile-N</td>\n",
       "      <td>Logistic Regression</td>\n",
       "      <td>0.893755</td>\n",
       "      <td>0.673889</td>\n",
       "      <td>0.607714</td>\n",
       "      <td>0.776996</td>\n",
       "    </tr>\n",
       "    <tr>\n",
       "      <th>0</th>\n",
       "      <td>Quantile-N</td>\n",
       "      <td>Decision Tree</td>\n",
       "      <td>0.890187</td>\n",
       "      <td>0.731083</td>\n",
       "      <td>0.460727</td>\n",
       "      <td>0.714861</td>\n",
       "    </tr>\n",
       "    <tr>\n",
       "      <th>0</th>\n",
       "      <td>Quantile-N</td>\n",
       "      <td>Random Forest</td>\n",
       "      <td>0.897405</td>\n",
       "      <td>0.778490</td>\n",
       "      <td>0.477129</td>\n",
       "      <td>0.725852</td>\n",
       "    </tr>\n",
       "    <tr>\n",
       "      <th>0</th>\n",
       "      <td>Quantile-U</td>\n",
       "      <td>Logistic Regression</td>\n",
       "      <td>0.894891</td>\n",
       "      <td>0.679705</td>\n",
       "      <td>0.607286</td>\n",
       "      <td>0.777441</td>\n",
       "    </tr>\n",
       "    <tr>\n",
       "      <th>0</th>\n",
       "      <td>Quantile-U</td>\n",
       "      <td>Decision Tree</td>\n",
       "      <td>0.890187</td>\n",
       "      <td>0.731083</td>\n",
       "      <td>0.460727</td>\n",
       "      <td>0.714861</td>\n",
       "    </tr>\n",
       "    <tr>\n",
       "      <th>0</th>\n",
       "      <td>Quantile-U</td>\n",
       "      <td>Random Forest</td>\n",
       "      <td>0.895702</td>\n",
       "      <td>0.772716</td>\n",
       "      <td>0.472064</td>\n",
       "      <td>0.722899</td>\n",
       "    </tr>\n",
       "    <tr>\n",
       "      <th>0</th>\n",
       "      <td>Power Transform</td>\n",
       "      <td>Logistic Regression</td>\n",
       "      <td>0.893025</td>\n",
       "      <td>0.663586</td>\n",
       "      <td>0.627954</td>\n",
       "      <td>0.784804</td>\n",
       "    </tr>\n",
       "    <tr>\n",
       "      <th>0</th>\n",
       "      <td>Power Transform</td>\n",
       "      <td>Decision Tree</td>\n",
       "      <td>0.890187</td>\n",
       "      <td>0.731083</td>\n",
       "      <td>0.460727</td>\n",
       "      <td>0.714861</td>\n",
       "    </tr>\n",
       "  </tbody>\n",
       "</table>\n",
       "</div>"
      ],
      "text/plain": [
       "           Scaling                Model  Accuracy  Precision    Recall  \\\n",
       "0         Standard  Logistic Regression  0.884509   0.753793  0.376252   \n",
       "0         Standard        Decision Tree  0.890187   0.731083  0.460727   \n",
       "0         Standard        Random Forest  0.894809   0.719285  0.541100   \n",
       "0           MinMax  Logistic Regression  0.875020   0.768471  0.275069   \n",
       "0           MinMax        Decision Tree  0.890187   0.731083  0.460727   \n",
       "0           MinMax        Random Forest  0.894891   0.719843  0.541100   \n",
       "0           MaxAbs  Logistic Regression  0.875020   0.768471  0.275069   \n",
       "0           MaxABS        Decision Tree  0.890187   0.731083  0.460727   \n",
       "0           MaxABS        Random Forest  0.894891   0.719843  0.541100   \n",
       "0           Robust  Logistic Regression  0.884672   0.754878  0.376770   \n",
       "0           Robust        Decision Tree  0.890187   0.731083  0.460727   \n",
       "0           Robust        Random Forest  0.890268   0.755992  0.446261   \n",
       "0       Quantile-N  Logistic Regression  0.893755   0.673889  0.607714   \n",
       "0       Quantile-N        Decision Tree  0.890187   0.731083  0.460727   \n",
       "0       Quantile-N        Random Forest  0.897405   0.778490  0.477129   \n",
       "0       Quantile-U  Logistic Regression  0.894891   0.679705  0.607286   \n",
       "0       Quantile-U        Decision Tree  0.890187   0.731083  0.460727   \n",
       "0       Quantile-U        Random Forest  0.895702   0.772716  0.472064   \n",
       "0  Power Transform  Logistic Regression  0.893025   0.663586  0.627954   \n",
       "0  Power Transform        Decision Tree  0.890187   0.731083  0.460727   \n",
       "\n",
       "    ROC-AUC  \n",
       "0  0.676892  \n",
       "0  0.714861  \n",
       "0  0.750618  \n",
       "0  0.629997  \n",
       "0  0.714861  \n",
       "0  0.750666  \n",
       "0  0.629997  \n",
       "0  0.714861  \n",
       "0  0.750666  \n",
       "0  0.677199  \n",
       "0  0.714861  \n",
       "0  0.709292  \n",
       "0  0.776996  \n",
       "0  0.714861  \n",
       "0  0.725852  \n",
       "0  0.777441  \n",
       "0  0.714861  \n",
       "0  0.722899  \n",
       "0  0.784804  \n",
       "0  0.714861  "
      ]
     },
     "execution_count": 144,
     "metadata": {},
     "output_type": "execute_result"
    }
   ],
   "source": [
    "# Storing results in a dataframe\n",
    "tempResultsDf = pd.DataFrame({'Scaling':['Power Transform'],'Model':['Decision Tree'], \n",
    "                          'Accuracy': [np.mean(accuracy)], 'Precision': [np.mean(precision)],\n",
    "                          'Recall':[np.mean(recall)],'ROC-AUC':[np.mean(roc_auc)]})\n",
    "resultsDf = pd.concat([resultsDf, tempResultsDf])\n",
    "resultsDf = resultsDf[['Scaling','Model', 'Accuracy', 'Precision','Recall','ROC-AUC']]\n",
    "resultsDf"
   ]
  },
  {
   "cell_type": "markdown",
   "metadata": {},
   "source": [
    "## Random Forest"
   ]
  },
  {
   "cell_type": "code",
   "execution_count": 145,
   "metadata": {},
   "outputs": [],
   "source": [
    "RT = RandomForestClassifier(random_state=0)"
   ]
  },
  {
   "cell_type": "code",
   "execution_count": 146,
   "metadata": {},
   "outputs": [
    {
     "data": {
      "text/plain": [
       "GridSearchCV(cv=3, error_score='raise-deprecating',\n",
       "       estimator=RandomForestClassifier(bootstrap=True, class_weight=None, criterion='gini',\n",
       "            max_depth=None, max_features='auto', max_leaf_nodes=None,\n",
       "            min_impurity_decrease=0.0, min_impurity_split=None,\n",
       "            min_samples_leaf=1, min_samples_split=2,\n",
       "            min_weight_fraction_leaf=0.0, n_estimators='warn', n_jobs=None,\n",
       "            oob_score=False, random_state=0, verbose=0, warm_start=False),\n",
       "       fit_params=None, iid='warn', n_jobs=None,\n",
       "       param_grid={'n_estimators': array([1, 2, 3, 4, 5, 6, 7, 8, 9]), 'max_depth': array([1, 2, 3, 4, 5, 6, 7, 8, 9])},\n",
       "       pre_dispatch='2*n_jobs', refit=True, return_train_score='warn',\n",
       "       scoring=None, verbose=0)"
      ]
     },
     "execution_count": 146,
     "metadata": {},
     "output_type": "execute_result"
    }
   ],
   "source": [
    "parameter ={'n_estimators':np.arange(1,10),'max_depth':np.arange(1,10)}\n",
    "GS=GridSearchCV(RT,parameter,cv=3)\n",
    "GS.fit(X,Y)"
   ]
  },
  {
   "cell_type": "code",
   "execution_count": 147,
   "metadata": {},
   "outputs": [
    {
     "data": {
      "text/plain": [
       "{'max_depth': 5, 'n_estimators': 8}"
      ]
     },
     "execution_count": 147,
     "metadata": {},
     "output_type": "execute_result"
    }
   ],
   "source": [
    "GS.best_params_"
   ]
  },
  {
   "cell_type": "code",
   "execution_count": 148,
   "metadata": {},
   "outputs": [],
   "source": [
    "RT = RandomForestClassifier(n_estimators=8,max_depth=5)"
   ]
  },
  {
   "cell_type": "markdown",
   "metadata": {},
   "source": [
    "###  K Fold Cross Validation"
   ]
  },
  {
   "cell_type": "code",
   "execution_count": 149,
   "metadata": {},
   "outputs": [],
   "source": [
    "kf = KFold(n_splits=5,shuffle=True,random_state=0)"
   ]
  },
  {
   "cell_type": "code",
   "execution_count": 150,
   "metadata": {},
   "outputs": [
    {
     "name": "stdout",
     "output_type": "stream",
     "text": [
      " Accuracy: 0.89  Precision: 0.77  Recall: 0.44  ROC-AOC: 0.71\n"
     ]
    }
   ],
   "source": [
    "precision=[]\n",
    "recall  =[]\n",
    "roc_auc = []\n",
    "accuracy=[]\n",
    "for train,test in kf.split(X,Y):\n",
    "    xtrain,xtest=X.iloc[train,:],X.iloc[test,:]\n",
    "    ytrain,ytest=Y.iloc[train],Y.iloc[test]\n",
    "    RT.fit(xtrain,ytrain)\n",
    "    y_predict = RT.predict(xtest)\n",
    "    precision.append(metrics.precision_score(ytest,y_predict))\n",
    "    recall.append(metrics.recall_score(ytest,y_predict))\n",
    "    fpr,tpr,_=metrics.roc_curve(ytest,y_predict)\n",
    "    roc_auc.append(metrics.auc(fpr,tpr))\n",
    "    accuracy.append(metrics.accuracy_score(ytest,y_predict))\n",
    "print(' Accuracy: %0.02f  Precision: %0.02f  Recall: %0.02f  ROC-AOC: %0.02F'\n",
    "      %(np.mean(accuracy),np.mean(precision),np.mean(recall),np.mean(roc_auc)))"
   ]
  },
  {
   "cell_type": "code",
   "execution_count": 151,
   "metadata": {},
   "outputs": [
    {
     "data": {
      "text/html": [
       "<div>\n",
       "<style scoped>\n",
       "    .dataframe tbody tr th:only-of-type {\n",
       "        vertical-align: middle;\n",
       "    }\n",
       "\n",
       "    .dataframe tbody tr th {\n",
       "        vertical-align: top;\n",
       "    }\n",
       "\n",
       "    .dataframe thead th {\n",
       "        text-align: right;\n",
       "    }\n",
       "</style>\n",
       "<table border=\"1\" class=\"dataframe\">\n",
       "  <thead>\n",
       "    <tr style=\"text-align: right;\">\n",
       "      <th></th>\n",
       "      <th>Scaling</th>\n",
       "      <th>Model</th>\n",
       "      <th>Accuracy</th>\n",
       "      <th>Precision</th>\n",
       "      <th>Recall</th>\n",
       "      <th>ROC-AUC</th>\n",
       "    </tr>\n",
       "  </thead>\n",
       "  <tbody>\n",
       "    <tr>\n",
       "      <th>0</th>\n",
       "      <td>Standard</td>\n",
       "      <td>Logistic Regression</td>\n",
       "      <td>0.884509</td>\n",
       "      <td>0.753793</td>\n",
       "      <td>0.376252</td>\n",
       "      <td>0.676892</td>\n",
       "    </tr>\n",
       "    <tr>\n",
       "      <th>0</th>\n",
       "      <td>Standard</td>\n",
       "      <td>Decision Tree</td>\n",
       "      <td>0.890187</td>\n",
       "      <td>0.731083</td>\n",
       "      <td>0.460727</td>\n",
       "      <td>0.714861</td>\n",
       "    </tr>\n",
       "    <tr>\n",
       "      <th>0</th>\n",
       "      <td>Standard</td>\n",
       "      <td>Random Forest</td>\n",
       "      <td>0.894809</td>\n",
       "      <td>0.719285</td>\n",
       "      <td>0.541100</td>\n",
       "      <td>0.750618</td>\n",
       "    </tr>\n",
       "    <tr>\n",
       "      <th>0</th>\n",
       "      <td>MinMax</td>\n",
       "      <td>Logistic Regression</td>\n",
       "      <td>0.875020</td>\n",
       "      <td>0.768471</td>\n",
       "      <td>0.275069</td>\n",
       "      <td>0.629997</td>\n",
       "    </tr>\n",
       "    <tr>\n",
       "      <th>0</th>\n",
       "      <td>MinMax</td>\n",
       "      <td>Decision Tree</td>\n",
       "      <td>0.890187</td>\n",
       "      <td>0.731083</td>\n",
       "      <td>0.460727</td>\n",
       "      <td>0.714861</td>\n",
       "    </tr>\n",
       "    <tr>\n",
       "      <th>0</th>\n",
       "      <td>MinMax</td>\n",
       "      <td>Random Forest</td>\n",
       "      <td>0.894891</td>\n",
       "      <td>0.719843</td>\n",
       "      <td>0.541100</td>\n",
       "      <td>0.750666</td>\n",
       "    </tr>\n",
       "    <tr>\n",
       "      <th>0</th>\n",
       "      <td>MaxAbs</td>\n",
       "      <td>Logistic Regression</td>\n",
       "      <td>0.875020</td>\n",
       "      <td>0.768471</td>\n",
       "      <td>0.275069</td>\n",
       "      <td>0.629997</td>\n",
       "    </tr>\n",
       "    <tr>\n",
       "      <th>0</th>\n",
       "      <td>MaxABS</td>\n",
       "      <td>Decision Tree</td>\n",
       "      <td>0.890187</td>\n",
       "      <td>0.731083</td>\n",
       "      <td>0.460727</td>\n",
       "      <td>0.714861</td>\n",
       "    </tr>\n",
       "    <tr>\n",
       "      <th>0</th>\n",
       "      <td>MaxABS</td>\n",
       "      <td>Random Forest</td>\n",
       "      <td>0.894891</td>\n",
       "      <td>0.719843</td>\n",
       "      <td>0.541100</td>\n",
       "      <td>0.750666</td>\n",
       "    </tr>\n",
       "    <tr>\n",
       "      <th>0</th>\n",
       "      <td>Robust</td>\n",
       "      <td>Logistic Regression</td>\n",
       "      <td>0.884672</td>\n",
       "      <td>0.754878</td>\n",
       "      <td>0.376770</td>\n",
       "      <td>0.677199</td>\n",
       "    </tr>\n",
       "    <tr>\n",
       "      <th>0</th>\n",
       "      <td>Robust</td>\n",
       "      <td>Decision Tree</td>\n",
       "      <td>0.890187</td>\n",
       "      <td>0.731083</td>\n",
       "      <td>0.460727</td>\n",
       "      <td>0.714861</td>\n",
       "    </tr>\n",
       "    <tr>\n",
       "      <th>0</th>\n",
       "      <td>Robust</td>\n",
       "      <td>Random Forest</td>\n",
       "      <td>0.890268</td>\n",
       "      <td>0.755992</td>\n",
       "      <td>0.446261</td>\n",
       "      <td>0.709292</td>\n",
       "    </tr>\n",
       "    <tr>\n",
       "      <th>0</th>\n",
       "      <td>Quantile-N</td>\n",
       "      <td>Logistic Regression</td>\n",
       "      <td>0.893755</td>\n",
       "      <td>0.673889</td>\n",
       "      <td>0.607714</td>\n",
       "      <td>0.776996</td>\n",
       "    </tr>\n",
       "    <tr>\n",
       "      <th>0</th>\n",
       "      <td>Quantile-N</td>\n",
       "      <td>Decision Tree</td>\n",
       "      <td>0.890187</td>\n",
       "      <td>0.731083</td>\n",
       "      <td>0.460727</td>\n",
       "      <td>0.714861</td>\n",
       "    </tr>\n",
       "    <tr>\n",
       "      <th>0</th>\n",
       "      <td>Quantile-N</td>\n",
       "      <td>Random Forest</td>\n",
       "      <td>0.897405</td>\n",
       "      <td>0.778490</td>\n",
       "      <td>0.477129</td>\n",
       "      <td>0.725852</td>\n",
       "    </tr>\n",
       "    <tr>\n",
       "      <th>0</th>\n",
       "      <td>Quantile-U</td>\n",
       "      <td>Logistic Regression</td>\n",
       "      <td>0.894891</td>\n",
       "      <td>0.679705</td>\n",
       "      <td>0.607286</td>\n",
       "      <td>0.777441</td>\n",
       "    </tr>\n",
       "    <tr>\n",
       "      <th>0</th>\n",
       "      <td>Quantile-U</td>\n",
       "      <td>Decision Tree</td>\n",
       "      <td>0.890187</td>\n",
       "      <td>0.731083</td>\n",
       "      <td>0.460727</td>\n",
       "      <td>0.714861</td>\n",
       "    </tr>\n",
       "    <tr>\n",
       "      <th>0</th>\n",
       "      <td>Quantile-U</td>\n",
       "      <td>Random Forest</td>\n",
       "      <td>0.895702</td>\n",
       "      <td>0.772716</td>\n",
       "      <td>0.472064</td>\n",
       "      <td>0.722899</td>\n",
       "    </tr>\n",
       "    <tr>\n",
       "      <th>0</th>\n",
       "      <td>Power Transform</td>\n",
       "      <td>Logistic Regression</td>\n",
       "      <td>0.893025</td>\n",
       "      <td>0.663586</td>\n",
       "      <td>0.627954</td>\n",
       "      <td>0.784804</td>\n",
       "    </tr>\n",
       "    <tr>\n",
       "      <th>0</th>\n",
       "      <td>Power Transform</td>\n",
       "      <td>Decision Tree</td>\n",
       "      <td>0.890187</td>\n",
       "      <td>0.731083</td>\n",
       "      <td>0.460727</td>\n",
       "      <td>0.714861</td>\n",
       "    </tr>\n",
       "    <tr>\n",
       "      <th>0</th>\n",
       "      <td>Power Transform</td>\n",
       "      <td>Random Forest</td>\n",
       "      <td>0.891971</td>\n",
       "      <td>0.768811</td>\n",
       "      <td>0.437335</td>\n",
       "      <td>0.706317</td>\n",
       "    </tr>\n",
       "  </tbody>\n",
       "</table>\n",
       "</div>"
      ],
      "text/plain": [
       "           Scaling                Model  Accuracy  Precision    Recall  \\\n",
       "0         Standard  Logistic Regression  0.884509   0.753793  0.376252   \n",
       "0         Standard        Decision Tree  0.890187   0.731083  0.460727   \n",
       "0         Standard        Random Forest  0.894809   0.719285  0.541100   \n",
       "0           MinMax  Logistic Regression  0.875020   0.768471  0.275069   \n",
       "0           MinMax        Decision Tree  0.890187   0.731083  0.460727   \n",
       "0           MinMax        Random Forest  0.894891   0.719843  0.541100   \n",
       "0           MaxAbs  Logistic Regression  0.875020   0.768471  0.275069   \n",
       "0           MaxABS        Decision Tree  0.890187   0.731083  0.460727   \n",
       "0           MaxABS        Random Forest  0.894891   0.719843  0.541100   \n",
       "0           Robust  Logistic Regression  0.884672   0.754878  0.376770   \n",
       "0           Robust        Decision Tree  0.890187   0.731083  0.460727   \n",
       "0           Robust        Random Forest  0.890268   0.755992  0.446261   \n",
       "0       Quantile-N  Logistic Regression  0.893755   0.673889  0.607714   \n",
       "0       Quantile-N        Decision Tree  0.890187   0.731083  0.460727   \n",
       "0       Quantile-N        Random Forest  0.897405   0.778490  0.477129   \n",
       "0       Quantile-U  Logistic Regression  0.894891   0.679705  0.607286   \n",
       "0       Quantile-U        Decision Tree  0.890187   0.731083  0.460727   \n",
       "0       Quantile-U        Random Forest  0.895702   0.772716  0.472064   \n",
       "0  Power Transform  Logistic Regression  0.893025   0.663586  0.627954   \n",
       "0  Power Transform        Decision Tree  0.890187   0.731083  0.460727   \n",
       "0  Power Transform        Random Forest  0.891971   0.768811  0.437335   \n",
       "\n",
       "    ROC-AUC  \n",
       "0  0.676892  \n",
       "0  0.714861  \n",
       "0  0.750618  \n",
       "0  0.629997  \n",
       "0  0.714861  \n",
       "0  0.750666  \n",
       "0  0.629997  \n",
       "0  0.714861  \n",
       "0  0.750666  \n",
       "0  0.677199  \n",
       "0  0.714861  \n",
       "0  0.709292  \n",
       "0  0.776996  \n",
       "0  0.714861  \n",
       "0  0.725852  \n",
       "0  0.777441  \n",
       "0  0.714861  \n",
       "0  0.722899  \n",
       "0  0.784804  \n",
       "0  0.714861  \n",
       "0  0.706317  "
      ]
     },
     "execution_count": 151,
     "metadata": {},
     "output_type": "execute_result"
    }
   ],
   "source": [
    "# Storing results in a dataframe\n",
    "tempResultsDf = pd.DataFrame({'Scaling':['Power Transform'],'Model':['Random Forest'], \n",
    "                          'Accuracy': [np.mean(accuracy)], 'Precision': [np.mean(precision)],\n",
    "                          'Recall':[np.mean(recall)],'ROC-AUC':[np.mean(roc_auc)]})\n",
    "resultsDf = pd.concat([resultsDf, tempResultsDf])\n",
    "resultsDf = resultsDf[['Scaling','Model', 'Accuracy', 'Precision','Recall','ROC-AUC']]\n",
    "resultsDf"
   ]
  },
  {
   "cell_type": "markdown",
   "metadata": {},
   "source": [
    "# Normalizer"
   ]
  },
  {
   "cell_type": "markdown",
   "metadata": {},
   "source": [
    "## Logistic Regression"
   ]
  },
  {
   "cell_type": "code",
   "execution_count": 152,
   "metadata": {},
   "outputs": [],
   "source": [
    "X = nm_data.drop('Revenue',axis=1)\n",
    "Y = data1.Revenue"
   ]
  },
  {
   "cell_type": "code",
   "execution_count": 153,
   "metadata": {},
   "outputs": [],
   "source": [
    "LR = LogisticRegression()"
   ]
  },
  {
   "cell_type": "markdown",
   "metadata": {},
   "source": [
    "###  K Fold Cross Validation"
   ]
  },
  {
   "cell_type": "code",
   "execution_count": 154,
   "metadata": {},
   "outputs": [],
   "source": [
    "kf = KFold(n_splits=5,shuffle=True,random_state=0)"
   ]
  },
  {
   "cell_type": "code",
   "execution_count": 155,
   "metadata": {},
   "outputs": [
    {
     "name": "stdout",
     "output_type": "stream",
     "text": [
      " Accuracy: 0.86  Precision: 0.90  Recall: 0.11  ROC-AOC: 0.55\n"
     ]
    }
   ],
   "source": [
    "precision=[]\n",
    "recall  =[]\n",
    "roc_auc = []\n",
    "accuracy=[]\n",
    "for train,test in kf.split(X,Y):\n",
    "    xtrain,xtest=X.iloc[train,:],X.iloc[test,:]\n",
    "    ytrain,ytest=Y.iloc[train],Y.iloc[test]\n",
    "    LR.fit(xtrain,ytrain)\n",
    "    y_predict = LR.predict(xtest)\n",
    "    precision.append(metrics.precision_score(ytest,y_predict))\n",
    "    recall.append(metrics.recall_score(ytest,y_predict))\n",
    "    fpr,tpr,_=metrics.roc_curve(ytest,y_predict)\n",
    "    roc_auc.append(metrics.auc(fpr,tpr))\n",
    "    accuracy.append(metrics.accuracy_score(ytest,y_predict))\n",
    "print(' Accuracy: %0.02f  Precision: %0.02f  Recall: %0.02f  ROC-AOC: %0.02F'\n",
    "      %(np.mean(accuracy),np.mean(precision),np.mean(recall),np.mean(roc_auc)))"
   ]
  },
  {
   "cell_type": "code",
   "execution_count": 156,
   "metadata": {},
   "outputs": [
    {
     "data": {
      "text/html": [
       "<div>\n",
       "<style scoped>\n",
       "    .dataframe tbody tr th:only-of-type {\n",
       "        vertical-align: middle;\n",
       "    }\n",
       "\n",
       "    .dataframe tbody tr th {\n",
       "        vertical-align: top;\n",
       "    }\n",
       "\n",
       "    .dataframe thead th {\n",
       "        text-align: right;\n",
       "    }\n",
       "</style>\n",
       "<table border=\"1\" class=\"dataframe\">\n",
       "  <thead>\n",
       "    <tr style=\"text-align: right;\">\n",
       "      <th></th>\n",
       "      <th>Scaling</th>\n",
       "      <th>Model</th>\n",
       "      <th>Accuracy</th>\n",
       "      <th>Precision</th>\n",
       "      <th>Recall</th>\n",
       "      <th>ROC-AUC</th>\n",
       "    </tr>\n",
       "  </thead>\n",
       "  <tbody>\n",
       "    <tr>\n",
       "      <th>0</th>\n",
       "      <td>Standard</td>\n",
       "      <td>Logistic Regression</td>\n",
       "      <td>0.884509</td>\n",
       "      <td>0.753793</td>\n",
       "      <td>0.376252</td>\n",
       "      <td>0.676892</td>\n",
       "    </tr>\n",
       "    <tr>\n",
       "      <th>0</th>\n",
       "      <td>Standard</td>\n",
       "      <td>Decision Tree</td>\n",
       "      <td>0.890187</td>\n",
       "      <td>0.731083</td>\n",
       "      <td>0.460727</td>\n",
       "      <td>0.714861</td>\n",
       "    </tr>\n",
       "    <tr>\n",
       "      <th>0</th>\n",
       "      <td>Standard</td>\n",
       "      <td>Random Forest</td>\n",
       "      <td>0.894809</td>\n",
       "      <td>0.719285</td>\n",
       "      <td>0.541100</td>\n",
       "      <td>0.750618</td>\n",
       "    </tr>\n",
       "    <tr>\n",
       "      <th>0</th>\n",
       "      <td>MinMax</td>\n",
       "      <td>Logistic Regression</td>\n",
       "      <td>0.875020</td>\n",
       "      <td>0.768471</td>\n",
       "      <td>0.275069</td>\n",
       "      <td>0.629997</td>\n",
       "    </tr>\n",
       "    <tr>\n",
       "      <th>0</th>\n",
       "      <td>MinMax</td>\n",
       "      <td>Decision Tree</td>\n",
       "      <td>0.890187</td>\n",
       "      <td>0.731083</td>\n",
       "      <td>0.460727</td>\n",
       "      <td>0.714861</td>\n",
       "    </tr>\n",
       "    <tr>\n",
       "      <th>0</th>\n",
       "      <td>MinMax</td>\n",
       "      <td>Random Forest</td>\n",
       "      <td>0.894891</td>\n",
       "      <td>0.719843</td>\n",
       "      <td>0.541100</td>\n",
       "      <td>0.750666</td>\n",
       "    </tr>\n",
       "    <tr>\n",
       "      <th>0</th>\n",
       "      <td>MaxAbs</td>\n",
       "      <td>Logistic Regression</td>\n",
       "      <td>0.875020</td>\n",
       "      <td>0.768471</td>\n",
       "      <td>0.275069</td>\n",
       "      <td>0.629997</td>\n",
       "    </tr>\n",
       "    <tr>\n",
       "      <th>0</th>\n",
       "      <td>MaxABS</td>\n",
       "      <td>Decision Tree</td>\n",
       "      <td>0.890187</td>\n",
       "      <td>0.731083</td>\n",
       "      <td>0.460727</td>\n",
       "      <td>0.714861</td>\n",
       "    </tr>\n",
       "    <tr>\n",
       "      <th>0</th>\n",
       "      <td>MaxABS</td>\n",
       "      <td>Random Forest</td>\n",
       "      <td>0.894891</td>\n",
       "      <td>0.719843</td>\n",
       "      <td>0.541100</td>\n",
       "      <td>0.750666</td>\n",
       "    </tr>\n",
       "    <tr>\n",
       "      <th>0</th>\n",
       "      <td>Robust</td>\n",
       "      <td>Logistic Regression</td>\n",
       "      <td>0.884672</td>\n",
       "      <td>0.754878</td>\n",
       "      <td>0.376770</td>\n",
       "      <td>0.677199</td>\n",
       "    </tr>\n",
       "    <tr>\n",
       "      <th>0</th>\n",
       "      <td>Robust</td>\n",
       "      <td>Decision Tree</td>\n",
       "      <td>0.890187</td>\n",
       "      <td>0.731083</td>\n",
       "      <td>0.460727</td>\n",
       "      <td>0.714861</td>\n",
       "    </tr>\n",
       "    <tr>\n",
       "      <th>0</th>\n",
       "      <td>Robust</td>\n",
       "      <td>Random Forest</td>\n",
       "      <td>0.890268</td>\n",
       "      <td>0.755992</td>\n",
       "      <td>0.446261</td>\n",
       "      <td>0.709292</td>\n",
       "    </tr>\n",
       "    <tr>\n",
       "      <th>0</th>\n",
       "      <td>Quantile-N</td>\n",
       "      <td>Logistic Regression</td>\n",
       "      <td>0.893755</td>\n",
       "      <td>0.673889</td>\n",
       "      <td>0.607714</td>\n",
       "      <td>0.776996</td>\n",
       "    </tr>\n",
       "    <tr>\n",
       "      <th>0</th>\n",
       "      <td>Quantile-N</td>\n",
       "      <td>Decision Tree</td>\n",
       "      <td>0.890187</td>\n",
       "      <td>0.731083</td>\n",
       "      <td>0.460727</td>\n",
       "      <td>0.714861</td>\n",
       "    </tr>\n",
       "    <tr>\n",
       "      <th>0</th>\n",
       "      <td>Quantile-N</td>\n",
       "      <td>Random Forest</td>\n",
       "      <td>0.897405</td>\n",
       "      <td>0.778490</td>\n",
       "      <td>0.477129</td>\n",
       "      <td>0.725852</td>\n",
       "    </tr>\n",
       "    <tr>\n",
       "      <th>0</th>\n",
       "      <td>Quantile-U</td>\n",
       "      <td>Logistic Regression</td>\n",
       "      <td>0.894891</td>\n",
       "      <td>0.679705</td>\n",
       "      <td>0.607286</td>\n",
       "      <td>0.777441</td>\n",
       "    </tr>\n",
       "    <tr>\n",
       "      <th>0</th>\n",
       "      <td>Quantile-U</td>\n",
       "      <td>Decision Tree</td>\n",
       "      <td>0.890187</td>\n",
       "      <td>0.731083</td>\n",
       "      <td>0.460727</td>\n",
       "      <td>0.714861</td>\n",
       "    </tr>\n",
       "    <tr>\n",
       "      <th>0</th>\n",
       "      <td>Quantile-U</td>\n",
       "      <td>Random Forest</td>\n",
       "      <td>0.895702</td>\n",
       "      <td>0.772716</td>\n",
       "      <td>0.472064</td>\n",
       "      <td>0.722899</td>\n",
       "    </tr>\n",
       "    <tr>\n",
       "      <th>0</th>\n",
       "      <td>Power Transform</td>\n",
       "      <td>Logistic Regression</td>\n",
       "      <td>0.893025</td>\n",
       "      <td>0.663586</td>\n",
       "      <td>0.627954</td>\n",
       "      <td>0.784804</td>\n",
       "    </tr>\n",
       "    <tr>\n",
       "      <th>0</th>\n",
       "      <td>Power Transform</td>\n",
       "      <td>Decision Tree</td>\n",
       "      <td>0.890187</td>\n",
       "      <td>0.731083</td>\n",
       "      <td>0.460727</td>\n",
       "      <td>0.714861</td>\n",
       "    </tr>\n",
       "    <tr>\n",
       "      <th>0</th>\n",
       "      <td>Power Transform</td>\n",
       "      <td>Random Forest</td>\n",
       "      <td>0.891971</td>\n",
       "      <td>0.768811</td>\n",
       "      <td>0.437335</td>\n",
       "      <td>0.706317</td>\n",
       "    </tr>\n",
       "    <tr>\n",
       "      <th>0</th>\n",
       "      <td>Normalizer</td>\n",
       "      <td>Logistic Regression</td>\n",
       "      <td>0.859611</td>\n",
       "      <td>0.897099</td>\n",
       "      <td>0.105433</td>\n",
       "      <td>0.551560</td>\n",
       "    </tr>\n",
       "  </tbody>\n",
       "</table>\n",
       "</div>"
      ],
      "text/plain": [
       "           Scaling                Model  Accuracy  Precision    Recall  \\\n",
       "0         Standard  Logistic Regression  0.884509   0.753793  0.376252   \n",
       "0         Standard        Decision Tree  0.890187   0.731083  0.460727   \n",
       "0         Standard        Random Forest  0.894809   0.719285  0.541100   \n",
       "0           MinMax  Logistic Regression  0.875020   0.768471  0.275069   \n",
       "0           MinMax        Decision Tree  0.890187   0.731083  0.460727   \n",
       "0           MinMax        Random Forest  0.894891   0.719843  0.541100   \n",
       "0           MaxAbs  Logistic Regression  0.875020   0.768471  0.275069   \n",
       "0           MaxABS        Decision Tree  0.890187   0.731083  0.460727   \n",
       "0           MaxABS        Random Forest  0.894891   0.719843  0.541100   \n",
       "0           Robust  Logistic Regression  0.884672   0.754878  0.376770   \n",
       "0           Robust        Decision Tree  0.890187   0.731083  0.460727   \n",
       "0           Robust        Random Forest  0.890268   0.755992  0.446261   \n",
       "0       Quantile-N  Logistic Regression  0.893755   0.673889  0.607714   \n",
       "0       Quantile-N        Decision Tree  0.890187   0.731083  0.460727   \n",
       "0       Quantile-N        Random Forest  0.897405   0.778490  0.477129   \n",
       "0       Quantile-U  Logistic Regression  0.894891   0.679705  0.607286   \n",
       "0       Quantile-U        Decision Tree  0.890187   0.731083  0.460727   \n",
       "0       Quantile-U        Random Forest  0.895702   0.772716  0.472064   \n",
       "0  Power Transform  Logistic Regression  0.893025   0.663586  0.627954   \n",
       "0  Power Transform        Decision Tree  0.890187   0.731083  0.460727   \n",
       "0  Power Transform        Random Forest  0.891971   0.768811  0.437335   \n",
       "0       Normalizer  Logistic Regression  0.859611   0.897099  0.105433   \n",
       "\n",
       "    ROC-AUC  \n",
       "0  0.676892  \n",
       "0  0.714861  \n",
       "0  0.750618  \n",
       "0  0.629997  \n",
       "0  0.714861  \n",
       "0  0.750666  \n",
       "0  0.629997  \n",
       "0  0.714861  \n",
       "0  0.750666  \n",
       "0  0.677199  \n",
       "0  0.714861  \n",
       "0  0.709292  \n",
       "0  0.776996  \n",
       "0  0.714861  \n",
       "0  0.725852  \n",
       "0  0.777441  \n",
       "0  0.714861  \n",
       "0  0.722899  \n",
       "0  0.784804  \n",
       "0  0.714861  \n",
       "0  0.706317  \n",
       "0  0.551560  "
      ]
     },
     "execution_count": 156,
     "metadata": {},
     "output_type": "execute_result"
    }
   ],
   "source": [
    "# Storing results in a dataframe\n",
    "tempResultsDf = pd.DataFrame({'Scaling':['Normalizer'],'Model':['Logistic Regression'], \n",
    "                          'Accuracy': [np.mean(accuracy)], 'Precision': [np.mean(precision)],\n",
    "                          'Recall':[np.mean(recall)],'ROC-AUC':[np.mean(roc_auc)]})\n",
    "resultsDf = pd.concat([resultsDf, tempResultsDf])\n",
    "resultsDf = resultsDf[['Scaling','Model', 'Accuracy', 'Precision','Recall','ROC-AUC']]\n",
    "resultsDf"
   ]
  },
  {
   "cell_type": "markdown",
   "metadata": {},
   "source": [
    "## Decision Tree"
   ]
  },
  {
   "cell_type": "code",
   "execution_count": 157,
   "metadata": {},
   "outputs": [],
   "source": [
    "DT = DecisionTreeClassifier()"
   ]
  },
  {
   "cell_type": "code",
   "execution_count": 158,
   "metadata": {},
   "outputs": [
    {
     "data": {
      "text/plain": [
       "GridSearchCV(cv=3, error_score='raise-deprecating',\n",
       "       estimator=DecisionTreeClassifier(class_weight=None, criterion='gini', max_depth=None,\n",
       "            max_features=None, max_leaf_nodes=None,\n",
       "            min_impurity_decrease=0.0, min_impurity_split=None,\n",
       "            min_samples_leaf=1, min_samples_split=2,\n",
       "            min_weight_fraction_leaf=0.0, presort=False, random_state=None,\n",
       "            splitter='best'),\n",
       "       fit_params=None, iid='warn', n_jobs=None,\n",
       "       param_grid={'max_depth': array([1, 2, 3, 4, 5, 6, 7, 8, 9])},\n",
       "       pre_dispatch='2*n_jobs', refit=True, return_train_score='warn',\n",
       "       scoring=None, verbose=0)"
      ]
     },
     "execution_count": 158,
     "metadata": {},
     "output_type": "execute_result"
    }
   ],
   "source": [
    "parameter ={'max_depth':np.arange(1,10)}\n",
    "GS=GridSearchCV(DT,parameter,cv=3)\n",
    "GS.fit(X,Y)"
   ]
  },
  {
   "cell_type": "code",
   "execution_count": 159,
   "metadata": {},
   "outputs": [
    {
     "data": {
      "text/plain": [
       "{'max_depth': 1}"
      ]
     },
     "execution_count": 159,
     "metadata": {},
     "output_type": "execute_result"
    }
   ],
   "source": [
    "GS.best_params_"
   ]
  },
  {
   "cell_type": "code",
   "execution_count": 160,
   "metadata": {},
   "outputs": [],
   "source": [
    "DT = DecisionTreeClassifier(max_depth=1)"
   ]
  },
  {
   "cell_type": "markdown",
   "metadata": {},
   "source": [
    "###  K Fold Cross Validation"
   ]
  },
  {
   "cell_type": "code",
   "execution_count": 161,
   "metadata": {},
   "outputs": [],
   "source": [
    "kf = KFold(n_splits=5,shuffle=True,random_state=0)"
   ]
  },
  {
   "cell_type": "code",
   "execution_count": 162,
   "metadata": {},
   "outputs": [
    {
     "name": "stdout",
     "output_type": "stream",
     "text": [
      " Accuracy: 0.87 Precision: 0.56  Recall: 0.80  ROC-AOC: 0.84\n"
     ]
    }
   ],
   "source": [
    "precision=[]\n",
    "recall  =[]\n",
    "accuracy=[]\n",
    "roc_auc = []\n",
    "for train,test in kf.split(X,Y):\n",
    "    xtrain,xtest=X.iloc[train,:],X.iloc[test,:]\n",
    "    ytrain,ytest=Y.iloc[train],Y.iloc[test]\n",
    "    DT.fit(xtrain,ytrain)\n",
    "    y_predict = DT.predict(xtest)\n",
    "    precision.append(metrics.precision_score(ytest,y_predict))\n",
    "    recall.append(metrics.recall_score(ytest,y_predict))\n",
    "    fpr,tpr,_=metrics.roc_curve(ytest,y_predict)\n",
    "    roc_auc.append(metrics.auc(fpr,tpr))\n",
    "    accuracy.append(metrics.accuracy_score(ytest,y_predict))\n",
    "print(' Accuracy: %0.02f Precision: %0.02f  Recall: %0.02f  ROC-AOC: %0.02F'\n",
    "      %(np.mean(accuracy),np.mean(precision),np.mean(recall),np.mean(roc_auc)))"
   ]
  },
  {
   "cell_type": "code",
   "execution_count": 163,
   "metadata": {},
   "outputs": [
    {
     "data": {
      "text/html": [
       "<div>\n",
       "<style scoped>\n",
       "    .dataframe tbody tr th:only-of-type {\n",
       "        vertical-align: middle;\n",
       "    }\n",
       "\n",
       "    .dataframe tbody tr th {\n",
       "        vertical-align: top;\n",
       "    }\n",
       "\n",
       "    .dataframe thead th {\n",
       "        text-align: right;\n",
       "    }\n",
       "</style>\n",
       "<table border=\"1\" class=\"dataframe\">\n",
       "  <thead>\n",
       "    <tr style=\"text-align: right;\">\n",
       "      <th></th>\n",
       "      <th>Scaling</th>\n",
       "      <th>Model</th>\n",
       "      <th>Accuracy</th>\n",
       "      <th>Precision</th>\n",
       "      <th>Recall</th>\n",
       "      <th>ROC-AUC</th>\n",
       "    </tr>\n",
       "  </thead>\n",
       "  <tbody>\n",
       "    <tr>\n",
       "      <th>0</th>\n",
       "      <td>Standard</td>\n",
       "      <td>Logistic Regression</td>\n",
       "      <td>0.884509</td>\n",
       "      <td>0.753793</td>\n",
       "      <td>0.376252</td>\n",
       "      <td>0.676892</td>\n",
       "    </tr>\n",
       "    <tr>\n",
       "      <th>0</th>\n",
       "      <td>Standard</td>\n",
       "      <td>Decision Tree</td>\n",
       "      <td>0.890187</td>\n",
       "      <td>0.731083</td>\n",
       "      <td>0.460727</td>\n",
       "      <td>0.714861</td>\n",
       "    </tr>\n",
       "    <tr>\n",
       "      <th>0</th>\n",
       "      <td>Standard</td>\n",
       "      <td>Random Forest</td>\n",
       "      <td>0.894809</td>\n",
       "      <td>0.719285</td>\n",
       "      <td>0.541100</td>\n",
       "      <td>0.750618</td>\n",
       "    </tr>\n",
       "    <tr>\n",
       "      <th>0</th>\n",
       "      <td>MinMax</td>\n",
       "      <td>Logistic Regression</td>\n",
       "      <td>0.875020</td>\n",
       "      <td>0.768471</td>\n",
       "      <td>0.275069</td>\n",
       "      <td>0.629997</td>\n",
       "    </tr>\n",
       "    <tr>\n",
       "      <th>0</th>\n",
       "      <td>MinMax</td>\n",
       "      <td>Decision Tree</td>\n",
       "      <td>0.890187</td>\n",
       "      <td>0.731083</td>\n",
       "      <td>0.460727</td>\n",
       "      <td>0.714861</td>\n",
       "    </tr>\n",
       "    <tr>\n",
       "      <th>0</th>\n",
       "      <td>MinMax</td>\n",
       "      <td>Random Forest</td>\n",
       "      <td>0.894891</td>\n",
       "      <td>0.719843</td>\n",
       "      <td>0.541100</td>\n",
       "      <td>0.750666</td>\n",
       "    </tr>\n",
       "    <tr>\n",
       "      <th>0</th>\n",
       "      <td>MaxAbs</td>\n",
       "      <td>Logistic Regression</td>\n",
       "      <td>0.875020</td>\n",
       "      <td>0.768471</td>\n",
       "      <td>0.275069</td>\n",
       "      <td>0.629997</td>\n",
       "    </tr>\n",
       "    <tr>\n",
       "      <th>0</th>\n",
       "      <td>MaxABS</td>\n",
       "      <td>Decision Tree</td>\n",
       "      <td>0.890187</td>\n",
       "      <td>0.731083</td>\n",
       "      <td>0.460727</td>\n",
       "      <td>0.714861</td>\n",
       "    </tr>\n",
       "    <tr>\n",
       "      <th>0</th>\n",
       "      <td>MaxABS</td>\n",
       "      <td>Random Forest</td>\n",
       "      <td>0.894891</td>\n",
       "      <td>0.719843</td>\n",
       "      <td>0.541100</td>\n",
       "      <td>0.750666</td>\n",
       "    </tr>\n",
       "    <tr>\n",
       "      <th>0</th>\n",
       "      <td>Robust</td>\n",
       "      <td>Logistic Regression</td>\n",
       "      <td>0.884672</td>\n",
       "      <td>0.754878</td>\n",
       "      <td>0.376770</td>\n",
       "      <td>0.677199</td>\n",
       "    </tr>\n",
       "    <tr>\n",
       "      <th>0</th>\n",
       "      <td>Robust</td>\n",
       "      <td>Decision Tree</td>\n",
       "      <td>0.890187</td>\n",
       "      <td>0.731083</td>\n",
       "      <td>0.460727</td>\n",
       "      <td>0.714861</td>\n",
       "    </tr>\n",
       "    <tr>\n",
       "      <th>0</th>\n",
       "      <td>Robust</td>\n",
       "      <td>Random Forest</td>\n",
       "      <td>0.890268</td>\n",
       "      <td>0.755992</td>\n",
       "      <td>0.446261</td>\n",
       "      <td>0.709292</td>\n",
       "    </tr>\n",
       "    <tr>\n",
       "      <th>0</th>\n",
       "      <td>Quantile-N</td>\n",
       "      <td>Logistic Regression</td>\n",
       "      <td>0.893755</td>\n",
       "      <td>0.673889</td>\n",
       "      <td>0.607714</td>\n",
       "      <td>0.776996</td>\n",
       "    </tr>\n",
       "    <tr>\n",
       "      <th>0</th>\n",
       "      <td>Quantile-N</td>\n",
       "      <td>Decision Tree</td>\n",
       "      <td>0.890187</td>\n",
       "      <td>0.731083</td>\n",
       "      <td>0.460727</td>\n",
       "      <td>0.714861</td>\n",
       "    </tr>\n",
       "    <tr>\n",
       "      <th>0</th>\n",
       "      <td>Quantile-N</td>\n",
       "      <td>Random Forest</td>\n",
       "      <td>0.897405</td>\n",
       "      <td>0.778490</td>\n",
       "      <td>0.477129</td>\n",
       "      <td>0.725852</td>\n",
       "    </tr>\n",
       "    <tr>\n",
       "      <th>0</th>\n",
       "      <td>Quantile-U</td>\n",
       "      <td>Logistic Regression</td>\n",
       "      <td>0.894891</td>\n",
       "      <td>0.679705</td>\n",
       "      <td>0.607286</td>\n",
       "      <td>0.777441</td>\n",
       "    </tr>\n",
       "    <tr>\n",
       "      <th>0</th>\n",
       "      <td>Quantile-U</td>\n",
       "      <td>Decision Tree</td>\n",
       "      <td>0.890187</td>\n",
       "      <td>0.731083</td>\n",
       "      <td>0.460727</td>\n",
       "      <td>0.714861</td>\n",
       "    </tr>\n",
       "    <tr>\n",
       "      <th>0</th>\n",
       "      <td>Quantile-U</td>\n",
       "      <td>Random Forest</td>\n",
       "      <td>0.895702</td>\n",
       "      <td>0.772716</td>\n",
       "      <td>0.472064</td>\n",
       "      <td>0.722899</td>\n",
       "    </tr>\n",
       "    <tr>\n",
       "      <th>0</th>\n",
       "      <td>Power Transform</td>\n",
       "      <td>Logistic Regression</td>\n",
       "      <td>0.893025</td>\n",
       "      <td>0.663586</td>\n",
       "      <td>0.627954</td>\n",
       "      <td>0.784804</td>\n",
       "    </tr>\n",
       "    <tr>\n",
       "      <th>0</th>\n",
       "      <td>Power Transform</td>\n",
       "      <td>Decision Tree</td>\n",
       "      <td>0.890187</td>\n",
       "      <td>0.731083</td>\n",
       "      <td>0.460727</td>\n",
       "      <td>0.714861</td>\n",
       "    </tr>\n",
       "    <tr>\n",
       "      <th>0</th>\n",
       "      <td>Power Transform</td>\n",
       "      <td>Random Forest</td>\n",
       "      <td>0.891971</td>\n",
       "      <td>0.768811</td>\n",
       "      <td>0.437335</td>\n",
       "      <td>0.706317</td>\n",
       "    </tr>\n",
       "    <tr>\n",
       "      <th>0</th>\n",
       "      <td>Normalizer</td>\n",
       "      <td>Logistic Regression</td>\n",
       "      <td>0.859611</td>\n",
       "      <td>0.897099</td>\n",
       "      <td>0.105433</td>\n",
       "      <td>0.551560</td>\n",
       "    </tr>\n",
       "    <tr>\n",
       "      <th>0</th>\n",
       "      <td>Normalizer</td>\n",
       "      <td>Decision Tree</td>\n",
       "      <td>0.873723</td>\n",
       "      <td>0.564659</td>\n",
       "      <td>0.801836</td>\n",
       "      <td>0.844407</td>\n",
       "    </tr>\n",
       "  </tbody>\n",
       "</table>\n",
       "</div>"
      ],
      "text/plain": [
       "           Scaling                Model  Accuracy  Precision    Recall  \\\n",
       "0         Standard  Logistic Regression  0.884509   0.753793  0.376252   \n",
       "0         Standard        Decision Tree  0.890187   0.731083  0.460727   \n",
       "0         Standard        Random Forest  0.894809   0.719285  0.541100   \n",
       "0           MinMax  Logistic Regression  0.875020   0.768471  0.275069   \n",
       "0           MinMax        Decision Tree  0.890187   0.731083  0.460727   \n",
       "0           MinMax        Random Forest  0.894891   0.719843  0.541100   \n",
       "0           MaxAbs  Logistic Regression  0.875020   0.768471  0.275069   \n",
       "0           MaxABS        Decision Tree  0.890187   0.731083  0.460727   \n",
       "0           MaxABS        Random Forest  0.894891   0.719843  0.541100   \n",
       "0           Robust  Logistic Regression  0.884672   0.754878  0.376770   \n",
       "0           Robust        Decision Tree  0.890187   0.731083  0.460727   \n",
       "0           Robust        Random Forest  0.890268   0.755992  0.446261   \n",
       "0       Quantile-N  Logistic Regression  0.893755   0.673889  0.607714   \n",
       "0       Quantile-N        Decision Tree  0.890187   0.731083  0.460727   \n",
       "0       Quantile-N        Random Forest  0.897405   0.778490  0.477129   \n",
       "0       Quantile-U  Logistic Regression  0.894891   0.679705  0.607286   \n",
       "0       Quantile-U        Decision Tree  0.890187   0.731083  0.460727   \n",
       "0       Quantile-U        Random Forest  0.895702   0.772716  0.472064   \n",
       "0  Power Transform  Logistic Regression  0.893025   0.663586  0.627954   \n",
       "0  Power Transform        Decision Tree  0.890187   0.731083  0.460727   \n",
       "0  Power Transform        Random Forest  0.891971   0.768811  0.437335   \n",
       "0       Normalizer  Logistic Regression  0.859611   0.897099  0.105433   \n",
       "0       Normalizer        Decision Tree  0.873723   0.564659  0.801836   \n",
       "\n",
       "    ROC-AUC  \n",
       "0  0.676892  \n",
       "0  0.714861  \n",
       "0  0.750618  \n",
       "0  0.629997  \n",
       "0  0.714861  \n",
       "0  0.750666  \n",
       "0  0.629997  \n",
       "0  0.714861  \n",
       "0  0.750666  \n",
       "0  0.677199  \n",
       "0  0.714861  \n",
       "0  0.709292  \n",
       "0  0.776996  \n",
       "0  0.714861  \n",
       "0  0.725852  \n",
       "0  0.777441  \n",
       "0  0.714861  \n",
       "0  0.722899  \n",
       "0  0.784804  \n",
       "0  0.714861  \n",
       "0  0.706317  \n",
       "0  0.551560  \n",
       "0  0.844407  "
      ]
     },
     "execution_count": 163,
     "metadata": {},
     "output_type": "execute_result"
    }
   ],
   "source": [
    "# Storing results in a dataframe\n",
    "tempResultsDf = pd.DataFrame({'Scaling':['Normalizer'],'Model':['Decision Tree'], \n",
    "                          'Accuracy': [np.mean(accuracy)], 'Precision': [np.mean(precision)],\n",
    "                          'Recall':[np.mean(recall)],'ROC-AUC':[np.mean(roc_auc)]})\n",
    "resultsDf = pd.concat([resultsDf, tempResultsDf])\n",
    "resultsDf = resultsDf[['Scaling','Model', 'Accuracy', 'Precision','Recall','ROC-AUC']]\n",
    "resultsDf"
   ]
  },
  {
   "cell_type": "markdown",
   "metadata": {},
   "source": [
    "## Random Forest"
   ]
  },
  {
   "cell_type": "code",
   "execution_count": 164,
   "metadata": {},
   "outputs": [],
   "source": [
    "RT = RandomForestClassifier(random_state=0)"
   ]
  },
  {
   "cell_type": "code",
   "execution_count": 165,
   "metadata": {},
   "outputs": [
    {
     "data": {
      "text/plain": [
       "GridSearchCV(cv=3, error_score='raise-deprecating',\n",
       "       estimator=RandomForestClassifier(bootstrap=True, class_weight=None, criterion='gini',\n",
       "            max_depth=None, max_features='auto', max_leaf_nodes=None,\n",
       "            min_impurity_decrease=0.0, min_impurity_split=None,\n",
       "            min_samples_leaf=1, min_samples_split=2,\n",
       "            min_weight_fraction_leaf=0.0, n_estimators='warn', n_jobs=None,\n",
       "            oob_score=False, random_state=0, verbose=0, warm_start=False),\n",
       "       fit_params=None, iid='warn', n_jobs=None,\n",
       "       param_grid={'n_estimators': array([1, 2, 3, 4, 5, 6, 7, 8, 9]), 'max_depth': array([1, 2, 3, 4, 5, 6, 7, 8, 9])},\n",
       "       pre_dispatch='2*n_jobs', refit=True, return_train_score='warn',\n",
       "       scoring=None, verbose=0)"
      ]
     },
     "execution_count": 165,
     "metadata": {},
     "output_type": "execute_result"
    }
   ],
   "source": [
    "parameter ={'n_estimators':np.arange(1,10),'max_depth':np.arange(1,10)}\n",
    "GS=GridSearchCV(RT,parameter,cv=3)\n",
    "GS.fit(X,Y)"
   ]
  },
  {
   "cell_type": "code",
   "execution_count": 166,
   "metadata": {},
   "outputs": [
    {
     "data": {
      "text/plain": [
       "{'max_depth': 9, 'n_estimators': 9}"
      ]
     },
     "execution_count": 166,
     "metadata": {},
     "output_type": "execute_result"
    }
   ],
   "source": [
    "GS.best_params_"
   ]
  },
  {
   "cell_type": "code",
   "execution_count": 167,
   "metadata": {},
   "outputs": [],
   "source": [
    "RT = RandomForestClassifier(n_estimators=9,max_depth=9)"
   ]
  },
  {
   "cell_type": "markdown",
   "metadata": {},
   "source": [
    "###  K Fold Cross Validation"
   ]
  },
  {
   "cell_type": "code",
   "execution_count": 168,
   "metadata": {},
   "outputs": [],
   "source": [
    "kf = KFold(n_splits=5,shuffle=True,random_state=0)"
   ]
  },
  {
   "cell_type": "code",
   "execution_count": 169,
   "metadata": {},
   "outputs": [
    {
     "name": "stdout",
     "output_type": "stream",
     "text": [
      " Accuracy: 0.90  Precision: 0.73  Recall: 0.53  ROC-AOC: 0.75\n"
     ]
    }
   ],
   "source": [
    "precision=[]\n",
    "recall  =[]\n",
    "roc_auc = []\n",
    "accuracy=[]\n",
    "for train,test in kf.split(X,Y):\n",
    "    xtrain,xtest=X.iloc[train,:],X.iloc[test,:]\n",
    "    ytrain,ytest=Y.iloc[train],Y.iloc[test]\n",
    "    RT.fit(xtrain,ytrain)\n",
    "    y_predict = RT.predict(xtest)\n",
    "    precision.append(metrics.precision_score(ytest,y_predict))\n",
    "    recall.append(metrics.recall_score(ytest,y_predict))\n",
    "    fpr,tpr,_=metrics.roc_curve(ytest,y_predict)\n",
    "    roc_auc.append(metrics.auc(fpr,tpr))\n",
    "    accuracy.append(metrics.accuracy_score(ytest,y_predict))\n",
    "print(' Accuracy: %0.02f  Precision: %0.02f  Recall: %0.02f  ROC-AOC: %0.02F'\n",
    "      %(np.mean(accuracy),np.mean(precision),np.mean(recall),np.mean(roc_auc)))"
   ]
  },
  {
   "cell_type": "code",
   "execution_count": 170,
   "metadata": {},
   "outputs": [
    {
     "data": {
      "text/html": [
       "<div>\n",
       "<style scoped>\n",
       "    .dataframe tbody tr th:only-of-type {\n",
       "        vertical-align: middle;\n",
       "    }\n",
       "\n",
       "    .dataframe tbody tr th {\n",
       "        vertical-align: top;\n",
       "    }\n",
       "\n",
       "    .dataframe thead th {\n",
       "        text-align: right;\n",
       "    }\n",
       "</style>\n",
       "<table border=\"1\" class=\"dataframe\">\n",
       "  <thead>\n",
       "    <tr style=\"text-align: right;\">\n",
       "      <th></th>\n",
       "      <th>Scaling</th>\n",
       "      <th>Model</th>\n",
       "      <th>Accuracy</th>\n",
       "      <th>Precision</th>\n",
       "      <th>Recall</th>\n",
       "      <th>ROC-AUC</th>\n",
       "    </tr>\n",
       "  </thead>\n",
       "  <tbody>\n",
       "    <tr>\n",
       "      <th>0</th>\n",
       "      <td>Standard</td>\n",
       "      <td>Logistic Regression</td>\n",
       "      <td>0.884509</td>\n",
       "      <td>0.753793</td>\n",
       "      <td>0.376252</td>\n",
       "      <td>0.676892</td>\n",
       "    </tr>\n",
       "    <tr>\n",
       "      <th>1</th>\n",
       "      <td>Standard</td>\n",
       "      <td>Decision Tree</td>\n",
       "      <td>0.890187</td>\n",
       "      <td>0.731083</td>\n",
       "      <td>0.460727</td>\n",
       "      <td>0.714861</td>\n",
       "    </tr>\n",
       "    <tr>\n",
       "      <th>2</th>\n",
       "      <td>Standard</td>\n",
       "      <td>Random Forest</td>\n",
       "      <td>0.894809</td>\n",
       "      <td>0.719285</td>\n",
       "      <td>0.541100</td>\n",
       "      <td>0.750618</td>\n",
       "    </tr>\n",
       "    <tr>\n",
       "      <th>3</th>\n",
       "      <td>MinMax</td>\n",
       "      <td>Logistic Regression</td>\n",
       "      <td>0.875020</td>\n",
       "      <td>0.768471</td>\n",
       "      <td>0.275069</td>\n",
       "      <td>0.629997</td>\n",
       "    </tr>\n",
       "    <tr>\n",
       "      <th>4</th>\n",
       "      <td>MinMax</td>\n",
       "      <td>Decision Tree</td>\n",
       "      <td>0.890187</td>\n",
       "      <td>0.731083</td>\n",
       "      <td>0.460727</td>\n",
       "      <td>0.714861</td>\n",
       "    </tr>\n",
       "    <tr>\n",
       "      <th>5</th>\n",
       "      <td>MinMax</td>\n",
       "      <td>Random Forest</td>\n",
       "      <td>0.894891</td>\n",
       "      <td>0.719843</td>\n",
       "      <td>0.541100</td>\n",
       "      <td>0.750666</td>\n",
       "    </tr>\n",
       "    <tr>\n",
       "      <th>6</th>\n",
       "      <td>MaxAbs</td>\n",
       "      <td>Logistic Regression</td>\n",
       "      <td>0.875020</td>\n",
       "      <td>0.768471</td>\n",
       "      <td>0.275069</td>\n",
       "      <td>0.629997</td>\n",
       "    </tr>\n",
       "    <tr>\n",
       "      <th>7</th>\n",
       "      <td>MaxABS</td>\n",
       "      <td>Decision Tree</td>\n",
       "      <td>0.890187</td>\n",
       "      <td>0.731083</td>\n",
       "      <td>0.460727</td>\n",
       "      <td>0.714861</td>\n",
       "    </tr>\n",
       "    <tr>\n",
       "      <th>8</th>\n",
       "      <td>MaxABS</td>\n",
       "      <td>Random Forest</td>\n",
       "      <td>0.894891</td>\n",
       "      <td>0.719843</td>\n",
       "      <td>0.541100</td>\n",
       "      <td>0.750666</td>\n",
       "    </tr>\n",
       "    <tr>\n",
       "      <th>9</th>\n",
       "      <td>Robust</td>\n",
       "      <td>Logistic Regression</td>\n",
       "      <td>0.884672</td>\n",
       "      <td>0.754878</td>\n",
       "      <td>0.376770</td>\n",
       "      <td>0.677199</td>\n",
       "    </tr>\n",
       "    <tr>\n",
       "      <th>10</th>\n",
       "      <td>Robust</td>\n",
       "      <td>Decision Tree</td>\n",
       "      <td>0.890187</td>\n",
       "      <td>0.731083</td>\n",
       "      <td>0.460727</td>\n",
       "      <td>0.714861</td>\n",
       "    </tr>\n",
       "    <tr>\n",
       "      <th>11</th>\n",
       "      <td>Robust</td>\n",
       "      <td>Random Forest</td>\n",
       "      <td>0.890268</td>\n",
       "      <td>0.755992</td>\n",
       "      <td>0.446261</td>\n",
       "      <td>0.709292</td>\n",
       "    </tr>\n",
       "    <tr>\n",
       "      <th>12</th>\n",
       "      <td>Quantile-N</td>\n",
       "      <td>Logistic Regression</td>\n",
       "      <td>0.893755</td>\n",
       "      <td>0.673889</td>\n",
       "      <td>0.607714</td>\n",
       "      <td>0.776996</td>\n",
       "    </tr>\n",
       "    <tr>\n",
       "      <th>13</th>\n",
       "      <td>Quantile-N</td>\n",
       "      <td>Decision Tree</td>\n",
       "      <td>0.890187</td>\n",
       "      <td>0.731083</td>\n",
       "      <td>0.460727</td>\n",
       "      <td>0.714861</td>\n",
       "    </tr>\n",
       "    <tr>\n",
       "      <th>14</th>\n",
       "      <td>Quantile-N</td>\n",
       "      <td>Random Forest</td>\n",
       "      <td>0.897405</td>\n",
       "      <td>0.778490</td>\n",
       "      <td>0.477129</td>\n",
       "      <td>0.725852</td>\n",
       "    </tr>\n",
       "    <tr>\n",
       "      <th>15</th>\n",
       "      <td>Quantile-U</td>\n",
       "      <td>Logistic Regression</td>\n",
       "      <td>0.894891</td>\n",
       "      <td>0.679705</td>\n",
       "      <td>0.607286</td>\n",
       "      <td>0.777441</td>\n",
       "    </tr>\n",
       "    <tr>\n",
       "      <th>16</th>\n",
       "      <td>Quantile-U</td>\n",
       "      <td>Decision Tree</td>\n",
       "      <td>0.890187</td>\n",
       "      <td>0.731083</td>\n",
       "      <td>0.460727</td>\n",
       "      <td>0.714861</td>\n",
       "    </tr>\n",
       "    <tr>\n",
       "      <th>17</th>\n",
       "      <td>Quantile-U</td>\n",
       "      <td>Random Forest</td>\n",
       "      <td>0.895702</td>\n",
       "      <td>0.772716</td>\n",
       "      <td>0.472064</td>\n",
       "      <td>0.722899</td>\n",
       "    </tr>\n",
       "    <tr>\n",
       "      <th>18</th>\n",
       "      <td>Power Transform</td>\n",
       "      <td>Logistic Regression</td>\n",
       "      <td>0.893025</td>\n",
       "      <td>0.663586</td>\n",
       "      <td>0.627954</td>\n",
       "      <td>0.784804</td>\n",
       "    </tr>\n",
       "    <tr>\n",
       "      <th>19</th>\n",
       "      <td>Power Transform</td>\n",
       "      <td>Decision Tree</td>\n",
       "      <td>0.890187</td>\n",
       "      <td>0.731083</td>\n",
       "      <td>0.460727</td>\n",
       "      <td>0.714861</td>\n",
       "    </tr>\n",
       "    <tr>\n",
       "      <th>20</th>\n",
       "      <td>Power Transform</td>\n",
       "      <td>Random Forest</td>\n",
       "      <td>0.891971</td>\n",
       "      <td>0.768811</td>\n",
       "      <td>0.437335</td>\n",
       "      <td>0.706317</td>\n",
       "    </tr>\n",
       "    <tr>\n",
       "      <th>21</th>\n",
       "      <td>Normalizer</td>\n",
       "      <td>Logistic Regression</td>\n",
       "      <td>0.859611</td>\n",
       "      <td>0.897099</td>\n",
       "      <td>0.105433</td>\n",
       "      <td>0.551560</td>\n",
       "    </tr>\n",
       "    <tr>\n",
       "      <th>22</th>\n",
       "      <td>Normalizer</td>\n",
       "      <td>Decision Tree</td>\n",
       "      <td>0.873723</td>\n",
       "      <td>0.564659</td>\n",
       "      <td>0.801836</td>\n",
       "      <td>0.844407</td>\n",
       "    </tr>\n",
       "    <tr>\n",
       "      <th>23</th>\n",
       "      <td>Normalizer</td>\n",
       "      <td>Random Forest</td>\n",
       "      <td>0.897080</td>\n",
       "      <td>0.731894</td>\n",
       "      <td>0.528971</td>\n",
       "      <td>0.746784</td>\n",
       "    </tr>\n",
       "  </tbody>\n",
       "</table>\n",
       "</div>"
      ],
      "text/plain": [
       "            Scaling                Model  Accuracy  Precision    Recall  \\\n",
       "0          Standard  Logistic Regression  0.884509   0.753793  0.376252   \n",
       "1          Standard        Decision Tree  0.890187   0.731083  0.460727   \n",
       "2          Standard        Random Forest  0.894809   0.719285  0.541100   \n",
       "3            MinMax  Logistic Regression  0.875020   0.768471  0.275069   \n",
       "4            MinMax        Decision Tree  0.890187   0.731083  0.460727   \n",
       "5            MinMax        Random Forest  0.894891   0.719843  0.541100   \n",
       "6            MaxAbs  Logistic Regression  0.875020   0.768471  0.275069   \n",
       "7            MaxABS        Decision Tree  0.890187   0.731083  0.460727   \n",
       "8            MaxABS        Random Forest  0.894891   0.719843  0.541100   \n",
       "9            Robust  Logistic Regression  0.884672   0.754878  0.376770   \n",
       "10           Robust        Decision Tree  0.890187   0.731083  0.460727   \n",
       "11           Robust        Random Forest  0.890268   0.755992  0.446261   \n",
       "12       Quantile-N  Logistic Regression  0.893755   0.673889  0.607714   \n",
       "13       Quantile-N        Decision Tree  0.890187   0.731083  0.460727   \n",
       "14       Quantile-N        Random Forest  0.897405   0.778490  0.477129   \n",
       "15       Quantile-U  Logistic Regression  0.894891   0.679705  0.607286   \n",
       "16       Quantile-U        Decision Tree  0.890187   0.731083  0.460727   \n",
       "17       Quantile-U        Random Forest  0.895702   0.772716  0.472064   \n",
       "18  Power Transform  Logistic Regression  0.893025   0.663586  0.627954   \n",
       "19  Power Transform        Decision Tree  0.890187   0.731083  0.460727   \n",
       "20  Power Transform        Random Forest  0.891971   0.768811  0.437335   \n",
       "21       Normalizer  Logistic Regression  0.859611   0.897099  0.105433   \n",
       "22       Normalizer        Decision Tree  0.873723   0.564659  0.801836   \n",
       "23       Normalizer        Random Forest  0.897080   0.731894  0.528971   \n",
       "\n",
       "     ROC-AUC  \n",
       "0   0.676892  \n",
       "1   0.714861  \n",
       "2   0.750618  \n",
       "3   0.629997  \n",
       "4   0.714861  \n",
       "5   0.750666  \n",
       "6   0.629997  \n",
       "7   0.714861  \n",
       "8   0.750666  \n",
       "9   0.677199  \n",
       "10  0.714861  \n",
       "11  0.709292  \n",
       "12  0.776996  \n",
       "13  0.714861  \n",
       "14  0.725852  \n",
       "15  0.777441  \n",
       "16  0.714861  \n",
       "17  0.722899  \n",
       "18  0.784804  \n",
       "19  0.714861  \n",
       "20  0.706317  \n",
       "21  0.551560  \n",
       "22  0.844407  \n",
       "23  0.746784  "
      ]
     },
     "execution_count": 170,
     "metadata": {},
     "output_type": "execute_result"
    }
   ],
   "source": [
    "# Storing results in a dataframe\n",
    "tempResultsDf = pd.DataFrame({'Scaling':['Normalizer'],'Model':['Random Forest'], \n",
    "                          'Accuracy': [np.mean(accuracy)], 'Precision': [np.mean(precision)],\n",
    "                          'Recall':[np.mean(recall)],'ROC-AUC':[np.mean(roc_auc)]})\n",
    "resultsDf = pd.concat([resultsDf, tempResultsDf])\n",
    "resultsDf = resultsDf[['Scaling','Model', 'Accuracy', 'Precision','Recall','ROC-AUC']]\n",
    "resultsDf.index = [i for i in range(len(resultsDf))]\n",
    "resultsDf"
   ]
  },
  {
   "cell_type": "code",
   "execution_count": 171,
   "metadata": {},
   "outputs": [
    {
     "data": {
      "text/plain": [
       "Scaling           Standard\n",
       "Model        Random Forest\n",
       "Accuracy          0.897405\n",
       "Precision         0.897099\n",
       "Recall            0.801836\n",
       "ROC-AUC           0.844407\n",
       "dtype: object"
      ]
     },
     "execution_count": 171,
     "metadata": {},
     "output_type": "execute_result"
    }
   ],
   "source": [
    "resultsDf.max()"
   ]
  },
  {
   "cell_type": "markdown",
   "metadata": {},
   "source": [
    "# Inference:\n",
    "    From all the scaling methods Standard scaling has provided us the best scores\n",
    "    From all the model scores of Random Forest is par 80 for all the metrics.\n",
    "    It provided us a good Auc as well only .16 percent has chances of misclassification."
   ]
  }
 ],
 "metadata": {
  "kernelspec": {
   "display_name": "Python 3",
   "language": "python",
   "name": "python3"
  },
  "language_info": {
   "codemirror_mode": {
    "name": "ipython",
    "version": 3
   },
   "file_extension": ".py",
   "mimetype": "text/x-python",
   "name": "python",
   "nbconvert_exporter": "python",
   "pygments_lexer": "ipython3",
   "version": "3.7.1"
  }
 },
 "nbformat": 4,
 "nbformat_minor": 2
}
