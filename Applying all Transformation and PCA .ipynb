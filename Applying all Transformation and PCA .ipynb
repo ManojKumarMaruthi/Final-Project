{
 "cells": [
  {
   "cell_type": "markdown",
   "metadata": {},
   "source": [
    "# Importing Libraries"
   ]
  },
  {
   "cell_type": "code",
   "execution_count": 1,
   "metadata": {},
   "outputs": [],
   "source": [
    "import numpy as np\n",
    "import pandas as pd\n",
    "import scipy.stats as stats\n",
    "import matplotlib.pyplot as plt\n",
    "import seaborn as sns\n",
    "import warnings\n",
    "warnings.filterwarnings(\"ignore\")"
   ]
  },
  {
   "cell_type": "markdown",
   "metadata": {},
   "source": [
    "# Loading dataset"
   ]
  },
  {
   "cell_type": "code",
   "execution_count": 2,
   "metadata": {},
   "outputs": [],
   "source": [
    "data = pd.read_csv('online_shoppers_intention.csv')"
   ]
  },
  {
   "cell_type": "code",
   "execution_count": 3,
   "metadata": {},
   "outputs": [
    {
     "data": {
      "text/html": [
       "<div>\n",
       "<style scoped>\n",
       "    .dataframe tbody tr th:only-of-type {\n",
       "        vertical-align: middle;\n",
       "    }\n",
       "\n",
       "    .dataframe tbody tr th {\n",
       "        vertical-align: top;\n",
       "    }\n",
       "\n",
       "    .dataframe thead th {\n",
       "        text-align: right;\n",
       "    }\n",
       "</style>\n",
       "<table border=\"1\" class=\"dataframe\">\n",
       "  <thead>\n",
       "    <tr style=\"text-align: right;\">\n",
       "      <th></th>\n",
       "      <th>Administrative</th>\n",
       "      <th>Administrative_Duration</th>\n",
       "      <th>Informational</th>\n",
       "      <th>Informational_Duration</th>\n",
       "      <th>ProductRelated</th>\n",
       "      <th>ProductRelated_Duration</th>\n",
       "      <th>BounceRates</th>\n",
       "      <th>ExitRates</th>\n",
       "      <th>PageValues</th>\n",
       "      <th>SpecialDay</th>\n",
       "      <th>Month</th>\n",
       "      <th>OperatingSystems</th>\n",
       "      <th>Browser</th>\n",
       "      <th>Region</th>\n",
       "      <th>TrafficType</th>\n",
       "      <th>VisitorType</th>\n",
       "      <th>Weekend</th>\n",
       "      <th>Revenue</th>\n",
       "    </tr>\n",
       "  </thead>\n",
       "  <tbody>\n",
       "    <tr>\n",
       "      <th>0</th>\n",
       "      <td>0</td>\n",
       "      <td>0.0</td>\n",
       "      <td>0</td>\n",
       "      <td>0.0</td>\n",
       "      <td>1</td>\n",
       "      <td>0.000000</td>\n",
       "      <td>0.20</td>\n",
       "      <td>0.20</td>\n",
       "      <td>0.0</td>\n",
       "      <td>0.0</td>\n",
       "      <td>Feb</td>\n",
       "      <td>1</td>\n",
       "      <td>1</td>\n",
       "      <td>1</td>\n",
       "      <td>1</td>\n",
       "      <td>Returning_Visitor</td>\n",
       "      <td>False</td>\n",
       "      <td>False</td>\n",
       "    </tr>\n",
       "    <tr>\n",
       "      <th>1</th>\n",
       "      <td>0</td>\n",
       "      <td>0.0</td>\n",
       "      <td>0</td>\n",
       "      <td>0.0</td>\n",
       "      <td>2</td>\n",
       "      <td>64.000000</td>\n",
       "      <td>0.00</td>\n",
       "      <td>0.10</td>\n",
       "      <td>0.0</td>\n",
       "      <td>0.0</td>\n",
       "      <td>Feb</td>\n",
       "      <td>2</td>\n",
       "      <td>2</td>\n",
       "      <td>1</td>\n",
       "      <td>2</td>\n",
       "      <td>Returning_Visitor</td>\n",
       "      <td>False</td>\n",
       "      <td>False</td>\n",
       "    </tr>\n",
       "    <tr>\n",
       "      <th>2</th>\n",
       "      <td>0</td>\n",
       "      <td>0.0</td>\n",
       "      <td>0</td>\n",
       "      <td>0.0</td>\n",
       "      <td>1</td>\n",
       "      <td>0.000000</td>\n",
       "      <td>0.20</td>\n",
       "      <td>0.20</td>\n",
       "      <td>0.0</td>\n",
       "      <td>0.0</td>\n",
       "      <td>Feb</td>\n",
       "      <td>4</td>\n",
       "      <td>1</td>\n",
       "      <td>9</td>\n",
       "      <td>3</td>\n",
       "      <td>Returning_Visitor</td>\n",
       "      <td>False</td>\n",
       "      <td>False</td>\n",
       "    </tr>\n",
       "    <tr>\n",
       "      <th>3</th>\n",
       "      <td>0</td>\n",
       "      <td>0.0</td>\n",
       "      <td>0</td>\n",
       "      <td>0.0</td>\n",
       "      <td>2</td>\n",
       "      <td>2.666667</td>\n",
       "      <td>0.05</td>\n",
       "      <td>0.14</td>\n",
       "      <td>0.0</td>\n",
       "      <td>0.0</td>\n",
       "      <td>Feb</td>\n",
       "      <td>3</td>\n",
       "      <td>2</td>\n",
       "      <td>2</td>\n",
       "      <td>4</td>\n",
       "      <td>Returning_Visitor</td>\n",
       "      <td>False</td>\n",
       "      <td>False</td>\n",
       "    </tr>\n",
       "    <tr>\n",
       "      <th>4</th>\n",
       "      <td>0</td>\n",
       "      <td>0.0</td>\n",
       "      <td>0</td>\n",
       "      <td>0.0</td>\n",
       "      <td>10</td>\n",
       "      <td>627.500000</td>\n",
       "      <td>0.02</td>\n",
       "      <td>0.05</td>\n",
       "      <td>0.0</td>\n",
       "      <td>0.0</td>\n",
       "      <td>Feb</td>\n",
       "      <td>3</td>\n",
       "      <td>3</td>\n",
       "      <td>1</td>\n",
       "      <td>4</td>\n",
       "      <td>Returning_Visitor</td>\n",
       "      <td>True</td>\n",
       "      <td>False</td>\n",
       "    </tr>\n",
       "  </tbody>\n",
       "</table>\n",
       "</div>"
      ],
      "text/plain": [
       "   Administrative  Administrative_Duration  Informational  \\\n",
       "0               0                      0.0              0   \n",
       "1               0                      0.0              0   \n",
       "2               0                      0.0              0   \n",
       "3               0                      0.0              0   \n",
       "4               0                      0.0              0   \n",
       "\n",
       "   Informational_Duration  ProductRelated  ProductRelated_Duration  \\\n",
       "0                     0.0               1                 0.000000   \n",
       "1                     0.0               2                64.000000   \n",
       "2                     0.0               1                 0.000000   \n",
       "3                     0.0               2                 2.666667   \n",
       "4                     0.0              10               627.500000   \n",
       "\n",
       "   BounceRates  ExitRates  PageValues  SpecialDay Month  OperatingSystems  \\\n",
       "0         0.20       0.20         0.0         0.0   Feb                 1   \n",
       "1         0.00       0.10         0.0         0.0   Feb                 2   \n",
       "2         0.20       0.20         0.0         0.0   Feb                 4   \n",
       "3         0.05       0.14         0.0         0.0   Feb                 3   \n",
       "4         0.02       0.05         0.0         0.0   Feb                 3   \n",
       "\n",
       "   Browser  Region  TrafficType        VisitorType  Weekend  Revenue  \n",
       "0        1       1            1  Returning_Visitor    False    False  \n",
       "1        2       1            2  Returning_Visitor    False    False  \n",
       "2        1       9            3  Returning_Visitor    False    False  \n",
       "3        2       2            4  Returning_Visitor    False    False  \n",
       "4        3       1            4  Returning_Visitor     True    False  "
      ]
     },
     "execution_count": 3,
     "metadata": {},
     "output_type": "execute_result"
    }
   ],
   "source": [
    "data.head()"
   ]
  },
  {
   "cell_type": "code",
   "execution_count": 4,
   "metadata": {},
   "outputs": [],
   "source": [
    "data1 = data.copy()"
   ]
  },
  {
   "cell_type": "markdown",
   "metadata": {},
   "source": [
    "# Encoding the Categorical Columns to Numerical"
   ]
  },
  {
   "cell_type": "code",
   "execution_count": 5,
   "metadata": {},
   "outputs": [],
   "source": [
    "from sklearn.preprocessing import LabelEncoder"
   ]
  },
  {
   "cell_type": "code",
   "execution_count": 6,
   "metadata": {},
   "outputs": [],
   "source": [
    "LB = LabelEncoder()"
   ]
  },
  {
   "cell_type": "code",
   "execution_count": 7,
   "metadata": {},
   "outputs": [],
   "source": [
    "data1['Month'] = LB.fit_transform(data['Month'])\n",
    "data1['VisitorType'] = LB.fit_transform(data['VisitorType'])\n",
    "data1['Weekend'] = LB.fit_transform(data['Weekend'])\n",
    "data1['Revenue'] = LB.fit_transform(data['Revenue'])"
   ]
  },
  {
   "cell_type": "code",
   "execution_count": 8,
   "metadata": {},
   "outputs": [
    {
     "data": {
      "text/html": [
       "<div>\n",
       "<style scoped>\n",
       "    .dataframe tbody tr th:only-of-type {\n",
       "        vertical-align: middle;\n",
       "    }\n",
       "\n",
       "    .dataframe tbody tr th {\n",
       "        vertical-align: top;\n",
       "    }\n",
       "\n",
       "    .dataframe thead th {\n",
       "        text-align: right;\n",
       "    }\n",
       "</style>\n",
       "<table border=\"1\" class=\"dataframe\">\n",
       "  <thead>\n",
       "    <tr style=\"text-align: right;\">\n",
       "      <th></th>\n",
       "      <th>Administrative</th>\n",
       "      <th>Administrative_Duration</th>\n",
       "      <th>Informational</th>\n",
       "      <th>Informational_Duration</th>\n",
       "      <th>ProductRelated</th>\n",
       "      <th>ProductRelated_Duration</th>\n",
       "      <th>BounceRates</th>\n",
       "      <th>ExitRates</th>\n",
       "      <th>PageValues</th>\n",
       "      <th>SpecialDay</th>\n",
       "      <th>Month</th>\n",
       "      <th>OperatingSystems</th>\n",
       "      <th>Browser</th>\n",
       "      <th>Region</th>\n",
       "      <th>TrafficType</th>\n",
       "      <th>VisitorType</th>\n",
       "      <th>Weekend</th>\n",
       "      <th>Revenue</th>\n",
       "    </tr>\n",
       "  </thead>\n",
       "  <tbody>\n",
       "    <tr>\n",
       "      <th>0</th>\n",
       "      <td>0</td>\n",
       "      <td>0.0</td>\n",
       "      <td>0</td>\n",
       "      <td>0.0</td>\n",
       "      <td>1</td>\n",
       "      <td>0.000000</td>\n",
       "      <td>0.20</td>\n",
       "      <td>0.20</td>\n",
       "      <td>0.0</td>\n",
       "      <td>0.0</td>\n",
       "      <td>2</td>\n",
       "      <td>1</td>\n",
       "      <td>1</td>\n",
       "      <td>1</td>\n",
       "      <td>1</td>\n",
       "      <td>2</td>\n",
       "      <td>0</td>\n",
       "      <td>0</td>\n",
       "    </tr>\n",
       "    <tr>\n",
       "      <th>1</th>\n",
       "      <td>0</td>\n",
       "      <td>0.0</td>\n",
       "      <td>0</td>\n",
       "      <td>0.0</td>\n",
       "      <td>2</td>\n",
       "      <td>64.000000</td>\n",
       "      <td>0.00</td>\n",
       "      <td>0.10</td>\n",
       "      <td>0.0</td>\n",
       "      <td>0.0</td>\n",
       "      <td>2</td>\n",
       "      <td>2</td>\n",
       "      <td>2</td>\n",
       "      <td>1</td>\n",
       "      <td>2</td>\n",
       "      <td>2</td>\n",
       "      <td>0</td>\n",
       "      <td>0</td>\n",
       "    </tr>\n",
       "    <tr>\n",
       "      <th>2</th>\n",
       "      <td>0</td>\n",
       "      <td>0.0</td>\n",
       "      <td>0</td>\n",
       "      <td>0.0</td>\n",
       "      <td>1</td>\n",
       "      <td>0.000000</td>\n",
       "      <td>0.20</td>\n",
       "      <td>0.20</td>\n",
       "      <td>0.0</td>\n",
       "      <td>0.0</td>\n",
       "      <td>2</td>\n",
       "      <td>4</td>\n",
       "      <td>1</td>\n",
       "      <td>9</td>\n",
       "      <td>3</td>\n",
       "      <td>2</td>\n",
       "      <td>0</td>\n",
       "      <td>0</td>\n",
       "    </tr>\n",
       "    <tr>\n",
       "      <th>3</th>\n",
       "      <td>0</td>\n",
       "      <td>0.0</td>\n",
       "      <td>0</td>\n",
       "      <td>0.0</td>\n",
       "      <td>2</td>\n",
       "      <td>2.666667</td>\n",
       "      <td>0.05</td>\n",
       "      <td>0.14</td>\n",
       "      <td>0.0</td>\n",
       "      <td>0.0</td>\n",
       "      <td>2</td>\n",
       "      <td>3</td>\n",
       "      <td>2</td>\n",
       "      <td>2</td>\n",
       "      <td>4</td>\n",
       "      <td>2</td>\n",
       "      <td>0</td>\n",
       "      <td>0</td>\n",
       "    </tr>\n",
       "    <tr>\n",
       "      <th>4</th>\n",
       "      <td>0</td>\n",
       "      <td>0.0</td>\n",
       "      <td>0</td>\n",
       "      <td>0.0</td>\n",
       "      <td>10</td>\n",
       "      <td>627.500000</td>\n",
       "      <td>0.02</td>\n",
       "      <td>0.05</td>\n",
       "      <td>0.0</td>\n",
       "      <td>0.0</td>\n",
       "      <td>2</td>\n",
       "      <td>3</td>\n",
       "      <td>3</td>\n",
       "      <td>1</td>\n",
       "      <td>4</td>\n",
       "      <td>2</td>\n",
       "      <td>1</td>\n",
       "      <td>0</td>\n",
       "    </tr>\n",
       "  </tbody>\n",
       "</table>\n",
       "</div>"
      ],
      "text/plain": [
       "   Administrative  Administrative_Duration  Informational  \\\n",
       "0               0                      0.0              0   \n",
       "1               0                      0.0              0   \n",
       "2               0                      0.0              0   \n",
       "3               0                      0.0              0   \n",
       "4               0                      0.0              0   \n",
       "\n",
       "   Informational_Duration  ProductRelated  ProductRelated_Duration  \\\n",
       "0                     0.0               1                 0.000000   \n",
       "1                     0.0               2                64.000000   \n",
       "2                     0.0               1                 0.000000   \n",
       "3                     0.0               2                 2.666667   \n",
       "4                     0.0              10               627.500000   \n",
       "\n",
       "   BounceRates  ExitRates  PageValues  SpecialDay  Month  OperatingSystems  \\\n",
       "0         0.20       0.20         0.0         0.0      2                 1   \n",
       "1         0.00       0.10         0.0         0.0      2                 2   \n",
       "2         0.20       0.20         0.0         0.0      2                 4   \n",
       "3         0.05       0.14         0.0         0.0      2                 3   \n",
       "4         0.02       0.05         0.0         0.0      2                 3   \n",
       "\n",
       "   Browser  Region  TrafficType  VisitorType  Weekend  Revenue  \n",
       "0        1       1            1            2        0        0  \n",
       "1        2       1            2            2        0        0  \n",
       "2        1       9            3            2        0        0  \n",
       "3        2       2            4            2        0        0  \n",
       "4        3       1            4            2        1        0  "
      ]
     },
     "execution_count": 8,
     "metadata": {},
     "output_type": "execute_result"
    }
   ],
   "source": [
    "data1.head()"
   ]
  },
  {
   "cell_type": "code",
   "execution_count": 9,
   "metadata": {},
   "outputs": [],
   "source": [
    "from sklearn.preprocessing import StandardScaler,MinMaxScaler,MaxAbsScaler,RobustScaler,QuantileTransformer,PowerTransformer,Normalizer"
   ]
  },
  {
   "cell_type": "code",
   "execution_count": 10,
   "metadata": {},
   "outputs": [],
   "source": [
    "from sklearn.linear_model import LogisticRegression\n",
    "from sklearn.neighbors import KNeighborsRegressor\n",
    "from sklearn.tree import DecisionTreeClassifier\n",
    "from sklearn.ensemble import RandomForestClassifier\n",
    "from sklearn.model_selection import GridSearchCV,KFold\n",
    "import sklearn.metrics as metrics"
   ]
  },
  {
   "cell_type": "markdown",
   "metadata": {},
   "source": [
    "# Standard Scalar"
   ]
  },
  {
   "cell_type": "code",
   "execution_count": 11,
   "metadata": {},
   "outputs": [],
   "source": [
    "sc = StandardScaler()\n",
    "sc_data = sc.fit_transform(data1)\n",
    "sc_data = pd.DataFrame(sc_data,columns=data1.columns)"
   ]
  },
  {
   "cell_type": "code",
   "execution_count": 12,
   "metadata": {},
   "outputs": [],
   "source": [
    "from sklearn.decomposition import PCA"
   ]
  },
  {
   "cell_type": "code",
   "execution_count": 13,
   "metadata": {},
   "outputs": [],
   "source": [
    "dat_admin = sc_data[['Administrative', 'Administrative_Duration', 'Informational',\n",
    "       'Informational_Duration', 'ProductRelated', 'ProductRelated_Duration',\n",
    "       'BounceRates', 'ExitRates', 'PageValues', 'SpecialDay',\n",
    "       'OperatingSystems', 'Browser', 'Region', 'TrafficType']]"
   ]
  },
  {
   "cell_type": "code",
   "execution_count": 14,
   "metadata": {},
   "outputs": [],
   "source": [
    "pca = PCA()\n",
    "principalComponents = pca.fit_transform(dat_admin)"
   ]
  },
  {
   "cell_type": "code",
   "execution_count": 15,
   "metadata": {},
   "outputs": [
    {
     "data": {
      "text/plain": [
       "array([24.3, 36.3, 46.3, 54. , 61.2, 68.1, 74.9, 81.4, 87.5, 92.9, 95.9,\n",
       "       98.4, 99.3, 99.9])"
      ]
     },
     "execution_count": 15,
     "metadata": {},
     "output_type": "execute_result"
    }
   ],
   "source": [
    "var_cum=np.cumsum(np.round(pca.explained_variance_ratio_, decimals=3)*100)\n",
    "var_cum"
   ]
  },
  {
   "cell_type": "code",
   "execution_count": 16,
   "metadata": {},
   "outputs": [
    {
     "data": {
      "image/png": "[encoded data removed]",
      "text/plain": [
       "<Figure size 864x432 with 1 Axes>"
      ]
     },
     "metadata": {
      "needs_background": "light"
     },
     "output_type": "display_data"
    }
   ],
   "source": [
    "#SCREE PLOT\n",
    "plt.figure(figsize=(12,6))\n",
    "plt.plot(var_cum,'o-')\n",
    "plt.title('SCREE PLOT')\n",
    "plt.xlabel('number of components')\n",
    "plt.ylabel('cumulative explained variance')\n",
    "plt.grid()\n",
    "plt.show()"
   ]
  },
  {
   "cell_type": "code",
   "execution_count": 17,
   "metadata": {},
   "outputs": [],
   "source": [
    "pca = PCA(n_components=12)\n",
    "principalComponents = pca.fit_transform(dat_admin)"
   ]
  },
  {
   "cell_type": "code",
   "execution_count": 18,
   "metadata": {},
   "outputs": [
    {
     "data": {
      "text/html": [
       "<div>\n",
       "<style scoped>\n",
       "    .dataframe tbody tr th:only-of-type {\n",
       "        vertical-align: middle;\n",
       "    }\n",
       "\n",
       "    .dataframe tbody tr th {\n",
       "        vertical-align: top;\n",
       "    }\n",
       "\n",
       "    .dataframe thead th {\n",
       "        text-align: right;\n",
       "    }\n",
       "</style>\n",
       "<table border=\"1\" class=\"dataframe\">\n",
       "  <thead>\n",
       "    <tr style=\"text-align: right;\">\n",
       "      <th></th>\n",
       "      <th>PC1</th>\n",
       "      <th>PC2</th>\n",
       "      <th>PC3</th>\n",
       "      <th>PC4</th>\n",
       "      <th>PC5</th>\n",
       "      <th>PC6</th>\n",
       "      <th>PC7</th>\n",
       "      <th>PC8</th>\n",
       "      <th>PC9</th>\n",
       "      <th>PC10</th>\n",
       "      <th>PC11</th>\n",
       "      <th>PC12</th>\n",
       "    </tr>\n",
       "  </thead>\n",
       "  <tbody>\n",
       "    <tr>\n",
       "      <th>0</th>\n",
       "      <td>-3.156230</td>\n",
       "      <td>3.608799</td>\n",
       "      <td>-1.902827</td>\n",
       "      <td>-0.846904</td>\n",
       "      <td>-0.895067</td>\n",
       "      <td>0.363079</td>\n",
       "      <td>0.900307</td>\n",
       "      <td>0.246944</td>\n",
       "      <td>0.337188</td>\n",
       "      <td>0.216427</td>\n",
       "      <td>-0.113593</td>\n",
       "      <td>-0.076899</td>\n",
       "    </tr>\n",
       "    <tr>\n",
       "      <th>1</th>\n",
       "      <td>-1.353205</td>\n",
       "      <td>-0.044756</td>\n",
       "      <td>-0.840909</td>\n",
       "      <td>-0.024726</td>\n",
       "      <td>0.222838</td>\n",
       "      <td>0.357489</td>\n",
       "      <td>0.337628</td>\n",
       "      <td>-0.669243</td>\n",
       "      <td>0.323581</td>\n",
       "      <td>-0.112154</td>\n",
       "      <td>0.190309</td>\n",
       "      <td>0.067810</td>\n",
       "    </tr>\n",
       "    <tr>\n",
       "      <th>2</th>\n",
       "      <td>-3.297239</td>\n",
       "      <td>3.522667</td>\n",
       "      <td>1.306028</td>\n",
       "      <td>-1.351472</td>\n",
       "      <td>-0.843836</td>\n",
       "      <td>-1.772477</td>\n",
       "      <td>0.494559</td>\n",
       "      <td>0.789955</td>\n",
       "      <td>-0.486070</td>\n",
       "      <td>-2.211785</td>\n",
       "      <td>-0.044439</td>\n",
       "      <td>-0.074981</td>\n",
       "    </tr>\n",
       "    <tr>\n",
       "      <th>3</th>\n",
       "      <td>-1.971260</td>\n",
       "      <td>1.087528</td>\n",
       "      <td>0.182843</td>\n",
       "      <td>-0.238658</td>\n",
       "      <td>-0.038622</td>\n",
       "      <td>0.335204</td>\n",
       "      <td>0.386962</td>\n",
       "      <td>-0.647857</td>\n",
       "      <td>0.077111</td>\n",
       "      <td>-0.789086</td>\n",
       "      <td>0.122249</td>\n",
       "      <td>0.030152</td>\n",
       "    </tr>\n",
       "    <tr>\n",
       "      <th>4</th>\n",
       "      <td>-0.990417</td>\n",
       "      <td>-0.267092</td>\n",
       "      <td>0.394423</td>\n",
       "      <td>0.295322</td>\n",
       "      <td>0.262010</td>\n",
       "      <td>0.538722</td>\n",
       "      <td>0.468342</td>\n",
       "      <td>-1.043099</td>\n",
       "      <td>0.333052</td>\n",
       "      <td>-0.432197</td>\n",
       "      <td>0.207691</td>\n",
       "      <td>0.061842</td>\n",
       "    </tr>\n",
       "  </tbody>\n",
       "</table>\n",
       "</div>"
      ],
      "text/plain": [
       "        PC1       PC2       PC3       PC4       PC5       PC6       PC7  \\\n",
       "0 -3.156230  3.608799 -1.902827 -0.846904 -0.895067  0.363079  0.900307   \n",
       "1 -1.353205 -0.044756 -0.840909 -0.024726  0.222838  0.357489  0.337628   \n",
       "2 -3.297239  3.522667  1.306028 -1.351472 -0.843836 -1.772477  0.494559   \n",
       "3 -1.971260  1.087528  0.182843 -0.238658 -0.038622  0.335204  0.386962   \n",
       "4 -0.990417 -0.267092  0.394423  0.295322  0.262010  0.538722  0.468342   \n",
       "\n",
       "        PC8       PC9      PC10      PC11      PC12  \n",
       "0  0.246944  0.337188  0.216427 -0.113593 -0.076899  \n",
       "1 -0.669243  0.323581 -0.112154  0.190309  0.067810  \n",
       "2  0.789955 -0.486070 -2.211785 -0.044439 -0.074981  \n",
       "3 -0.647857  0.077111 -0.789086  0.122249  0.030152  \n",
       "4 -1.043099  0.333052 -0.432197  0.207691  0.061842  "
      ]
     },
     "execution_count": 18,
     "metadata": {},
     "output_type": "execute_result"
    }
   ],
   "source": [
    "principalDf = pd.DataFrame(data = principalComponents,columns=['PC1','PC2','PC3','PC4','PC5','PC6','PC7','PC8','PC9','PC10','PC11','PC12'],\n",
    "                           index=data.index)\n",
    "principalDf.head()"
   ]
  },
  {
   "cell_type": "code",
   "execution_count": 19,
   "metadata": {},
   "outputs": [],
   "source": [
    "Catego = sc_data[['Month','VisitorType','Weekend']]"
   ]
  },
  {
   "cell_type": "code",
   "execution_count": 20,
   "metadata": {},
   "outputs": [],
   "source": [
    "Final = pd.concat([principalDf,Catego],axis=1)"
   ]
  },
  {
   "cell_type": "code",
   "execution_count": 21,
   "metadata": {},
   "outputs": [],
   "source": [
    "X = Final\n",
    "Y = data1.Revenue"
   ]
  },
  {
   "cell_type": "markdown",
   "metadata": {},
   "source": [
    "## Logistic Regression"
   ]
  },
  {
   "cell_type": "code",
   "execution_count": 22,
   "metadata": {},
   "outputs": [],
   "source": [
    "LR = LogisticRegression()"
   ]
  },
  {
   "cell_type": "markdown",
   "metadata": {},
   "source": [
    "###  K Fold Cross Validation"
   ]
  },
  {
   "cell_type": "code",
   "execution_count": 23,
   "metadata": {},
   "outputs": [],
   "source": [
    "kf = KFold(n_splits=5,shuffle=True,random_state=0)"
   ]
  },
  {
   "cell_type": "code",
   "execution_count": 24,
   "metadata": {},
   "outputs": [
    {
     "name": "stdout",
     "output_type": "stream",
     "text": [
      " Accuracy: 0.88  F1: 0.50 ROC-AOC: 0.68\n"
     ]
    }
   ],
   "source": [
    "F1=[]\n",
    "roc_auc = []\n",
    "accuracy=[]\n",
    "for train,test in kf.split(X,Y):\n",
    "    xtrain,xtest=X.iloc[train,:],X.iloc[test,:]\n",
    "    ytrain,ytest=Y.iloc[train],Y.iloc[test]\n",
    "    LR.fit(xtrain,ytrain)\n",
    "    y_predict = LR.predict(xtest)\n",
    "    F1.append(metrics.f1_score(ytest,y_predict))\n",
    "    fpr,tpr,_=metrics.roc_curve(ytest,y_predict)\n",
    "    roc_auc.append(metrics.auc(fpr,tpr))\n",
    "    accuracy.append(metrics.accuracy_score(ytest,y_predict))\n",
    "print(' Accuracy: %0.02f  F1: %0.02f ROC-AOC: %0.02F'\n",
    "      %(np.mean(accuracy),np.mean(F1),np.mean(roc_auc)))"
   ]
  },
  {
   "cell_type": "code",
   "execution_count": 25,
   "metadata": {},
   "outputs": [
    {
     "data": {
      "text/html": [
       "<div>\n",
       "<style scoped>\n",
       "    .dataframe tbody tr th:only-of-type {\n",
       "        vertical-align: middle;\n",
       "    }\n",
       "\n",
       "    .dataframe tbody tr th {\n",
       "        vertical-align: top;\n",
       "    }\n",
       "\n",
       "    .dataframe thead th {\n",
       "        text-align: right;\n",
       "    }\n",
       "</style>\n",
       "<table border=\"1\" class=\"dataframe\">\n",
       "  <thead>\n",
       "    <tr style=\"text-align: right;\">\n",
       "      <th></th>\n",
       "      <th>Scaling</th>\n",
       "      <th>Model</th>\n",
       "      <th>Accuracy</th>\n",
       "      <th>F1 Score</th>\n",
       "      <th>ROC-AUC</th>\n",
       "    </tr>\n",
       "  </thead>\n",
       "  <tbody>\n",
       "    <tr>\n",
       "      <th>0</th>\n",
       "      <td>Standard</td>\n",
       "      <td>Logistic Regression</td>\n",
       "      <td>0.884266</td>\n",
       "      <td>0.501025</td>\n",
       "      <td>0.676718</td>\n",
       "    </tr>\n",
       "  </tbody>\n",
       "</table>\n",
       "</div>"
      ],
      "text/plain": [
       "    Scaling                Model  Accuracy  F1 Score   ROC-AUC\n",
       "0  Standard  Logistic Regression  0.884266  0.501025  0.676718"
      ]
     },
     "execution_count": 25,
     "metadata": {},
     "output_type": "execute_result"
    }
   ],
   "source": [
    "# Storing results in a dataframe\n",
    "resultsDf = pd.DataFrame({'Scaling':['Standard'],'Model':['Logistic Regression'], \n",
    "                          'Accuracy': [np.mean(accuracy)], 'F1 Score': [np.mean(F1)],'ROC-AUC':[np.mean(roc_auc)]})\n",
    "resultsDf = resultsDf[['Scaling','Model', 'Accuracy','F1 Score','ROC-AUC']]\n",
    "resultsDf"
   ]
  },
  {
   "cell_type": "markdown",
   "metadata": {},
   "source": [
    "## Decision Tree"
   ]
  },
  {
   "cell_type": "code",
   "execution_count": 26,
   "metadata": {},
   "outputs": [],
   "source": [
    "DT = DecisionTreeClassifier()"
   ]
  },
  {
   "cell_type": "code",
   "execution_count": 27,
   "metadata": {},
   "outputs": [
    {
     "data": {
      "text/plain": [
       "GridSearchCV(cv=3, error_score='raise-deprecating',\n",
       "       estimator=DecisionTreeClassifier(class_weight=None, criterion='gini', max_depth=None,\n",
       "            max_features=None, max_leaf_nodes=None,\n",
       "            min_impurity_decrease=0.0, min_impurity_split=None,\n",
       "            min_samples_leaf=1, min_samples_split=2,\n",
       "            min_weight_fraction_leaf=0.0, presort=False, random_state=None,\n",
       "            splitter='best'),\n",
       "       fit_params=None, iid='warn', n_jobs=None,\n",
       "       param_grid={'max_depth': array([1, 2, 3, 4, 5, 6, 7, 8, 9])},\n",
       "       pre_dispatch='2*n_jobs', refit=True, return_train_score='warn',\n",
       "       scoring=None, verbose=0)"
      ]
     },
     "execution_count": 27,
     "metadata": {},
     "output_type": "execute_result"
    }
   ],
   "source": [
    "parameter ={'max_depth':np.arange(1,10)}\n",
    "GS=GridSearchCV(DT,parameter,cv=3)\n",
    "GS.fit(X,Y)"
   ]
  },
  {
   "cell_type": "code",
   "execution_count": 28,
   "metadata": {},
   "outputs": [
    {
     "data": {
      "text/plain": [
       "{'max_depth': 2}"
      ]
     },
     "execution_count": 28,
     "metadata": {},
     "output_type": "execute_result"
    }
   ],
   "source": [
    "GS.best_params_"
   ]
  },
  {
   "cell_type": "code",
   "execution_count": 29,
   "metadata": {},
   "outputs": [],
   "source": [
    "DT = DecisionTreeClassifier(max_depth=2)"
   ]
  },
  {
   "cell_type": "markdown",
   "metadata": {},
   "source": [
    "###  K Fold Cross Validation"
   ]
  },
  {
   "cell_type": "code",
   "execution_count": 30,
   "metadata": {},
   "outputs": [],
   "source": [
    "kf = KFold(n_splits=5,shuffle=True,random_state=0)"
   ]
  },
  {
   "cell_type": "code",
   "execution_count": 31,
   "metadata": {},
   "outputs": [
    {
     "name": "stdout",
     "output_type": "stream",
     "text": [
      " Accuracy: 0.87  F1: 0.33 ROC-AOC: 0.60\n"
     ]
    }
   ],
   "source": [
    "F1=[]\n",
    "roc_auc = []\n",
    "accuracy=[]\n",
    "for train,test in kf.split(X,Y):\n",
    "    xtrain,xtest=X.iloc[train,:],X.iloc[test,:]\n",
    "    ytrain,ytest=Y.iloc[train],Y.iloc[test]\n",
    "    DT.fit(xtrain,ytrain)\n",
    "    y_predict = DT.predict(xtest)\n",
    "    F1.append(metrics.f1_score(ytest,y_predict))\n",
    "    fpr,tpr,_=metrics.roc_curve(ytest,y_predict)\n",
    "    roc_auc.append(metrics.auc(fpr,tpr))\n",
    "    accuracy.append(metrics.accuracy_score(ytest,y_predict))\n",
    "print(' Accuracy: %0.02f  F1: %0.02f ROC-AOC: %0.02F'\n",
    "      %(np.mean(accuracy),np.mean(F1),np.mean(roc_auc)))"
   ]
  },
  {
   "cell_type": "code",
   "execution_count": 32,
   "metadata": {},
   "outputs": [
    {
     "data": {
      "text/html": [
       "<div>\n",
       "<style scoped>\n",
       "    .dataframe tbody tr th:only-of-type {\n",
       "        vertical-align: middle;\n",
       "    }\n",
       "\n",
       "    .dataframe tbody tr th {\n",
       "        vertical-align: top;\n",
       "    }\n",
       "\n",
       "    .dataframe thead th {\n",
       "        text-align: right;\n",
       "    }\n",
       "</style>\n",
       "<table border=\"1\" class=\"dataframe\">\n",
       "  <thead>\n",
       "    <tr style=\"text-align: right;\">\n",
       "      <th></th>\n",
       "      <th>Scaling</th>\n",
       "      <th>Model</th>\n",
       "      <th>Accuracy</th>\n",
       "      <th>F1 Score</th>\n",
       "      <th>ROC-AUC</th>\n",
       "    </tr>\n",
       "  </thead>\n",
       "  <tbody>\n",
       "    <tr>\n",
       "      <th>0</th>\n",
       "      <td>Standard</td>\n",
       "      <td>Logistic Regression</td>\n",
       "      <td>0.884266</td>\n",
       "      <td>0.501025</td>\n",
       "      <td>0.676718</td>\n",
       "    </tr>\n",
       "    <tr>\n",
       "      <th>0</th>\n",
       "      <td>Standard</td>\n",
       "      <td>Decision Tree</td>\n",
       "      <td>0.871046</td>\n",
       "      <td>0.326190</td>\n",
       "      <td>0.597803</td>\n",
       "    </tr>\n",
       "  </tbody>\n",
       "</table>\n",
       "</div>"
      ],
      "text/plain": [
       "    Scaling                Model  Accuracy  F1 Score   ROC-AUC\n",
       "0  Standard  Logistic Regression  0.884266  0.501025  0.676718\n",
       "0  Standard        Decision Tree  0.871046  0.326190  0.597803"
      ]
     },
     "execution_count": 32,
     "metadata": {},
     "output_type": "execute_result"
    }
   ],
   "source": [
    "# Storing results in a dataframe\n",
    "tempResultsDf = pd.DataFrame({'Scaling':['Standard'],'Model':['Decision Tree'], \n",
    "                          'Accuracy': [np.mean(accuracy)], 'F1 Score': [np.mean(F1)],'ROC-AUC':[np.mean(roc_auc)]})\n",
    "resultsDf = pd.concat([resultsDf, tempResultsDf])\n",
    "resultsDf = resultsDf[['Scaling','Model', 'Accuracy','F1 Score','ROC-AUC']]\n",
    "resultsDf"
   ]
  },
  {
   "cell_type": "markdown",
   "metadata": {},
   "source": [
    "## Random Forest"
   ]
  },
  {
   "cell_type": "code",
   "execution_count": 33,
   "metadata": {},
   "outputs": [],
   "source": [
    "RT = RandomForestClassifier(random_state=0)"
   ]
  },
  {
   "cell_type": "code",
   "execution_count": 34,
   "metadata": {},
   "outputs": [
    {
     "data": {
      "text/plain": [
       "GridSearchCV(cv=3, error_score='raise-deprecating',\n",
       "       estimator=RandomForestClassifier(bootstrap=True, class_weight=None, criterion='gini',\n",
       "            max_depth=None, max_features='auto', max_leaf_nodes=None,\n",
       "            min_impurity_decrease=0.0, min_impurity_split=None,\n",
       "            min_samples_leaf=1, min_samples_split=2,\n",
       "            min_weight_fraction_leaf=0.0, n_estimators='warn', n_jobs=None,\n",
       "            oob_score=False, random_state=0, verbose=0, warm_start=False),\n",
       "       fit_params=None, iid='warn', n_jobs=None,\n",
       "       param_grid={'n_estimators': array([1, 2, 3, 4, 5, 6, 7, 8, 9]), 'max_depth': array([1, 2, 3, 4, 5, 6, 7, 8, 9])},\n",
       "       pre_dispatch='2*n_jobs', refit=True, return_train_score='warn',\n",
       "       scoring=None, verbose=0)"
      ]
     },
     "execution_count": 34,
     "metadata": {},
     "output_type": "execute_result"
    }
   ],
   "source": [
    "parameter ={'n_estimators':np.arange(1,10),'max_depth':np.arange(1,10)}\n",
    "GS=GridSearchCV(RT,parameter,cv=3)\n",
    "GS.fit(X,Y)"
   ]
  },
  {
   "cell_type": "code",
   "execution_count": 35,
   "metadata": {},
   "outputs": [
    {
     "data": {
      "text/plain": [
       "{'max_depth': 4, 'n_estimators': 8}"
      ]
     },
     "execution_count": 35,
     "metadata": {},
     "output_type": "execute_result"
    }
   ],
   "source": [
    "GS.best_params_"
   ]
  },
  {
   "cell_type": "code",
   "execution_count": 36,
   "metadata": {},
   "outputs": [],
   "source": [
    "RT = RandomForestClassifier(n_estimators=8,max_depth=4,random_state=0)"
   ]
  },
  {
   "cell_type": "markdown",
   "metadata": {},
   "source": [
    "###  K Fold Cross Validation"
   ]
  },
  {
   "cell_type": "code",
   "execution_count": 37,
   "metadata": {},
   "outputs": [],
   "source": [
    "kf = KFold(n_splits=5,shuffle=True,random_state=0)"
   ]
  },
  {
   "cell_type": "code",
   "execution_count": 38,
   "metadata": {},
   "outputs": [
    {
     "name": "stdout",
     "output_type": "stream",
     "text": [
      " Accuracy: 0.88  F1: 0.37 ROC-AOC: 0.62\n"
     ]
    }
   ],
   "source": [
    "F1=[]\n",
    "roc_auc = []\n",
    "accuracy=[]\n",
    "for train,test in kf.split(X,Y):\n",
    "    xtrain,xtest=X.iloc[train,:],X.iloc[test,:]\n",
    "    ytrain,ytest=Y.iloc[train],Y.iloc[test]\n",
    "    RT.fit(xtrain,ytrain)\n",
    "    y_predict = RT.predict(xtest)\n",
    "    F1.append(metrics.f1_score(ytest,y_predict))\n",
    "    fpr,tpr,_=metrics.roc_curve(ytest,y_predict)\n",
    "    roc_auc.append(metrics.auc(fpr,tpr))\n",
    "    accuracy.append(metrics.accuracy_score(ytest,y_predict))\n",
    "print(' Accuracy: %0.02f  F1: %0.02f ROC-AOC: %0.02F'\n",
    "      %(np.mean(accuracy),np.mean(F1),np.mean(roc_auc)))"
   ]
  },
  {
   "cell_type": "code",
   "execution_count": 39,
   "metadata": {},
   "outputs": [
    {
     "data": {
      "text/html": [
       "<div>\n",
       "<style scoped>\n",
       "    .dataframe tbody tr th:only-of-type {\n",
       "        vertical-align: middle;\n",
       "    }\n",
       "\n",
       "    .dataframe tbody tr th {\n",
       "        vertical-align: top;\n",
       "    }\n",
       "\n",
       "    .dataframe thead th {\n",
       "        text-align: right;\n",
       "    }\n",
       "</style>\n",
       "<table border=\"1\" class=\"dataframe\">\n",
       "  <thead>\n",
       "    <tr style=\"text-align: right;\">\n",
       "      <th></th>\n",
       "      <th>Scaling</th>\n",
       "      <th>Model</th>\n",
       "      <th>Accuracy</th>\n",
       "      <th>F1 Score</th>\n",
       "      <th>ROC-AUC</th>\n",
       "    </tr>\n",
       "  </thead>\n",
       "  <tbody>\n",
       "    <tr>\n",
       "      <th>0</th>\n",
       "      <td>Standard</td>\n",
       "      <td>Logistic Regression</td>\n",
       "      <td>0.884266</td>\n",
       "      <td>0.501025</td>\n",
       "      <td>0.676718</td>\n",
       "    </tr>\n",
       "    <tr>\n",
       "      <th>0</th>\n",
       "      <td>Standard</td>\n",
       "      <td>Decision Tree</td>\n",
       "      <td>0.871046</td>\n",
       "      <td>0.326190</td>\n",
       "      <td>0.597803</td>\n",
       "    </tr>\n",
       "    <tr>\n",
       "      <th>0</th>\n",
       "      <td>Standard</td>\n",
       "      <td>Random Forest</td>\n",
       "      <td>0.875426</td>\n",
       "      <td>0.372520</td>\n",
       "      <td>0.615600</td>\n",
       "    </tr>\n",
       "  </tbody>\n",
       "</table>\n",
       "</div>"
      ],
      "text/plain": [
       "    Scaling                Model  Accuracy  F1 Score   ROC-AUC\n",
       "0  Standard  Logistic Regression  0.884266  0.501025  0.676718\n",
       "0  Standard        Decision Tree  0.871046  0.326190  0.597803\n",
       "0  Standard        Random Forest  0.875426  0.372520  0.615600"
      ]
     },
     "execution_count": 39,
     "metadata": {},
     "output_type": "execute_result"
    }
   ],
   "source": [
    "# Storing results in a dataframe\n",
    "tempResultsDf = pd.DataFrame({'Scaling':['Standard'],'Model':['Random Forest'], \n",
    "                          'Accuracy': [np.mean(accuracy)], 'F1 Score': [np.mean(F1)],'ROC-AUC':[np.mean(roc_auc)]})\n",
    "resultsDf = pd.concat([resultsDf, tempResultsDf])\n",
    "resultsDf = resultsDf[['Scaling','Model', 'Accuracy','F1 Score','ROC-AUC']]\n",
    "resultsDf"
   ]
  },
  {
   "cell_type": "markdown",
   "metadata": {},
   "source": [
    "# MinMax Scalar"
   ]
  },
  {
   "cell_type": "code",
   "execution_count": 40,
   "metadata": {},
   "outputs": [],
   "source": [
    "mm = MinMaxScaler()\n",
    "mm_data = mm.fit_transform(data1)\n",
    "mm_data = pd.DataFrame(mm_data,columns=data1.columns)"
   ]
  },
  {
   "cell_type": "code",
   "execution_count": 41,
   "metadata": {},
   "outputs": [],
   "source": [
    "dat_admin = mm_data[['Administrative', 'Administrative_Duration', 'Informational',\n",
    "       'Informational_Duration', 'ProductRelated', 'ProductRelated_Duration',\n",
    "       'BounceRates', 'ExitRates', 'PageValues', 'SpecialDay',\n",
    "       'OperatingSystems', 'Browser', 'Region', 'TrafficType']]"
   ]
  },
  {
   "cell_type": "code",
   "execution_count": 42,
   "metadata": {},
   "outputs": [],
   "source": [
    "pca = PCA()\n",
    "principalComponents = pca.fit_transform(dat_admin)"
   ]
  },
  {
   "cell_type": "code",
   "execution_count": 43,
   "metadata": {},
   "outputs": [
    {
     "data": {
      "text/plain": [
       "array([ 32.1,  57.3,  70.1,  80.8,  86.8,  91.4,  95.3,  96.7,  97.9,\n",
       "        98.7,  99.4,  99.8, 100.1, 100.1])"
      ]
     },
     "execution_count": 43,
     "metadata": {},
     "output_type": "execute_result"
    }
   ],
   "source": [
    "var_cum=np.cumsum(np.round(pca.explained_variance_ratio_, decimals=3)*100)\n",
    "var_cum"
   ]
  },
  {
   "cell_type": "code",
   "execution_count": 44,
   "metadata": {},
   "outputs": [
    {
     "data": {
      "image/png": "[encoded data removed]",
      "text/plain": [
       "<Figure size 864x432 with 1 Axes>"
      ]
     },
     "metadata": {
      "needs_background": "light"
     },
     "output_type": "display_data"
    }
   ],
   "source": [
    "#SCREE PLOT\n",
    "plt.figure(figsize=(12,6))\n",
    "plt.plot(var_cum,'o-')\n",
    "plt.title('SCREE PLOT')\n",
    "plt.xlabel('number of components')\n",
    "plt.ylabel('cumulative explained variance')\n",
    "plt.grid()\n",
    "plt.show()"
   ]
  },
  {
   "cell_type": "code",
   "execution_count": 45,
   "metadata": {},
   "outputs": [],
   "source": [
    "pca = PCA(n_components=10)\n",
    "principalComponents = pca.fit_transform(dat_admin)"
   ]
  },
  {
   "cell_type": "code",
   "execution_count": 46,
   "metadata": {},
   "outputs": [
    {
     "data": {
      "text/html": [
       "<div>\n",
       "<style scoped>\n",
       "    .dataframe tbody tr th:only-of-type {\n",
       "        vertical-align: middle;\n",
       "    }\n",
       "\n",
       "    .dataframe tbody tr th {\n",
       "        vertical-align: top;\n",
       "    }\n",
       "\n",
       "    .dataframe thead th {\n",
       "        text-align: right;\n",
       "    }\n",
       "</style>\n",
       "<table border=\"1\" class=\"dataframe\">\n",
       "  <thead>\n",
       "    <tr style=\"text-align: right;\">\n",
       "      <th></th>\n",
       "      <th>PC1</th>\n",
       "      <th>PC2</th>\n",
       "      <th>PC3</th>\n",
       "      <th>PC4</th>\n",
       "      <th>PC5</th>\n",
       "      <th>PC6</th>\n",
       "      <th>PC7</th>\n",
       "      <th>PC8</th>\n",
       "      <th>PC9</th>\n",
       "      <th>PC10</th>\n",
       "    </tr>\n",
       "  </thead>\n",
       "  <tbody>\n",
       "    <tr>\n",
       "      <th>0</th>\n",
       "      <td>1.161691</td>\n",
       "      <td>-0.278578</td>\n",
       "      <td>-0.312273</td>\n",
       "      <td>-0.095459</td>\n",
       "      <td>-0.108299</td>\n",
       "      <td>0.040552</td>\n",
       "      <td>-0.076706</td>\n",
       "      <td>-0.060704</td>\n",
       "      <td>-0.029368</td>\n",
       "      <td>-0.006024</td>\n",
       "    </tr>\n",
       "    <tr>\n",
       "      <th>1</th>\n",
       "      <td>0.127404</td>\n",
       "      <td>-0.274689</td>\n",
       "      <td>-0.110999</td>\n",
       "      <td>-0.033214</td>\n",
       "      <td>0.022061</td>\n",
       "      <td>-0.139929</td>\n",
       "      <td>0.021772</td>\n",
       "      <td>0.238162</td>\n",
       "      <td>0.091030</td>\n",
       "      <td>0.024201</td>\n",
       "    </tr>\n",
       "    <tr>\n",
       "      <th>2</th>\n",
       "      <td>1.156906</td>\n",
       "      <td>0.744132</td>\n",
       "      <td>-0.224118</td>\n",
       "      <td>-0.105385</td>\n",
       "      <td>0.004767</td>\n",
       "      <td>0.110189</td>\n",
       "      <td>0.274126</td>\n",
       "      <td>-0.052155</td>\n",
       "      <td>-0.017941</td>\n",
       "      <td>-0.003889</td>\n",
       "    </tr>\n",
       "    <tr>\n",
       "      <th>3</th>\n",
       "      <td>0.448143</td>\n",
       "      <td>-0.131588</td>\n",
       "      <td>-0.032264</td>\n",
       "      <td>-0.084741</td>\n",
       "      <td>0.057079</td>\n",
       "      <td>-0.071718</td>\n",
       "      <td>0.126125</td>\n",
       "      <td>0.213806</td>\n",
       "      <td>0.084318</td>\n",
       "      <td>0.024588</td>\n",
       "    </tr>\n",
       "    <tr>\n",
       "      <th>4</th>\n",
       "      <td>0.031690</td>\n",
       "      <td>-0.255107</td>\n",
       "      <td>0.033817</td>\n",
       "      <td>-0.070128</td>\n",
       "      <td>0.130390</td>\n",
       "      <td>-0.083325</td>\n",
       "      <td>0.094200</td>\n",
       "      <td>0.019494</td>\n",
       "      <td>0.003738</td>\n",
       "      <td>0.000581</td>\n",
       "    </tr>\n",
       "  </tbody>\n",
       "</table>\n",
       "</div>"
      ],
      "text/plain": [
       "        PC1       PC2       PC3       PC4       PC5       PC6       PC7  \\\n",
       "0  1.161691 -0.278578 -0.312273 -0.095459 -0.108299  0.040552 -0.076706   \n",
       "1  0.127404 -0.274689 -0.110999 -0.033214  0.022061 -0.139929  0.021772   \n",
       "2  1.156906  0.744132 -0.224118 -0.105385  0.004767  0.110189  0.274126   \n",
       "3  0.448143 -0.131588 -0.032264 -0.084741  0.057079 -0.071718  0.126125   \n",
       "4  0.031690 -0.255107  0.033817 -0.070128  0.130390 -0.083325  0.094200   \n",
       "\n",
       "        PC8       PC9      PC10  \n",
       "0 -0.060704 -0.029368 -0.006024  \n",
       "1  0.238162  0.091030  0.024201  \n",
       "2 -0.052155 -0.017941 -0.003889  \n",
       "3  0.213806  0.084318  0.024588  \n",
       "4  0.019494  0.003738  0.000581  "
      ]
     },
     "execution_count": 46,
     "metadata": {},
     "output_type": "execute_result"
    }
   ],
   "source": [
    "principalDf = pd.DataFrame(data = principalComponents,columns=['PC1','PC2','PC3','PC4','PC5','PC6','PC7','PC8','PC9','PC10'],\n",
    "                           index=data.index)\n",
    "principalDf.head()"
   ]
  },
  {
   "cell_type": "code",
   "execution_count": 47,
   "metadata": {},
   "outputs": [],
   "source": [
    "Catego = sc_data[['Month','VisitorType','Weekend']]"
   ]
  },
  {
   "cell_type": "code",
   "execution_count": 48,
   "metadata": {},
   "outputs": [],
   "source": [
    "Final = pd.concat([principalDf,Catego],axis=1)"
   ]
  },
  {
   "cell_type": "code",
   "execution_count": 49,
   "metadata": {},
   "outputs": [],
   "source": [
    "X = Final\n",
    "Y = data1.Revenue"
   ]
  },
  {
   "cell_type": "markdown",
   "metadata": {},
   "source": [
    "## Logistic Regression"
   ]
  },
  {
   "cell_type": "code",
   "execution_count": 50,
   "metadata": {},
   "outputs": [],
   "source": [
    "LR = LogisticRegression()"
   ]
  },
  {
   "cell_type": "markdown",
   "metadata": {},
   "source": [
    "###  K Fold Cross Validation"
   ]
  },
  {
   "cell_type": "code",
   "execution_count": 51,
   "metadata": {},
   "outputs": [],
   "source": [
    "kf = KFold(n_splits=5,shuffle=True,random_state=0)"
   ]
  },
  {
   "cell_type": "code",
   "execution_count": 52,
   "metadata": {},
   "outputs": [
    {
     "name": "stdout",
     "output_type": "stream",
     "text": [
      " Accuracy: 0.85  F1: 0.05 ROC-AOC: 0.51\n"
     ]
    }
   ],
   "source": [
    "F1=[]\n",
    "roc_auc = []\n",
    "accuracy=[]\n",
    "for train,test in kf.split(X,Y):\n",
    "    xtrain,xtest=X.iloc[train,:],X.iloc[test,:]\n",
    "    ytrain,ytest=Y.iloc[train],Y.iloc[test]\n",
    "    LR.fit(xtrain,ytrain)\n",
    "    y_predict = LR.predict(xtest)\n",
    "    F1.append(metrics.f1_score(ytest,y_predict))\n",
    "    fpr,tpr,_=metrics.roc_curve(ytest,y_predict)\n",
    "    roc_auc.append(metrics.auc(fpr,tpr))\n",
    "    accuracy.append(metrics.accuracy_score(ytest,y_predict))\n",
    "print(' Accuracy: %0.02f  F1: %0.02f ROC-AOC: %0.02F'\n",
    "      %(np.mean(accuracy),np.mean(F1),np.mean(roc_auc)))"
   ]
  },
  {
   "cell_type": "code",
   "execution_count": 53,
   "metadata": {},
   "outputs": [
    {
     "data": {
      "text/html": [
       "<div>\n",
       "<style scoped>\n",
       "    .dataframe tbody tr th:only-of-type {\n",
       "        vertical-align: middle;\n",
       "    }\n",
       "\n",
       "    .dataframe tbody tr th {\n",
       "        vertical-align: top;\n",
       "    }\n",
       "\n",
       "    .dataframe thead th {\n",
       "        text-align: right;\n",
       "    }\n",
       "</style>\n",
       "<table border=\"1\" class=\"dataframe\">\n",
       "  <thead>\n",
       "    <tr style=\"text-align: right;\">\n",
       "      <th></th>\n",
       "      <th>Scaling</th>\n",
       "      <th>Model</th>\n",
       "      <th>Accuracy</th>\n",
       "      <th>F1 Score</th>\n",
       "      <th>ROC-AUC</th>\n",
       "    </tr>\n",
       "  </thead>\n",
       "  <tbody>\n",
       "    <tr>\n",
       "      <th>0</th>\n",
       "      <td>Standard</td>\n",
       "      <td>Logistic Regression</td>\n",
       "      <td>0.884266</td>\n",
       "      <td>0.501025</td>\n",
       "      <td>0.676718</td>\n",
       "    </tr>\n",
       "    <tr>\n",
       "      <th>0</th>\n",
       "      <td>Standard</td>\n",
       "      <td>Decision Tree</td>\n",
       "      <td>0.871046</td>\n",
       "      <td>0.326190</td>\n",
       "      <td>0.597803</td>\n",
       "    </tr>\n",
       "    <tr>\n",
       "      <th>0</th>\n",
       "      <td>Standard</td>\n",
       "      <td>Random Forest</td>\n",
       "      <td>0.875426</td>\n",
       "      <td>0.372520</td>\n",
       "      <td>0.615600</td>\n",
       "    </tr>\n",
       "    <tr>\n",
       "      <th>0</th>\n",
       "      <td>MinMax</td>\n",
       "      <td>Logistic Regression</td>\n",
       "      <td>0.846796</td>\n",
       "      <td>0.046464</td>\n",
       "      <td>0.510790</td>\n",
       "    </tr>\n",
       "  </tbody>\n",
       "</table>\n",
       "</div>"
      ],
      "text/plain": [
       "    Scaling                Model  Accuracy  F1 Score   ROC-AUC\n",
       "0  Standard  Logistic Regression  0.884266  0.501025  0.676718\n",
       "0  Standard        Decision Tree  0.871046  0.326190  0.597803\n",
       "0  Standard        Random Forest  0.875426  0.372520  0.615600\n",
       "0    MinMax  Logistic Regression  0.846796  0.046464  0.510790"
      ]
     },
     "execution_count": 53,
     "metadata": {},
     "output_type": "execute_result"
    }
   ],
   "source": [
    "# Storing results in a dataframe\n",
    "tempResultsDf = pd.DataFrame({'Scaling':['MinMax'],'Model':['Logistic Regression'], \n",
    "                          'Accuracy': [np.mean(accuracy)], 'F1 Score': [np.mean(F1)],'ROC-AUC':[np.mean(roc_auc)]})\n",
    "resultsDf = pd.concat([resultsDf, tempResultsDf])\n",
    "resultsDf = resultsDf[['Scaling','Model', 'Accuracy','F1 Score','ROC-AUC']]\n",
    "resultsDf"
   ]
  },
  {
   "cell_type": "markdown",
   "metadata": {},
   "source": [
    "## Decision Tree"
   ]
  },
  {
   "cell_type": "code",
   "execution_count": 54,
   "metadata": {},
   "outputs": [],
   "source": [
    "DT = DecisionTreeClassifier()"
   ]
  },
  {
   "cell_type": "code",
   "execution_count": 55,
   "metadata": {},
   "outputs": [
    {
     "data": {
      "text/plain": [
       "GridSearchCV(cv=3, error_score='raise-deprecating',\n",
       "       estimator=DecisionTreeClassifier(class_weight=None, criterion='gini', max_depth=None,\n",
       "            max_features=None, max_leaf_nodes=None,\n",
       "            min_impurity_decrease=0.0, min_impurity_split=None,\n",
       "            min_samples_leaf=1, min_samples_split=2,\n",
       "            min_weight_fraction_leaf=0.0, presort=False, random_state=None,\n",
       "            splitter='best'),\n",
       "       fit_params=None, iid='warn', n_jobs=None,\n",
       "       param_grid={'max_depth': array([1, 2, 3, 4, 5, 6, 7, 8, 9])},\n",
       "       pre_dispatch='2*n_jobs', refit=True, return_train_score='warn',\n",
       "       scoring=None, verbose=0)"
      ]
     },
     "execution_count": 55,
     "metadata": {},
     "output_type": "execute_result"
    }
   ],
   "source": [
    "parameter ={'max_depth':np.arange(1,10)}\n",
    "GS=GridSearchCV(DT,parameter,cv=3)\n",
    "GS.fit(X,Y)"
   ]
  },
  {
   "cell_type": "code",
   "execution_count": 56,
   "metadata": {},
   "outputs": [
    {
     "data": {
      "text/plain": [
       "{'max_depth': 2}"
      ]
     },
     "execution_count": 56,
     "metadata": {},
     "output_type": "execute_result"
    }
   ],
   "source": [
    "GS.best_params_"
   ]
  },
  {
   "cell_type": "code",
   "execution_count": 57,
   "metadata": {},
   "outputs": [],
   "source": [
    "DT = DecisionTreeClassifier(max_depth=2)"
   ]
  },
  {
   "cell_type": "markdown",
   "metadata": {},
   "source": [
    "###  K Fold Cross Validation"
   ]
  },
  {
   "cell_type": "code",
   "execution_count": 58,
   "metadata": {},
   "outputs": [],
   "source": [
    "kf = KFold(n_splits=5,shuffle=True,random_state=0)"
   ]
  },
  {
   "cell_type": "code",
   "execution_count": 59,
   "metadata": {},
   "outputs": [
    {
     "name": "stdout",
     "output_type": "stream",
     "text": [
      " Accuracy: 0.85  F1: 0.22 ROC-AOC: 0.56\n"
     ]
    }
   ],
   "source": [
    "F1=[]\n",
    "roc_auc = []\n",
    "accuracy=[]\n",
    "for train,test in kf.split(X,Y):\n",
    "    xtrain,xtest=X.iloc[train,:],X.iloc[test,:]\n",
    "    ytrain,ytest=Y.iloc[train],Y.iloc[test]\n",
    "    DT.fit(xtrain,ytrain)\n",
    "    y_predict = DT.predict(xtest)\n",
    "    F1.append(metrics.f1_score(ytest,y_predict))\n",
    "    fpr,tpr,_=metrics.roc_curve(ytest,y_predict)\n",
    "    roc_auc.append(metrics.auc(fpr,tpr))\n",
    "    accuracy.append(metrics.accuracy_score(ytest,y_predict))\n",
    "print(' Accuracy: %0.02f  F1: %0.02f ROC-AOC: %0.02F'\n",
    "      %(np.mean(accuracy),np.mean(F1),np.mean(roc_auc)))"
   ]
  },
  {
   "cell_type": "code",
   "execution_count": 60,
   "metadata": {},
   "outputs": [
    {
     "data": {
      "text/html": [
       "<div>\n",
       "<style scoped>\n",
       "    .dataframe tbody tr th:only-of-type {\n",
       "        vertical-align: middle;\n",
       "    }\n",
       "\n",
       "    .dataframe tbody tr th {\n",
       "        vertical-align: top;\n",
       "    }\n",
       "\n",
       "    .dataframe thead th {\n",
       "        text-align: right;\n",
       "    }\n",
       "</style>\n",
       "<table border=\"1\" class=\"dataframe\">\n",
       "  <thead>\n",
       "    <tr style=\"text-align: right;\">\n",
       "      <th></th>\n",
       "      <th>Scaling</th>\n",
       "      <th>Model</th>\n",
       "      <th>Accuracy</th>\n",
       "      <th>F1 Score</th>\n",
       "      <th>ROC-AUC</th>\n",
       "    </tr>\n",
       "  </thead>\n",
       "  <tbody>\n",
       "    <tr>\n",
       "      <th>0</th>\n",
       "      <td>Standard</td>\n",
       "      <td>Logistic Regression</td>\n",
       "      <td>0.884266</td>\n",
       "      <td>0.501025</td>\n",
       "      <td>0.676718</td>\n",
       "    </tr>\n",
       "    <tr>\n",
       "      <th>0</th>\n",
       "      <td>Standard</td>\n",
       "      <td>Decision Tree</td>\n",
       "      <td>0.871046</td>\n",
       "      <td>0.326190</td>\n",
       "      <td>0.597803</td>\n",
       "    </tr>\n",
       "    <tr>\n",
       "      <th>0</th>\n",
       "      <td>Standard</td>\n",
       "      <td>Random Forest</td>\n",
       "      <td>0.875426</td>\n",
       "      <td>0.372520</td>\n",
       "      <td>0.615600</td>\n",
       "    </tr>\n",
       "    <tr>\n",
       "      <th>0</th>\n",
       "      <td>MinMax</td>\n",
       "      <td>Logistic Regression</td>\n",
       "      <td>0.846796</td>\n",
       "      <td>0.046464</td>\n",
       "      <td>0.510790</td>\n",
       "    </tr>\n",
       "    <tr>\n",
       "      <th>0</th>\n",
       "      <td>MinMax</td>\n",
       "      <td>Decision Tree</td>\n",
       "      <td>0.854015</td>\n",
       "      <td>0.217509</td>\n",
       "      <td>0.560389</td>\n",
       "    </tr>\n",
       "  </tbody>\n",
       "</table>\n",
       "</div>"
      ],
      "text/plain": [
       "    Scaling                Model  Accuracy  F1 Score   ROC-AUC\n",
       "0  Standard  Logistic Regression  0.884266  0.501025  0.676718\n",
       "0  Standard        Decision Tree  0.871046  0.326190  0.597803\n",
       "0  Standard        Random Forest  0.875426  0.372520  0.615600\n",
       "0    MinMax  Logistic Regression  0.846796  0.046464  0.510790\n",
       "0    MinMax        Decision Tree  0.854015  0.217509  0.560389"
      ]
     },
     "execution_count": 60,
     "metadata": {},
     "output_type": "execute_result"
    }
   ],
   "source": [
    "# Storing results in a dataframe\n",
    "tempResultsDf = pd.DataFrame({'Scaling':['MinMax'],'Model':['Decision Tree'], \n",
    "                          'Accuracy': [np.mean(accuracy)], 'F1 Score': [np.mean(F1)],'ROC-AUC':[np.mean(roc_auc)]})\n",
    "resultsDf = pd.concat([resultsDf, tempResultsDf])\n",
    "resultsDf = resultsDf[['Scaling','Model', 'Accuracy','F1 Score','ROC-AUC']]\n",
    "resultsDf"
   ]
  },
  {
   "cell_type": "markdown",
   "metadata": {},
   "source": [
    "## Random Forest"
   ]
  },
  {
   "cell_type": "code",
   "execution_count": 61,
   "metadata": {},
   "outputs": [],
   "source": [
    "RT = RandomForestClassifier(random_state=0)"
   ]
  },
  {
   "cell_type": "code",
   "execution_count": 62,
   "metadata": {},
   "outputs": [
    {
     "data": {
      "text/plain": [
       "GridSearchCV(cv=3, error_score='raise-deprecating',\n",
       "       estimator=RandomForestClassifier(bootstrap=True, class_weight=None, criterion='gini',\n",
       "            max_depth=None, max_features='auto', max_leaf_nodes=None,\n",
       "            min_impurity_decrease=0.0, min_impurity_split=None,\n",
       "            min_samples_leaf=1, min_samples_split=2,\n",
       "            min_weight_fraction_leaf=0.0, n_estimators='warn', n_jobs=None,\n",
       "            oob_score=False, random_state=0, verbose=0, warm_start=False),\n",
       "       fit_params=None, iid='warn', n_jobs=None,\n",
       "       param_grid={'n_estimators': array([1, 2, 3, 4, 5, 6, 7, 8, 9]), 'max_depth': array([1, 2, 3, 4, 5, 6, 7, 8, 9])},\n",
       "       pre_dispatch='2*n_jobs', refit=True, return_train_score='warn',\n",
       "       scoring=None, verbose=0)"
      ]
     },
     "execution_count": 62,
     "metadata": {},
     "output_type": "execute_result"
    }
   ],
   "source": [
    "parameter ={'n_estimators':np.arange(1,10),'max_depth':np.arange(1,10)}\n",
    "GS=GridSearchCV(RT,parameter,cv=3)\n",
    "GS.fit(X,Y)"
   ]
  },
  {
   "cell_type": "code",
   "execution_count": 63,
   "metadata": {},
   "outputs": [
    {
     "data": {
      "text/plain": [
       "{'max_depth': 4, 'n_estimators': 9}"
      ]
     },
     "execution_count": 63,
     "metadata": {},
     "output_type": "execute_result"
    }
   ],
   "source": [
    "GS.best_params_"
   ]
  },
  {
   "cell_type": "code",
   "execution_count": 64,
   "metadata": {},
   "outputs": [],
   "source": [
    "RT = RandomForestClassifier(n_estimators=9,max_depth=4,random_state=0)"
   ]
  },
  {
   "cell_type": "markdown",
   "metadata": {},
   "source": [
    "###  K Fold Cross Validation"
   ]
  },
  {
   "cell_type": "code",
   "execution_count": 65,
   "metadata": {},
   "outputs": [],
   "source": [
    "kf = KFold(n_splits=5,shuffle=True,random_state=0)"
   ]
  },
  {
   "cell_type": "code",
   "execution_count": 66,
   "metadata": {},
   "outputs": [
    {
     "name": "stdout",
     "output_type": "stream",
     "text": [
      " Accuracy: 0.85  F1: 0.12 ROC-AOC: 0.53\n"
     ]
    }
   ],
   "source": [
    "F1=[]\n",
    "roc_auc = []\n",
    "accuracy=[]\n",
    "for train,test in kf.split(X,Y):\n",
    "    xtrain,xtest=X.iloc[train,:],X.iloc[test,:]\n",
    "    ytrain,ytest=Y.iloc[train],Y.iloc[test]\n",
    "    RT.fit(xtrain,ytrain)\n",
    "    y_predict = RT.predict(xtest)\n",
    "    F1.append(metrics.f1_score(ytest,y_predict))\n",
    "    fpr,tpr,_=metrics.roc_curve(ytest,y_predict)\n",
    "    roc_auc.append(metrics.auc(fpr,tpr))\n",
    "    accuracy.append(metrics.accuracy_score(ytest,y_predict))\n",
    "print(' Accuracy: %0.02f  F1: %0.02f ROC-AOC: %0.02F'\n",
    "      %(np.mean(accuracy),np.mean(F1),np.mean(roc_auc)))"
   ]
  },
  {
   "cell_type": "code",
   "execution_count": 67,
   "metadata": {},
   "outputs": [
    {
     "data": {
      "text/html": [
       "<div>\n",
       "<style scoped>\n",
       "    .dataframe tbody tr th:only-of-type {\n",
       "        vertical-align: middle;\n",
       "    }\n",
       "\n",
       "    .dataframe tbody tr th {\n",
       "        vertical-align: top;\n",
       "    }\n",
       "\n",
       "    .dataframe thead th {\n",
       "        text-align: right;\n",
       "    }\n",
       "</style>\n",
       "<table border=\"1\" class=\"dataframe\">\n",
       "  <thead>\n",
       "    <tr style=\"text-align: right;\">\n",
       "      <th></th>\n",
       "      <th>Scaling</th>\n",
       "      <th>Model</th>\n",
       "      <th>Accuracy</th>\n",
       "      <th>F1 Score</th>\n",
       "      <th>ROC-AUC</th>\n",
       "    </tr>\n",
       "  </thead>\n",
       "  <tbody>\n",
       "    <tr>\n",
       "      <th>0</th>\n",
       "      <td>Standard</td>\n",
       "      <td>Logistic Regression</td>\n",
       "      <td>0.884266</td>\n",
       "      <td>0.501025</td>\n",
       "      <td>0.676718</td>\n",
       "    </tr>\n",
       "    <tr>\n",
       "      <th>0</th>\n",
       "      <td>Standard</td>\n",
       "      <td>Decision Tree</td>\n",
       "      <td>0.871046</td>\n",
       "      <td>0.326190</td>\n",
       "      <td>0.597803</td>\n",
       "    </tr>\n",
       "    <tr>\n",
       "      <th>0</th>\n",
       "      <td>Standard</td>\n",
       "      <td>Random Forest</td>\n",
       "      <td>0.875426</td>\n",
       "      <td>0.372520</td>\n",
       "      <td>0.615600</td>\n",
       "    </tr>\n",
       "    <tr>\n",
       "      <th>0</th>\n",
       "      <td>MinMax</td>\n",
       "      <td>Logistic Regression</td>\n",
       "      <td>0.846796</td>\n",
       "      <td>0.046464</td>\n",
       "      <td>0.510790</td>\n",
       "    </tr>\n",
       "    <tr>\n",
       "      <th>0</th>\n",
       "      <td>MinMax</td>\n",
       "      <td>Decision Tree</td>\n",
       "      <td>0.854015</td>\n",
       "      <td>0.217509</td>\n",
       "      <td>0.560389</td>\n",
       "    </tr>\n",
       "    <tr>\n",
       "      <th>0</th>\n",
       "      <td>MinMax</td>\n",
       "      <td>Random Forest</td>\n",
       "      <td>0.853609</td>\n",
       "      <td>0.116509</td>\n",
       "      <td>0.530452</td>\n",
       "    </tr>\n",
       "  </tbody>\n",
       "</table>\n",
       "</div>"
      ],
      "text/plain": [
       "    Scaling                Model  Accuracy  F1 Score   ROC-AUC\n",
       "0  Standard  Logistic Regression  0.884266  0.501025  0.676718\n",
       "0  Standard        Decision Tree  0.871046  0.326190  0.597803\n",
       "0  Standard        Random Forest  0.875426  0.372520  0.615600\n",
       "0    MinMax  Logistic Regression  0.846796  0.046464  0.510790\n",
       "0    MinMax        Decision Tree  0.854015  0.217509  0.560389\n",
       "0    MinMax        Random Forest  0.853609  0.116509  0.530452"
      ]
     },
     "execution_count": 67,
     "metadata": {},
     "output_type": "execute_result"
    }
   ],
   "source": [
    "# Storing results in a dataframe\n",
    "tempResultsDf = pd.DataFrame({'Scaling':['MinMax'],'Model':['Random Forest'], \n",
    "                          'Accuracy': [np.mean(accuracy)], 'F1 Score': [np.mean(F1)],'ROC-AUC':[np.mean(roc_auc)]})\n",
    "resultsDf = pd.concat([resultsDf, tempResultsDf])\n",
    "resultsDf = resultsDf[['Scaling','Model', 'Accuracy','F1 Score','ROC-AUC']]\n",
    "resultsDf"
   ]
  },
  {
   "cell_type": "markdown",
   "metadata": {},
   "source": [
    "   # MAXABS Scalar"
   ]
  },
  {
   "cell_type": "code",
   "execution_count": 68,
   "metadata": {},
   "outputs": [],
   "source": [
    "ma = MaxAbsScaler()\n",
    "ma_data = ma.fit_transform(data1)\n",
    "ma_data = pd.DataFrame(ma_data,columns=data1.columns)"
   ]
  },
  {
   "cell_type": "code",
   "execution_count": 69,
   "metadata": {},
   "outputs": [],
   "source": [
    "dat_admin = ma_data[['Administrative', 'Administrative_Duration', 'Informational',\n",
    "       'Informational_Duration', 'ProductRelated', 'ProductRelated_Duration',\n",
    "       'BounceRates', 'ExitRates', 'PageValues', 'SpecialDay',\n",
    "       'OperatingSystems', 'Browser', 'Region', 'TrafficType']]"
   ]
  },
  {
   "cell_type": "code",
   "execution_count": 70,
   "metadata": {},
   "outputs": [],
   "source": [
    "pca = PCA()\n",
    "principalComponents = pca.fit_transform(dat_admin)"
   ]
  },
  {
   "cell_type": "code",
   "execution_count": 71,
   "metadata": {},
   "outputs": [
    {
     "data": {
      "text/plain": [
       "array([ 35. ,  56.7,  69.4,  80.9,  86.4,  91.4,  94.7,  96.2,  97.5,\n",
       "        98.4,  99.1,  99.6,  99.9, 100. ])"
      ]
     },
     "execution_count": 71,
     "metadata": {},
     "output_type": "execute_result"
    }
   ],
   "source": [
    "var_cum=np.cumsum(np.round(pca.explained_variance_ratio_, decimals=3)*100)\n",
    "var_cum"
   ]
  },
  {
   "cell_type": "code",
   "execution_count": 72,
   "metadata": {},
   "outputs": [
    {
     "data": {
      "image/png": "[encoded data removed]",
      "text/plain": [
       "<Figure size 864x432 with 1 Axes>"
      ]
     },
     "metadata": {
      "needs_background": "light"
     },
     "output_type": "display_data"
    }
   ],
   "source": [
    "#SCREE PLOT\n",
    "plt.figure(figsize=(12,6))\n",
    "plt.plot(var_cum,'o-')\n",
    "plt.title('SCREE PLOT')\n",
    "plt.xlabel('number of components')\n",
    "plt.ylabel('cumulative explained variance')\n",
    "plt.grid()\n",
    "plt.show()"
   ]
  },
  {
   "cell_type": "code",
   "execution_count": 73,
   "metadata": {},
   "outputs": [],
   "source": [
    "pca = PCA(n_components=11)\n",
    "principalComponents = pca.fit_transform(dat_admin)"
   ]
  },
  {
   "cell_type": "code",
   "execution_count": 74,
   "metadata": {},
   "outputs": [
    {
     "data": {
      "text/html": [
       "<div>\n",
       "<style scoped>\n",
       "    .dataframe tbody tr th:only-of-type {\n",
       "        vertical-align: middle;\n",
       "    }\n",
       "\n",
       "    .dataframe tbody tr th {\n",
       "        vertical-align: top;\n",
       "    }\n",
       "\n",
       "    .dataframe thead th {\n",
       "        text-align: right;\n",
       "    }\n",
       "</style>\n",
       "<table border=\"1\" class=\"dataframe\">\n",
       "  <thead>\n",
       "    <tr style=\"text-align: right;\">\n",
       "      <th></th>\n",
       "      <th>PC1</th>\n",
       "      <th>PC2</th>\n",
       "      <th>PC3</th>\n",
       "      <th>PC4</th>\n",
       "      <th>PC5</th>\n",
       "      <th>PC6</th>\n",
       "      <th>PC7</th>\n",
       "      <th>PC8</th>\n",
       "      <th>PC9</th>\n",
       "      <th>PC10</th>\n",
       "      <th>PC11</th>\n",
       "    </tr>\n",
       "  </thead>\n",
       "  <tbody>\n",
       "    <tr>\n",
       "      <th>0</th>\n",
       "      <td>1.162737</td>\n",
       "      <td>-0.259425</td>\n",
       "      <td>-0.301894</td>\n",
       "      <td>-0.014360</td>\n",
       "      <td>-0.103788</td>\n",
       "      <td>0.027832</td>\n",
       "      <td>-0.072160</td>\n",
       "      <td>-0.061120</td>\n",
       "      <td>-0.029465</td>\n",
       "      <td>-0.005993</td>\n",
       "      <td>-0.001239</td>\n",
       "    </tr>\n",
       "    <tr>\n",
       "      <th>1</th>\n",
       "      <td>0.126388</td>\n",
       "      <td>-0.246584</td>\n",
       "      <td>-0.108848</td>\n",
       "      <td>-0.003717</td>\n",
       "      <td>0.047156</td>\n",
       "      <td>-0.135203</td>\n",
       "      <td>0.006313</td>\n",
       "      <td>0.238135</td>\n",
       "      <td>0.091018</td>\n",
       "      <td>0.024177</td>\n",
       "      <td>0.043115</td>\n",
       "    </tr>\n",
       "    <tr>\n",
       "      <th>2</th>\n",
       "      <td>1.164650</td>\n",
       "      <td>0.650119</td>\n",
       "      <td>-0.244348</td>\n",
       "      <td>-0.031776</td>\n",
       "      <td>-0.042037</td>\n",
       "      <td>0.076129</td>\n",
       "      <td>0.249501</td>\n",
       "      <td>-0.050778</td>\n",
       "      <td>-0.017773</td>\n",
       "      <td>-0.003947</td>\n",
       "      <td>-0.001251</td>\n",
       "    </tr>\n",
       "    <tr>\n",
       "      <th>3</th>\n",
       "      <td>0.446778</td>\n",
       "      <td>-0.119725</td>\n",
       "      <td>-0.056399</td>\n",
       "      <td>-0.071003</td>\n",
       "      <td>0.057658</td>\n",
       "      <td>-0.074222</td>\n",
       "      <td>0.106366</td>\n",
       "      <td>0.214359</td>\n",
       "      <td>0.084369</td>\n",
       "      <td>0.024533</td>\n",
       "      <td>0.043805</td>\n",
       "    </tr>\n",
       "    <tr>\n",
       "      <th>4</th>\n",
       "      <td>0.028779</td>\n",
       "      <td>-0.225566</td>\n",
       "      <td>0.006262</td>\n",
       "      <td>-0.074028</td>\n",
       "      <td>0.128973</td>\n",
       "      <td>-0.068706</td>\n",
       "      <td>0.084522</td>\n",
       "      <td>0.019981</td>\n",
       "      <td>0.003746</td>\n",
       "      <td>0.000530</td>\n",
       "      <td>-0.011989</td>\n",
       "    </tr>\n",
       "  </tbody>\n",
       "</table>\n",
       "</div>"
      ],
      "text/plain": [
       "        PC1       PC2       PC3       PC4       PC5       PC6       PC7  \\\n",
       "0  1.162737 -0.259425 -0.301894 -0.014360 -0.103788  0.027832 -0.072160   \n",
       "1  0.126388 -0.246584 -0.108848 -0.003717  0.047156 -0.135203  0.006313   \n",
       "2  1.164650  0.650119 -0.244348 -0.031776 -0.042037  0.076129  0.249501   \n",
       "3  0.446778 -0.119725 -0.056399 -0.071003  0.057658 -0.074222  0.106366   \n",
       "4  0.028779 -0.225566  0.006262 -0.074028  0.128973 -0.068706  0.084522   \n",
       "\n",
       "        PC8       PC9      PC10      PC11  \n",
       "0 -0.061120 -0.029465 -0.005993 -0.001239  \n",
       "1  0.238135  0.091018  0.024177  0.043115  \n",
       "2 -0.050778 -0.017773 -0.003947 -0.001251  \n",
       "3  0.214359  0.084369  0.024533  0.043805  \n",
       "4  0.019981  0.003746  0.000530 -0.011989  "
      ]
     },
     "execution_count": 74,
     "metadata": {},
     "output_type": "execute_result"
    }
   ],
   "source": [
    "principalDf = pd.DataFrame(data = principalComponents,columns=['PC1','PC2','PC3','PC4','PC5','PC6','PC7','PC8','PC9','PC10','PC11']\n",
    "                           ,index=data.index)\n",
    "principalDf.head()"
   ]
  },
  {
   "cell_type": "code",
   "execution_count": 75,
   "metadata": {},
   "outputs": [],
   "source": [
    "Catego = sc_data[['Month','VisitorType','Weekend']]"
   ]
  },
  {
   "cell_type": "code",
   "execution_count": 76,
   "metadata": {},
   "outputs": [],
   "source": [
    "Final = pd.concat([principalDf,Catego],axis=1)"
   ]
  },
  {
   "cell_type": "code",
   "execution_count": 77,
   "metadata": {},
   "outputs": [],
   "source": [
    "X = Final\n",
    "Y = data1.Revenue"
   ]
  },
  {
   "cell_type": "markdown",
   "metadata": {},
   "source": [
    "## Logistic Regression"
   ]
  },
  {
   "cell_type": "code",
   "execution_count": 78,
   "metadata": {},
   "outputs": [],
   "source": [
    "LR = LogisticRegression()"
   ]
  },
  {
   "cell_type": "markdown",
   "metadata": {},
   "source": [
    "###  K Fold Cross Validation"
   ]
  },
  {
   "cell_type": "code",
   "execution_count": 79,
   "metadata": {},
   "outputs": [],
   "source": [
    "kf = KFold(n_splits=5,shuffle=True,random_state=0)"
   ]
  },
  {
   "cell_type": "code",
   "execution_count": 80,
   "metadata": {},
   "outputs": [
    {
     "name": "stdout",
     "output_type": "stream",
     "text": [
      " Accuracy: 0.88  F1: 0.40 ROC-AOC: 0.63\n"
     ]
    }
   ],
   "source": [
    "F1=[]\n",
    "roc_auc = []\n",
    "accuracy=[]\n",
    "for train,test in kf.split(X,Y):\n",
    "    xtrain,xtest=X.iloc[train,:],X.iloc[test,:]\n",
    "    ytrain,ytest=Y.iloc[train],Y.iloc[test]\n",
    "    LR.fit(xtrain,ytrain)\n",
    "    y_predict = LR.predict(xtest)\n",
    "    F1.append(metrics.f1_score(ytest,y_predict))\n",
    "    fpr,tpr,_=metrics.roc_curve(ytest,y_predict)\n",
    "    roc_auc.append(metrics.auc(fpr,tpr))\n",
    "    accuracy.append(metrics.accuracy_score(ytest,y_predict))\n",
    "print(' Accuracy: %0.02f  F1: %0.02f ROC-AOC: %0.02F'\n",
    "      %(np.mean(accuracy),np.mean(F1),np.mean(roc_auc)))"
   ]
  },
  {
   "cell_type": "code",
   "execution_count": 81,
   "metadata": {},
   "outputs": [
    {
     "data": {
      "text/html": [
       "<div>\n",
       "<style scoped>\n",
       "    .dataframe tbody tr th:only-of-type {\n",
       "        vertical-align: middle;\n",
       "    }\n",
       "\n",
       "    .dataframe tbody tr th {\n",
       "        vertical-align: top;\n",
       "    }\n",
       "\n",
       "    .dataframe thead th {\n",
       "        text-align: right;\n",
       "    }\n",
       "</style>\n",
       "<table border=\"1\" class=\"dataframe\">\n",
       "  <thead>\n",
       "    <tr style=\"text-align: right;\">\n",
       "      <th></th>\n",
       "      <th>Scaling</th>\n",
       "      <th>Model</th>\n",
       "      <th>Accuracy</th>\n",
       "      <th>F1 Score</th>\n",
       "      <th>ROC-AUC</th>\n",
       "    </tr>\n",
       "  </thead>\n",
       "  <tbody>\n",
       "    <tr>\n",
       "      <th>0</th>\n",
       "      <td>Standard</td>\n",
       "      <td>Logistic Regression</td>\n",
       "      <td>0.884266</td>\n",
       "      <td>0.501025</td>\n",
       "      <td>0.676718</td>\n",
       "    </tr>\n",
       "    <tr>\n",
       "      <th>0</th>\n",
       "      <td>Standard</td>\n",
       "      <td>Decision Tree</td>\n",
       "      <td>0.871046</td>\n",
       "      <td>0.326190</td>\n",
       "      <td>0.597803</td>\n",
       "    </tr>\n",
       "    <tr>\n",
       "      <th>0</th>\n",
       "      <td>Standard</td>\n",
       "      <td>Random Forest</td>\n",
       "      <td>0.875426</td>\n",
       "      <td>0.372520</td>\n",
       "      <td>0.615600</td>\n",
       "    </tr>\n",
       "    <tr>\n",
       "      <th>0</th>\n",
       "      <td>MinMax</td>\n",
       "      <td>Logistic Regression</td>\n",
       "      <td>0.846796</td>\n",
       "      <td>0.046464</td>\n",
       "      <td>0.510790</td>\n",
       "    </tr>\n",
       "    <tr>\n",
       "      <th>0</th>\n",
       "      <td>MinMax</td>\n",
       "      <td>Decision Tree</td>\n",
       "      <td>0.854015</td>\n",
       "      <td>0.217509</td>\n",
       "      <td>0.560389</td>\n",
       "    </tr>\n",
       "    <tr>\n",
       "      <th>0</th>\n",
       "      <td>MinMax</td>\n",
       "      <td>Random Forest</td>\n",
       "      <td>0.853609</td>\n",
       "      <td>0.116509</td>\n",
       "      <td>0.530452</td>\n",
       "    </tr>\n",
       "    <tr>\n",
       "      <th>0</th>\n",
       "      <td>MinAbs</td>\n",
       "      <td>Logistic Regression</td>\n",
       "      <td>0.875101</td>\n",
       "      <td>0.404829</td>\n",
       "      <td>0.630048</td>\n",
       "    </tr>\n",
       "  </tbody>\n",
       "</table>\n",
       "</div>"
      ],
      "text/plain": [
       "    Scaling                Model  Accuracy  F1 Score   ROC-AUC\n",
       "0  Standard  Logistic Regression  0.884266  0.501025  0.676718\n",
       "0  Standard        Decision Tree  0.871046  0.326190  0.597803\n",
       "0  Standard        Random Forest  0.875426  0.372520  0.615600\n",
       "0    MinMax  Logistic Regression  0.846796  0.046464  0.510790\n",
       "0    MinMax        Decision Tree  0.854015  0.217509  0.560389\n",
       "0    MinMax        Random Forest  0.853609  0.116509  0.530452\n",
       "0    MinAbs  Logistic Regression  0.875101  0.404829  0.630048"
      ]
     },
     "execution_count": 81,
     "metadata": {},
     "output_type": "execute_result"
    }
   ],
   "source": [
    "# Storing results in a dataframe\n",
    "tempResultsDf = pd.DataFrame({'Scaling':['MinAbs'],'Model':['Logistic Regression'], \n",
    "                          'Accuracy': [np.mean(accuracy)], 'F1 Score': [np.mean(F1)],'ROC-AUC':[np.mean(roc_auc)]})\n",
    "resultsDf = pd.concat([resultsDf, tempResultsDf])\n",
    "resultsDf = resultsDf[['Scaling','Model', 'Accuracy','F1 Score','ROC-AUC']]\n",
    "resultsDf"
   ]
  },
  {
   "cell_type": "markdown",
   "metadata": {},
   "source": [
    "## Decision Tree"
   ]
  },
  {
   "cell_type": "code",
   "execution_count": 82,
   "metadata": {},
   "outputs": [],
   "source": [
    "DT = DecisionTreeClassifier()"
   ]
  },
  {
   "cell_type": "code",
   "execution_count": 83,
   "metadata": {},
   "outputs": [
    {
     "data": {
      "text/plain": [
       "GridSearchCV(cv=3, error_score='raise-deprecating',\n",
       "       estimator=DecisionTreeClassifier(class_weight=None, criterion='gini', max_depth=None,\n",
       "            max_features=None, max_leaf_nodes=None,\n",
       "            min_impurity_decrease=0.0, min_impurity_split=None,\n",
       "            min_samples_leaf=1, min_samples_split=2,\n",
       "            min_weight_fraction_leaf=0.0, presort=False, random_state=None,\n",
       "            splitter='best'),\n",
       "       fit_params=None, iid='warn', n_jobs=None,\n",
       "       param_grid={'max_depth': array([1, 2, 3, 4, 5, 6, 7, 8, 9])},\n",
       "       pre_dispatch='2*n_jobs', refit=True, return_train_score='warn',\n",
       "       scoring=None, verbose=0)"
      ]
     },
     "execution_count": 83,
     "metadata": {},
     "output_type": "execute_result"
    }
   ],
   "source": [
    "parameter ={'max_depth':np.arange(1,10)}\n",
    "GS=GridSearchCV(DT,parameter,cv=3)\n",
    "GS.fit(X,Y)"
   ]
  },
  {
   "cell_type": "code",
   "execution_count": 84,
   "metadata": {},
   "outputs": [
    {
     "data": {
      "text/plain": [
       "{'max_depth': 2}"
      ]
     },
     "execution_count": 84,
     "metadata": {},
     "output_type": "execute_result"
    }
   ],
   "source": [
    "GS.best_params_"
   ]
  },
  {
   "cell_type": "code",
   "execution_count": 85,
   "metadata": {},
   "outputs": [],
   "source": [
    "DT = DecisionTreeClassifier(max_depth=2)"
   ]
  },
  {
   "cell_type": "markdown",
   "metadata": {},
   "source": [
    "###  K Fold Cross Validation"
   ]
  },
  {
   "cell_type": "code",
   "execution_count": 86,
   "metadata": {},
   "outputs": [],
   "source": [
    "kf = KFold(n_splits=5,shuffle=True,random_state=0)"
   ]
  },
  {
   "cell_type": "code",
   "execution_count": 87,
   "metadata": {},
   "outputs": [
    {
     "name": "stdout",
     "output_type": "stream",
     "text": [
      " Accuracy: 0.88  F1: 0.44 ROC-AOC: 0.65\n"
     ]
    }
   ],
   "source": [
    "F1=[]\n",
    "roc_auc = []\n",
    "accuracy=[]\n",
    "for train,test in kf.split(X,Y):\n",
    "    xtrain,xtest=X.iloc[train,:],X.iloc[test,:]\n",
    "    ytrain,ytest=Y.iloc[train],Y.iloc[test]\n",
    "    DT.fit(xtrain,ytrain)\n",
    "    y_predict = DT.predict(xtest)\n",
    "    F1.append(metrics.f1_score(ytest,y_predict))\n",
    "    fpr,tpr,_=metrics.roc_curve(ytest,y_predict)\n",
    "    roc_auc.append(metrics.auc(fpr,tpr))\n",
    "    accuracy.append(metrics.accuracy_score(ytest,y_predict))\n",
    "print(' Accuracy: %0.02f  F1: %0.02f ROC-AOC: %0.02F'\n",
    "      %(np.mean(accuracy),np.mean(F1),np.mean(roc_auc)))"
   ]
  },
  {
   "cell_type": "code",
   "execution_count": 88,
   "metadata": {},
   "outputs": [
    {
     "data": {
      "text/html": [
       "<div>\n",
       "<style scoped>\n",
       "    .dataframe tbody tr th:only-of-type {\n",
       "        vertical-align: middle;\n",
       "    }\n",
       "\n",
       "    .dataframe tbody tr th {\n",
       "        vertical-align: top;\n",
       "    }\n",
       "\n",
       "    .dataframe thead th {\n",
       "        text-align: right;\n",
       "    }\n",
       "</style>\n",
       "<table border=\"1\" class=\"dataframe\">\n",
       "  <thead>\n",
       "    <tr style=\"text-align: right;\">\n",
       "      <th></th>\n",
       "      <th>Scaling</th>\n",
       "      <th>Model</th>\n",
       "      <th>Accuracy</th>\n",
       "      <th>F1 Score</th>\n",
       "      <th>ROC-AUC</th>\n",
       "    </tr>\n",
       "  </thead>\n",
       "  <tbody>\n",
       "    <tr>\n",
       "      <th>0</th>\n",
       "      <td>Standard</td>\n",
       "      <td>Logistic Regression</td>\n",
       "      <td>0.884266</td>\n",
       "      <td>0.501025</td>\n",
       "      <td>0.676718</td>\n",
       "    </tr>\n",
       "    <tr>\n",
       "      <th>0</th>\n",
       "      <td>Standard</td>\n",
       "      <td>Decision Tree</td>\n",
       "      <td>0.871046</td>\n",
       "      <td>0.326190</td>\n",
       "      <td>0.597803</td>\n",
       "    </tr>\n",
       "    <tr>\n",
       "      <th>0</th>\n",
       "      <td>Standard</td>\n",
       "      <td>Random Forest</td>\n",
       "      <td>0.875426</td>\n",
       "      <td>0.372520</td>\n",
       "      <td>0.615600</td>\n",
       "    </tr>\n",
       "    <tr>\n",
       "      <th>0</th>\n",
       "      <td>MinMax</td>\n",
       "      <td>Logistic Regression</td>\n",
       "      <td>0.846796</td>\n",
       "      <td>0.046464</td>\n",
       "      <td>0.510790</td>\n",
       "    </tr>\n",
       "    <tr>\n",
       "      <th>0</th>\n",
       "      <td>MinMax</td>\n",
       "      <td>Decision Tree</td>\n",
       "      <td>0.854015</td>\n",
       "      <td>0.217509</td>\n",
       "      <td>0.560389</td>\n",
       "    </tr>\n",
       "    <tr>\n",
       "      <th>0</th>\n",
       "      <td>MinMax</td>\n",
       "      <td>Random Forest</td>\n",
       "      <td>0.853609</td>\n",
       "      <td>0.116509</td>\n",
       "      <td>0.530452</td>\n",
       "    </tr>\n",
       "    <tr>\n",
       "      <th>0</th>\n",
       "      <td>MinAbs</td>\n",
       "      <td>Logistic Regression</td>\n",
       "      <td>0.875101</td>\n",
       "      <td>0.404829</td>\n",
       "      <td>0.630048</td>\n",
       "    </tr>\n",
       "    <tr>\n",
       "      <th>0</th>\n",
       "      <td>MaxAbs</td>\n",
       "      <td>Decision Tree</td>\n",
       "      <td>0.879724</td>\n",
       "      <td>0.442958</td>\n",
       "      <td>0.647131</td>\n",
       "    </tr>\n",
       "  </tbody>\n",
       "</table>\n",
       "</div>"
      ],
      "text/plain": [
       "    Scaling                Model  Accuracy  F1 Score   ROC-AUC\n",
       "0  Standard  Logistic Regression  0.884266  0.501025  0.676718\n",
       "0  Standard        Decision Tree  0.871046  0.326190  0.597803\n",
       "0  Standard        Random Forest  0.875426  0.372520  0.615600\n",
       "0    MinMax  Logistic Regression  0.846796  0.046464  0.510790\n",
       "0    MinMax        Decision Tree  0.854015  0.217509  0.560389\n",
       "0    MinMax        Random Forest  0.853609  0.116509  0.530452\n",
       "0    MinAbs  Logistic Regression  0.875101  0.404829  0.630048\n",
       "0    MaxAbs        Decision Tree  0.879724  0.442958  0.647131"
      ]
     },
     "execution_count": 88,
     "metadata": {},
     "output_type": "execute_result"
    }
   ],
   "source": [
    "# Storing results in a dataframe\n",
    "tempResultsDf = pd.DataFrame({'Scaling':['MaxAbs'],'Model':['Decision Tree'], \n",
    "                          'Accuracy': [np.mean(accuracy)], 'F1 Score': [np.mean(F1)],'ROC-AUC':[np.mean(roc_auc)]})\n",
    "resultsDf = pd.concat([resultsDf, tempResultsDf])\n",
    "resultsDf = resultsDf[['Scaling','Model', 'Accuracy','F1 Score','ROC-AUC']]\n",
    "resultsDf"
   ]
  },
  {
   "cell_type": "markdown",
   "metadata": {},
   "source": [
    "## Random Forest"
   ]
  },
  {
   "cell_type": "code",
   "execution_count": 89,
   "metadata": {},
   "outputs": [],
   "source": [
    "RT = RandomForestClassifier(random_state=0)"
   ]
  },
  {
   "cell_type": "code",
   "execution_count": 90,
   "metadata": {},
   "outputs": [
    {
     "data": {
      "text/plain": [
       "GridSearchCV(cv=3, error_score='raise-deprecating',\n",
       "       estimator=RandomForestClassifier(bootstrap=True, class_weight=None, criterion='gini',\n",
       "            max_depth=None, max_features='auto', max_leaf_nodes=None,\n",
       "            min_impurity_decrease=0.0, min_impurity_split=None,\n",
       "            min_samples_leaf=1, min_samples_split=2,\n",
       "            min_weight_fraction_leaf=0.0, n_estimators='warn', n_jobs=None,\n",
       "            oob_score=False, random_state=0, verbose=0, warm_start=False),\n",
       "       fit_params=None, iid='warn', n_jobs=None,\n",
       "       param_grid={'n_estimators': array([1, 2, 3, 4, 5, 6, 7, 8, 9]), 'max_depth': array([1, 2, 3, 4, 5, 6, 7, 8, 9])},\n",
       "       pre_dispatch='2*n_jobs', refit=True, return_train_score='warn',\n",
       "       scoring=None, verbose=0)"
      ]
     },
     "execution_count": 90,
     "metadata": {},
     "output_type": "execute_result"
    }
   ],
   "source": [
    "parameter ={'n_estimators':np.arange(1,10),'max_depth':np.arange(1,10)}\n",
    "GS=GridSearchCV(RT,parameter,cv=3)\n",
    "GS.fit(X,Y)"
   ]
  },
  {
   "cell_type": "code",
   "execution_count": 91,
   "metadata": {},
   "outputs": [
    {
     "data": {
      "text/plain": [
       "{'max_depth': 5, 'n_estimators': 1}"
      ]
     },
     "execution_count": 91,
     "metadata": {},
     "output_type": "execute_result"
    }
   ],
   "source": [
    "GS.best_params_"
   ]
  },
  {
   "cell_type": "code",
   "execution_count": 92,
   "metadata": {},
   "outputs": [],
   "source": [
    "RT = RandomForestClassifier(n_estimators=1,max_depth=5,random_state=0)"
   ]
  },
  {
   "cell_type": "markdown",
   "metadata": {},
   "source": [
    "###  K Fold Cross Validation"
   ]
  },
  {
   "cell_type": "code",
   "execution_count": 93,
   "metadata": {},
   "outputs": [],
   "source": [
    "kf = KFold(n_splits=5,shuffle=True,random_state=0)"
   ]
  },
  {
   "cell_type": "code",
   "execution_count": 94,
   "metadata": {},
   "outputs": [
    {
     "name": "stdout",
     "output_type": "stream",
     "text": [
      " Accuracy: 0.89  F1: 0.57 ROC-AOC: 0.73\n"
     ]
    }
   ],
   "source": [
    "F1=[]\n",
    "roc_auc = []\n",
    "accuracy=[]\n",
    "for train,test in kf.split(X,Y):\n",
    "    xtrain,xtest=X.iloc[train,:],X.iloc[test,:]\n",
    "    ytrain,ytest=Y.iloc[train],Y.iloc[test]\n",
    "    RT.fit(xtrain,ytrain)\n",
    "    y_predict = RT.predict(xtest)\n",
    "    F1.append(metrics.f1_score(ytest,y_predict))\n",
    "    fpr,tpr,_=metrics.roc_curve(ytest,y_predict)\n",
    "    roc_auc.append(metrics.auc(fpr,tpr))\n",
    "    accuracy.append(metrics.accuracy_score(ytest,y_predict))\n",
    "print(' Accuracy: %0.02f  F1: %0.02f ROC-AOC: %0.02F'\n",
    "      %(np.mean(accuracy),np.mean(F1),np.mean(roc_auc)))"
   ]
  },
  {
   "cell_type": "code",
   "execution_count": 95,
   "metadata": {},
   "outputs": [
    {
     "data": {
      "text/html": [
       "<div>\n",
       "<style scoped>\n",
       "    .dataframe tbody tr th:only-of-type {\n",
       "        vertical-align: middle;\n",
       "    }\n",
       "\n",
       "    .dataframe tbody tr th {\n",
       "        vertical-align: top;\n",
       "    }\n",
       "\n",
       "    .dataframe thead th {\n",
       "        text-align: right;\n",
       "    }\n",
       "</style>\n",
       "<table border=\"1\" class=\"dataframe\">\n",
       "  <thead>\n",
       "    <tr style=\"text-align: right;\">\n",
       "      <th></th>\n",
       "      <th>Scaling</th>\n",
       "      <th>Model</th>\n",
       "      <th>Accuracy</th>\n",
       "      <th>F1 Score</th>\n",
       "      <th>ROC-AUC</th>\n",
       "    </tr>\n",
       "  </thead>\n",
       "  <tbody>\n",
       "    <tr>\n",
       "      <th>0</th>\n",
       "      <td>Standard</td>\n",
       "      <td>Logistic Regression</td>\n",
       "      <td>0.884266</td>\n",
       "      <td>0.501025</td>\n",
       "      <td>0.676718</td>\n",
       "    </tr>\n",
       "    <tr>\n",
       "      <th>0</th>\n",
       "      <td>Standard</td>\n",
       "      <td>Decision Tree</td>\n",
       "      <td>0.871046</td>\n",
       "      <td>0.326190</td>\n",
       "      <td>0.597803</td>\n",
       "    </tr>\n",
       "    <tr>\n",
       "      <th>0</th>\n",
       "      <td>Standard</td>\n",
       "      <td>Random Forest</td>\n",
       "      <td>0.875426</td>\n",
       "      <td>0.372520</td>\n",
       "      <td>0.615600</td>\n",
       "    </tr>\n",
       "    <tr>\n",
       "      <th>0</th>\n",
       "      <td>MinMax</td>\n",
       "      <td>Logistic Regression</td>\n",
       "      <td>0.846796</td>\n",
       "      <td>0.046464</td>\n",
       "      <td>0.510790</td>\n",
       "    </tr>\n",
       "    <tr>\n",
       "      <th>0</th>\n",
       "      <td>MinMax</td>\n",
       "      <td>Decision Tree</td>\n",
       "      <td>0.854015</td>\n",
       "      <td>0.217509</td>\n",
       "      <td>0.560389</td>\n",
       "    </tr>\n",
       "    <tr>\n",
       "      <th>0</th>\n",
       "      <td>MinMax</td>\n",
       "      <td>Random Forest</td>\n",
       "      <td>0.853609</td>\n",
       "      <td>0.116509</td>\n",
       "      <td>0.530452</td>\n",
       "    </tr>\n",
       "    <tr>\n",
       "      <th>0</th>\n",
       "      <td>MinAbs</td>\n",
       "      <td>Logistic Regression</td>\n",
       "      <td>0.875101</td>\n",
       "      <td>0.404829</td>\n",
       "      <td>0.630048</td>\n",
       "    </tr>\n",
       "    <tr>\n",
       "      <th>0</th>\n",
       "      <td>MaxAbs</td>\n",
       "      <td>Decision Tree</td>\n",
       "      <td>0.879724</td>\n",
       "      <td>0.442958</td>\n",
       "      <td>0.647131</td>\n",
       "    </tr>\n",
       "    <tr>\n",
       "      <th>0</th>\n",
       "      <td>MaxAbs</td>\n",
       "      <td>Random Forest</td>\n",
       "      <td>0.885483</td>\n",
       "      <td>0.574297</td>\n",
       "      <td>0.728319</td>\n",
       "    </tr>\n",
       "  </tbody>\n",
       "</table>\n",
       "</div>"
      ],
      "text/plain": [
       "    Scaling                Model  Accuracy  F1 Score   ROC-AUC\n",
       "0  Standard  Logistic Regression  0.884266  0.501025  0.676718\n",
       "0  Standard        Decision Tree  0.871046  0.326190  0.597803\n",
       "0  Standard        Random Forest  0.875426  0.372520  0.615600\n",
       "0    MinMax  Logistic Regression  0.846796  0.046464  0.510790\n",
       "0    MinMax        Decision Tree  0.854015  0.217509  0.560389\n",
       "0    MinMax        Random Forest  0.853609  0.116509  0.530452\n",
       "0    MinAbs  Logistic Regression  0.875101  0.404829  0.630048\n",
       "0    MaxAbs        Decision Tree  0.879724  0.442958  0.647131\n",
       "0    MaxAbs        Random Forest  0.885483  0.574297  0.728319"
      ]
     },
     "execution_count": 95,
     "metadata": {},
     "output_type": "execute_result"
    }
   ],
   "source": [
    "# Storing results in a dataframe\n",
    "tempResultsDf = pd.DataFrame({'Scaling':['MaxAbs'],'Model':['Random Forest'], \n",
    "                          'Accuracy': [np.mean(accuracy)], 'F1 Score': [np.mean(F1)],'ROC-AUC':[np.mean(roc_auc)]})\n",
    "resultsDf = pd.concat([resultsDf, tempResultsDf])\n",
    "resultsDf = resultsDf[['Scaling','Model', 'Accuracy','F1 Score','ROC-AUC']]\n",
    "resultsDf"
   ]
  },
  {
   "cell_type": "markdown",
   "metadata": {},
   "source": [
    "# Robust Scalar"
   ]
  },
  {
   "cell_type": "code",
   "execution_count": 96,
   "metadata": {},
   "outputs": [],
   "source": [
    "rs = RobustScaler()\n",
    "rs_data = rs.fit_transform(data1)\n",
    "rs_data = pd.DataFrame(rs_data,columns=data1.columns)"
   ]
  },
  {
   "cell_type": "code",
   "execution_count": 97,
   "metadata": {},
   "outputs": [],
   "source": [
    "dat_admin = rs_data[['Administrative', 'Administrative_Duration', 'Informational',\n",
    "       'Informational_Duration', 'ProductRelated', 'ProductRelated_Duration',\n",
    "       'BounceRates', 'ExitRates', 'PageValues', 'SpecialDay',\n",
    "       'OperatingSystems', 'Browser', 'Region', 'TrafficType']]"
   ]
  },
  {
   "cell_type": "code",
   "execution_count": 98,
   "metadata": {},
   "outputs": [],
   "source": [
    "pca = PCA()\n",
    "principalComponents = pca.fit_transform(dat_admin)"
   ]
  },
  {
   "cell_type": "code",
   "execution_count": 99,
   "metadata": {},
   "outputs": [
    {
     "data": {
      "text/plain": [
       "array([ 98.2,  99.9, 100. , 100. , 100. , 100. , 100. , 100. , 100. ,\n",
       "       100. , 100. , 100. , 100. , 100. ])"
      ]
     },
     "execution_count": 99,
     "metadata": {},
     "output_type": "execute_result"
    }
   ],
   "source": [
    "var_cum=np.cumsum(np.round(pca.explained_variance_ratio_, decimals=3)*100)\n",
    "var_cum"
   ]
  },
  {
   "cell_type": "code",
   "execution_count": 100,
   "metadata": {},
   "outputs": [
    {
     "data": {
      "image/png": "[encoded data removed]",
      "text/plain": [
       "<Figure size 864x432 with 1 Axes>"
      ]
     },
     "metadata": {
      "needs_background": "light"
     },
     "output_type": "display_data"
    }
   ],
   "source": [
    "#SCREE PLOT\n",
    "plt.figure(figsize=(12,6))\n",
    "plt.plot(var_cum,'o-')\n",
    "plt.title('SCREE PLOT')\n",
    "plt.xlabel('number of components')\n",
    "plt.ylabel('cumulative explained variance')\n",
    "plt.grid()\n",
    "plt.show()"
   ]
  },
  {
   "cell_type": "code",
   "execution_count": 101,
   "metadata": {},
   "outputs": [],
   "source": [
    "pca = PCA(n_components=2)\n",
    "principalComponents = pca.fit_transform(dat_admin)"
   ]
  },
  {
   "cell_type": "code",
   "execution_count": 102,
   "metadata": {},
   "outputs": [
    {
     "data": {
      "text/html": [
       "<div>\n",
       "<style scoped>\n",
       "    .dataframe tbody tr th:only-of-type {\n",
       "        vertical-align: middle;\n",
       "    }\n",
       "\n",
       "    .dataframe tbody tr th {\n",
       "        vertical-align: top;\n",
       "    }\n",
       "\n",
       "    .dataframe thead th {\n",
       "        text-align: right;\n",
       "    }\n",
       "</style>\n",
       "<table border=\"1\" class=\"dataframe\">\n",
       "  <thead>\n",
       "    <tr style=\"text-align: right;\">\n",
       "      <th></th>\n",
       "      <th>PC1</th>\n",
       "      <th>PC2</th>\n",
       "    </tr>\n",
       "  </thead>\n",
       "  <tbody>\n",
       "    <tr>\n",
       "      <th>0</th>\n",
       "      <td>-34.527577</td>\n",
       "      <td>-6.021518</td>\n",
       "    </tr>\n",
       "    <tr>\n",
       "      <th>1</th>\n",
       "      <td>-34.506835</td>\n",
       "      <td>-5.755695</td>\n",
       "    </tr>\n",
       "    <tr>\n",
       "      <th>2</th>\n",
       "      <td>-34.528527</td>\n",
       "      <td>-6.015897</td>\n",
       "    </tr>\n",
       "    <tr>\n",
       "      <th>3</th>\n",
       "      <td>-34.513141</td>\n",
       "      <td>-5.823610</td>\n",
       "    </tr>\n",
       "    <tr>\n",
       "      <th>4</th>\n",
       "      <td>-34.505505</td>\n",
       "      <td>-5.750913</td>\n",
       "    </tr>\n",
       "  </tbody>\n",
       "</table>\n",
       "</div>"
      ],
      "text/plain": [
       "         PC1       PC2\n",
       "0 -34.527577 -6.021518\n",
       "1 -34.506835 -5.755695\n",
       "2 -34.528527 -6.015897\n",
       "3 -34.513141 -5.823610\n",
       "4 -34.505505 -5.750913"
      ]
     },
     "execution_count": 102,
     "metadata": {},
     "output_type": "execute_result"
    }
   ],
   "source": [
    "principalDf = pd.DataFrame(data = principalComponents,columns=['PC1','PC2'],index=data.index)\n",
    "principalDf.head()"
   ]
  },
  {
   "cell_type": "code",
   "execution_count": 103,
   "metadata": {},
   "outputs": [],
   "source": [
    "Catego = sc_data[['Month','VisitorType','Weekend']]"
   ]
  },
  {
   "cell_type": "code",
   "execution_count": 104,
   "metadata": {},
   "outputs": [],
   "source": [
    "Final = pd.concat([principalDf,Catego],axis=1)"
   ]
  },
  {
   "cell_type": "code",
   "execution_count": 105,
   "metadata": {},
   "outputs": [],
   "source": [
    "X = Final\n",
    "Y = data1.Revenue"
   ]
  },
  {
   "cell_type": "markdown",
   "metadata": {},
   "source": [
    "## Logistic Regression"
   ]
  },
  {
   "cell_type": "code",
   "execution_count": 106,
   "metadata": {},
   "outputs": [],
   "source": [
    "LR = LogisticRegression()"
   ]
  },
  {
   "cell_type": "markdown",
   "metadata": {},
   "source": [
    "###  K Fold Cross Validation"
   ]
  },
  {
   "cell_type": "code",
   "execution_count": 107,
   "metadata": {},
   "outputs": [],
   "source": [
    "kf = KFold(n_splits=5,shuffle=True,random_state=0)"
   ]
  },
  {
   "cell_type": "code",
   "execution_count": 108,
   "metadata": {},
   "outputs": [
    {
     "name": "stdout",
     "output_type": "stream",
     "text": [
      " Accuracy: 0.88  F1: 0.49 ROC-AOC: 0.67\n"
     ]
    }
   ],
   "source": [
    "F1=[]\n",
    "roc_auc = []\n",
    "accuracy=[]\n",
    "for train,test in kf.split(X,Y):\n",
    "    xtrain,xtest=X.iloc[train,:],X.iloc[test,:]\n",
    "    ytrain,ytest=Y.iloc[train],Y.iloc[test]\n",
    "    LR.fit(xtrain,ytrain)\n",
    "    y_predict = LR.predict(xtest)\n",
    "    F1.append(metrics.f1_score(ytest,y_predict))\n",
    "    fpr,tpr,_=metrics.roc_curve(ytest,y_predict)\n",
    "    roc_auc.append(metrics.auc(fpr,tpr))\n",
    "    accuracy.append(metrics.accuracy_score(ytest,y_predict))\n",
    "print(' Accuracy: %0.02f  F1: %0.02f ROC-AOC: %0.02F'\n",
    "      %(np.mean(accuracy),np.mean(F1),np.mean(roc_auc)))"
   ]
  },
  {
   "cell_type": "code",
   "execution_count": 109,
   "metadata": {},
   "outputs": [
    {
     "data": {
      "text/html": [
       "<div>\n",
       "<style scoped>\n",
       "    .dataframe tbody tr th:only-of-type {\n",
       "        vertical-align: middle;\n",
       "    }\n",
       "\n",
       "    .dataframe tbody tr th {\n",
       "        vertical-align: top;\n",
       "    }\n",
       "\n",
       "    .dataframe thead th {\n",
       "        text-align: right;\n",
       "    }\n",
       "</style>\n",
       "<table border=\"1\" class=\"dataframe\">\n",
       "  <thead>\n",
       "    <tr style=\"text-align: right;\">\n",
       "      <th></th>\n",
       "      <th>Scaling</th>\n",
       "      <th>Model</th>\n",
       "      <th>Accuracy</th>\n",
       "      <th>F1 Score</th>\n",
       "      <th>ROC-AUC</th>\n",
       "    </tr>\n",
       "  </thead>\n",
       "  <tbody>\n",
       "    <tr>\n",
       "      <th>0</th>\n",
       "      <td>Standard</td>\n",
       "      <td>Logistic Regression</td>\n",
       "      <td>0.884266</td>\n",
       "      <td>0.501025</td>\n",
       "      <td>0.676718</td>\n",
       "    </tr>\n",
       "    <tr>\n",
       "      <th>0</th>\n",
       "      <td>Standard</td>\n",
       "      <td>Decision Tree</td>\n",
       "      <td>0.871046</td>\n",
       "      <td>0.326190</td>\n",
       "      <td>0.597803</td>\n",
       "    </tr>\n",
       "    <tr>\n",
       "      <th>0</th>\n",
       "      <td>Standard</td>\n",
       "      <td>Random Forest</td>\n",
       "      <td>0.875426</td>\n",
       "      <td>0.372520</td>\n",
       "      <td>0.615600</td>\n",
       "    </tr>\n",
       "    <tr>\n",
       "      <th>0</th>\n",
       "      <td>MinMax</td>\n",
       "      <td>Logistic Regression</td>\n",
       "      <td>0.846796</td>\n",
       "      <td>0.046464</td>\n",
       "      <td>0.510790</td>\n",
       "    </tr>\n",
       "    <tr>\n",
       "      <th>0</th>\n",
       "      <td>MinMax</td>\n",
       "      <td>Decision Tree</td>\n",
       "      <td>0.854015</td>\n",
       "      <td>0.217509</td>\n",
       "      <td>0.560389</td>\n",
       "    </tr>\n",
       "    <tr>\n",
       "      <th>0</th>\n",
       "      <td>MinMax</td>\n",
       "      <td>Random Forest</td>\n",
       "      <td>0.853609</td>\n",
       "      <td>0.116509</td>\n",
       "      <td>0.530452</td>\n",
       "    </tr>\n",
       "    <tr>\n",
       "      <th>0</th>\n",
       "      <td>MinAbs</td>\n",
       "      <td>Logistic Regression</td>\n",
       "      <td>0.875101</td>\n",
       "      <td>0.404829</td>\n",
       "      <td>0.630048</td>\n",
       "    </tr>\n",
       "    <tr>\n",
       "      <th>0</th>\n",
       "      <td>MaxAbs</td>\n",
       "      <td>Decision Tree</td>\n",
       "      <td>0.879724</td>\n",
       "      <td>0.442958</td>\n",
       "      <td>0.647131</td>\n",
       "    </tr>\n",
       "    <tr>\n",
       "      <th>0</th>\n",
       "      <td>MaxAbs</td>\n",
       "      <td>Random Forest</td>\n",
       "      <td>0.885483</td>\n",
       "      <td>0.574297</td>\n",
       "      <td>0.728319</td>\n",
       "    </tr>\n",
       "    <tr>\n",
       "      <th>0</th>\n",
       "      <td>Robust</td>\n",
       "      <td>Logistic Regression</td>\n",
       "      <td>0.883617</td>\n",
       "      <td>0.491802</td>\n",
       "      <td>0.671506</td>\n",
       "    </tr>\n",
       "  </tbody>\n",
       "</table>\n",
       "</div>"
      ],
      "text/plain": [
       "    Scaling                Model  Accuracy  F1 Score   ROC-AUC\n",
       "0  Standard  Logistic Regression  0.884266  0.501025  0.676718\n",
       "0  Standard        Decision Tree  0.871046  0.326190  0.597803\n",
       "0  Standard        Random Forest  0.875426  0.372520  0.615600\n",
       "0    MinMax  Logistic Regression  0.846796  0.046464  0.510790\n",
       "0    MinMax        Decision Tree  0.854015  0.217509  0.560389\n",
       "0    MinMax        Random Forest  0.853609  0.116509  0.530452\n",
       "0    MinAbs  Logistic Regression  0.875101  0.404829  0.630048\n",
       "0    MaxAbs        Decision Tree  0.879724  0.442958  0.647131\n",
       "0    MaxAbs        Random Forest  0.885483  0.574297  0.728319\n",
       "0    Robust  Logistic Regression  0.883617  0.491802  0.671506"
      ]
     },
     "execution_count": 109,
     "metadata": {},
     "output_type": "execute_result"
    }
   ],
   "source": [
    "# Storing results in a dataframe\n",
    "tempResultsDf = pd.DataFrame({'Scaling':['Robust'],'Model':['Logistic Regression'], \n",
    "                          'Accuracy': [np.mean(accuracy)], 'F1 Score': [np.mean(F1)],'ROC-AUC':[np.mean(roc_auc)]})\n",
    "resultsDf = pd.concat([resultsDf, tempResultsDf])\n",
    "resultsDf = resultsDf[['Scaling','Model', 'Accuracy','F1 Score','ROC-AUC']]\n",
    "resultsDf"
   ]
  },
  {
   "cell_type": "markdown",
   "metadata": {},
   "source": [
    "## Decision Tree"
   ]
  },
  {
   "cell_type": "code",
   "execution_count": 110,
   "metadata": {},
   "outputs": [],
   "source": [
    "DT = DecisionTreeClassifier()"
   ]
  },
  {
   "cell_type": "code",
   "execution_count": 111,
   "metadata": {},
   "outputs": [
    {
     "data": {
      "text/plain": [
       "GridSearchCV(cv=3, error_score='raise-deprecating',\n",
       "       estimator=DecisionTreeClassifier(class_weight=None, criterion='gini', max_depth=None,\n",
       "            max_features=None, max_leaf_nodes=None,\n",
       "            min_impurity_decrease=0.0, min_impurity_split=None,\n",
       "            min_samples_leaf=1, min_samples_split=2,\n",
       "            min_weight_fraction_leaf=0.0, presort=False, random_state=None,\n",
       "            splitter='best'),\n",
       "       fit_params=None, iid='warn', n_jobs=None,\n",
       "       param_grid={'max_depth': array([1, 2, 3, 4, 5, 6, 7, 8, 9])},\n",
       "       pre_dispatch='2*n_jobs', refit=True, return_train_score='warn',\n",
       "       scoring=None, verbose=0)"
      ]
     },
     "execution_count": 111,
     "metadata": {},
     "output_type": "execute_result"
    }
   ],
   "source": [
    "parameter ={'max_depth':np.arange(1,10)}\n",
    "GS=GridSearchCV(DT,parameter,cv=3)\n",
    "GS.fit(X,Y)"
   ]
  },
  {
   "cell_type": "code",
   "execution_count": 112,
   "metadata": {},
   "outputs": [
    {
     "data": {
      "text/plain": [
       "{'max_depth': 2}"
      ]
     },
     "execution_count": 112,
     "metadata": {},
     "output_type": "execute_result"
    }
   ],
   "source": [
    "GS.best_params_"
   ]
  },
  {
   "cell_type": "code",
   "execution_count": 113,
   "metadata": {},
   "outputs": [],
   "source": [
    "DT = DecisionTreeClassifier(max_depth=2)"
   ]
  },
  {
   "cell_type": "markdown",
   "metadata": {},
   "source": [
    "###  K Fold Cross Validation"
   ]
  },
  {
   "cell_type": "code",
   "execution_count": 114,
   "metadata": {},
   "outputs": [],
   "source": [
    "kf = KFold(n_splits=5,shuffle=True,random_state=0)"
   ]
  },
  {
   "cell_type": "code",
   "execution_count": 115,
   "metadata": {},
   "outputs": [
    {
     "name": "stdout",
     "output_type": "stream",
     "text": [
      " Accuracy: 0.88  F1: 0.49 ROC-AOC: 0.67\n"
     ]
    }
   ],
   "source": [
    "F1=[]\n",
    "roc_auc = []\n",
    "accuracy=[]\n",
    "for train,test in kf.split(X,Y):\n",
    "    xtrain,xtest=X.iloc[train,:],X.iloc[test,:]\n",
    "    ytrain,ytest=Y.iloc[train],Y.iloc[test]\n",
    "    DT.fit(xtrain,ytrain)\n",
    "    y_predict = DT.predict(xtest)\n",
    "    F1.append(metrics.f1_score(ytest,y_predict))\n",
    "    fpr,tpr,_=metrics.roc_curve(ytest,y_predict)\n",
    "    roc_auc.append(metrics.auc(fpr,tpr))\n",
    "    accuracy.append(metrics.accuracy_score(ytest,y_predict))\n",
    "print(' Accuracy: %0.02f  F1: %0.02f ROC-AOC: %0.02F'\n",
    "      %(np.mean(accuracy),np.mean(F1),np.mean(roc_auc)))"
   ]
  },
  {
   "cell_type": "code",
   "execution_count": 116,
   "metadata": {},
   "outputs": [
    {
     "data": {
      "text/html": [
       "<div>\n",
       "<style scoped>\n",
       "    .dataframe tbody tr th:only-of-type {\n",
       "        vertical-align: middle;\n",
       "    }\n",
       "\n",
       "    .dataframe tbody tr th {\n",
       "        vertical-align: top;\n",
       "    }\n",
       "\n",
       "    .dataframe thead th {\n",
       "        text-align: right;\n",
       "    }\n",
       "</style>\n",
       "<table border=\"1\" class=\"dataframe\">\n",
       "  <thead>\n",
       "    <tr style=\"text-align: right;\">\n",
       "      <th></th>\n",
       "      <th>Scaling</th>\n",
       "      <th>Model</th>\n",
       "      <th>Accuracy</th>\n",
       "      <th>F1 Score</th>\n",
       "      <th>ROC-AUC</th>\n",
       "    </tr>\n",
       "  </thead>\n",
       "  <tbody>\n",
       "    <tr>\n",
       "      <th>0</th>\n",
       "      <td>Standard</td>\n",
       "      <td>Logistic Regression</td>\n",
       "      <td>0.884266</td>\n",
       "      <td>0.501025</td>\n",
       "      <td>0.676718</td>\n",
       "    </tr>\n",
       "    <tr>\n",
       "      <th>0</th>\n",
       "      <td>Standard</td>\n",
       "      <td>Decision Tree</td>\n",
       "      <td>0.871046</td>\n",
       "      <td>0.326190</td>\n",
       "      <td>0.597803</td>\n",
       "    </tr>\n",
       "    <tr>\n",
       "      <th>0</th>\n",
       "      <td>Standard</td>\n",
       "      <td>Random Forest</td>\n",
       "      <td>0.875426</td>\n",
       "      <td>0.372520</td>\n",
       "      <td>0.615600</td>\n",
       "    </tr>\n",
       "    <tr>\n",
       "      <th>0</th>\n",
       "      <td>MinMax</td>\n",
       "      <td>Logistic Regression</td>\n",
       "      <td>0.846796</td>\n",
       "      <td>0.046464</td>\n",
       "      <td>0.510790</td>\n",
       "    </tr>\n",
       "    <tr>\n",
       "      <th>0</th>\n",
       "      <td>MinMax</td>\n",
       "      <td>Decision Tree</td>\n",
       "      <td>0.854015</td>\n",
       "      <td>0.217509</td>\n",
       "      <td>0.560389</td>\n",
       "    </tr>\n",
       "    <tr>\n",
       "      <th>0</th>\n",
       "      <td>MinMax</td>\n",
       "      <td>Random Forest</td>\n",
       "      <td>0.853609</td>\n",
       "      <td>0.116509</td>\n",
       "      <td>0.530452</td>\n",
       "    </tr>\n",
       "    <tr>\n",
       "      <th>0</th>\n",
       "      <td>MinAbs</td>\n",
       "      <td>Logistic Regression</td>\n",
       "      <td>0.875101</td>\n",
       "      <td>0.404829</td>\n",
       "      <td>0.630048</td>\n",
       "    </tr>\n",
       "    <tr>\n",
       "      <th>0</th>\n",
       "      <td>MaxAbs</td>\n",
       "      <td>Decision Tree</td>\n",
       "      <td>0.879724</td>\n",
       "      <td>0.442958</td>\n",
       "      <td>0.647131</td>\n",
       "    </tr>\n",
       "    <tr>\n",
       "      <th>0</th>\n",
       "      <td>MaxAbs</td>\n",
       "      <td>Random Forest</td>\n",
       "      <td>0.885483</td>\n",
       "      <td>0.574297</td>\n",
       "      <td>0.728319</td>\n",
       "    </tr>\n",
       "    <tr>\n",
       "      <th>0</th>\n",
       "      <td>Robust</td>\n",
       "      <td>Logistic Regression</td>\n",
       "      <td>0.883617</td>\n",
       "      <td>0.491802</td>\n",
       "      <td>0.671506</td>\n",
       "    </tr>\n",
       "    <tr>\n",
       "      <th>0</th>\n",
       "      <td>Robust</td>\n",
       "      <td>Decision Tree</td>\n",
       "      <td>0.883617</td>\n",
       "      <td>0.493922</td>\n",
       "      <td>0.673976</td>\n",
       "    </tr>\n",
       "  </tbody>\n",
       "</table>\n",
       "</div>"
      ],
      "text/plain": [
       "    Scaling                Model  Accuracy  F1 Score   ROC-AUC\n",
       "0  Standard  Logistic Regression  0.884266  0.501025  0.676718\n",
       "0  Standard        Decision Tree  0.871046  0.326190  0.597803\n",
       "0  Standard        Random Forest  0.875426  0.372520  0.615600\n",
       "0    MinMax  Logistic Regression  0.846796  0.046464  0.510790\n",
       "0    MinMax        Decision Tree  0.854015  0.217509  0.560389\n",
       "0    MinMax        Random Forest  0.853609  0.116509  0.530452\n",
       "0    MinAbs  Logistic Regression  0.875101  0.404829  0.630048\n",
       "0    MaxAbs        Decision Tree  0.879724  0.442958  0.647131\n",
       "0    MaxAbs        Random Forest  0.885483  0.574297  0.728319\n",
       "0    Robust  Logistic Regression  0.883617  0.491802  0.671506\n",
       "0    Robust        Decision Tree  0.883617  0.493922  0.673976"
      ]
     },
     "execution_count": 116,
     "metadata": {},
     "output_type": "execute_result"
    }
   ],
   "source": [
    "# Storing results in a dataframe\n",
    "tempResultsDf = pd.DataFrame({'Scaling':['Robust'],'Model':['Decision Tree'], \n",
    "                          'Accuracy': [np.mean(accuracy)], 'F1 Score': [np.mean(F1)],'ROC-AUC':[np.mean(roc_auc)]})\n",
    "resultsDf = pd.concat([resultsDf, tempResultsDf])\n",
    "resultsDf = resultsDf[['Scaling','Model', 'Accuracy','F1 Score','ROC-AUC']]\n",
    "resultsDf"
   ]
  },
  {
   "cell_type": "markdown",
   "metadata": {},
   "source": [
    "## Random Forest"
   ]
  },
  {
   "cell_type": "code",
   "execution_count": 117,
   "metadata": {},
   "outputs": [],
   "source": [
    "RT = RandomForestClassifier(random_state=0)"
   ]
  },
  {
   "cell_type": "code",
   "execution_count": 118,
   "metadata": {},
   "outputs": [
    {
     "data": {
      "text/plain": [
       "GridSearchCV(cv=3, error_score='raise-deprecating',\n",
       "       estimator=RandomForestClassifier(bootstrap=True, class_weight=None, criterion='gini',\n",
       "            max_depth=None, max_features='auto', max_leaf_nodes=None,\n",
       "            min_impurity_decrease=0.0, min_impurity_split=None,\n",
       "            min_samples_leaf=1, min_samples_split=2,\n",
       "            min_weight_fraction_leaf=0.0, n_estimators='warn', n_jobs=None,\n",
       "            oob_score=False, random_state=0, verbose=0, warm_start=False),\n",
       "       fit_params=None, iid='warn', n_jobs=None,\n",
       "       param_grid={'n_estimators': array([1, 2, 3, 4, 5, 6, 7, 8, 9]), 'max_depth': array([1, 2, 3, 4, 5, 6, 7, 8, 9])},\n",
       "       pre_dispatch='2*n_jobs', refit=True, return_train_score='warn',\n",
       "       scoring=None, verbose=0)"
      ]
     },
     "execution_count": 118,
     "metadata": {},
     "output_type": "execute_result"
    }
   ],
   "source": [
    "parameter ={'n_estimators':np.arange(1,10),'max_depth':np.arange(1,10)}\n",
    "GS=GridSearchCV(RT,parameter,cv=3)\n",
    "GS.fit(X,Y)"
   ]
  },
  {
   "cell_type": "code",
   "execution_count": 119,
   "metadata": {},
   "outputs": [
    {
     "data": {
      "text/plain": [
       "{'max_depth': 3, 'n_estimators': 1}"
      ]
     },
     "execution_count": 119,
     "metadata": {},
     "output_type": "execute_result"
    }
   ],
   "source": [
    "GS.best_params_"
   ]
  },
  {
   "cell_type": "code",
   "execution_count": 120,
   "metadata": {},
   "outputs": [],
   "source": [
    "RT = RandomForestClassifier(n_estimators=1,max_depth=3,random_state=0)"
   ]
  },
  {
   "cell_type": "markdown",
   "metadata": {},
   "source": [
    "###  K Fold Cross Validation"
   ]
  },
  {
   "cell_type": "code",
   "execution_count": 121,
   "metadata": {},
   "outputs": [],
   "source": [
    "kf = KFold(n_splits=5,shuffle=True,random_state=0)"
   ]
  },
  {
   "cell_type": "code",
   "execution_count": 122,
   "metadata": {},
   "outputs": [
    {
     "name": "stdout",
     "output_type": "stream",
     "text": [
      " Accuracy: 0.89  F1: 0.64 ROC-AOC: 0.78\n"
     ]
    }
   ],
   "source": [
    "F1=[]\n",
    "roc_auc = []\n",
    "accuracy=[]\n",
    "for train,test in kf.split(X,Y):\n",
    "    xtrain,xtest=X.iloc[train,:],X.iloc[test,:]\n",
    "    ytrain,ytest=Y.iloc[train],Y.iloc[test]\n",
    "    RT.fit(xtrain,ytrain)\n",
    "    y_predict = RT.predict(xtest)\n",
    "    F1.append(metrics.f1_score(ytest,y_predict))\n",
    "    fpr,tpr,_=metrics.roc_curve(ytest,y_predict)\n",
    "    roc_auc.append(metrics.auc(fpr,tpr))\n",
    "    accuracy.append(metrics.accuracy_score(ytest,y_predict))\n",
    "print(' Accuracy: %0.02f  F1: %0.02f ROC-AOC: %0.02F'\n",
    "      %(np.mean(accuracy),np.mean(F1),np.mean(roc_auc)))"
   ]
  },
  {
   "cell_type": "code",
   "execution_count": 123,
   "metadata": {},
   "outputs": [
    {
     "data": {
      "text/html": [
       "<div>\n",
       "<style scoped>\n",
       "    .dataframe tbody tr th:only-of-type {\n",
       "        vertical-align: middle;\n",
       "    }\n",
       "\n",
       "    .dataframe tbody tr th {\n",
       "        vertical-align: top;\n",
       "    }\n",
       "\n",
       "    .dataframe thead th {\n",
       "        text-align: right;\n",
       "    }\n",
       "</style>\n",
       "<table border=\"1\" class=\"dataframe\">\n",
       "  <thead>\n",
       "    <tr style=\"text-align: right;\">\n",
       "      <th></th>\n",
       "      <th>Scaling</th>\n",
       "      <th>Model</th>\n",
       "      <th>Accuracy</th>\n",
       "      <th>F1 Score</th>\n",
       "      <th>ROC-AUC</th>\n",
       "    </tr>\n",
       "  </thead>\n",
       "  <tbody>\n",
       "    <tr>\n",
       "      <th>0</th>\n",
       "      <td>Standard</td>\n",
       "      <td>Logistic Regression</td>\n",
       "      <td>0.884266</td>\n",
       "      <td>0.501025</td>\n",
       "      <td>0.676718</td>\n",
       "    </tr>\n",
       "    <tr>\n",
       "      <th>0</th>\n",
       "      <td>Standard</td>\n",
       "      <td>Decision Tree</td>\n",
       "      <td>0.871046</td>\n",
       "      <td>0.326190</td>\n",
       "      <td>0.597803</td>\n",
       "    </tr>\n",
       "    <tr>\n",
       "      <th>0</th>\n",
       "      <td>Standard</td>\n",
       "      <td>Random Forest</td>\n",
       "      <td>0.875426</td>\n",
       "      <td>0.372520</td>\n",
       "      <td>0.615600</td>\n",
       "    </tr>\n",
       "    <tr>\n",
       "      <th>0</th>\n",
       "      <td>MinMax</td>\n",
       "      <td>Logistic Regression</td>\n",
       "      <td>0.846796</td>\n",
       "      <td>0.046464</td>\n",
       "      <td>0.510790</td>\n",
       "    </tr>\n",
       "    <tr>\n",
       "      <th>0</th>\n",
       "      <td>MinMax</td>\n",
       "      <td>Decision Tree</td>\n",
       "      <td>0.854015</td>\n",
       "      <td>0.217509</td>\n",
       "      <td>0.560389</td>\n",
       "    </tr>\n",
       "    <tr>\n",
       "      <th>0</th>\n",
       "      <td>MinMax</td>\n",
       "      <td>Random Forest</td>\n",
       "      <td>0.853609</td>\n",
       "      <td>0.116509</td>\n",
       "      <td>0.530452</td>\n",
       "    </tr>\n",
       "    <tr>\n",
       "      <th>0</th>\n",
       "      <td>MinAbs</td>\n",
       "      <td>Logistic Regression</td>\n",
       "      <td>0.875101</td>\n",
       "      <td>0.404829</td>\n",
       "      <td>0.630048</td>\n",
       "    </tr>\n",
       "    <tr>\n",
       "      <th>0</th>\n",
       "      <td>MaxAbs</td>\n",
       "      <td>Decision Tree</td>\n",
       "      <td>0.879724</td>\n",
       "      <td>0.442958</td>\n",
       "      <td>0.647131</td>\n",
       "    </tr>\n",
       "    <tr>\n",
       "      <th>0</th>\n",
       "      <td>MaxAbs</td>\n",
       "      <td>Random Forest</td>\n",
       "      <td>0.885483</td>\n",
       "      <td>0.574297</td>\n",
       "      <td>0.728319</td>\n",
       "    </tr>\n",
       "    <tr>\n",
       "      <th>0</th>\n",
       "      <td>Robust</td>\n",
       "      <td>Logistic Regression</td>\n",
       "      <td>0.883617</td>\n",
       "      <td>0.491802</td>\n",
       "      <td>0.671506</td>\n",
       "    </tr>\n",
       "    <tr>\n",
       "      <th>0</th>\n",
       "      <td>Robust</td>\n",
       "      <td>Decision Tree</td>\n",
       "      <td>0.883617</td>\n",
       "      <td>0.493922</td>\n",
       "      <td>0.673976</td>\n",
       "    </tr>\n",
       "    <tr>\n",
       "      <th>0</th>\n",
       "      <td>Robust</td>\n",
       "      <td>Random Forest</td>\n",
       "      <td>0.891890</td>\n",
       "      <td>0.635275</td>\n",
       "      <td>0.776545</td>\n",
       "    </tr>\n",
       "  </tbody>\n",
       "</table>\n",
       "</div>"
      ],
      "text/plain": [
       "    Scaling                Model  Accuracy  F1 Score   ROC-AUC\n",
       "0  Standard  Logistic Regression  0.884266  0.501025  0.676718\n",
       "0  Standard        Decision Tree  0.871046  0.326190  0.597803\n",
       "0  Standard        Random Forest  0.875426  0.372520  0.615600\n",
       "0    MinMax  Logistic Regression  0.846796  0.046464  0.510790\n",
       "0    MinMax        Decision Tree  0.854015  0.217509  0.560389\n",
       "0    MinMax        Random Forest  0.853609  0.116509  0.530452\n",
       "0    MinAbs  Logistic Regression  0.875101  0.404829  0.630048\n",
       "0    MaxAbs        Decision Tree  0.879724  0.442958  0.647131\n",
       "0    MaxAbs        Random Forest  0.885483  0.574297  0.728319\n",
       "0    Robust  Logistic Regression  0.883617  0.491802  0.671506\n",
       "0    Robust        Decision Tree  0.883617  0.493922  0.673976\n",
       "0    Robust        Random Forest  0.891890  0.635275  0.776545"
      ]
     },
     "execution_count": 123,
     "metadata": {},
     "output_type": "execute_result"
    }
   ],
   "source": [
    "# Storing results in a dataframe\n",
    "tempResultsDf = pd.DataFrame({'Scaling':['Robust'],'Model':['Random Forest'], \n",
    "                          'Accuracy': [np.mean(accuracy)], 'F1 Score': [np.mean(F1)],'ROC-AUC':[np.mean(roc_auc)]})\n",
    "resultsDf = pd.concat([resultsDf, tempResultsDf])\n",
    "resultsDf = resultsDf[['Scaling','Model', 'Accuracy','F1 Score','ROC-AUC']]\n",
    "resultsDf"
   ]
  },
  {
   "cell_type": "markdown",
   "metadata": {},
   "source": [
    "# QuantileTransformer-Normal Scalar"
   ]
  },
  {
   "cell_type": "code",
   "execution_count": 124,
   "metadata": {},
   "outputs": [],
   "source": [
    "qt = QuantileTransformer(output_distribution='normal')\n",
    "qt_data = qt.fit_transform(data1)\n",
    "qt_data = pd.DataFrame(qt_data,columns=data1.columns)"
   ]
  },
  {
   "cell_type": "code",
   "execution_count": 125,
   "metadata": {},
   "outputs": [],
   "source": [
    "dat_admin = qt_data[['Administrative', 'Administrative_Duration', 'Informational',\n",
    "       'Informational_Duration', 'ProductRelated', 'ProductRelated_Duration',\n",
    "       'BounceRates', 'ExitRates', 'PageValues', 'SpecialDay',\n",
    "       'OperatingSystems', 'Browser', 'Region', 'TrafficType']]"
   ]
  },
  {
   "cell_type": "code",
   "execution_count": 126,
   "metadata": {},
   "outputs": [],
   "source": [
    "pca = PCA()\n",
    "principalComponents = pca.fit_transform(dat_admin)"
   ]
  },
  {
   "cell_type": "code",
   "execution_count": 127,
   "metadata": {},
   "outputs": [
    {
     "data": {
      "text/plain": [
       "array([ 28. ,  42.7,  54.2,  64.8,  74.8,  81.9,  88.6,  93.9,  96.9,\n",
       "        98.7,  99.2,  99.6,  99.9, 100.1])"
      ]
     },
     "execution_count": 127,
     "metadata": {},
     "output_type": "execute_result"
    }
   ],
   "source": [
    "var_cum=np.cumsum(np.round(pca.explained_variance_ratio_, decimals=3)*100)\n",
    "var_cum"
   ]
  },
  {
   "cell_type": "code",
   "execution_count": 128,
   "metadata": {},
   "outputs": [
    {
     "data": {
      "image/png": "[encoded data removed]",
      "text/plain": [
       "<Figure size 864x432 with 1 Axes>"
      ]
     },
     "metadata": {
      "needs_background": "light"
     },
     "output_type": "display_data"
    }
   ],
   "source": [
    "#SCREE PLOT\n",
    "plt.figure(figsize=(12,6))\n",
    "plt.plot(var_cum,'o-')\n",
    "plt.title('SCREE PLOT')\n",
    "plt.xlabel('number of components')\n",
    "plt.ylabel('cumulative explained variance')\n",
    "plt.grid()\n",
    "plt.show()"
   ]
  },
  {
   "cell_type": "code",
   "execution_count": 129,
   "metadata": {},
   "outputs": [],
   "source": [
    "pca = PCA(n_components=11)\n",
    "principalComponents = pca.fit_transform(dat_admin)"
   ]
  },
  {
   "cell_type": "code",
   "execution_count": 130,
   "metadata": {},
   "outputs": [
    {
     "data": {
      "text/html": [
       "<div>\n",
       "<style scoped>\n",
       "    .dataframe tbody tr th:only-of-type {\n",
       "        vertical-align: middle;\n",
       "    }\n",
       "\n",
       "    .dataframe tbody tr th {\n",
       "        vertical-align: top;\n",
       "    }\n",
       "\n",
       "    .dataframe thead th {\n",
       "        text-align: right;\n",
       "    }\n",
       "</style>\n",
       "<table border=\"1\" class=\"dataframe\">\n",
       "  <thead>\n",
       "    <tr style=\"text-align: right;\">\n",
       "      <th></th>\n",
       "      <th>PC1</th>\n",
       "      <th>PC2</th>\n",
       "      <th>PC3</th>\n",
       "      <th>PC4</th>\n",
       "      <th>PC5</th>\n",
       "      <th>PC6</th>\n",
       "      <th>PC7</th>\n",
       "      <th>PC8</th>\n",
       "      <th>PC9</th>\n",
       "      <th>PC10</th>\n",
       "      <th>PC11</th>\n",
       "    </tr>\n",
       "  </thead>\n",
       "  <tbody>\n",
       "    <tr>\n",
       "      <th>0</th>\n",
       "      <td>-7.921085</td>\n",
       "      <td>7.704087</td>\n",
       "      <td>-5.695026</td>\n",
       "      <td>-4.380476</td>\n",
       "      <td>0.407279</td>\n",
       "      <td>1.161948</td>\n",
       "      <td>-3.583814</td>\n",
       "      <td>-0.469946</td>\n",
       "      <td>3.534468</td>\n",
       "      <td>0.148543</td>\n",
       "      <td>-0.132176</td>\n",
       "    </tr>\n",
       "    <tr>\n",
       "      <th>1</th>\n",
       "      <td>-4.639404</td>\n",
       "      <td>-2.567980</td>\n",
       "      <td>-2.537908</td>\n",
       "      <td>3.994665</td>\n",
       "      <td>-1.217184</td>\n",
       "      <td>-0.523785</td>\n",
       "      <td>-0.341748</td>\n",
       "      <td>-1.142621</td>\n",
       "      <td>1.588051</td>\n",
       "      <td>-0.095675</td>\n",
       "      <td>-0.613210</td>\n",
       "    </tr>\n",
       "    <tr>\n",
       "      <th>2</th>\n",
       "      <td>-7.612534</td>\n",
       "      <td>5.545122</td>\n",
       "      <td>5.301250</td>\n",
       "      <td>-5.563085</td>\n",
       "      <td>2.949971</td>\n",
       "      <td>-0.191112</td>\n",
       "      <td>1.188964</td>\n",
       "      <td>-2.680651</td>\n",
       "      <td>3.015884</td>\n",
       "      <td>5.156461</td>\n",
       "      <td>-0.204906</td>\n",
       "    </tr>\n",
       "    <tr>\n",
       "      <th>3</th>\n",
       "      <td>-5.651187</td>\n",
       "      <td>1.685489</td>\n",
       "      <td>2.538751</td>\n",
       "      <td>-0.087332</td>\n",
       "      <td>-0.622242</td>\n",
       "      <td>-0.322345</td>\n",
       "      <td>1.026663</td>\n",
       "      <td>-2.004561</td>\n",
       "      <td>0.044558</td>\n",
       "      <td>0.659358</td>\n",
       "      <td>0.534263</td>\n",
       "    </tr>\n",
       "    <tr>\n",
       "      <th>4</th>\n",
       "      <td>-5.070178</td>\n",
       "      <td>1.609362</td>\n",
       "      <td>-0.927508</td>\n",
       "      <td>2.338272</td>\n",
       "      <td>-3.627862</td>\n",
       "      <td>-0.195971</td>\n",
       "      <td>0.969082</td>\n",
       "      <td>-1.798899</td>\n",
       "      <td>-1.513144</td>\n",
       "      <td>-0.136960</td>\n",
       "      <td>0.141480</td>\n",
       "    </tr>\n",
       "  </tbody>\n",
       "</table>\n",
       "</div>"
      ],
      "text/plain": [
       "        PC1       PC2       PC3       PC4       PC5       PC6       PC7  \\\n",
       "0 -7.921085  7.704087 -5.695026 -4.380476  0.407279  1.161948 -3.583814   \n",
       "1 -4.639404 -2.567980 -2.537908  3.994665 -1.217184 -0.523785 -0.341748   \n",
       "2 -7.612534  5.545122  5.301250 -5.563085  2.949971 -0.191112  1.188964   \n",
       "3 -5.651187  1.685489  2.538751 -0.087332 -0.622242 -0.322345  1.026663   \n",
       "4 -5.070178  1.609362 -0.927508  2.338272 -3.627862 -0.195971  0.969082   \n",
       "\n",
       "        PC8       PC9      PC10      PC11  \n",
       "0 -0.469946  3.534468  0.148543 -0.132176  \n",
       "1 -1.142621  1.588051 -0.095675 -0.613210  \n",
       "2 -2.680651  3.015884  5.156461 -0.204906  \n",
       "3 -2.004561  0.044558  0.659358  0.534263  \n",
       "4 -1.798899 -1.513144 -0.136960  0.141480  "
      ]
     },
     "execution_count": 130,
     "metadata": {},
     "output_type": "execute_result"
    }
   ],
   "source": [
    "principalDf = pd.DataFrame(data = principalComponents,columns=['PC1','PC2','PC3','PC4','PC5','PC6','PC7','PC8','PC9','PC10','PC11'],\n",
    "                           index=data.index)\n",
    "principalDf.head()"
   ]
  },
  {
   "cell_type": "code",
   "execution_count": 131,
   "metadata": {},
   "outputs": [],
   "source": [
    "Catego = sc_data[['Month','VisitorType','Weekend']]"
   ]
  },
  {
   "cell_type": "code",
   "execution_count": 132,
   "metadata": {},
   "outputs": [],
   "source": [
    "Final = pd.concat([principalDf,Catego],axis=1)"
   ]
  },
  {
   "cell_type": "code",
   "execution_count": 133,
   "metadata": {},
   "outputs": [],
   "source": [
    "X = Final\n",
    "Y = data1.Revenue"
   ]
  },
  {
   "cell_type": "markdown",
   "metadata": {},
   "source": [
    "## Logistic Regression"
   ]
  },
  {
   "cell_type": "code",
   "execution_count": 134,
   "metadata": {},
   "outputs": [],
   "source": [
    "LR = LogisticRegression()"
   ]
  },
  {
   "cell_type": "markdown",
   "metadata": {},
   "source": [
    "###  K Fold Cross Validation"
   ]
  },
  {
   "cell_type": "code",
   "execution_count": 135,
   "metadata": {},
   "outputs": [],
   "source": [
    "kf = KFold(n_splits=5,shuffle=True,random_state=0)"
   ]
  },
  {
   "cell_type": "code",
   "execution_count": 136,
   "metadata": {},
   "outputs": [
    {
     "name": "stdout",
     "output_type": "stream",
     "text": [
      " Accuracy: 0.89  F1: 0.64 ROC-AOC: 0.78\n"
     ]
    }
   ],
   "source": [
    "F1=[]\n",
    "roc_auc = []\n",
    "accuracy=[]\n",
    "for train,test in kf.split(X,Y):\n",
    "    xtrain,xtest=X.iloc[train,:],X.iloc[test,:]\n",
    "    ytrain,ytest=Y.iloc[train],Y.iloc[test]\n",
    "    LR.fit(xtrain,ytrain)\n",
    "    y_predict = LR.predict(xtest)\n",
    "    F1.append(metrics.f1_score(ytest,y_predict))\n",
    "    fpr,tpr,_=metrics.roc_curve(ytest,y_predict)\n",
    "    roc_auc.append(metrics.auc(fpr,tpr))\n",
    "    accuracy.append(metrics.accuracy_score(ytest,y_predict))\n",
    "print(' Accuracy: %0.02f  F1: %0.02f ROC-AOC: %0.02F'\n",
    "      %(np.mean(accuracy),np.mean(F1),np.mean(roc_auc)))"
   ]
  },
  {
   "cell_type": "code",
   "execution_count": 137,
   "metadata": {},
   "outputs": [
    {
     "data": {
      "text/html": [
       "<div>\n",
       "<style scoped>\n",
       "    .dataframe tbody tr th:only-of-type {\n",
       "        vertical-align: middle;\n",
       "    }\n",
       "\n",
       "    .dataframe tbody tr th {\n",
       "        vertical-align: top;\n",
       "    }\n",
       "\n",
       "    .dataframe thead th {\n",
       "        text-align: right;\n",
       "    }\n",
       "</style>\n",
       "<table border=\"1\" class=\"dataframe\">\n",
       "  <thead>\n",
       "    <tr style=\"text-align: right;\">\n",
       "      <th></th>\n",
       "      <th>Scaling</th>\n",
       "      <th>Model</th>\n",
       "      <th>Accuracy</th>\n",
       "      <th>F1 Score</th>\n",
       "      <th>ROC-AUC</th>\n",
       "    </tr>\n",
       "  </thead>\n",
       "  <tbody>\n",
       "    <tr>\n",
       "      <th>0</th>\n",
       "      <td>Standard</td>\n",
       "      <td>Logistic Regression</td>\n",
       "      <td>0.884266</td>\n",
       "      <td>0.501025</td>\n",
       "      <td>0.676718</td>\n",
       "    </tr>\n",
       "    <tr>\n",
       "      <th>0</th>\n",
       "      <td>Standard</td>\n",
       "      <td>Decision Tree</td>\n",
       "      <td>0.871046</td>\n",
       "      <td>0.326190</td>\n",
       "      <td>0.597803</td>\n",
       "    </tr>\n",
       "    <tr>\n",
       "      <th>0</th>\n",
       "      <td>Standard</td>\n",
       "      <td>Random Forest</td>\n",
       "      <td>0.875426</td>\n",
       "      <td>0.372520</td>\n",
       "      <td>0.615600</td>\n",
       "    </tr>\n",
       "    <tr>\n",
       "      <th>0</th>\n",
       "      <td>MinMax</td>\n",
       "      <td>Logistic Regression</td>\n",
       "      <td>0.846796</td>\n",
       "      <td>0.046464</td>\n",
       "      <td>0.510790</td>\n",
       "    </tr>\n",
       "    <tr>\n",
       "      <th>0</th>\n",
       "      <td>MinMax</td>\n",
       "      <td>Decision Tree</td>\n",
       "      <td>0.854015</td>\n",
       "      <td>0.217509</td>\n",
       "      <td>0.560389</td>\n",
       "    </tr>\n",
       "    <tr>\n",
       "      <th>0</th>\n",
       "      <td>MinMax</td>\n",
       "      <td>Random Forest</td>\n",
       "      <td>0.853609</td>\n",
       "      <td>0.116509</td>\n",
       "      <td>0.530452</td>\n",
       "    </tr>\n",
       "    <tr>\n",
       "      <th>0</th>\n",
       "      <td>MinAbs</td>\n",
       "      <td>Logistic Regression</td>\n",
       "      <td>0.875101</td>\n",
       "      <td>0.404829</td>\n",
       "      <td>0.630048</td>\n",
       "    </tr>\n",
       "    <tr>\n",
       "      <th>0</th>\n",
       "      <td>MaxAbs</td>\n",
       "      <td>Decision Tree</td>\n",
       "      <td>0.879724</td>\n",
       "      <td>0.442958</td>\n",
       "      <td>0.647131</td>\n",
       "    </tr>\n",
       "    <tr>\n",
       "      <th>0</th>\n",
       "      <td>MaxAbs</td>\n",
       "      <td>Random Forest</td>\n",
       "      <td>0.885483</td>\n",
       "      <td>0.574297</td>\n",
       "      <td>0.728319</td>\n",
       "    </tr>\n",
       "    <tr>\n",
       "      <th>0</th>\n",
       "      <td>Robust</td>\n",
       "      <td>Logistic Regression</td>\n",
       "      <td>0.883617</td>\n",
       "      <td>0.491802</td>\n",
       "      <td>0.671506</td>\n",
       "    </tr>\n",
       "    <tr>\n",
       "      <th>0</th>\n",
       "      <td>Robust</td>\n",
       "      <td>Decision Tree</td>\n",
       "      <td>0.883617</td>\n",
       "      <td>0.493922</td>\n",
       "      <td>0.673976</td>\n",
       "    </tr>\n",
       "    <tr>\n",
       "      <th>0</th>\n",
       "      <td>Robust</td>\n",
       "      <td>Random Forest</td>\n",
       "      <td>0.891890</td>\n",
       "      <td>0.635275</td>\n",
       "      <td>0.776545</td>\n",
       "    </tr>\n",
       "    <tr>\n",
       "      <th>0</th>\n",
       "      <td>Quantile-N</td>\n",
       "      <td>Logistic Regression</td>\n",
       "      <td>0.894647</td>\n",
       "      <td>0.641103</td>\n",
       "      <td>0.778070</td>\n",
       "    </tr>\n",
       "  </tbody>\n",
       "</table>\n",
       "</div>"
      ],
      "text/plain": [
       "      Scaling                Model  Accuracy  F1 Score   ROC-AUC\n",
       "0    Standard  Logistic Regression  0.884266  0.501025  0.676718\n",
       "0    Standard        Decision Tree  0.871046  0.326190  0.597803\n",
       "0    Standard        Random Forest  0.875426  0.372520  0.615600\n",
       "0      MinMax  Logistic Regression  0.846796  0.046464  0.510790\n",
       "0      MinMax        Decision Tree  0.854015  0.217509  0.560389\n",
       "0      MinMax        Random Forest  0.853609  0.116509  0.530452\n",
       "0      MinAbs  Logistic Regression  0.875101  0.404829  0.630048\n",
       "0      MaxAbs        Decision Tree  0.879724  0.442958  0.647131\n",
       "0      MaxAbs        Random Forest  0.885483  0.574297  0.728319\n",
       "0      Robust  Logistic Regression  0.883617  0.491802  0.671506\n",
       "0      Robust        Decision Tree  0.883617  0.493922  0.673976\n",
       "0      Robust        Random Forest  0.891890  0.635275  0.776545\n",
       "0  Quantile-N  Logistic Regression  0.894647  0.641103  0.778070"
      ]
     },
     "execution_count": 137,
     "metadata": {},
     "output_type": "execute_result"
    }
   ],
   "source": [
    "# Storing results in a dataframe\n",
    "tempResultsDf = pd.DataFrame({'Scaling':['Quantile-N'],'Model':['Logistic Regression'], \n",
    "                          'Accuracy': [np.mean(accuracy)], 'F1 Score': [np.mean(F1)],'ROC-AUC':[np.mean(roc_auc)]})\n",
    "resultsDf = pd.concat([resultsDf, tempResultsDf])\n",
    "resultsDf = resultsDf[['Scaling','Model', 'Accuracy','F1 Score','ROC-AUC']]\n",
    "resultsDf"
   ]
  },
  {
   "cell_type": "markdown",
   "metadata": {},
   "source": [
    "## Decision Tree"
   ]
  },
  {
   "cell_type": "code",
   "execution_count": 138,
   "metadata": {},
   "outputs": [],
   "source": [
    "DT = DecisionTreeClassifier()"
   ]
  },
  {
   "cell_type": "code",
   "execution_count": 139,
   "metadata": {},
   "outputs": [
    {
     "data": {
      "text/plain": [
       "GridSearchCV(cv=3, error_score='raise-deprecating',\n",
       "       estimator=DecisionTreeClassifier(class_weight=None, criterion='gini', max_depth=None,\n",
       "            max_features=None, max_leaf_nodes=None,\n",
       "            min_impurity_decrease=0.0, min_impurity_split=None,\n",
       "            min_samples_leaf=1, min_samples_split=2,\n",
       "            min_weight_fraction_leaf=0.0, presort=False, random_state=None,\n",
       "            splitter='best'),\n",
       "       fit_params=None, iid='warn', n_jobs=None,\n",
       "       param_grid={'max_depth': array([1, 2, 3, 4, 5, 6, 7, 8, 9])},\n",
       "       pre_dispatch='2*n_jobs', refit=True, return_train_score='warn',\n",
       "       scoring=None, verbose=0)"
      ]
     },
     "execution_count": 139,
     "metadata": {},
     "output_type": "execute_result"
    }
   ],
   "source": [
    "parameter ={'max_depth':np.arange(1,10)}\n",
    "GS=GridSearchCV(DT,parameter,cv=3)\n",
    "GS.fit(X,Y)"
   ]
  },
  {
   "cell_type": "code",
   "execution_count": 140,
   "metadata": {},
   "outputs": [
    {
     "data": {
      "text/plain": [
       "{'max_depth': 1}"
      ]
     },
     "execution_count": 140,
     "metadata": {},
     "output_type": "execute_result"
    }
   ],
   "source": [
    "GS.best_params_"
   ]
  },
  {
   "cell_type": "code",
   "execution_count": 141,
   "metadata": {},
   "outputs": [],
   "source": [
    "DT = DecisionTreeClassifier(max_depth=1)"
   ]
  },
  {
   "cell_type": "markdown",
   "metadata": {},
   "source": [
    "###  K Fold Cross Validation"
   ]
  },
  {
   "cell_type": "code",
   "execution_count": 142,
   "metadata": {},
   "outputs": [],
   "source": [
    "kf = KFold(n_splits=5,shuffle=True,random_state=0)"
   ]
  },
  {
   "cell_type": "code",
   "execution_count": 143,
   "metadata": {},
   "outputs": [
    {
     "name": "stdout",
     "output_type": "stream",
     "text": [
      " Accuracy: 0.88  F1: 0.66 ROC-AOC: 0.84\n"
     ]
    }
   ],
   "source": [
    "F1=[]\n",
    "roc_auc = []\n",
    "accuracy=[]\n",
    "for train,test in kf.split(X,Y):\n",
    "    xtrain,xtest=X.iloc[train,:],X.iloc[test,:]\n",
    "    ytrain,ytest=Y.iloc[train],Y.iloc[test]\n",
    "    DT.fit(xtrain,ytrain)\n",
    "    y_predict = DT.predict(xtest)\n",
    "    F1.append(metrics.f1_score(ytest,y_predict))\n",
    "    fpr,tpr,_=metrics.roc_curve(ytest,y_predict)\n",
    "    roc_auc.append(metrics.auc(fpr,tpr))\n",
    "    accuracy.append(metrics.accuracy_score(ytest,y_predict))\n",
    "print(' Accuracy: %0.02f  F1: %0.02f ROC-AOC: %0.02F'\n",
    "      %(np.mean(accuracy),np.mean(F1),np.mean(roc_auc)))"
   ]
  },
  {
   "cell_type": "code",
   "execution_count": 144,
   "metadata": {},
   "outputs": [
    {
     "data": {
      "text/html": [
       "<div>\n",
       "<style scoped>\n",
       "    .dataframe tbody tr th:only-of-type {\n",
       "        vertical-align: middle;\n",
       "    }\n",
       "\n",
       "    .dataframe tbody tr th {\n",
       "        vertical-align: top;\n",
       "    }\n",
       "\n",
       "    .dataframe thead th {\n",
       "        text-align: right;\n",
       "    }\n",
       "</style>\n",
       "<table border=\"1\" class=\"dataframe\">\n",
       "  <thead>\n",
       "    <tr style=\"text-align: right;\">\n",
       "      <th></th>\n",
       "      <th>Scaling</th>\n",
       "      <th>Model</th>\n",
       "      <th>Accuracy</th>\n",
       "      <th>F1 Score</th>\n",
       "      <th>ROC-AUC</th>\n",
       "    </tr>\n",
       "  </thead>\n",
       "  <tbody>\n",
       "    <tr>\n",
       "      <th>0</th>\n",
       "      <td>Standard</td>\n",
       "      <td>Logistic Regression</td>\n",
       "      <td>0.884266</td>\n",
       "      <td>0.501025</td>\n",
       "      <td>0.676718</td>\n",
       "    </tr>\n",
       "    <tr>\n",
       "      <th>0</th>\n",
       "      <td>Standard</td>\n",
       "      <td>Decision Tree</td>\n",
       "      <td>0.871046</td>\n",
       "      <td>0.326190</td>\n",
       "      <td>0.597803</td>\n",
       "    </tr>\n",
       "    <tr>\n",
       "      <th>0</th>\n",
       "      <td>Standard</td>\n",
       "      <td>Random Forest</td>\n",
       "      <td>0.875426</td>\n",
       "      <td>0.372520</td>\n",
       "      <td>0.615600</td>\n",
       "    </tr>\n",
       "    <tr>\n",
       "      <th>0</th>\n",
       "      <td>MinMax</td>\n",
       "      <td>Logistic Regression</td>\n",
       "      <td>0.846796</td>\n",
       "      <td>0.046464</td>\n",
       "      <td>0.510790</td>\n",
       "    </tr>\n",
       "    <tr>\n",
       "      <th>0</th>\n",
       "      <td>MinMax</td>\n",
       "      <td>Decision Tree</td>\n",
       "      <td>0.854015</td>\n",
       "      <td>0.217509</td>\n",
       "      <td>0.560389</td>\n",
       "    </tr>\n",
       "    <tr>\n",
       "      <th>0</th>\n",
       "      <td>MinMax</td>\n",
       "      <td>Random Forest</td>\n",
       "      <td>0.853609</td>\n",
       "      <td>0.116509</td>\n",
       "      <td>0.530452</td>\n",
       "    </tr>\n",
       "    <tr>\n",
       "      <th>0</th>\n",
       "      <td>MinAbs</td>\n",
       "      <td>Logistic Regression</td>\n",
       "      <td>0.875101</td>\n",
       "      <td>0.404829</td>\n",
       "      <td>0.630048</td>\n",
       "    </tr>\n",
       "    <tr>\n",
       "      <th>0</th>\n",
       "      <td>MaxAbs</td>\n",
       "      <td>Decision Tree</td>\n",
       "      <td>0.879724</td>\n",
       "      <td>0.442958</td>\n",
       "      <td>0.647131</td>\n",
       "    </tr>\n",
       "    <tr>\n",
       "      <th>0</th>\n",
       "      <td>MaxAbs</td>\n",
       "      <td>Random Forest</td>\n",
       "      <td>0.885483</td>\n",
       "      <td>0.574297</td>\n",
       "      <td>0.728319</td>\n",
       "    </tr>\n",
       "    <tr>\n",
       "      <th>0</th>\n",
       "      <td>Robust</td>\n",
       "      <td>Logistic Regression</td>\n",
       "      <td>0.883617</td>\n",
       "      <td>0.491802</td>\n",
       "      <td>0.671506</td>\n",
       "    </tr>\n",
       "    <tr>\n",
       "      <th>0</th>\n",
       "      <td>Robust</td>\n",
       "      <td>Decision Tree</td>\n",
       "      <td>0.883617</td>\n",
       "      <td>0.493922</td>\n",
       "      <td>0.673976</td>\n",
       "    </tr>\n",
       "    <tr>\n",
       "      <th>0</th>\n",
       "      <td>Robust</td>\n",
       "      <td>Random Forest</td>\n",
       "      <td>0.891890</td>\n",
       "      <td>0.635275</td>\n",
       "      <td>0.776545</td>\n",
       "    </tr>\n",
       "    <tr>\n",
       "      <th>0</th>\n",
       "      <td>Quantile-N</td>\n",
       "      <td>Logistic Regression</td>\n",
       "      <td>0.894647</td>\n",
       "      <td>0.641103</td>\n",
       "      <td>0.778070</td>\n",
       "    </tr>\n",
       "    <tr>\n",
       "      <th>0</th>\n",
       "      <td>Quantile-N</td>\n",
       "      <td>Decision Tree</td>\n",
       "      <td>0.875669</td>\n",
       "      <td>0.663917</td>\n",
       "      <td>0.842730</td>\n",
       "    </tr>\n",
       "  </tbody>\n",
       "</table>\n",
       "</div>"
      ],
      "text/plain": [
       "      Scaling                Model  Accuracy  F1 Score   ROC-AUC\n",
       "0    Standard  Logistic Regression  0.884266  0.501025  0.676718\n",
       "0    Standard        Decision Tree  0.871046  0.326190  0.597803\n",
       "0    Standard        Random Forest  0.875426  0.372520  0.615600\n",
       "0      MinMax  Logistic Regression  0.846796  0.046464  0.510790\n",
       "0      MinMax        Decision Tree  0.854015  0.217509  0.560389\n",
       "0      MinMax        Random Forest  0.853609  0.116509  0.530452\n",
       "0      MinAbs  Logistic Regression  0.875101  0.404829  0.630048\n",
       "0      MaxAbs        Decision Tree  0.879724  0.442958  0.647131\n",
       "0      MaxAbs        Random Forest  0.885483  0.574297  0.728319\n",
       "0      Robust  Logistic Regression  0.883617  0.491802  0.671506\n",
       "0      Robust        Decision Tree  0.883617  0.493922  0.673976\n",
       "0      Robust        Random Forest  0.891890  0.635275  0.776545\n",
       "0  Quantile-N  Logistic Regression  0.894647  0.641103  0.778070\n",
       "0  Quantile-N        Decision Tree  0.875669  0.663917  0.842730"
      ]
     },
     "execution_count": 144,
     "metadata": {},
     "output_type": "execute_result"
    }
   ],
   "source": [
    "# Storing results in a dataframe\n",
    "tempResultsDf = pd.DataFrame({'Scaling':['Quantile-N'],'Model':['Decision Tree'], \n",
    "                          'Accuracy': [np.mean(accuracy)], 'F1 Score': [np.mean(F1)],'ROC-AUC':[np.mean(roc_auc)]})\n",
    "resultsDf = pd.concat([resultsDf, tempResultsDf])\n",
    "resultsDf = resultsDf[['Scaling','Model', 'Accuracy','F1 Score','ROC-AUC']]\n",
    "resultsDf"
   ]
  },
  {
   "cell_type": "markdown",
   "metadata": {},
   "source": [
    "## Random Forest"
   ]
  },
  {
   "cell_type": "code",
   "execution_count": 145,
   "metadata": {},
   "outputs": [],
   "source": [
    "RT = RandomForestClassifier(random_state=0)"
   ]
  },
  {
   "cell_type": "code",
   "execution_count": 146,
   "metadata": {},
   "outputs": [
    {
     "data": {
      "text/plain": [
       "GridSearchCV(cv=3, error_score='raise-deprecating',\n",
       "       estimator=RandomForestClassifier(bootstrap=True, class_weight=None, criterion='gini',\n",
       "            max_depth=None, max_features='auto', max_leaf_nodes=None,\n",
       "            min_impurity_decrease=0.0, min_impurity_split=None,\n",
       "            min_samples_leaf=1, min_samples_split=2,\n",
       "            min_weight_fraction_leaf=0.0, n_estimators='warn', n_jobs=None,\n",
       "            oob_score=False, random_state=0, verbose=0, warm_start=False),\n",
       "       fit_params=None, iid='warn', n_jobs=None,\n",
       "       param_grid={'n_estimators': array([1, 2, 3, 4, 5, 6, 7, 8, 9]), 'max_depth': array([1, 2, 3, 4, 5, 6, 7, 8, 9])},\n",
       "       pre_dispatch='2*n_jobs', refit=True, return_train_score='warn',\n",
       "       scoring=None, verbose=0)"
      ]
     },
     "execution_count": 146,
     "metadata": {},
     "output_type": "execute_result"
    }
   ],
   "source": [
    "parameter ={'n_estimators':np.arange(1,10),'max_depth':np.arange(1,10)}\n",
    "GS=GridSearchCV(RT,parameter,cv=3)\n",
    "GS.fit(X,Y)"
   ]
  },
  {
   "cell_type": "code",
   "execution_count": 147,
   "metadata": {},
   "outputs": [
    {
     "data": {
      "text/plain": [
       "{'max_depth': 3, 'n_estimators': 3}"
      ]
     },
     "execution_count": 147,
     "metadata": {},
     "output_type": "execute_result"
    }
   ],
   "source": [
    "GS.best_params_"
   ]
  },
  {
   "cell_type": "code",
   "execution_count": 148,
   "metadata": {},
   "outputs": [],
   "source": [
    "RT = RandomForestClassifier(n_estimators=3,max_depth=3)"
   ]
  },
  {
   "cell_type": "markdown",
   "metadata": {},
   "source": [
    "###  K Fold Cross Validation"
   ]
  },
  {
   "cell_type": "code",
   "execution_count": 149,
   "metadata": {},
   "outputs": [],
   "source": [
    "kf = KFold(n_splits=5,shuffle=True,random_state=0)"
   ]
  },
  {
   "cell_type": "code",
   "execution_count": 150,
   "metadata": {},
   "outputs": [
    {
     "name": "stdout",
     "output_type": "stream",
     "text": [
      " Accuracy: 0.87  F1: 0.31 ROC-AOC: 0.60\n"
     ]
    }
   ],
   "source": [
    "F1=[]\n",
    "roc_auc = []\n",
    "accuracy=[]\n",
    "for train,test in kf.split(X,Y):\n",
    "    xtrain,xtest=X.iloc[train,:],X.iloc[test,:]\n",
    "    ytrain,ytest=Y.iloc[train],Y.iloc[test]\n",
    "    RT.fit(xtrain,ytrain)\n",
    "    y_predict = RT.predict(xtest)\n",
    "    F1.append(metrics.f1_score(ytest,y_predict))\n",
    "    fpr,tpr,_=metrics.roc_curve(ytest,y_predict)\n",
    "    roc_auc.append(metrics.auc(fpr,tpr))\n",
    "    accuracy.append(metrics.accuracy_score(ytest,y_predict))\n",
    "print(' Accuracy: %0.02f  F1: %0.02f ROC-AOC: %0.02F'\n",
    "      %(np.mean(accuracy),np.mean(F1),np.mean(roc_auc)))"
   ]
  },
  {
   "cell_type": "code",
   "execution_count": 151,
   "metadata": {},
   "outputs": [
    {
     "data": {
      "text/html": [
       "<div>\n",
       "<style scoped>\n",
       "    .dataframe tbody tr th:only-of-type {\n",
       "        vertical-align: middle;\n",
       "    }\n",
       "\n",
       "    .dataframe tbody tr th {\n",
       "        vertical-align: top;\n",
       "    }\n",
       "\n",
       "    .dataframe thead th {\n",
       "        text-align: right;\n",
       "    }\n",
       "</style>\n",
       "<table border=\"1\" class=\"dataframe\">\n",
       "  <thead>\n",
       "    <tr style=\"text-align: right;\">\n",
       "      <th></th>\n",
       "      <th>Scaling</th>\n",
       "      <th>Model</th>\n",
       "      <th>Accuracy</th>\n",
       "      <th>F1 Score</th>\n",
       "      <th>ROC-AUC</th>\n",
       "    </tr>\n",
       "  </thead>\n",
       "  <tbody>\n",
       "    <tr>\n",
       "      <th>0</th>\n",
       "      <td>Standard</td>\n",
       "      <td>Logistic Regression</td>\n",
       "      <td>0.884266</td>\n",
       "      <td>0.501025</td>\n",
       "      <td>0.676718</td>\n",
       "    </tr>\n",
       "    <tr>\n",
       "      <th>0</th>\n",
       "      <td>Standard</td>\n",
       "      <td>Decision Tree</td>\n",
       "      <td>0.871046</td>\n",
       "      <td>0.326190</td>\n",
       "      <td>0.597803</td>\n",
       "    </tr>\n",
       "    <tr>\n",
       "      <th>0</th>\n",
       "      <td>Standard</td>\n",
       "      <td>Random Forest</td>\n",
       "      <td>0.875426</td>\n",
       "      <td>0.372520</td>\n",
       "      <td>0.615600</td>\n",
       "    </tr>\n",
       "    <tr>\n",
       "      <th>0</th>\n",
       "      <td>MinMax</td>\n",
       "      <td>Logistic Regression</td>\n",
       "      <td>0.846796</td>\n",
       "      <td>0.046464</td>\n",
       "      <td>0.510790</td>\n",
       "    </tr>\n",
       "    <tr>\n",
       "      <th>0</th>\n",
       "      <td>MinMax</td>\n",
       "      <td>Decision Tree</td>\n",
       "      <td>0.854015</td>\n",
       "      <td>0.217509</td>\n",
       "      <td>0.560389</td>\n",
       "    </tr>\n",
       "    <tr>\n",
       "      <th>0</th>\n",
       "      <td>MinMax</td>\n",
       "      <td>Random Forest</td>\n",
       "      <td>0.853609</td>\n",
       "      <td>0.116509</td>\n",
       "      <td>0.530452</td>\n",
       "    </tr>\n",
       "    <tr>\n",
       "      <th>0</th>\n",
       "      <td>MinAbs</td>\n",
       "      <td>Logistic Regression</td>\n",
       "      <td>0.875101</td>\n",
       "      <td>0.404829</td>\n",
       "      <td>0.630048</td>\n",
       "    </tr>\n",
       "    <tr>\n",
       "      <th>0</th>\n",
       "      <td>MaxAbs</td>\n",
       "      <td>Decision Tree</td>\n",
       "      <td>0.879724</td>\n",
       "      <td>0.442958</td>\n",
       "      <td>0.647131</td>\n",
       "    </tr>\n",
       "    <tr>\n",
       "      <th>0</th>\n",
       "      <td>MaxAbs</td>\n",
       "      <td>Random Forest</td>\n",
       "      <td>0.885483</td>\n",
       "      <td>0.574297</td>\n",
       "      <td>0.728319</td>\n",
       "    </tr>\n",
       "    <tr>\n",
       "      <th>0</th>\n",
       "      <td>Robust</td>\n",
       "      <td>Logistic Regression</td>\n",
       "      <td>0.883617</td>\n",
       "      <td>0.491802</td>\n",
       "      <td>0.671506</td>\n",
       "    </tr>\n",
       "    <tr>\n",
       "      <th>0</th>\n",
       "      <td>Robust</td>\n",
       "      <td>Decision Tree</td>\n",
       "      <td>0.883617</td>\n",
       "      <td>0.493922</td>\n",
       "      <td>0.673976</td>\n",
       "    </tr>\n",
       "    <tr>\n",
       "      <th>0</th>\n",
       "      <td>Robust</td>\n",
       "      <td>Random Forest</td>\n",
       "      <td>0.891890</td>\n",
       "      <td>0.635275</td>\n",
       "      <td>0.776545</td>\n",
       "    </tr>\n",
       "    <tr>\n",
       "      <th>0</th>\n",
       "      <td>Quantile-N</td>\n",
       "      <td>Logistic Regression</td>\n",
       "      <td>0.894647</td>\n",
       "      <td>0.641103</td>\n",
       "      <td>0.778070</td>\n",
       "    </tr>\n",
       "    <tr>\n",
       "      <th>0</th>\n",
       "      <td>Quantile-N</td>\n",
       "      <td>Decision Tree</td>\n",
       "      <td>0.875669</td>\n",
       "      <td>0.663917</td>\n",
       "      <td>0.842730</td>\n",
       "    </tr>\n",
       "    <tr>\n",
       "      <th>0</th>\n",
       "      <td>Quantile-N</td>\n",
       "      <td>Random Forest</td>\n",
       "      <td>0.866829</td>\n",
       "      <td>0.307659</td>\n",
       "      <td>0.597101</td>\n",
       "    </tr>\n",
       "  </tbody>\n",
       "</table>\n",
       "</div>"
      ],
      "text/plain": [
       "      Scaling                Model  Accuracy  F1 Score   ROC-AUC\n",
       "0    Standard  Logistic Regression  0.884266  0.501025  0.676718\n",
       "0    Standard        Decision Tree  0.871046  0.326190  0.597803\n",
       "0    Standard        Random Forest  0.875426  0.372520  0.615600\n",
       "0      MinMax  Logistic Regression  0.846796  0.046464  0.510790\n",
       "0      MinMax        Decision Tree  0.854015  0.217509  0.560389\n",
       "0      MinMax        Random Forest  0.853609  0.116509  0.530452\n",
       "0      MinAbs  Logistic Regression  0.875101  0.404829  0.630048\n",
       "0      MaxAbs        Decision Tree  0.879724  0.442958  0.647131\n",
       "0      MaxAbs        Random Forest  0.885483  0.574297  0.728319\n",
       "0      Robust  Logistic Regression  0.883617  0.491802  0.671506\n",
       "0      Robust        Decision Tree  0.883617  0.493922  0.673976\n",
       "0      Robust        Random Forest  0.891890  0.635275  0.776545\n",
       "0  Quantile-N  Logistic Regression  0.894647  0.641103  0.778070\n",
       "0  Quantile-N        Decision Tree  0.875669  0.663917  0.842730\n",
       "0  Quantile-N        Random Forest  0.866829  0.307659  0.597101"
      ]
     },
     "execution_count": 151,
     "metadata": {},
     "output_type": "execute_result"
    }
   ],
   "source": [
    "# Storing results in a dataframe\n",
    "tempResultsDf = pd.DataFrame({'Scaling':['Quantile-N'],'Model':['Random Forest'], \n",
    "                          'Accuracy': [np.mean(accuracy)], 'F1 Score': [np.mean(F1)],'ROC-AUC':[np.mean(roc_auc)]})\n",
    "resultsDf = pd.concat([resultsDf, tempResultsDf])\n",
    "resultsDf = resultsDf[['Scaling','Model', 'Accuracy','F1 Score','ROC-AUC']]\n",
    "resultsDf"
   ]
  },
  {
   "cell_type": "markdown",
   "metadata": {},
   "source": [
    "# QuantileTransformer-Uniform Scalar"
   ]
  },
  {
   "cell_type": "code",
   "execution_count": 152,
   "metadata": {},
   "outputs": [],
   "source": [
    "qt_u = QuantileTransformer(output_distribution='uniform')\n",
    "qtu_data = qt_u.fit_transform(data1)\n",
    "qtu_data = pd.DataFrame(qtu_data,columns=data1.columns)"
   ]
  },
  {
   "cell_type": "code",
   "execution_count": 153,
   "metadata": {},
   "outputs": [],
   "source": [
    "dat_admin = qtu_data[['Administrative', 'Administrative_Duration', 'Informational',\n",
    "       'Informational_Duration', 'ProductRelated', 'ProductRelated_Duration',\n",
    "       'BounceRates', 'ExitRates', 'PageValues', 'SpecialDay',\n",
    "       'OperatingSystems', 'Browser', 'Region', 'TrafficType']]"
   ]
  },
  {
   "cell_type": "code",
   "execution_count": 154,
   "metadata": {},
   "outputs": [],
   "source": [
    "pca = PCA()\n",
    "principalComponents = pca.fit_transform(dat_admin)"
   ]
  },
  {
   "cell_type": "code",
   "execution_count": 155,
   "metadata": {},
   "outputs": [
    {
     "data": {
      "text/plain": [
       "array([ 30.8,  43.9,  53.1,  61.7,  69.9,  77.3,  83.7,  89.6,  94.3,\n",
       "        97.1,  98.7,  99.3,  99.7, 100. ])"
      ]
     },
     "execution_count": 155,
     "metadata": {},
     "output_type": "execute_result"
    }
   ],
   "source": [
    "var_cum=np.cumsum(np.round(pca.explained_variance_ratio_, decimals=3)*100)\n",
    "var_cum"
   ]
  },
  {
   "cell_type": "code",
   "execution_count": 156,
   "metadata": {},
   "outputs": [
    {
     "data": {
      "image/png": "[encoded data removed]",
      "text/plain": [
       "<Figure size 864x432 with 1 Axes>"
      ]
     },
     "metadata": {
      "needs_background": "light"
     },
     "output_type": "display_data"
    }
   ],
   "source": [
    "#SCREE PLOT\n",
    "plt.figure(figsize=(12,6))\n",
    "plt.plot(var_cum,'o-')\n",
    "plt.title('SCREE PLOT')\n",
    "plt.xlabel('number of components')\n",
    "plt.ylabel('cumulative explained variance')\n",
    "plt.grid()\n",
    "plt.show()"
   ]
  },
  {
   "cell_type": "code",
   "execution_count": 157,
   "metadata": {},
   "outputs": [],
   "source": [
    "pca = PCA(n_components=12)\n",
    "principalComponents = pca.fit_transform(dat_admin)"
   ]
  },
  {
   "cell_type": "code",
   "execution_count": 158,
   "metadata": {},
   "outputs": [
    {
     "data": {
      "text/html": [
       "<div>\n",
       "<style scoped>\n",
       "    .dataframe tbody tr th:only-of-type {\n",
       "        vertical-align: middle;\n",
       "    }\n",
       "\n",
       "    .dataframe tbody tr th {\n",
       "        vertical-align: top;\n",
       "    }\n",
       "\n",
       "    .dataframe thead th {\n",
       "        text-align: right;\n",
       "    }\n",
       "</style>\n",
       "<table border=\"1\" class=\"dataframe\">\n",
       "  <thead>\n",
       "    <tr style=\"text-align: right;\">\n",
       "      <th></th>\n",
       "      <th>PC1</th>\n",
       "      <th>PC2</th>\n",
       "      <th>PC3</th>\n",
       "      <th>PC4</th>\n",
       "      <th>PC5</th>\n",
       "      <th>PC6</th>\n",
       "      <th>PC7</th>\n",
       "      <th>PC8</th>\n",
       "      <th>PC9</th>\n",
       "      <th>PC10</th>\n",
       "      <th>PC11</th>\n",
       "      <th>PC12</th>\n",
       "    </tr>\n",
       "  </thead>\n",
       "  <tbody>\n",
       "    <tr>\n",
       "      <th>0</th>\n",
       "      <td>-0.997965</td>\n",
       "      <td>0.504014</td>\n",
       "      <td>-0.201255</td>\n",
       "      <td>-0.686546</td>\n",
       "      <td>0.357655</td>\n",
       "      <td>0.495897</td>\n",
       "      <td>-0.281735</td>\n",
       "      <td>-0.367321</td>\n",
       "      <td>0.064943</td>\n",
       "      <td>0.044413</td>\n",
       "      <td>0.091112</td>\n",
       "      <td>0.006267</td>\n",
       "    </tr>\n",
       "    <tr>\n",
       "      <th>1</th>\n",
       "      <td>-0.822873</td>\n",
       "      <td>-0.106752</td>\n",
       "      <td>0.433959</td>\n",
       "      <td>-0.341628</td>\n",
       "      <td>0.069773</td>\n",
       "      <td>-0.199164</td>\n",
       "      <td>-0.114375</td>\n",
       "      <td>-0.339003</td>\n",
       "      <td>0.069615</td>\n",
       "      <td>-0.036656</td>\n",
       "      <td>-0.271368</td>\n",
       "      <td>-0.015288</td>\n",
       "    </tr>\n",
       "    <tr>\n",
       "      <th>2</th>\n",
       "      <td>-1.005943</td>\n",
       "      <td>0.446293</td>\n",
       "      <td>-0.402380</td>\n",
       "      <td>0.495172</td>\n",
       "      <td>0.334164</td>\n",
       "      <td>0.043146</td>\n",
       "      <td>0.166551</td>\n",
       "      <td>-0.282392</td>\n",
       "      <td>-0.221170</td>\n",
       "      <td>0.649061</td>\n",
       "      <td>0.047935</td>\n",
       "      <td>-0.010255</td>\n",
       "    </tr>\n",
       "    <tr>\n",
       "      <th>3</th>\n",
       "      <td>-0.946146</td>\n",
       "      <td>0.385560</td>\n",
       "      <td>-0.244388</td>\n",
       "      <td>0.113127</td>\n",
       "      <td>0.012748</td>\n",
       "      <td>-0.313469</td>\n",
       "      <td>0.159960</td>\n",
       "      <td>-0.296841</td>\n",
       "      <td>-0.226644</td>\n",
       "      <td>0.161127</td>\n",
       "      <td>0.064646</td>\n",
       "      <td>0.008347</td>\n",
       "    </tr>\n",
       "    <tr>\n",
       "      <th>4</th>\n",
       "      <td>-0.688556</td>\n",
       "      <td>0.304861</td>\n",
       "      <td>-0.110161</td>\n",
       "      <td>-0.152938</td>\n",
       "      <td>-0.476025</td>\n",
       "      <td>-0.479631</td>\n",
       "      <td>0.001282</td>\n",
       "      <td>-0.048422</td>\n",
       "      <td>-0.287023</td>\n",
       "      <td>-0.087957</td>\n",
       "      <td>-0.017110</td>\n",
       "      <td>0.132822</td>\n",
       "    </tr>\n",
       "  </tbody>\n",
       "</table>\n",
       "</div>"
      ],
      "text/plain": [
       "        PC1       PC2       PC3       PC4       PC5       PC6       PC7  \\\n",
       "0 -0.997965  0.504014 -0.201255 -0.686546  0.357655  0.495897 -0.281735   \n",
       "1 -0.822873 -0.106752  0.433959 -0.341628  0.069773 -0.199164 -0.114375   \n",
       "2 -1.005943  0.446293 -0.402380  0.495172  0.334164  0.043146  0.166551   \n",
       "3 -0.946146  0.385560 -0.244388  0.113127  0.012748 -0.313469  0.159960   \n",
       "4 -0.688556  0.304861 -0.110161 -0.152938 -0.476025 -0.479631  0.001282   \n",
       "\n",
       "        PC8       PC9      PC10      PC11      PC12  \n",
       "0 -0.367321  0.064943  0.044413  0.091112  0.006267  \n",
       "1 -0.339003  0.069615 -0.036656 -0.271368 -0.015288  \n",
       "2 -0.282392 -0.221170  0.649061  0.047935 -0.010255  \n",
       "3 -0.296841 -0.226644  0.161127  0.064646  0.008347  \n",
       "4 -0.048422 -0.287023 -0.087957 -0.017110  0.132822  "
      ]
     },
     "execution_count": 158,
     "metadata": {},
     "output_type": "execute_result"
    }
   ],
   "source": [
    "principalDf = pd.DataFrame(data = principalComponents,columns=['PC1','PC2','PC3','PC4','PC5','PC6','PC7','PC8','PC9','PC10','PC11','PC12'],\n",
    "                           index=data.index)\n",
    "principalDf.head()"
   ]
  },
  {
   "cell_type": "code",
   "execution_count": 159,
   "metadata": {},
   "outputs": [],
   "source": [
    "Catego = sc_data[['Month','VisitorType','Weekend']]"
   ]
  },
  {
   "cell_type": "code",
   "execution_count": 160,
   "metadata": {},
   "outputs": [],
   "source": [
    "Final = pd.concat([principalDf,Catego],axis=1)"
   ]
  },
  {
   "cell_type": "code",
   "execution_count": 161,
   "metadata": {},
   "outputs": [],
   "source": [
    "X = Final\n",
    "Y = data1.Revenue"
   ]
  },
  {
   "cell_type": "markdown",
   "metadata": {},
   "source": [
    "## Logistic Regression"
   ]
  },
  {
   "cell_type": "code",
   "execution_count": 162,
   "metadata": {},
   "outputs": [],
   "source": [
    "LR = LogisticRegression()"
   ]
  },
  {
   "cell_type": "markdown",
   "metadata": {},
   "source": [
    "###  K Fold Cross Validation"
   ]
  },
  {
   "cell_type": "code",
   "execution_count": 163,
   "metadata": {},
   "outputs": [],
   "source": [
    "kf = KFold(n_splits=5,shuffle=True,random_state=0)"
   ]
  },
  {
   "cell_type": "code",
   "execution_count": 164,
   "metadata": {},
   "outputs": [
    {
     "name": "stdout",
     "output_type": "stream",
     "text": [
      " Accuracy: 0.89  F1: 0.64 ROC-AOC: 0.78\n"
     ]
    }
   ],
   "source": [
    "F1=[]\n",
    "roc_auc = []\n",
    "accuracy=[]\n",
    "for train,test in kf.split(X,Y):\n",
    "    xtrain,xtest=X.iloc[train,:],X.iloc[test,:]\n",
    "    ytrain,ytest=Y.iloc[train],Y.iloc[test]\n",
    "    LR.fit(xtrain,ytrain)\n",
    "    y_predict = LR.predict(xtest)\n",
    "    F1.append(metrics.f1_score(ytest,y_predict))\n",
    "    fpr,tpr,_=metrics.roc_curve(ytest,y_predict)\n",
    "    roc_auc.append(metrics.auc(fpr,tpr))\n",
    "    accuracy.append(metrics.accuracy_score(ytest,y_predict))\n",
    "print(' Accuracy: %0.02f  F1: %0.02f ROC-AOC: %0.02F'\n",
    "      %(np.mean(accuracy),np.mean(F1),np.mean(roc_auc)))"
   ]
  },
  {
   "cell_type": "code",
   "execution_count": 165,
   "metadata": {},
   "outputs": [
    {
     "data": {
      "text/html": [
       "<div>\n",
       "<style scoped>\n",
       "    .dataframe tbody tr th:only-of-type {\n",
       "        vertical-align: middle;\n",
       "    }\n",
       "\n",
       "    .dataframe tbody tr th {\n",
       "        vertical-align: top;\n",
       "    }\n",
       "\n",
       "    .dataframe thead th {\n",
       "        text-align: right;\n",
       "    }\n",
       "</style>\n",
       "<table border=\"1\" class=\"dataframe\">\n",
       "  <thead>\n",
       "    <tr style=\"text-align: right;\">\n",
       "      <th></th>\n",
       "      <th>Scaling</th>\n",
       "      <th>Model</th>\n",
       "      <th>Accuracy</th>\n",
       "      <th>F1 Score</th>\n",
       "      <th>ROC-AUC</th>\n",
       "    </tr>\n",
       "  </thead>\n",
       "  <tbody>\n",
       "    <tr>\n",
       "      <th>0</th>\n",
       "      <td>Standard</td>\n",
       "      <td>Logistic Regression</td>\n",
       "      <td>0.884266</td>\n",
       "      <td>0.501025</td>\n",
       "      <td>0.676718</td>\n",
       "    </tr>\n",
       "    <tr>\n",
       "      <th>0</th>\n",
       "      <td>Standard</td>\n",
       "      <td>Decision Tree</td>\n",
       "      <td>0.871046</td>\n",
       "      <td>0.326190</td>\n",
       "      <td>0.597803</td>\n",
       "    </tr>\n",
       "    <tr>\n",
       "      <th>0</th>\n",
       "      <td>Standard</td>\n",
       "      <td>Random Forest</td>\n",
       "      <td>0.875426</td>\n",
       "      <td>0.372520</td>\n",
       "      <td>0.615600</td>\n",
       "    </tr>\n",
       "    <tr>\n",
       "      <th>0</th>\n",
       "      <td>MinMax</td>\n",
       "      <td>Logistic Regression</td>\n",
       "      <td>0.846796</td>\n",
       "      <td>0.046464</td>\n",
       "      <td>0.510790</td>\n",
       "    </tr>\n",
       "    <tr>\n",
       "      <th>0</th>\n",
       "      <td>MinMax</td>\n",
       "      <td>Decision Tree</td>\n",
       "      <td>0.854015</td>\n",
       "      <td>0.217509</td>\n",
       "      <td>0.560389</td>\n",
       "    </tr>\n",
       "    <tr>\n",
       "      <th>0</th>\n",
       "      <td>MinMax</td>\n",
       "      <td>Random Forest</td>\n",
       "      <td>0.853609</td>\n",
       "      <td>0.116509</td>\n",
       "      <td>0.530452</td>\n",
       "    </tr>\n",
       "    <tr>\n",
       "      <th>0</th>\n",
       "      <td>MinAbs</td>\n",
       "      <td>Logistic Regression</td>\n",
       "      <td>0.875101</td>\n",
       "      <td>0.404829</td>\n",
       "      <td>0.630048</td>\n",
       "    </tr>\n",
       "    <tr>\n",
       "      <th>0</th>\n",
       "      <td>MaxAbs</td>\n",
       "      <td>Decision Tree</td>\n",
       "      <td>0.879724</td>\n",
       "      <td>0.442958</td>\n",
       "      <td>0.647131</td>\n",
       "    </tr>\n",
       "    <tr>\n",
       "      <th>0</th>\n",
       "      <td>MaxAbs</td>\n",
       "      <td>Random Forest</td>\n",
       "      <td>0.885483</td>\n",
       "      <td>0.574297</td>\n",
       "      <td>0.728319</td>\n",
       "    </tr>\n",
       "    <tr>\n",
       "      <th>0</th>\n",
       "      <td>Robust</td>\n",
       "      <td>Logistic Regression</td>\n",
       "      <td>0.883617</td>\n",
       "      <td>0.491802</td>\n",
       "      <td>0.671506</td>\n",
       "    </tr>\n",
       "    <tr>\n",
       "      <th>0</th>\n",
       "      <td>Robust</td>\n",
       "      <td>Decision Tree</td>\n",
       "      <td>0.883617</td>\n",
       "      <td>0.493922</td>\n",
       "      <td>0.673976</td>\n",
       "    </tr>\n",
       "    <tr>\n",
       "      <th>0</th>\n",
       "      <td>Robust</td>\n",
       "      <td>Random Forest</td>\n",
       "      <td>0.891890</td>\n",
       "      <td>0.635275</td>\n",
       "      <td>0.776545</td>\n",
       "    </tr>\n",
       "    <tr>\n",
       "      <th>0</th>\n",
       "      <td>Quantile-N</td>\n",
       "      <td>Logistic Regression</td>\n",
       "      <td>0.894647</td>\n",
       "      <td>0.641103</td>\n",
       "      <td>0.778070</td>\n",
       "    </tr>\n",
       "    <tr>\n",
       "      <th>0</th>\n",
       "      <td>Quantile-N</td>\n",
       "      <td>Decision Tree</td>\n",
       "      <td>0.875669</td>\n",
       "      <td>0.663917</td>\n",
       "      <td>0.842730</td>\n",
       "    </tr>\n",
       "    <tr>\n",
       "      <th>0</th>\n",
       "      <td>Quantile-N</td>\n",
       "      <td>Random Forest</td>\n",
       "      <td>0.866829</td>\n",
       "      <td>0.307659</td>\n",
       "      <td>0.597101</td>\n",
       "    </tr>\n",
       "    <tr>\n",
       "      <th>0</th>\n",
       "      <td>Quantile-U</td>\n",
       "      <td>Logistic Regression</td>\n",
       "      <td>0.894972</td>\n",
       "      <td>0.642978</td>\n",
       "      <td>0.779370</td>\n",
       "    </tr>\n",
       "  </tbody>\n",
       "</table>\n",
       "</div>"
      ],
      "text/plain": [
       "      Scaling                Model  Accuracy  F1 Score   ROC-AUC\n",
       "0    Standard  Logistic Regression  0.884266  0.501025  0.676718\n",
       "0    Standard        Decision Tree  0.871046  0.326190  0.597803\n",
       "0    Standard        Random Forest  0.875426  0.372520  0.615600\n",
       "0      MinMax  Logistic Regression  0.846796  0.046464  0.510790\n",
       "0      MinMax        Decision Tree  0.854015  0.217509  0.560389\n",
       "0      MinMax        Random Forest  0.853609  0.116509  0.530452\n",
       "0      MinAbs  Logistic Regression  0.875101  0.404829  0.630048\n",
       "0      MaxAbs        Decision Tree  0.879724  0.442958  0.647131\n",
       "0      MaxAbs        Random Forest  0.885483  0.574297  0.728319\n",
       "0      Robust  Logistic Regression  0.883617  0.491802  0.671506\n",
       "0      Robust        Decision Tree  0.883617  0.493922  0.673976\n",
       "0      Robust        Random Forest  0.891890  0.635275  0.776545\n",
       "0  Quantile-N  Logistic Regression  0.894647  0.641103  0.778070\n",
       "0  Quantile-N        Decision Tree  0.875669  0.663917  0.842730\n",
       "0  Quantile-N        Random Forest  0.866829  0.307659  0.597101\n",
       "0  Quantile-U  Logistic Regression  0.894972  0.642978  0.779370"
      ]
     },
     "execution_count": 165,
     "metadata": {},
     "output_type": "execute_result"
    }
   ],
   "source": [
    "# Storing results in a dataframe\n",
    "tempResultsDf = pd.DataFrame({'Scaling':['Quantile-U'],'Model':['Logistic Regression'], \n",
    "                          'Accuracy': [np.mean(accuracy)], 'F1 Score': [np.mean(F1)],'ROC-AUC':[np.mean(roc_auc)]})\n",
    "resultsDf = pd.concat([resultsDf, tempResultsDf])\n",
    "resultsDf = resultsDf[['Scaling','Model', 'Accuracy','F1 Score','ROC-AUC']]\n",
    "resultsDf"
   ]
  },
  {
   "cell_type": "markdown",
   "metadata": {},
   "source": [
    "## Decision Tree"
   ]
  },
  {
   "cell_type": "code",
   "execution_count": 166,
   "metadata": {},
   "outputs": [],
   "source": [
    "DT = DecisionTreeClassifier()"
   ]
  },
  {
   "cell_type": "code",
   "execution_count": 167,
   "metadata": {},
   "outputs": [
    {
     "data": {
      "text/plain": [
       "GridSearchCV(cv=3, error_score='raise-deprecating',\n",
       "       estimator=DecisionTreeClassifier(class_weight=None, criterion='gini', max_depth=None,\n",
       "            max_features=None, max_leaf_nodes=None,\n",
       "            min_impurity_decrease=0.0, min_impurity_split=None,\n",
       "            min_samples_leaf=1, min_samples_split=2,\n",
       "            min_weight_fraction_leaf=0.0, presort=False, random_state=None,\n",
       "            splitter='best'),\n",
       "       fit_params=None, iid='warn', n_jobs=None,\n",
       "       param_grid={'max_depth': array([1, 2, 3, 4, 5, 6, 7, 8, 9])},\n",
       "       pre_dispatch='2*n_jobs', refit=True, return_train_score='warn',\n",
       "       scoring=None, verbose=0)"
      ]
     },
     "execution_count": 167,
     "metadata": {},
     "output_type": "execute_result"
    }
   ],
   "source": [
    "parameter ={'max_depth':np.arange(1,10)}\n",
    "GS=GridSearchCV(DT,parameter,cv=3)\n",
    "GS.fit(X,Y)"
   ]
  },
  {
   "cell_type": "code",
   "execution_count": 168,
   "metadata": {},
   "outputs": [
    {
     "data": {
      "text/plain": [
       "{'max_depth': 5}"
      ]
     },
     "execution_count": 168,
     "metadata": {},
     "output_type": "execute_result"
    }
   ],
   "source": [
    "GS.best_params_"
   ]
  },
  {
   "cell_type": "code",
   "execution_count": 169,
   "metadata": {},
   "outputs": [],
   "source": [
    "DT = DecisionTreeClassifier(max_depth=5)"
   ]
  },
  {
   "cell_type": "markdown",
   "metadata": {},
   "source": [
    "###  K Fold Cross Validation"
   ]
  },
  {
   "cell_type": "code",
   "execution_count": 170,
   "metadata": {},
   "outputs": [],
   "source": [
    "kf = KFold(n_splits=5,shuffle=True,random_state=0)"
   ]
  },
  {
   "cell_type": "code",
   "execution_count": 171,
   "metadata": {},
   "outputs": [
    {
     "name": "stdout",
     "output_type": "stream",
     "text": [
      " Accuracy: 0.88  F1: 0.52 ROC-AOC: 0.70\n"
     ]
    }
   ],
   "source": [
    "F1=[]\n",
    "roc_auc = []\n",
    "accuracy=[]\n",
    "for train,test in kf.split(X,Y):\n",
    "    xtrain,xtest=X.iloc[train,:],X.iloc[test,:]\n",
    "    ytrain,ytest=Y.iloc[train],Y.iloc[test]\n",
    "    DT.fit(xtrain,ytrain)\n",
    "    y_predict = DT.predict(xtest)\n",
    "    F1.append(metrics.f1_score(ytest,y_predict))\n",
    "    fpr,tpr,_=metrics.roc_curve(ytest,y_predict)\n",
    "    roc_auc.append(metrics.auc(fpr,tpr))\n",
    "    accuracy.append(metrics.accuracy_score(ytest,y_predict))\n",
    "print(' Accuracy: %0.02f  F1: %0.02f ROC-AOC: %0.02F'\n",
    "      %(np.mean(accuracy),np.mean(F1),np.mean(roc_auc)))"
   ]
  },
  {
   "cell_type": "code",
   "execution_count": 172,
   "metadata": {},
   "outputs": [
    {
     "data": {
      "text/html": [
       "<div>\n",
       "<style scoped>\n",
       "    .dataframe tbody tr th:only-of-type {\n",
       "        vertical-align: middle;\n",
       "    }\n",
       "\n",
       "    .dataframe tbody tr th {\n",
       "        vertical-align: top;\n",
       "    }\n",
       "\n",
       "    .dataframe thead th {\n",
       "        text-align: right;\n",
       "    }\n",
       "</style>\n",
       "<table border=\"1\" class=\"dataframe\">\n",
       "  <thead>\n",
       "    <tr style=\"text-align: right;\">\n",
       "      <th></th>\n",
       "      <th>Scaling</th>\n",
       "      <th>Model</th>\n",
       "      <th>Accuracy</th>\n",
       "      <th>F1 Score</th>\n",
       "      <th>ROC-AUC</th>\n",
       "    </tr>\n",
       "  </thead>\n",
       "  <tbody>\n",
       "    <tr>\n",
       "      <th>0</th>\n",
       "      <td>Standard</td>\n",
       "      <td>Logistic Regression</td>\n",
       "      <td>0.884266</td>\n",
       "      <td>0.501025</td>\n",
       "      <td>0.676718</td>\n",
       "    </tr>\n",
       "    <tr>\n",
       "      <th>0</th>\n",
       "      <td>Standard</td>\n",
       "      <td>Decision Tree</td>\n",
       "      <td>0.871046</td>\n",
       "      <td>0.326190</td>\n",
       "      <td>0.597803</td>\n",
       "    </tr>\n",
       "    <tr>\n",
       "      <th>0</th>\n",
       "      <td>Standard</td>\n",
       "      <td>Random Forest</td>\n",
       "      <td>0.875426</td>\n",
       "      <td>0.372520</td>\n",
       "      <td>0.615600</td>\n",
       "    </tr>\n",
       "    <tr>\n",
       "      <th>0</th>\n",
       "      <td>MinMax</td>\n",
       "      <td>Logistic Regression</td>\n",
       "      <td>0.846796</td>\n",
       "      <td>0.046464</td>\n",
       "      <td>0.510790</td>\n",
       "    </tr>\n",
       "    <tr>\n",
       "      <th>0</th>\n",
       "      <td>MinMax</td>\n",
       "      <td>Decision Tree</td>\n",
       "      <td>0.854015</td>\n",
       "      <td>0.217509</td>\n",
       "      <td>0.560389</td>\n",
       "    </tr>\n",
       "    <tr>\n",
       "      <th>0</th>\n",
       "      <td>MinMax</td>\n",
       "      <td>Random Forest</td>\n",
       "      <td>0.853609</td>\n",
       "      <td>0.116509</td>\n",
       "      <td>0.530452</td>\n",
       "    </tr>\n",
       "    <tr>\n",
       "      <th>0</th>\n",
       "      <td>MinAbs</td>\n",
       "      <td>Logistic Regression</td>\n",
       "      <td>0.875101</td>\n",
       "      <td>0.404829</td>\n",
       "      <td>0.630048</td>\n",
       "    </tr>\n",
       "    <tr>\n",
       "      <th>0</th>\n",
       "      <td>MaxAbs</td>\n",
       "      <td>Decision Tree</td>\n",
       "      <td>0.879724</td>\n",
       "      <td>0.442958</td>\n",
       "      <td>0.647131</td>\n",
       "    </tr>\n",
       "    <tr>\n",
       "      <th>0</th>\n",
       "      <td>MaxAbs</td>\n",
       "      <td>Random Forest</td>\n",
       "      <td>0.885483</td>\n",
       "      <td>0.574297</td>\n",
       "      <td>0.728319</td>\n",
       "    </tr>\n",
       "    <tr>\n",
       "      <th>0</th>\n",
       "      <td>Robust</td>\n",
       "      <td>Logistic Regression</td>\n",
       "      <td>0.883617</td>\n",
       "      <td>0.491802</td>\n",
       "      <td>0.671506</td>\n",
       "    </tr>\n",
       "    <tr>\n",
       "      <th>0</th>\n",
       "      <td>Robust</td>\n",
       "      <td>Decision Tree</td>\n",
       "      <td>0.883617</td>\n",
       "      <td>0.493922</td>\n",
       "      <td>0.673976</td>\n",
       "    </tr>\n",
       "    <tr>\n",
       "      <th>0</th>\n",
       "      <td>Robust</td>\n",
       "      <td>Random Forest</td>\n",
       "      <td>0.891890</td>\n",
       "      <td>0.635275</td>\n",
       "      <td>0.776545</td>\n",
       "    </tr>\n",
       "    <tr>\n",
       "      <th>0</th>\n",
       "      <td>Quantile-N</td>\n",
       "      <td>Logistic Regression</td>\n",
       "      <td>0.894647</td>\n",
       "      <td>0.641103</td>\n",
       "      <td>0.778070</td>\n",
       "    </tr>\n",
       "    <tr>\n",
       "      <th>0</th>\n",
       "      <td>Quantile-N</td>\n",
       "      <td>Decision Tree</td>\n",
       "      <td>0.875669</td>\n",
       "      <td>0.663917</td>\n",
       "      <td>0.842730</td>\n",
       "    </tr>\n",
       "    <tr>\n",
       "      <th>0</th>\n",
       "      <td>Quantile-N</td>\n",
       "      <td>Random Forest</td>\n",
       "      <td>0.866829</td>\n",
       "      <td>0.307659</td>\n",
       "      <td>0.597101</td>\n",
       "    </tr>\n",
       "    <tr>\n",
       "      <th>0</th>\n",
       "      <td>Quantile-U</td>\n",
       "      <td>Logistic Regression</td>\n",
       "      <td>0.894972</td>\n",
       "      <td>0.642978</td>\n",
       "      <td>0.779370</td>\n",
       "    </tr>\n",
       "    <tr>\n",
       "      <th>0</th>\n",
       "      <td>Quantile-U</td>\n",
       "      <td>Decision Tree</td>\n",
       "      <td>0.880535</td>\n",
       "      <td>0.522551</td>\n",
       "      <td>0.696129</td>\n",
       "    </tr>\n",
       "  </tbody>\n",
       "</table>\n",
       "</div>"
      ],
      "text/plain": [
       "      Scaling                Model  Accuracy  F1 Score   ROC-AUC\n",
       "0    Standard  Logistic Regression  0.884266  0.501025  0.676718\n",
       "0    Standard        Decision Tree  0.871046  0.326190  0.597803\n",
       "0    Standard        Random Forest  0.875426  0.372520  0.615600\n",
       "0      MinMax  Logistic Regression  0.846796  0.046464  0.510790\n",
       "0      MinMax        Decision Tree  0.854015  0.217509  0.560389\n",
       "0      MinMax        Random Forest  0.853609  0.116509  0.530452\n",
       "0      MinAbs  Logistic Regression  0.875101  0.404829  0.630048\n",
       "0      MaxAbs        Decision Tree  0.879724  0.442958  0.647131\n",
       "0      MaxAbs        Random Forest  0.885483  0.574297  0.728319\n",
       "0      Robust  Logistic Regression  0.883617  0.491802  0.671506\n",
       "0      Robust        Decision Tree  0.883617  0.493922  0.673976\n",
       "0      Robust        Random Forest  0.891890  0.635275  0.776545\n",
       "0  Quantile-N  Logistic Regression  0.894647  0.641103  0.778070\n",
       "0  Quantile-N        Decision Tree  0.875669  0.663917  0.842730\n",
       "0  Quantile-N        Random Forest  0.866829  0.307659  0.597101\n",
       "0  Quantile-U  Logistic Regression  0.894972  0.642978  0.779370\n",
       "0  Quantile-U        Decision Tree  0.880535  0.522551  0.696129"
      ]
     },
     "execution_count": 172,
     "metadata": {},
     "output_type": "execute_result"
    }
   ],
   "source": [
    "# Storing results in a dataframe\n",
    "tempResultsDf = pd.DataFrame({'Scaling':['Quantile-U'],'Model':['Decision Tree'], \n",
    "                          'Accuracy': [np.mean(accuracy)], 'F1 Score': [np.mean(F1)],'ROC-AUC':[np.mean(roc_auc)]})\n",
    "resultsDf = pd.concat([resultsDf, tempResultsDf])\n",
    "resultsDf = resultsDf[['Scaling','Model', 'Accuracy','F1 Score','ROC-AUC']]\n",
    "resultsDf"
   ]
  },
  {
   "cell_type": "markdown",
   "metadata": {},
   "source": [
    "## Random Forest"
   ]
  },
  {
   "cell_type": "code",
   "execution_count": 173,
   "metadata": {},
   "outputs": [],
   "source": [
    "RT = RandomForestClassifier(random_state=0)"
   ]
  },
  {
   "cell_type": "code",
   "execution_count": 174,
   "metadata": {},
   "outputs": [
    {
     "data": {
      "text/plain": [
       "GridSearchCV(cv=3, error_score='raise-deprecating',\n",
       "       estimator=RandomForestClassifier(bootstrap=True, class_weight=None, criterion='gini',\n",
       "            max_depth=None, max_features='auto', max_leaf_nodes=None,\n",
       "            min_impurity_decrease=0.0, min_impurity_split=None,\n",
       "            min_samples_leaf=1, min_samples_split=2,\n",
       "            min_weight_fraction_leaf=0.0, n_estimators='warn', n_jobs=None,\n",
       "            oob_score=False, random_state=0, verbose=0, warm_start=False),\n",
       "       fit_params=None, iid='warn', n_jobs=None,\n",
       "       param_grid={'n_estimators': array([1, 2, 3, 4, 5, 6, 7, 8, 9]), 'max_depth': array([1, 2, 3, 4, 5, 6, 7, 8, 9])},\n",
       "       pre_dispatch='2*n_jobs', refit=True, return_train_score='warn',\n",
       "       scoring=None, verbose=0)"
      ]
     },
     "execution_count": 174,
     "metadata": {},
     "output_type": "execute_result"
    }
   ],
   "source": [
    "parameter ={'n_estimators':np.arange(1,10),'max_depth':np.arange(1,10)}\n",
    "GS=GridSearchCV(RT,parameter,cv=3)\n",
    "GS.fit(X,Y)"
   ]
  },
  {
   "cell_type": "code",
   "execution_count": 175,
   "metadata": {},
   "outputs": [
    {
     "data": {
      "text/plain": [
       "{'max_depth': 7, 'n_estimators': 9}"
      ]
     },
     "execution_count": 175,
     "metadata": {},
     "output_type": "execute_result"
    }
   ],
   "source": [
    "GS.best_params_"
   ]
  },
  {
   "cell_type": "code",
   "execution_count": 176,
   "metadata": {},
   "outputs": [],
   "source": [
    "RT = RandomForestClassifier(n_estimators=9,max_depth=7)"
   ]
  },
  {
   "cell_type": "markdown",
   "metadata": {},
   "source": [
    "###  K Fold Cross Validation"
   ]
  },
  {
   "cell_type": "code",
   "execution_count": 177,
   "metadata": {},
   "outputs": [],
   "source": [
    "kf = KFold(n_splits=5,shuffle=True,random_state=0)"
   ]
  },
  {
   "cell_type": "code",
   "execution_count": 178,
   "metadata": {},
   "outputs": [
    {
     "name": "stdout",
     "output_type": "stream",
     "text": [
      " Accuracy: 0.89  F1: 0.56 ROC-AOC: 0.71\n"
     ]
    }
   ],
   "source": [
    "F1=[]\n",
    "roc_auc = []\n",
    "accuracy=[]\n",
    "for train,test in kf.split(X,Y):\n",
    "    xtrain,xtest=X.iloc[train,:],X.iloc[test,:]\n",
    "    ytrain,ytest=Y.iloc[train],Y.iloc[test]\n",
    "    RT.fit(xtrain,ytrain)\n",
    "    y_predict = RT.predict(xtest)\n",
    "    F1.append(metrics.f1_score(ytest,y_predict))\n",
    "    fpr,tpr,_=metrics.roc_curve(ytest,y_predict)\n",
    "    roc_auc.append(metrics.auc(fpr,tpr))\n",
    "    accuracy.append(metrics.accuracy_score(ytest,y_predict))\n",
    "print(' Accuracy: %0.02f  F1: %0.02f ROC-AOC: %0.02F'\n",
    "      %(np.mean(accuracy),np.mean(F1),np.mean(roc_auc)))"
   ]
  },
  {
   "cell_type": "code",
   "execution_count": 179,
   "metadata": {},
   "outputs": [
    {
     "data": {
      "text/html": [
       "<div>\n",
       "<style scoped>\n",
       "    .dataframe tbody tr th:only-of-type {\n",
       "        vertical-align: middle;\n",
       "    }\n",
       "\n",
       "    .dataframe tbody tr th {\n",
       "        vertical-align: top;\n",
       "    }\n",
       "\n",
       "    .dataframe thead th {\n",
       "        text-align: right;\n",
       "    }\n",
       "</style>\n",
       "<table border=\"1\" class=\"dataframe\">\n",
       "  <thead>\n",
       "    <tr style=\"text-align: right;\">\n",
       "      <th></th>\n",
       "      <th>Scaling</th>\n",
       "      <th>Model</th>\n",
       "      <th>Accuracy</th>\n",
       "      <th>F1 Score</th>\n",
       "      <th>ROC-AUC</th>\n",
       "    </tr>\n",
       "  </thead>\n",
       "  <tbody>\n",
       "    <tr>\n",
       "      <th>0</th>\n",
       "      <td>Standard</td>\n",
       "      <td>Logistic Regression</td>\n",
       "      <td>0.884266</td>\n",
       "      <td>0.501025</td>\n",
       "      <td>0.676718</td>\n",
       "    </tr>\n",
       "    <tr>\n",
       "      <th>0</th>\n",
       "      <td>Standard</td>\n",
       "      <td>Decision Tree</td>\n",
       "      <td>0.871046</td>\n",
       "      <td>0.326190</td>\n",
       "      <td>0.597803</td>\n",
       "    </tr>\n",
       "    <tr>\n",
       "      <th>0</th>\n",
       "      <td>Standard</td>\n",
       "      <td>Random Forest</td>\n",
       "      <td>0.875426</td>\n",
       "      <td>0.372520</td>\n",
       "      <td>0.615600</td>\n",
       "    </tr>\n",
       "    <tr>\n",
       "      <th>0</th>\n",
       "      <td>MinMax</td>\n",
       "      <td>Logistic Regression</td>\n",
       "      <td>0.846796</td>\n",
       "      <td>0.046464</td>\n",
       "      <td>0.510790</td>\n",
       "    </tr>\n",
       "    <tr>\n",
       "      <th>0</th>\n",
       "      <td>MinMax</td>\n",
       "      <td>Decision Tree</td>\n",
       "      <td>0.854015</td>\n",
       "      <td>0.217509</td>\n",
       "      <td>0.560389</td>\n",
       "    </tr>\n",
       "    <tr>\n",
       "      <th>0</th>\n",
       "      <td>MinMax</td>\n",
       "      <td>Random Forest</td>\n",
       "      <td>0.853609</td>\n",
       "      <td>0.116509</td>\n",
       "      <td>0.530452</td>\n",
       "    </tr>\n",
       "    <tr>\n",
       "      <th>0</th>\n",
       "      <td>MinAbs</td>\n",
       "      <td>Logistic Regression</td>\n",
       "      <td>0.875101</td>\n",
       "      <td>0.404829</td>\n",
       "      <td>0.630048</td>\n",
       "    </tr>\n",
       "    <tr>\n",
       "      <th>0</th>\n",
       "      <td>MaxAbs</td>\n",
       "      <td>Decision Tree</td>\n",
       "      <td>0.879724</td>\n",
       "      <td>0.442958</td>\n",
       "      <td>0.647131</td>\n",
       "    </tr>\n",
       "    <tr>\n",
       "      <th>0</th>\n",
       "      <td>MaxAbs</td>\n",
       "      <td>Random Forest</td>\n",
       "      <td>0.885483</td>\n",
       "      <td>0.574297</td>\n",
       "      <td>0.728319</td>\n",
       "    </tr>\n",
       "    <tr>\n",
       "      <th>0</th>\n",
       "      <td>Robust</td>\n",
       "      <td>Logistic Regression</td>\n",
       "      <td>0.883617</td>\n",
       "      <td>0.491802</td>\n",
       "      <td>0.671506</td>\n",
       "    </tr>\n",
       "    <tr>\n",
       "      <th>0</th>\n",
       "      <td>Robust</td>\n",
       "      <td>Decision Tree</td>\n",
       "      <td>0.883617</td>\n",
       "      <td>0.493922</td>\n",
       "      <td>0.673976</td>\n",
       "    </tr>\n",
       "    <tr>\n",
       "      <th>0</th>\n",
       "      <td>Robust</td>\n",
       "      <td>Random Forest</td>\n",
       "      <td>0.891890</td>\n",
       "      <td>0.635275</td>\n",
       "      <td>0.776545</td>\n",
       "    </tr>\n",
       "    <tr>\n",
       "      <th>0</th>\n",
       "      <td>Quantile-N</td>\n",
       "      <td>Logistic Regression</td>\n",
       "      <td>0.894647</td>\n",
       "      <td>0.641103</td>\n",
       "      <td>0.778070</td>\n",
       "    </tr>\n",
       "    <tr>\n",
       "      <th>0</th>\n",
       "      <td>Quantile-N</td>\n",
       "      <td>Decision Tree</td>\n",
       "      <td>0.875669</td>\n",
       "      <td>0.663917</td>\n",
       "      <td>0.842730</td>\n",
       "    </tr>\n",
       "    <tr>\n",
       "      <th>0</th>\n",
       "      <td>Quantile-N</td>\n",
       "      <td>Random Forest</td>\n",
       "      <td>0.866829</td>\n",
       "      <td>0.307659</td>\n",
       "      <td>0.597101</td>\n",
       "    </tr>\n",
       "    <tr>\n",
       "      <th>0</th>\n",
       "      <td>Quantile-U</td>\n",
       "      <td>Logistic Regression</td>\n",
       "      <td>0.894972</td>\n",
       "      <td>0.642978</td>\n",
       "      <td>0.779370</td>\n",
       "    </tr>\n",
       "    <tr>\n",
       "      <th>0</th>\n",
       "      <td>Quantile-U</td>\n",
       "      <td>Decision Tree</td>\n",
       "      <td>0.880535</td>\n",
       "      <td>0.522551</td>\n",
       "      <td>0.696129</td>\n",
       "    </tr>\n",
       "    <tr>\n",
       "      <th>0</th>\n",
       "      <td>Quantile-U</td>\n",
       "      <td>Random Forest</td>\n",
       "      <td>0.890592</td>\n",
       "      <td>0.559144</td>\n",
       "      <td>0.709865</td>\n",
       "    </tr>\n",
       "  </tbody>\n",
       "</table>\n",
       "</div>"
      ],
      "text/plain": [
       "      Scaling                Model  Accuracy  F1 Score   ROC-AUC\n",
       "0    Standard  Logistic Regression  0.884266  0.501025  0.676718\n",
       "0    Standard        Decision Tree  0.871046  0.326190  0.597803\n",
       "0    Standard        Random Forest  0.875426  0.372520  0.615600\n",
       "0      MinMax  Logistic Regression  0.846796  0.046464  0.510790\n",
       "0      MinMax        Decision Tree  0.854015  0.217509  0.560389\n",
       "0      MinMax        Random Forest  0.853609  0.116509  0.530452\n",
       "0      MinAbs  Logistic Regression  0.875101  0.404829  0.630048\n",
       "0      MaxAbs        Decision Tree  0.879724  0.442958  0.647131\n",
       "0      MaxAbs        Random Forest  0.885483  0.574297  0.728319\n",
       "0      Robust  Logistic Regression  0.883617  0.491802  0.671506\n",
       "0      Robust        Decision Tree  0.883617  0.493922  0.673976\n",
       "0      Robust        Random Forest  0.891890  0.635275  0.776545\n",
       "0  Quantile-N  Logistic Regression  0.894647  0.641103  0.778070\n",
       "0  Quantile-N        Decision Tree  0.875669  0.663917  0.842730\n",
       "0  Quantile-N        Random Forest  0.866829  0.307659  0.597101\n",
       "0  Quantile-U  Logistic Regression  0.894972  0.642978  0.779370\n",
       "0  Quantile-U        Decision Tree  0.880535  0.522551  0.696129\n",
       "0  Quantile-U        Random Forest  0.890592  0.559144  0.709865"
      ]
     },
     "execution_count": 179,
     "metadata": {},
     "output_type": "execute_result"
    }
   ],
   "source": [
    "# Storing results in a dataframe\n",
    "tempResultsDf = pd.DataFrame({'Scaling':['Quantile-U'],'Model':['Random Forest'], \n",
    "                          'Accuracy': [np.mean(accuracy)], 'F1 Score': [np.mean(F1)],'ROC-AUC':[np.mean(roc_auc)]})\n",
    "resultsDf = pd.concat([resultsDf, tempResultsDf])\n",
    "resultsDf = resultsDf[['Scaling','Model', 'Accuracy','F1 Score','ROC-AUC']]\n",
    "resultsDf"
   ]
  },
  {
   "cell_type": "markdown",
   "metadata": {},
   "source": [
    "# PowerTransformer Scalar"
   ]
  },
  {
   "cell_type": "code",
   "execution_count": 180,
   "metadata": {},
   "outputs": [],
   "source": [
    "pt = PowerTransformer()\n",
    "pt_data = pt.fit_transform(data1)\n",
    "pt_data = pd.DataFrame(pt_data,columns=data1.columns)"
   ]
  },
  {
   "cell_type": "code",
   "execution_count": 181,
   "metadata": {},
   "outputs": [],
   "source": [
    "dat_admin = pt_data[['Administrative', 'Administrative_Duration', 'Informational',\n",
    "       'Informational_Duration', 'ProductRelated', 'ProductRelated_Duration',\n",
    "       'BounceRates', 'ExitRates', 'PageValues', 'SpecialDay',\n",
    "       'OperatingSystems', 'Browser', 'Region', 'TrafficType']]"
   ]
  },
  {
   "cell_type": "code",
   "execution_count": 182,
   "metadata": {},
   "outputs": [],
   "source": [
    "pca = PCA()\n",
    "principalComponents = pca.fit_transform(dat_admin)"
   ]
  },
  {
   "cell_type": "code",
   "execution_count": 183,
   "metadata": {},
   "outputs": [
    {
     "data": {
      "text/plain": [
       "array([ 30.6,  42. ,  52.4,  60.5,  68.2,  75.2,  82.1,  87.9,  93.2,\n",
       "        97.2,  98.8,  99.5,  99.9, 100.2])"
      ]
     },
     "execution_count": 183,
     "metadata": {},
     "output_type": "execute_result"
    }
   ],
   "source": [
    "var_cum=np.cumsum(np.round(pca.explained_variance_ratio_, decimals=3)*100)\n",
    "var_cum"
   ]
  },
  {
   "cell_type": "code",
   "execution_count": 184,
   "metadata": {},
   "outputs": [
    {
     "data": {
      "image/png": "[encoded data removed]",
      "text/plain": [
       "<Figure size 864x432 with 1 Axes>"
      ]
     },
     "metadata": {
      "needs_background": "light"
     },
     "output_type": "display_data"
    }
   ],
   "source": [
    "#SCREE PLOT\n",
    "plt.figure(figsize=(12,6))\n",
    "plt.plot(var_cum,'o-')\n",
    "plt.title('SCREE PLOT')\n",
    "plt.xlabel('number of components')\n",
    "plt.ylabel('cumulative explained variance')\n",
    "plt.grid()\n",
    "plt.show()"
   ]
  },
  {
   "cell_type": "code",
   "execution_count": 185,
   "metadata": {},
   "outputs": [],
   "source": [
    "pca = PCA(n_components=12)\n",
    "principalComponents = pca.fit_transform(dat_admin)"
   ]
  },
  {
   "cell_type": "code",
   "execution_count": 186,
   "metadata": {},
   "outputs": [
    {
     "data": {
      "text/html": [
       "<div>\n",
       "<style scoped>\n",
       "    .dataframe tbody tr th:only-of-type {\n",
       "        vertical-align: middle;\n",
       "    }\n",
       "\n",
       "    .dataframe tbody tr th {\n",
       "        vertical-align: top;\n",
       "    }\n",
       "\n",
       "    .dataframe thead th {\n",
       "        text-align: right;\n",
       "    }\n",
       "</style>\n",
       "<table border=\"1\" class=\"dataframe\">\n",
       "  <thead>\n",
       "    <tr style=\"text-align: right;\">\n",
       "      <th></th>\n",
       "      <th>PC1</th>\n",
       "      <th>PC2</th>\n",
       "      <th>PC3</th>\n",
       "      <th>PC4</th>\n",
       "      <th>PC5</th>\n",
       "      <th>PC6</th>\n",
       "      <th>PC7</th>\n",
       "      <th>PC8</th>\n",
       "      <th>PC9</th>\n",
       "      <th>PC10</th>\n",
       "      <th>PC11</th>\n",
       "      <th>PC12</th>\n",
       "    </tr>\n",
       "  </thead>\n",
       "  <tbody>\n",
       "    <tr>\n",
       "      <th>0</th>\n",
       "      <td>-3.920140</td>\n",
       "      <td>1.991511</td>\n",
       "      <td>-2.355727</td>\n",
       "      <td>0.283991</td>\n",
       "      <td>-0.793543</td>\n",
       "      <td>-0.723568</td>\n",
       "      <td>-1.390815</td>\n",
       "      <td>-0.213432</td>\n",
       "      <td>0.325066</td>\n",
       "      <td>0.065675</td>\n",
       "      <td>-0.369966</td>\n",
       "      <td>-0.012273</td>\n",
       "    </tr>\n",
       "    <tr>\n",
       "      <th>1</th>\n",
       "      <td>-2.498042</td>\n",
       "      <td>-0.043940</td>\n",
       "      <td>-0.241032</td>\n",
       "      <td>-0.182367</td>\n",
       "      <td>-0.729320</td>\n",
       "      <td>-1.347235</td>\n",
       "      <td>0.261099</td>\n",
       "      <td>0.293493</td>\n",
       "      <td>0.734867</td>\n",
       "      <td>0.016066</td>\n",
       "      <td>1.282560</td>\n",
       "      <td>0.011888</td>\n",
       "    </tr>\n",
       "    <tr>\n",
       "      <th>2</th>\n",
       "      <td>-3.951751</td>\n",
       "      <td>1.397401</td>\n",
       "      <td>0.485310</td>\n",
       "      <td>1.791767</td>\n",
       "      <td>-0.455311</td>\n",
       "      <td>1.032274</td>\n",
       "      <td>0.095826</td>\n",
       "      <td>-0.823424</td>\n",
       "      <td>-0.469741</td>\n",
       "      <td>2.291366</td>\n",
       "      <td>-0.253220</td>\n",
       "      <td>-0.071019</td>\n",
       "    </tr>\n",
       "    <tr>\n",
       "      <th>3</th>\n",
       "      <td>-3.541975</td>\n",
       "      <td>0.997975</td>\n",
       "      <td>0.921738</td>\n",
       "      <td>1.036730</td>\n",
       "      <td>-0.064343</td>\n",
       "      <td>-0.685909</td>\n",
       "      <td>-0.036133</td>\n",
       "      <td>-0.636896</td>\n",
       "      <td>-0.136311</td>\n",
       "      <td>0.501397</td>\n",
       "      <td>-0.120717</td>\n",
       "      <td>-0.185376</td>\n",
       "    </tr>\n",
       "    <tr>\n",
       "      <th>4</th>\n",
       "      <td>-1.728243</td>\n",
       "      <td>-0.146968</td>\n",
       "      <td>1.375935</td>\n",
       "      <td>-0.552937</td>\n",
       "      <td>0.095767</td>\n",
       "      <td>-1.289438</td>\n",
       "      <td>-0.080415</td>\n",
       "      <td>-0.541112</td>\n",
       "      <td>-0.648556</td>\n",
       "      <td>-0.095550</td>\n",
       "      <td>0.062393</td>\n",
       "      <td>0.336985</td>\n",
       "    </tr>\n",
       "  </tbody>\n",
       "</table>\n",
       "</div>"
      ],
      "text/plain": [
       "        PC1       PC2       PC3       PC4       PC5       PC6       PC7  \\\n",
       "0 -3.920140  1.991511 -2.355727  0.283991 -0.793543 -0.723568 -1.390815   \n",
       "1 -2.498042 -0.043940 -0.241032 -0.182367 -0.729320 -1.347235  0.261099   \n",
       "2 -3.951751  1.397401  0.485310  1.791767 -0.455311  1.032274  0.095826   \n",
       "3 -3.541975  0.997975  0.921738  1.036730 -0.064343 -0.685909 -0.036133   \n",
       "4 -1.728243 -0.146968  1.375935 -0.552937  0.095767 -1.289438 -0.080415   \n",
       "\n",
       "        PC8       PC9      PC10      PC11      PC12  \n",
       "0 -0.213432  0.325066  0.065675 -0.369966 -0.012273  \n",
       "1  0.293493  0.734867  0.016066  1.282560  0.011888  \n",
       "2 -0.823424 -0.469741  2.291366 -0.253220 -0.071019  \n",
       "3 -0.636896 -0.136311  0.501397 -0.120717 -0.185376  \n",
       "4 -0.541112 -0.648556 -0.095550  0.062393  0.336985  "
      ]
     },
     "execution_count": 186,
     "metadata": {},
     "output_type": "execute_result"
    }
   ],
   "source": [
    "principalDf = pd.DataFrame(data = principalComponents,columns=['PC1','PC2','PC3','PC4','PC5','PC6','PC7','PC8','PC9','PC10','PC11','PC12'],\n",
    "                           index=data.index)\n",
    "principalDf.head()"
   ]
  },
  {
   "cell_type": "code",
   "execution_count": 187,
   "metadata": {},
   "outputs": [],
   "source": [
    "Catego = sc_data[['Month','VisitorType','Weekend']]"
   ]
  },
  {
   "cell_type": "code",
   "execution_count": 188,
   "metadata": {},
   "outputs": [],
   "source": [
    "Final = pd.concat([principalDf,Catego],axis=1)"
   ]
  },
  {
   "cell_type": "code",
   "execution_count": 189,
   "metadata": {},
   "outputs": [],
   "source": [
    "X = Final\n",
    "Y = data1.Revenue"
   ]
  },
  {
   "cell_type": "markdown",
   "metadata": {},
   "source": [
    "## Logistic Regression"
   ]
  },
  {
   "cell_type": "code",
   "execution_count": 190,
   "metadata": {},
   "outputs": [],
   "source": [
    "LR = LogisticRegression()"
   ]
  },
  {
   "cell_type": "markdown",
   "metadata": {},
   "source": [
    "###  K Fold Cross Validation"
   ]
  },
  {
   "cell_type": "code",
   "execution_count": 191,
   "metadata": {},
   "outputs": [],
   "source": [
    "kf = KFold(n_splits=5,shuffle=True,random_state=0)"
   ]
  },
  {
   "cell_type": "code",
   "execution_count": 192,
   "metadata": {},
   "outputs": [
    {
     "name": "stdout",
     "output_type": "stream",
     "text": [
      " Accuracy: 0.89  F1: 0.64 ROC-AOC: 0.78\n"
     ]
    }
   ],
   "source": [
    "F1=[]\n",
    "roc_auc = []\n",
    "accuracy=[]\n",
    "for train,test in kf.split(X,Y):\n",
    "    xtrain,xtest=X.iloc[train,:],X.iloc[test,:]\n",
    "    ytrain,ytest=Y.iloc[train],Y.iloc[test]\n",
    "    LR.fit(xtrain,ytrain)\n",
    "    y_predict = LR.predict(xtest)\n",
    "    F1.append(metrics.f1_score(ytest,y_predict))\n",
    "    fpr,tpr,_=metrics.roc_curve(ytest,y_predict)\n",
    "    roc_auc.append(metrics.auc(fpr,tpr))\n",
    "    accuracy.append(metrics.accuracy_score(ytest,y_predict))\n",
    "print(' Accuracy: %0.02f  F1: %0.02f ROC-AOC: %0.02F'\n",
    "      %(np.mean(accuracy),np.mean(F1),np.mean(roc_auc)))"
   ]
  },
  {
   "cell_type": "code",
   "execution_count": 193,
   "metadata": {},
   "outputs": [
    {
     "data": {
      "text/html": [
       "<div>\n",
       "<style scoped>\n",
       "    .dataframe tbody tr th:only-of-type {\n",
       "        vertical-align: middle;\n",
       "    }\n",
       "\n",
       "    .dataframe tbody tr th {\n",
       "        vertical-align: top;\n",
       "    }\n",
       "\n",
       "    .dataframe thead th {\n",
       "        text-align: right;\n",
       "    }\n",
       "</style>\n",
       "<table border=\"1\" class=\"dataframe\">\n",
       "  <thead>\n",
       "    <tr style=\"text-align: right;\">\n",
       "      <th></th>\n",
       "      <th>Scaling</th>\n",
       "      <th>Model</th>\n",
       "      <th>Accuracy</th>\n",
       "      <th>F1 Score</th>\n",
       "      <th>ROC-AUC</th>\n",
       "    </tr>\n",
       "  </thead>\n",
       "  <tbody>\n",
       "    <tr>\n",
       "      <th>0</th>\n",
       "      <td>Standard</td>\n",
       "      <td>Logistic Regression</td>\n",
       "      <td>0.884266</td>\n",
       "      <td>0.501025</td>\n",
       "      <td>0.676718</td>\n",
       "    </tr>\n",
       "    <tr>\n",
       "      <th>0</th>\n",
       "      <td>Standard</td>\n",
       "      <td>Decision Tree</td>\n",
       "      <td>0.871046</td>\n",
       "      <td>0.326190</td>\n",
       "      <td>0.597803</td>\n",
       "    </tr>\n",
       "    <tr>\n",
       "      <th>0</th>\n",
       "      <td>Standard</td>\n",
       "      <td>Random Forest</td>\n",
       "      <td>0.875426</td>\n",
       "      <td>0.372520</td>\n",
       "      <td>0.615600</td>\n",
       "    </tr>\n",
       "    <tr>\n",
       "      <th>0</th>\n",
       "      <td>MinMax</td>\n",
       "      <td>Logistic Regression</td>\n",
       "      <td>0.846796</td>\n",
       "      <td>0.046464</td>\n",
       "      <td>0.510790</td>\n",
       "    </tr>\n",
       "    <tr>\n",
       "      <th>0</th>\n",
       "      <td>MinMax</td>\n",
       "      <td>Decision Tree</td>\n",
       "      <td>0.854015</td>\n",
       "      <td>0.217509</td>\n",
       "      <td>0.560389</td>\n",
       "    </tr>\n",
       "    <tr>\n",
       "      <th>0</th>\n",
       "      <td>MinMax</td>\n",
       "      <td>Random Forest</td>\n",
       "      <td>0.853609</td>\n",
       "      <td>0.116509</td>\n",
       "      <td>0.530452</td>\n",
       "    </tr>\n",
       "    <tr>\n",
       "      <th>0</th>\n",
       "      <td>MinAbs</td>\n",
       "      <td>Logistic Regression</td>\n",
       "      <td>0.875101</td>\n",
       "      <td>0.404829</td>\n",
       "      <td>0.630048</td>\n",
       "    </tr>\n",
       "    <tr>\n",
       "      <th>0</th>\n",
       "      <td>MaxAbs</td>\n",
       "      <td>Decision Tree</td>\n",
       "      <td>0.879724</td>\n",
       "      <td>0.442958</td>\n",
       "      <td>0.647131</td>\n",
       "    </tr>\n",
       "    <tr>\n",
       "      <th>0</th>\n",
       "      <td>MaxAbs</td>\n",
       "      <td>Random Forest</td>\n",
       "      <td>0.885483</td>\n",
       "      <td>0.574297</td>\n",
       "      <td>0.728319</td>\n",
       "    </tr>\n",
       "    <tr>\n",
       "      <th>0</th>\n",
       "      <td>Robust</td>\n",
       "      <td>Logistic Regression</td>\n",
       "      <td>0.883617</td>\n",
       "      <td>0.491802</td>\n",
       "      <td>0.671506</td>\n",
       "    </tr>\n",
       "    <tr>\n",
       "      <th>0</th>\n",
       "      <td>Robust</td>\n",
       "      <td>Decision Tree</td>\n",
       "      <td>0.883617</td>\n",
       "      <td>0.493922</td>\n",
       "      <td>0.673976</td>\n",
       "    </tr>\n",
       "    <tr>\n",
       "      <th>0</th>\n",
       "      <td>Robust</td>\n",
       "      <td>Random Forest</td>\n",
       "      <td>0.891890</td>\n",
       "      <td>0.635275</td>\n",
       "      <td>0.776545</td>\n",
       "    </tr>\n",
       "    <tr>\n",
       "      <th>0</th>\n",
       "      <td>Quantile-N</td>\n",
       "      <td>Logistic Regression</td>\n",
       "      <td>0.894647</td>\n",
       "      <td>0.641103</td>\n",
       "      <td>0.778070</td>\n",
       "    </tr>\n",
       "    <tr>\n",
       "      <th>0</th>\n",
       "      <td>Quantile-N</td>\n",
       "      <td>Decision Tree</td>\n",
       "      <td>0.875669</td>\n",
       "      <td>0.663917</td>\n",
       "      <td>0.842730</td>\n",
       "    </tr>\n",
       "    <tr>\n",
       "      <th>0</th>\n",
       "      <td>Quantile-N</td>\n",
       "      <td>Random Forest</td>\n",
       "      <td>0.866829</td>\n",
       "      <td>0.307659</td>\n",
       "      <td>0.597101</td>\n",
       "    </tr>\n",
       "    <tr>\n",
       "      <th>0</th>\n",
       "      <td>Quantile-U</td>\n",
       "      <td>Logistic Regression</td>\n",
       "      <td>0.894972</td>\n",
       "      <td>0.642978</td>\n",
       "      <td>0.779370</td>\n",
       "    </tr>\n",
       "    <tr>\n",
       "      <th>0</th>\n",
       "      <td>Quantile-U</td>\n",
       "      <td>Decision Tree</td>\n",
       "      <td>0.880535</td>\n",
       "      <td>0.522551</td>\n",
       "      <td>0.696129</td>\n",
       "    </tr>\n",
       "    <tr>\n",
       "      <th>0</th>\n",
       "      <td>Quantile-U</td>\n",
       "      <td>Random Forest</td>\n",
       "      <td>0.890592</td>\n",
       "      <td>0.559144</td>\n",
       "      <td>0.709865</td>\n",
       "    </tr>\n",
       "    <tr>\n",
       "      <th>0</th>\n",
       "      <td>Power Transform</td>\n",
       "      <td>Logistic Regression</td>\n",
       "      <td>0.892863</td>\n",
       "      <td>0.643969</td>\n",
       "      <td>0.784254</td>\n",
       "    </tr>\n",
       "  </tbody>\n",
       "</table>\n",
       "</div>"
      ],
      "text/plain": [
       "           Scaling                Model  Accuracy  F1 Score   ROC-AUC\n",
       "0         Standard  Logistic Regression  0.884266  0.501025  0.676718\n",
       "0         Standard        Decision Tree  0.871046  0.326190  0.597803\n",
       "0         Standard        Random Forest  0.875426  0.372520  0.615600\n",
       "0           MinMax  Logistic Regression  0.846796  0.046464  0.510790\n",
       "0           MinMax        Decision Tree  0.854015  0.217509  0.560389\n",
       "0           MinMax        Random Forest  0.853609  0.116509  0.530452\n",
       "0           MinAbs  Logistic Regression  0.875101  0.404829  0.630048\n",
       "0           MaxAbs        Decision Tree  0.879724  0.442958  0.647131\n",
       "0           MaxAbs        Random Forest  0.885483  0.574297  0.728319\n",
       "0           Robust  Logistic Regression  0.883617  0.491802  0.671506\n",
       "0           Robust        Decision Tree  0.883617  0.493922  0.673976\n",
       "0           Robust        Random Forest  0.891890  0.635275  0.776545\n",
       "0       Quantile-N  Logistic Regression  0.894647  0.641103  0.778070\n",
       "0       Quantile-N        Decision Tree  0.875669  0.663917  0.842730\n",
       "0       Quantile-N        Random Forest  0.866829  0.307659  0.597101\n",
       "0       Quantile-U  Logistic Regression  0.894972  0.642978  0.779370\n",
       "0       Quantile-U        Decision Tree  0.880535  0.522551  0.696129\n",
       "0       Quantile-U        Random Forest  0.890592  0.559144  0.709865\n",
       "0  Power Transform  Logistic Regression  0.892863  0.643969  0.784254"
      ]
     },
     "execution_count": 193,
     "metadata": {},
     "output_type": "execute_result"
    }
   ],
   "source": [
    "# Storing results in a dataframe\n",
    "tempResultsDf = pd.DataFrame({'Scaling':['Power Transform'],'Model':['Logistic Regression'], \n",
    "                          'Accuracy': [np.mean(accuracy)], 'F1 Score': [np.mean(F1)],'ROC-AUC':[np.mean(roc_auc)]})\n",
    "resultsDf = pd.concat([resultsDf, tempResultsDf])\n",
    "resultsDf = resultsDf[['Scaling','Model', 'Accuracy','F1 Score','ROC-AUC']]\n",
    "resultsDf"
   ]
  },
  {
   "cell_type": "markdown",
   "metadata": {},
   "source": [
    "## Decision Tree"
   ]
  },
  {
   "cell_type": "code",
   "execution_count": 194,
   "metadata": {},
   "outputs": [],
   "source": [
    "DT = DecisionTreeClassifier()"
   ]
  },
  {
   "cell_type": "code",
   "execution_count": 195,
   "metadata": {},
   "outputs": [
    {
     "data": {
      "text/plain": [
       "GridSearchCV(cv=3, error_score='raise-deprecating',\n",
       "       estimator=DecisionTreeClassifier(class_weight=None, criterion='gini', max_depth=None,\n",
       "            max_features=None, max_leaf_nodes=None,\n",
       "            min_impurity_decrease=0.0, min_impurity_split=None,\n",
       "            min_samples_leaf=1, min_samples_split=2,\n",
       "            min_weight_fraction_leaf=0.0, presort=False, random_state=None,\n",
       "            splitter='best'),\n",
       "       fit_params=None, iid='warn', n_jobs=None,\n",
       "       param_grid={'max_depth': array([1, 2, 3, 4, 5, 6, 7, 8, 9])},\n",
       "       pre_dispatch='2*n_jobs', refit=True, return_train_score='warn',\n",
       "       scoring=None, verbose=0)"
      ]
     },
     "execution_count": 195,
     "metadata": {},
     "output_type": "execute_result"
    }
   ],
   "source": [
    "parameter ={'max_depth':np.arange(1,10)}\n",
    "GS=GridSearchCV(DT,parameter,cv=3)\n",
    "GS.fit(X,Y)"
   ]
  },
  {
   "cell_type": "code",
   "execution_count": 196,
   "metadata": {},
   "outputs": [
    {
     "data": {
      "text/plain": [
       "{'max_depth': 3}"
      ]
     },
     "execution_count": 196,
     "metadata": {},
     "output_type": "execute_result"
    }
   ],
   "source": [
    "GS.best_params_"
   ]
  },
  {
   "cell_type": "code",
   "execution_count": 197,
   "metadata": {},
   "outputs": [],
   "source": [
    "DT = DecisionTreeClassifier(max_depth=3)"
   ]
  },
  {
   "cell_type": "markdown",
   "metadata": {},
   "source": [
    "###  K Fold Cross Validation"
   ]
  },
  {
   "cell_type": "code",
   "execution_count": 198,
   "metadata": {},
   "outputs": [],
   "source": [
    "kf = KFold(n_splits=5,shuffle=True,random_state=0)"
   ]
  },
  {
   "cell_type": "code",
   "execution_count": 199,
   "metadata": {},
   "outputs": [
    {
     "name": "stdout",
     "output_type": "stream",
     "text": [
      " Accuracy: 0.88  F1: 0.59 ROC-AOC: 0.76\n"
     ]
    }
   ],
   "source": [
    "F1=[]\n",
    "roc_auc = []\n",
    "accuracy=[]\n",
    "for train,test in kf.split(X,Y):\n",
    "    xtrain,xtest=X.iloc[train,:],X.iloc[test,:]\n",
    "    ytrain,ytest=Y.iloc[train],Y.iloc[test]\n",
    "    DT.fit(xtrain,ytrain)\n",
    "    y_predict = DT.predict(xtest)\n",
    "    F1.append(metrics.f1_score(ytest,y_predict))\n",
    "    fpr,tpr,_=metrics.roc_curve(ytest,y_predict)\n",
    "    roc_auc.append(metrics.auc(fpr,tpr))\n",
    "    accuracy.append(metrics.accuracy_score(ytest,y_predict))\n",
    "print(' Accuracy: %0.02f  F1: %0.02f ROC-AOC: %0.02F'\n",
    "      %(np.mean(accuracy),np.mean(F1),np.mean(roc_auc)))"
   ]
  },
  {
   "cell_type": "code",
   "execution_count": 200,
   "metadata": {},
   "outputs": [
    {
     "data": {
      "text/html": [
       "<div>\n",
       "<style scoped>\n",
       "    .dataframe tbody tr th:only-of-type {\n",
       "        vertical-align: middle;\n",
       "    }\n",
       "\n",
       "    .dataframe tbody tr th {\n",
       "        vertical-align: top;\n",
       "    }\n",
       "\n",
       "    .dataframe thead th {\n",
       "        text-align: right;\n",
       "    }\n",
       "</style>\n",
       "<table border=\"1\" class=\"dataframe\">\n",
       "  <thead>\n",
       "    <tr style=\"text-align: right;\">\n",
       "      <th></th>\n",
       "      <th>Scaling</th>\n",
       "      <th>Model</th>\n",
       "      <th>Accuracy</th>\n",
       "      <th>F1 Score</th>\n",
       "      <th>ROC-AUC</th>\n",
       "    </tr>\n",
       "  </thead>\n",
       "  <tbody>\n",
       "    <tr>\n",
       "      <th>0</th>\n",
       "      <td>Standard</td>\n",
       "      <td>Logistic Regression</td>\n",
       "      <td>0.884266</td>\n",
       "      <td>0.501025</td>\n",
       "      <td>0.676718</td>\n",
       "    </tr>\n",
       "    <tr>\n",
       "      <th>0</th>\n",
       "      <td>Standard</td>\n",
       "      <td>Decision Tree</td>\n",
       "      <td>0.871046</td>\n",
       "      <td>0.326190</td>\n",
       "      <td>0.597803</td>\n",
       "    </tr>\n",
       "    <tr>\n",
       "      <th>0</th>\n",
       "      <td>Standard</td>\n",
       "      <td>Random Forest</td>\n",
       "      <td>0.875426</td>\n",
       "      <td>0.372520</td>\n",
       "      <td>0.615600</td>\n",
       "    </tr>\n",
       "    <tr>\n",
       "      <th>0</th>\n",
       "      <td>MinMax</td>\n",
       "      <td>Logistic Regression</td>\n",
       "      <td>0.846796</td>\n",
       "      <td>0.046464</td>\n",
       "      <td>0.510790</td>\n",
       "    </tr>\n",
       "    <tr>\n",
       "      <th>0</th>\n",
       "      <td>MinMax</td>\n",
       "      <td>Decision Tree</td>\n",
       "      <td>0.854015</td>\n",
       "      <td>0.217509</td>\n",
       "      <td>0.560389</td>\n",
       "    </tr>\n",
       "    <tr>\n",
       "      <th>0</th>\n",
       "      <td>MinMax</td>\n",
       "      <td>Random Forest</td>\n",
       "      <td>0.853609</td>\n",
       "      <td>0.116509</td>\n",
       "      <td>0.530452</td>\n",
       "    </tr>\n",
       "    <tr>\n",
       "      <th>0</th>\n",
       "      <td>MinAbs</td>\n",
       "      <td>Logistic Regression</td>\n",
       "      <td>0.875101</td>\n",
       "      <td>0.404829</td>\n",
       "      <td>0.630048</td>\n",
       "    </tr>\n",
       "    <tr>\n",
       "      <th>0</th>\n",
       "      <td>MaxAbs</td>\n",
       "      <td>Decision Tree</td>\n",
       "      <td>0.879724</td>\n",
       "      <td>0.442958</td>\n",
       "      <td>0.647131</td>\n",
       "    </tr>\n",
       "    <tr>\n",
       "      <th>0</th>\n",
       "      <td>MaxAbs</td>\n",
       "      <td>Random Forest</td>\n",
       "      <td>0.885483</td>\n",
       "      <td>0.574297</td>\n",
       "      <td>0.728319</td>\n",
       "    </tr>\n",
       "    <tr>\n",
       "      <th>0</th>\n",
       "      <td>Robust</td>\n",
       "      <td>Logistic Regression</td>\n",
       "      <td>0.883617</td>\n",
       "      <td>0.491802</td>\n",
       "      <td>0.671506</td>\n",
       "    </tr>\n",
       "    <tr>\n",
       "      <th>0</th>\n",
       "      <td>Robust</td>\n",
       "      <td>Decision Tree</td>\n",
       "      <td>0.883617</td>\n",
       "      <td>0.493922</td>\n",
       "      <td>0.673976</td>\n",
       "    </tr>\n",
       "    <tr>\n",
       "      <th>0</th>\n",
       "      <td>Robust</td>\n",
       "      <td>Random Forest</td>\n",
       "      <td>0.891890</td>\n",
       "      <td>0.635275</td>\n",
       "      <td>0.776545</td>\n",
       "    </tr>\n",
       "    <tr>\n",
       "      <th>0</th>\n",
       "      <td>Quantile-N</td>\n",
       "      <td>Logistic Regression</td>\n",
       "      <td>0.894647</td>\n",
       "      <td>0.641103</td>\n",
       "      <td>0.778070</td>\n",
       "    </tr>\n",
       "    <tr>\n",
       "      <th>0</th>\n",
       "      <td>Quantile-N</td>\n",
       "      <td>Decision Tree</td>\n",
       "      <td>0.875669</td>\n",
       "      <td>0.663917</td>\n",
       "      <td>0.842730</td>\n",
       "    </tr>\n",
       "    <tr>\n",
       "      <th>0</th>\n",
       "      <td>Quantile-N</td>\n",
       "      <td>Random Forest</td>\n",
       "      <td>0.866829</td>\n",
       "      <td>0.307659</td>\n",
       "      <td>0.597101</td>\n",
       "    </tr>\n",
       "    <tr>\n",
       "      <th>0</th>\n",
       "      <td>Quantile-U</td>\n",
       "      <td>Logistic Regression</td>\n",
       "      <td>0.894972</td>\n",
       "      <td>0.642978</td>\n",
       "      <td>0.779370</td>\n",
       "    </tr>\n",
       "    <tr>\n",
       "      <th>0</th>\n",
       "      <td>Quantile-U</td>\n",
       "      <td>Decision Tree</td>\n",
       "      <td>0.880535</td>\n",
       "      <td>0.522551</td>\n",
       "      <td>0.696129</td>\n",
       "    </tr>\n",
       "    <tr>\n",
       "      <th>0</th>\n",
       "      <td>Quantile-U</td>\n",
       "      <td>Random Forest</td>\n",
       "      <td>0.890592</td>\n",
       "      <td>0.559144</td>\n",
       "      <td>0.709865</td>\n",
       "    </tr>\n",
       "    <tr>\n",
       "      <th>0</th>\n",
       "      <td>Power Transform</td>\n",
       "      <td>Logistic Regression</td>\n",
       "      <td>0.892863</td>\n",
       "      <td>0.643969</td>\n",
       "      <td>0.784254</td>\n",
       "    </tr>\n",
       "    <tr>\n",
       "      <th>0</th>\n",
       "      <td>Power Transform</td>\n",
       "      <td>Decision Tree</td>\n",
       "      <td>0.883617</td>\n",
       "      <td>0.592870</td>\n",
       "      <td>0.755787</td>\n",
       "    </tr>\n",
       "  </tbody>\n",
       "</table>\n",
       "</div>"
      ],
      "text/plain": [
       "           Scaling                Model  Accuracy  F1 Score   ROC-AUC\n",
       "0         Standard  Logistic Regression  0.884266  0.501025  0.676718\n",
       "0         Standard        Decision Tree  0.871046  0.326190  0.597803\n",
       "0         Standard        Random Forest  0.875426  0.372520  0.615600\n",
       "0           MinMax  Logistic Regression  0.846796  0.046464  0.510790\n",
       "0           MinMax        Decision Tree  0.854015  0.217509  0.560389\n",
       "0           MinMax        Random Forest  0.853609  0.116509  0.530452\n",
       "0           MinAbs  Logistic Regression  0.875101  0.404829  0.630048\n",
       "0           MaxAbs        Decision Tree  0.879724  0.442958  0.647131\n",
       "0           MaxAbs        Random Forest  0.885483  0.574297  0.728319\n",
       "0           Robust  Logistic Regression  0.883617  0.491802  0.671506\n",
       "0           Robust        Decision Tree  0.883617  0.493922  0.673976\n",
       "0           Robust        Random Forest  0.891890  0.635275  0.776545\n",
       "0       Quantile-N  Logistic Regression  0.894647  0.641103  0.778070\n",
       "0       Quantile-N        Decision Tree  0.875669  0.663917  0.842730\n",
       "0       Quantile-N        Random Forest  0.866829  0.307659  0.597101\n",
       "0       Quantile-U  Logistic Regression  0.894972  0.642978  0.779370\n",
       "0       Quantile-U        Decision Tree  0.880535  0.522551  0.696129\n",
       "0       Quantile-U        Random Forest  0.890592  0.559144  0.709865\n",
       "0  Power Transform  Logistic Regression  0.892863  0.643969  0.784254\n",
       "0  Power Transform        Decision Tree  0.883617  0.592870  0.755787"
      ]
     },
     "execution_count": 200,
     "metadata": {},
     "output_type": "execute_result"
    }
   ],
   "source": [
    "# Storing results in a dataframe\n",
    "tempResultsDf = pd.DataFrame({'Scaling':['Power Transform'],'Model':['Decision Tree'], \n",
    "                          'Accuracy': [np.mean(accuracy)], 'F1 Score': [np.mean(F1)],'ROC-AUC':[np.mean(roc_auc)]})\n",
    "resultsDf = pd.concat([resultsDf, tempResultsDf])\n",
    "resultsDf = resultsDf[['Scaling','Model', 'Accuracy','F1 Score','ROC-AUC']]\n",
    "resultsDf"
   ]
  },
  {
   "cell_type": "markdown",
   "metadata": {},
   "source": [
    "## Random Forest"
   ]
  },
  {
   "cell_type": "code",
   "execution_count": 201,
   "metadata": {},
   "outputs": [],
   "source": [
    "RT = RandomForestClassifier(random_state=0)"
   ]
  },
  {
   "cell_type": "code",
   "execution_count": 202,
   "metadata": {},
   "outputs": [
    {
     "data": {
      "text/plain": [
       "GridSearchCV(cv=3, error_score='raise-deprecating',\n",
       "       estimator=RandomForestClassifier(bootstrap=True, class_weight=None, criterion='gini',\n",
       "            max_depth=None, max_features='auto', max_leaf_nodes=None,\n",
       "            min_impurity_decrease=0.0, min_impurity_split=None,\n",
       "            min_samples_leaf=1, min_samples_split=2,\n",
       "            min_weight_fraction_leaf=0.0, n_estimators='warn', n_jobs=None,\n",
       "            oob_score=False, random_state=0, verbose=0, warm_start=False),\n",
       "       fit_params=None, iid='warn', n_jobs=None,\n",
       "       param_grid={'n_estimators': array([1, 2, 3, 4, 5, 6, 7, 8, 9]), 'max_depth': array([1, 2, 3, 4, 5, 6, 7, 8, 9])},\n",
       "       pre_dispatch='2*n_jobs', refit=True, return_train_score='warn',\n",
       "       scoring=None, verbose=0)"
      ]
     },
     "execution_count": 202,
     "metadata": {},
     "output_type": "execute_result"
    }
   ],
   "source": [
    "parameter ={'n_estimators':np.arange(1,10),'max_depth':np.arange(1,10)}\n",
    "GS=GridSearchCV(RT,parameter,cv=3)\n",
    "GS.fit(X,Y)"
   ]
  },
  {
   "cell_type": "code",
   "execution_count": 203,
   "metadata": {},
   "outputs": [
    {
     "data": {
      "text/plain": [
       "{'max_depth': 4, 'n_estimators': 8}"
      ]
     },
     "execution_count": 203,
     "metadata": {},
     "output_type": "execute_result"
    }
   ],
   "source": [
    "GS.best_params_"
   ]
  },
  {
   "cell_type": "code",
   "execution_count": 204,
   "metadata": {},
   "outputs": [],
   "source": [
    "RT = RandomForestClassifier(n_estimators=8,max_depth=4)"
   ]
  },
  {
   "cell_type": "markdown",
   "metadata": {},
   "source": [
    "###  K Fold Cross Validation"
   ]
  },
  {
   "cell_type": "code",
   "execution_count": 205,
   "metadata": {},
   "outputs": [],
   "source": [
    "kf = KFold(n_splits=5,shuffle=True,random_state=0)"
   ]
  },
  {
   "cell_type": "code",
   "execution_count": 206,
   "metadata": {},
   "outputs": [
    {
     "name": "stdout",
     "output_type": "stream",
     "text": [
      " Accuracy: 0.88  F1: 0.44 ROC-AOC: 0.65\n"
     ]
    }
   ],
   "source": [
    "F1=[]\n",
    "roc_auc = []\n",
    "accuracy=[]\n",
    "for train,test in kf.split(X,Y):\n",
    "    xtrain,xtest=X.iloc[train,:],X.iloc[test,:]\n",
    "    ytrain,ytest=Y.iloc[train],Y.iloc[test]\n",
    "    RT.fit(xtrain,ytrain)\n",
    "    y_predict = RT.predict(xtest)\n",
    "    F1.append(metrics.f1_score(ytest,y_predict))\n",
    "    fpr,tpr,_=metrics.roc_curve(ytest,y_predict)\n",
    "    roc_auc.append(metrics.auc(fpr,tpr))\n",
    "    accuracy.append(metrics.accuracy_score(ytest,y_predict))\n",
    "print(' Accuracy: %0.02f  F1: %0.02f ROC-AOC: %0.02F'\n",
    "      %(np.mean(accuracy),np.mean(F1),np.mean(roc_auc)))"
   ]
  },
  {
   "cell_type": "code",
   "execution_count": 207,
   "metadata": {},
   "outputs": [
    {
     "data": {
      "text/html": [
       "<div>\n",
       "<style scoped>\n",
       "    .dataframe tbody tr th:only-of-type {\n",
       "        vertical-align: middle;\n",
       "    }\n",
       "\n",
       "    .dataframe tbody tr th {\n",
       "        vertical-align: top;\n",
       "    }\n",
       "\n",
       "    .dataframe thead th {\n",
       "        text-align: right;\n",
       "    }\n",
       "</style>\n",
       "<table border=\"1\" class=\"dataframe\">\n",
       "  <thead>\n",
       "    <tr style=\"text-align: right;\">\n",
       "      <th></th>\n",
       "      <th>Scaling</th>\n",
       "      <th>Model</th>\n",
       "      <th>Accuracy</th>\n",
       "      <th>F1 Score</th>\n",
       "      <th>ROC-AUC</th>\n",
       "    </tr>\n",
       "  </thead>\n",
       "  <tbody>\n",
       "    <tr>\n",
       "      <th>0</th>\n",
       "      <td>Standard</td>\n",
       "      <td>Logistic Regression</td>\n",
       "      <td>0.884266</td>\n",
       "      <td>0.501025</td>\n",
       "      <td>0.676718</td>\n",
       "    </tr>\n",
       "    <tr>\n",
       "      <th>0</th>\n",
       "      <td>Standard</td>\n",
       "      <td>Decision Tree</td>\n",
       "      <td>0.871046</td>\n",
       "      <td>0.326190</td>\n",
       "      <td>0.597803</td>\n",
       "    </tr>\n",
       "    <tr>\n",
       "      <th>0</th>\n",
       "      <td>Standard</td>\n",
       "      <td>Random Forest</td>\n",
       "      <td>0.875426</td>\n",
       "      <td>0.372520</td>\n",
       "      <td>0.615600</td>\n",
       "    </tr>\n",
       "    <tr>\n",
       "      <th>0</th>\n",
       "      <td>MinMax</td>\n",
       "      <td>Logistic Regression</td>\n",
       "      <td>0.846796</td>\n",
       "      <td>0.046464</td>\n",
       "      <td>0.510790</td>\n",
       "    </tr>\n",
       "    <tr>\n",
       "      <th>0</th>\n",
       "      <td>MinMax</td>\n",
       "      <td>Decision Tree</td>\n",
       "      <td>0.854015</td>\n",
       "      <td>0.217509</td>\n",
       "      <td>0.560389</td>\n",
       "    </tr>\n",
       "    <tr>\n",
       "      <th>0</th>\n",
       "      <td>MinMax</td>\n",
       "      <td>Random Forest</td>\n",
       "      <td>0.853609</td>\n",
       "      <td>0.116509</td>\n",
       "      <td>0.530452</td>\n",
       "    </tr>\n",
       "    <tr>\n",
       "      <th>0</th>\n",
       "      <td>MinAbs</td>\n",
       "      <td>Logistic Regression</td>\n",
       "      <td>0.875101</td>\n",
       "      <td>0.404829</td>\n",
       "      <td>0.630048</td>\n",
       "    </tr>\n",
       "    <tr>\n",
       "      <th>0</th>\n",
       "      <td>MaxAbs</td>\n",
       "      <td>Decision Tree</td>\n",
       "      <td>0.879724</td>\n",
       "      <td>0.442958</td>\n",
       "      <td>0.647131</td>\n",
       "    </tr>\n",
       "    <tr>\n",
       "      <th>0</th>\n",
       "      <td>MaxAbs</td>\n",
       "      <td>Random Forest</td>\n",
       "      <td>0.885483</td>\n",
       "      <td>0.574297</td>\n",
       "      <td>0.728319</td>\n",
       "    </tr>\n",
       "    <tr>\n",
       "      <th>0</th>\n",
       "      <td>Robust</td>\n",
       "      <td>Logistic Regression</td>\n",
       "      <td>0.883617</td>\n",
       "      <td>0.491802</td>\n",
       "      <td>0.671506</td>\n",
       "    </tr>\n",
       "    <tr>\n",
       "      <th>0</th>\n",
       "      <td>Robust</td>\n",
       "      <td>Decision Tree</td>\n",
       "      <td>0.883617</td>\n",
       "      <td>0.493922</td>\n",
       "      <td>0.673976</td>\n",
       "    </tr>\n",
       "    <tr>\n",
       "      <th>0</th>\n",
       "      <td>Robust</td>\n",
       "      <td>Random Forest</td>\n",
       "      <td>0.891890</td>\n",
       "      <td>0.635275</td>\n",
       "      <td>0.776545</td>\n",
       "    </tr>\n",
       "    <tr>\n",
       "      <th>0</th>\n",
       "      <td>Quantile-N</td>\n",
       "      <td>Logistic Regression</td>\n",
       "      <td>0.894647</td>\n",
       "      <td>0.641103</td>\n",
       "      <td>0.778070</td>\n",
       "    </tr>\n",
       "    <tr>\n",
       "      <th>0</th>\n",
       "      <td>Quantile-N</td>\n",
       "      <td>Decision Tree</td>\n",
       "      <td>0.875669</td>\n",
       "      <td>0.663917</td>\n",
       "      <td>0.842730</td>\n",
       "    </tr>\n",
       "    <tr>\n",
       "      <th>0</th>\n",
       "      <td>Quantile-N</td>\n",
       "      <td>Random Forest</td>\n",
       "      <td>0.866829</td>\n",
       "      <td>0.307659</td>\n",
       "      <td>0.597101</td>\n",
       "    </tr>\n",
       "    <tr>\n",
       "      <th>0</th>\n",
       "      <td>Quantile-U</td>\n",
       "      <td>Logistic Regression</td>\n",
       "      <td>0.894972</td>\n",
       "      <td>0.642978</td>\n",
       "      <td>0.779370</td>\n",
       "    </tr>\n",
       "    <tr>\n",
       "      <th>0</th>\n",
       "      <td>Quantile-U</td>\n",
       "      <td>Decision Tree</td>\n",
       "      <td>0.880535</td>\n",
       "      <td>0.522551</td>\n",
       "      <td>0.696129</td>\n",
       "    </tr>\n",
       "    <tr>\n",
       "      <th>0</th>\n",
       "      <td>Quantile-U</td>\n",
       "      <td>Random Forest</td>\n",
       "      <td>0.890592</td>\n",
       "      <td>0.559144</td>\n",
       "      <td>0.709865</td>\n",
       "    </tr>\n",
       "    <tr>\n",
       "      <th>0</th>\n",
       "      <td>Power Transform</td>\n",
       "      <td>Logistic Regression</td>\n",
       "      <td>0.892863</td>\n",
       "      <td>0.643969</td>\n",
       "      <td>0.784254</td>\n",
       "    </tr>\n",
       "    <tr>\n",
       "      <th>0</th>\n",
       "      <td>Power Transform</td>\n",
       "      <td>Decision Tree</td>\n",
       "      <td>0.883617</td>\n",
       "      <td>0.592870</td>\n",
       "      <td>0.755787</td>\n",
       "    </tr>\n",
       "    <tr>\n",
       "      <th>0</th>\n",
       "      <td>Power Transform</td>\n",
       "      <td>Random Forest</td>\n",
       "      <td>0.880535</td>\n",
       "      <td>0.439515</td>\n",
       "      <td>0.645447</td>\n",
       "    </tr>\n",
       "  </tbody>\n",
       "</table>\n",
       "</div>"
      ],
      "text/plain": [
       "           Scaling                Model  Accuracy  F1 Score   ROC-AUC\n",
       "0         Standard  Logistic Regression  0.884266  0.501025  0.676718\n",
       "0         Standard        Decision Tree  0.871046  0.326190  0.597803\n",
       "0         Standard        Random Forest  0.875426  0.372520  0.615600\n",
       "0           MinMax  Logistic Regression  0.846796  0.046464  0.510790\n",
       "0           MinMax        Decision Tree  0.854015  0.217509  0.560389\n",
       "0           MinMax        Random Forest  0.853609  0.116509  0.530452\n",
       "0           MinAbs  Logistic Regression  0.875101  0.404829  0.630048\n",
       "0           MaxAbs        Decision Tree  0.879724  0.442958  0.647131\n",
       "0           MaxAbs        Random Forest  0.885483  0.574297  0.728319\n",
       "0           Robust  Logistic Regression  0.883617  0.491802  0.671506\n",
       "0           Robust        Decision Tree  0.883617  0.493922  0.673976\n",
       "0           Robust        Random Forest  0.891890  0.635275  0.776545\n",
       "0       Quantile-N  Logistic Regression  0.894647  0.641103  0.778070\n",
       "0       Quantile-N        Decision Tree  0.875669  0.663917  0.842730\n",
       "0       Quantile-N        Random Forest  0.866829  0.307659  0.597101\n",
       "0       Quantile-U  Logistic Regression  0.894972  0.642978  0.779370\n",
       "0       Quantile-U        Decision Tree  0.880535  0.522551  0.696129\n",
       "0       Quantile-U        Random Forest  0.890592  0.559144  0.709865\n",
       "0  Power Transform  Logistic Regression  0.892863  0.643969  0.784254\n",
       "0  Power Transform        Decision Tree  0.883617  0.592870  0.755787\n",
       "0  Power Transform        Random Forest  0.880535  0.439515  0.645447"
      ]
     },
     "execution_count": 207,
     "metadata": {},
     "output_type": "execute_result"
    }
   ],
   "source": [
    "# Storing results in a dataframe\n",
    "tempResultsDf = pd.DataFrame({'Scaling':['Power Transform'],'Model':['Random Forest'], \n",
    "                          'Accuracy': [np.mean(accuracy)], 'F1 Score': [np.mean(F1)],'ROC-AUC':[np.mean(roc_auc)]})\n",
    "resultsDf = pd.concat([resultsDf, tempResultsDf])\n",
    "resultsDf = resultsDf[['Scaling','Model', 'Accuracy','F1 Score','ROC-AUC']]\n",
    "resultsDf"
   ]
  },
  {
   "cell_type": "markdown",
   "metadata": {},
   "source": [
    "# Normalizer"
   ]
  },
  {
   "cell_type": "code",
   "execution_count": 208,
   "metadata": {},
   "outputs": [],
   "source": [
    "nm = Normalizer()\n",
    "nm_data = nm.fit_transform(data1)\n",
    "nm_data = pd.DataFrame(nm_data,columns=data1.columns)"
   ]
  },
  {
   "cell_type": "code",
   "execution_count": 209,
   "metadata": {},
   "outputs": [],
   "source": [
    "dat_admin = nm_data[['Administrative', 'Administrative_Duration', 'Informational',\n",
    "       'Informational_Duration', 'ProductRelated', 'ProductRelated_Duration',\n",
    "       'BounceRates', 'ExitRates', 'PageValues', 'SpecialDay',\n",
    "       'OperatingSystems', 'Browser', 'Region', 'TrafficType']]"
   ]
  },
  {
   "cell_type": "code",
   "execution_count": 210,
   "metadata": {},
   "outputs": [],
   "source": [
    "pca = PCA()\n",
    "principalComponents = pca.fit_transform(dat_admin)"
   ]
  },
  {
   "cell_type": "code",
   "execution_count": 211,
   "metadata": {},
   "outputs": [
    {
     "data": {
      "text/plain": [
       "array([58.3, 83.4, 90. , 94. , 96. , 97.5, 98.6, 99.4, 99.9, 99.9, 99.9,\n",
       "       99.9, 99.9, 99.9])"
      ]
     },
     "execution_count": 211,
     "metadata": {},
     "output_type": "execute_result"
    }
   ],
   "source": [
    "var_cum=np.cumsum(np.round(pca.explained_variance_ratio_, decimals=3)*100)\n",
    "var_cum"
   ]
  },
  {
   "cell_type": "code",
   "execution_count": 212,
   "metadata": {},
   "outputs": [
    {
     "data": {
      "image/png": "[encoded data removed]",
      "text/plain": [
       "<Figure size 864x432 with 1 Axes>"
      ]
     },
     "metadata": {
      "needs_background": "light"
     },
     "output_type": "display_data"
    }
   ],
   "source": [
    "#SCREE PLOT\n",
    "plt.figure(figsize=(12,6))\n",
    "plt.plot(var_cum,'o-')\n",
    "plt.title('SCREE PLOT')\n",
    "plt.xlabel('number of components')\n",
    "plt.ylabel('cumulative explained variance')\n",
    "plt.grid()\n",
    "plt.show()"
   ]
  },
  {
   "cell_type": "code",
   "execution_count": 213,
   "metadata": {},
   "outputs": [],
   "source": [
    "pca = PCA(n_components=8)\n",
    "principalComponents = pca.fit_transform(dat_admin)"
   ]
  },
  {
   "cell_type": "code",
   "execution_count": 214,
   "metadata": {},
   "outputs": [
    {
     "data": {
      "text/html": [
       "<div>\n",
       "<style scoped>\n",
       "    .dataframe tbody tr th:only-of-type {\n",
       "        vertical-align: middle;\n",
       "    }\n",
       "\n",
       "    .dataframe tbody tr th {\n",
       "        vertical-align: top;\n",
       "    }\n",
       "\n",
       "    .dataframe thead th {\n",
       "        text-align: right;\n",
       "    }\n",
       "</style>\n",
       "<table border=\"1\" class=\"dataframe\">\n",
       "  <thead>\n",
       "    <tr style=\"text-align: right;\">\n",
       "      <th></th>\n",
       "      <th>PC1</th>\n",
       "      <th>PC2</th>\n",
       "      <th>PC3</th>\n",
       "      <th>PC4</th>\n",
       "      <th>PC5</th>\n",
       "      <th>PC6</th>\n",
       "      <th>PC7</th>\n",
       "      <th>PC8</th>\n",
       "    </tr>\n",
       "  </thead>\n",
       "  <tbody>\n",
       "    <tr>\n",
       "      <th>0</th>\n",
       "      <td>0.991455</td>\n",
       "      <td>-0.294753</td>\n",
       "      <td>-0.009944</td>\n",
       "      <td>-0.122483</td>\n",
       "      <td>-0.114764</td>\n",
       "      <td>-0.047728</td>\n",
       "      <td>0.005368</td>\n",
       "      <td>0.105284</td>\n",
       "    </tr>\n",
       "    <tr>\n",
       "      <th>1</th>\n",
       "      <td>-0.113610</td>\n",
       "      <td>-0.088322</td>\n",
       "      <td>-0.018833</td>\n",
       "      <td>0.000357</td>\n",
       "      <td>-0.009419</td>\n",
       "      <td>-0.011582</td>\n",
       "      <td>-0.006899</td>\n",
       "      <td>-0.018035</td>\n",
       "    </tr>\n",
       "    <tr>\n",
       "      <th>2</th>\n",
       "      <td>1.092902</td>\n",
       "      <td>-0.362548</td>\n",
       "      <td>-0.046171</td>\n",
       "      <td>-0.337936</td>\n",
       "      <td>0.399704</td>\n",
       "      <td>0.089899</td>\n",
       "      <td>-0.008687</td>\n",
       "      <td>-0.002627</td>\n",
       "    </tr>\n",
       "    <tr>\n",
       "      <th>3</th>\n",
       "      <td>0.781846</td>\n",
       "      <td>-0.362747</td>\n",
       "      <td>-0.118371</td>\n",
       "      <td>0.132441</td>\n",
       "      <td>0.044686</td>\n",
       "      <td>-0.277306</td>\n",
       "      <td>0.076743</td>\n",
       "      <td>0.033072</td>\n",
       "    </tr>\n",
       "    <tr>\n",
       "      <th>4</th>\n",
       "      <td>-0.137708</td>\n",
       "      <td>-0.072612</td>\n",
       "      <td>-0.008762</td>\n",
       "      <td>-0.003766</td>\n",
       "      <td>-0.014528</td>\n",
       "      <td>0.023948</td>\n",
       "      <td>-0.017136</td>\n",
       "      <td>-0.012197</td>\n",
       "    </tr>\n",
       "  </tbody>\n",
       "</table>\n",
       "</div>"
      ],
      "text/plain": [
       "        PC1       PC2       PC3       PC4       PC5       PC6       PC7  \\\n",
       "0  0.991455 -0.294753 -0.009944 -0.122483 -0.114764 -0.047728  0.005368   \n",
       "1 -0.113610 -0.088322 -0.018833  0.000357 -0.009419 -0.011582 -0.006899   \n",
       "2  1.092902 -0.362548 -0.046171 -0.337936  0.399704  0.089899 -0.008687   \n",
       "3  0.781846 -0.362747 -0.118371  0.132441  0.044686 -0.277306  0.076743   \n",
       "4 -0.137708 -0.072612 -0.008762 -0.003766 -0.014528  0.023948 -0.017136   \n",
       "\n",
       "        PC8  \n",
       "0  0.105284  \n",
       "1 -0.018035  \n",
       "2 -0.002627  \n",
       "3  0.033072  \n",
       "4 -0.012197  "
      ]
     },
     "execution_count": 214,
     "metadata": {},
     "output_type": "execute_result"
    }
   ],
   "source": [
    "principalDf = pd.DataFrame(data = principalComponents,columns=['PC1','PC2','PC3','PC4','PC5','PC6','PC7','PC8'],\n",
    "                           index=data.index)\n",
    "principalDf.head()"
   ]
  },
  {
   "cell_type": "code",
   "execution_count": 215,
   "metadata": {},
   "outputs": [],
   "source": [
    "Catego = sc_data[['Month','VisitorType','Weekend']]"
   ]
  },
  {
   "cell_type": "code",
   "execution_count": 216,
   "metadata": {},
   "outputs": [],
   "source": [
    "Final = pd.concat([principalDf,Catego],axis=1)"
   ]
  },
  {
   "cell_type": "code",
   "execution_count": 217,
   "metadata": {},
   "outputs": [],
   "source": [
    "X = Final\n",
    "Y = data1.Revenue"
   ]
  },
  {
   "cell_type": "markdown",
   "metadata": {},
   "source": [
    "## Logistic Regression"
   ]
  },
  {
   "cell_type": "code",
   "execution_count": 218,
   "metadata": {},
   "outputs": [],
   "source": [
    "LR = LogisticRegression()"
   ]
  },
  {
   "cell_type": "markdown",
   "metadata": {},
   "source": [
    "###  K Fold Cross Validation"
   ]
  },
  {
   "cell_type": "code",
   "execution_count": 219,
   "metadata": {},
   "outputs": [],
   "source": [
    "kf = KFold(n_splits=5,shuffle=True,random_state=0)"
   ]
  },
  {
   "cell_type": "code",
   "execution_count": 220,
   "metadata": {},
   "outputs": [
    {
     "name": "stdout",
     "output_type": "stream",
     "text": [
      " Accuracy: 0.86  F1: 0.22 ROC-AOC: 0.56\n"
     ]
    }
   ],
   "source": [
    "F1=[]\n",
    "roc_auc = []\n",
    "accuracy=[]\n",
    "for train,test in kf.split(X,Y):\n",
    "    xtrain,xtest=X.iloc[train,:],X.iloc[test,:]\n",
    "    ytrain,ytest=Y.iloc[train],Y.iloc[test]\n",
    "    LR.fit(xtrain,ytrain)\n",
    "    y_predict = LR.predict(xtest)\n",
    "    F1.append(metrics.f1_score(ytest,y_predict))\n",
    "    fpr,tpr,_=metrics.roc_curve(ytest,y_predict)\n",
    "    roc_auc.append(metrics.auc(fpr,tpr))\n",
    "    accuracy.append(metrics.accuracy_score(ytest,y_predict))\n",
    "print(' Accuracy: %0.02f  F1: %0.02f ROC-AOC: %0.02F'\n",
    "      %(np.mean(accuracy),np.mean(F1),np.mean(roc_auc)))"
   ]
  },
  {
   "cell_type": "code",
   "execution_count": 221,
   "metadata": {},
   "outputs": [
    {
     "data": {
      "text/html": [
       "<div>\n",
       "<style scoped>\n",
       "    .dataframe tbody tr th:only-of-type {\n",
       "        vertical-align: middle;\n",
       "    }\n",
       "\n",
       "    .dataframe tbody tr th {\n",
       "        vertical-align: top;\n",
       "    }\n",
       "\n",
       "    .dataframe thead th {\n",
       "        text-align: right;\n",
       "    }\n",
       "</style>\n",
       "<table border=\"1\" class=\"dataframe\">\n",
       "  <thead>\n",
       "    <tr style=\"text-align: right;\">\n",
       "      <th></th>\n",
       "      <th>Scaling</th>\n",
       "      <th>Model</th>\n",
       "      <th>Accuracy</th>\n",
       "      <th>F1 Score</th>\n",
       "      <th>ROC-AUC</th>\n",
       "    </tr>\n",
       "  </thead>\n",
       "  <tbody>\n",
       "    <tr>\n",
       "      <th>0</th>\n",
       "      <td>Standard</td>\n",
       "      <td>Logistic Regression</td>\n",
       "      <td>0.884266</td>\n",
       "      <td>0.501025</td>\n",
       "      <td>0.676718</td>\n",
       "    </tr>\n",
       "    <tr>\n",
       "      <th>0</th>\n",
       "      <td>Standard</td>\n",
       "      <td>Decision Tree</td>\n",
       "      <td>0.871046</td>\n",
       "      <td>0.326190</td>\n",
       "      <td>0.597803</td>\n",
       "    </tr>\n",
       "    <tr>\n",
       "      <th>0</th>\n",
       "      <td>Standard</td>\n",
       "      <td>Random Forest</td>\n",
       "      <td>0.875426</td>\n",
       "      <td>0.372520</td>\n",
       "      <td>0.615600</td>\n",
       "    </tr>\n",
       "    <tr>\n",
       "      <th>0</th>\n",
       "      <td>MinMax</td>\n",
       "      <td>Logistic Regression</td>\n",
       "      <td>0.846796</td>\n",
       "      <td>0.046464</td>\n",
       "      <td>0.510790</td>\n",
       "    </tr>\n",
       "    <tr>\n",
       "      <th>0</th>\n",
       "      <td>MinMax</td>\n",
       "      <td>Decision Tree</td>\n",
       "      <td>0.854015</td>\n",
       "      <td>0.217509</td>\n",
       "      <td>0.560389</td>\n",
       "    </tr>\n",
       "    <tr>\n",
       "      <th>0</th>\n",
       "      <td>MinMax</td>\n",
       "      <td>Random Forest</td>\n",
       "      <td>0.853609</td>\n",
       "      <td>0.116509</td>\n",
       "      <td>0.530452</td>\n",
       "    </tr>\n",
       "    <tr>\n",
       "      <th>0</th>\n",
       "      <td>MinAbs</td>\n",
       "      <td>Logistic Regression</td>\n",
       "      <td>0.875101</td>\n",
       "      <td>0.404829</td>\n",
       "      <td>0.630048</td>\n",
       "    </tr>\n",
       "    <tr>\n",
       "      <th>0</th>\n",
       "      <td>MaxAbs</td>\n",
       "      <td>Decision Tree</td>\n",
       "      <td>0.879724</td>\n",
       "      <td>0.442958</td>\n",
       "      <td>0.647131</td>\n",
       "    </tr>\n",
       "    <tr>\n",
       "      <th>0</th>\n",
       "      <td>MaxAbs</td>\n",
       "      <td>Random Forest</td>\n",
       "      <td>0.885483</td>\n",
       "      <td>0.574297</td>\n",
       "      <td>0.728319</td>\n",
       "    </tr>\n",
       "    <tr>\n",
       "      <th>0</th>\n",
       "      <td>Robust</td>\n",
       "      <td>Logistic Regression</td>\n",
       "      <td>0.883617</td>\n",
       "      <td>0.491802</td>\n",
       "      <td>0.671506</td>\n",
       "    </tr>\n",
       "    <tr>\n",
       "      <th>0</th>\n",
       "      <td>Robust</td>\n",
       "      <td>Decision Tree</td>\n",
       "      <td>0.883617</td>\n",
       "      <td>0.493922</td>\n",
       "      <td>0.673976</td>\n",
       "    </tr>\n",
       "    <tr>\n",
       "      <th>0</th>\n",
       "      <td>Robust</td>\n",
       "      <td>Random Forest</td>\n",
       "      <td>0.891890</td>\n",
       "      <td>0.635275</td>\n",
       "      <td>0.776545</td>\n",
       "    </tr>\n",
       "    <tr>\n",
       "      <th>0</th>\n",
       "      <td>Quantile-N</td>\n",
       "      <td>Logistic Regression</td>\n",
       "      <td>0.894647</td>\n",
       "      <td>0.641103</td>\n",
       "      <td>0.778070</td>\n",
       "    </tr>\n",
       "    <tr>\n",
       "      <th>0</th>\n",
       "      <td>Quantile-N</td>\n",
       "      <td>Decision Tree</td>\n",
       "      <td>0.875669</td>\n",
       "      <td>0.663917</td>\n",
       "      <td>0.842730</td>\n",
       "    </tr>\n",
       "    <tr>\n",
       "      <th>0</th>\n",
       "      <td>Quantile-N</td>\n",
       "      <td>Random Forest</td>\n",
       "      <td>0.866829</td>\n",
       "      <td>0.307659</td>\n",
       "      <td>0.597101</td>\n",
       "    </tr>\n",
       "    <tr>\n",
       "      <th>0</th>\n",
       "      <td>Quantile-U</td>\n",
       "      <td>Logistic Regression</td>\n",
       "      <td>0.894972</td>\n",
       "      <td>0.642978</td>\n",
       "      <td>0.779370</td>\n",
       "    </tr>\n",
       "    <tr>\n",
       "      <th>0</th>\n",
       "      <td>Quantile-U</td>\n",
       "      <td>Decision Tree</td>\n",
       "      <td>0.880535</td>\n",
       "      <td>0.522551</td>\n",
       "      <td>0.696129</td>\n",
       "    </tr>\n",
       "    <tr>\n",
       "      <th>0</th>\n",
       "      <td>Quantile-U</td>\n",
       "      <td>Random Forest</td>\n",
       "      <td>0.890592</td>\n",
       "      <td>0.559144</td>\n",
       "      <td>0.709865</td>\n",
       "    </tr>\n",
       "    <tr>\n",
       "      <th>0</th>\n",
       "      <td>Power Transform</td>\n",
       "      <td>Logistic Regression</td>\n",
       "      <td>0.892863</td>\n",
       "      <td>0.643969</td>\n",
       "      <td>0.784254</td>\n",
       "    </tr>\n",
       "    <tr>\n",
       "      <th>0</th>\n",
       "      <td>Power Transform</td>\n",
       "      <td>Decision Tree</td>\n",
       "      <td>0.883617</td>\n",
       "      <td>0.592870</td>\n",
       "      <td>0.755787</td>\n",
       "    </tr>\n",
       "    <tr>\n",
       "      <th>0</th>\n",
       "      <td>Power Transform</td>\n",
       "      <td>Random Forest</td>\n",
       "      <td>0.880535</td>\n",
       "      <td>0.439515</td>\n",
       "      <td>0.645447</td>\n",
       "    </tr>\n",
       "    <tr>\n",
       "      <th>0</th>\n",
       "      <td>Normalizer</td>\n",
       "      <td>Logistic Regression</td>\n",
       "      <td>0.862368</td>\n",
       "      <td>0.217597</td>\n",
       "      <td>0.560668</td>\n",
       "    </tr>\n",
       "  </tbody>\n",
       "</table>\n",
       "</div>"
      ],
      "text/plain": [
       "           Scaling                Model  Accuracy  F1 Score   ROC-AUC\n",
       "0         Standard  Logistic Regression  0.884266  0.501025  0.676718\n",
       "0         Standard        Decision Tree  0.871046  0.326190  0.597803\n",
       "0         Standard        Random Forest  0.875426  0.372520  0.615600\n",
       "0           MinMax  Logistic Regression  0.846796  0.046464  0.510790\n",
       "0           MinMax        Decision Tree  0.854015  0.217509  0.560389\n",
       "0           MinMax        Random Forest  0.853609  0.116509  0.530452\n",
       "0           MinAbs  Logistic Regression  0.875101  0.404829  0.630048\n",
       "0           MaxAbs        Decision Tree  0.879724  0.442958  0.647131\n",
       "0           MaxAbs        Random Forest  0.885483  0.574297  0.728319\n",
       "0           Robust  Logistic Regression  0.883617  0.491802  0.671506\n",
       "0           Robust        Decision Tree  0.883617  0.493922  0.673976\n",
       "0           Robust        Random Forest  0.891890  0.635275  0.776545\n",
       "0       Quantile-N  Logistic Regression  0.894647  0.641103  0.778070\n",
       "0       Quantile-N        Decision Tree  0.875669  0.663917  0.842730\n",
       "0       Quantile-N        Random Forest  0.866829  0.307659  0.597101\n",
       "0       Quantile-U  Logistic Regression  0.894972  0.642978  0.779370\n",
       "0       Quantile-U        Decision Tree  0.880535  0.522551  0.696129\n",
       "0       Quantile-U        Random Forest  0.890592  0.559144  0.709865\n",
       "0  Power Transform  Logistic Regression  0.892863  0.643969  0.784254\n",
       "0  Power Transform        Decision Tree  0.883617  0.592870  0.755787\n",
       "0  Power Transform        Random Forest  0.880535  0.439515  0.645447\n",
       "0       Normalizer  Logistic Regression  0.862368  0.217597  0.560668"
      ]
     },
     "execution_count": 221,
     "metadata": {},
     "output_type": "execute_result"
    }
   ],
   "source": [
    "# Storing results in a dataframe\n",
    "tempResultsDf = pd.DataFrame({'Scaling':['Normalizer'],'Model':['Logistic Regression'], \n",
    "                          'Accuracy': [np.mean(accuracy)], 'F1 Score': [np.mean(F1)],'ROC-AUC':[np.mean(roc_auc)]})\n",
    "resultsDf = pd.concat([resultsDf, tempResultsDf])\n",
    "resultsDf = resultsDf[['Scaling','Model', 'Accuracy','F1 Score','ROC-AUC']]\n",
    "resultsDf"
   ]
  },
  {
   "cell_type": "markdown",
   "metadata": {},
   "source": [
    "## Decision Tree"
   ]
  },
  {
   "cell_type": "code",
   "execution_count": 222,
   "metadata": {},
   "outputs": [],
   "source": [
    "DT = DecisionTreeClassifier()"
   ]
  },
  {
   "cell_type": "code",
   "execution_count": 223,
   "metadata": {},
   "outputs": [
    {
     "data": {
      "text/plain": [
       "GridSearchCV(cv=3, error_score='raise-deprecating',\n",
       "       estimator=DecisionTreeClassifier(class_weight=None, criterion='gini', max_depth=None,\n",
       "            max_features=None, max_leaf_nodes=None,\n",
       "            min_impurity_decrease=0.0, min_impurity_split=None,\n",
       "            min_samples_leaf=1, min_samples_split=2,\n",
       "            min_weight_fraction_leaf=0.0, presort=False, random_state=None,\n",
       "            splitter='best'),\n",
       "       fit_params=None, iid='warn', n_jobs=None,\n",
       "       param_grid={'max_depth': array([1, 2, 3, 4, 5, 6, 7, 8, 9])},\n",
       "       pre_dispatch='2*n_jobs', refit=True, return_train_score='warn',\n",
       "       scoring=None, verbose=0)"
      ]
     },
     "execution_count": 223,
     "metadata": {},
     "output_type": "execute_result"
    }
   ],
   "source": [
    "parameter ={'max_depth':np.arange(1,10)}\n",
    "GS=GridSearchCV(DT,parameter,cv=3)\n",
    "GS.fit(X,Y)"
   ]
  },
  {
   "cell_type": "code",
   "execution_count": 224,
   "metadata": {},
   "outputs": [
    {
     "data": {
      "text/plain": [
       "{'max_depth': 2}"
      ]
     },
     "execution_count": 224,
     "metadata": {},
     "output_type": "execute_result"
    }
   ],
   "source": [
    "GS.best_params_"
   ]
  },
  {
   "cell_type": "code",
   "execution_count": 225,
   "metadata": {},
   "outputs": [],
   "source": [
    "DT = DecisionTreeClassifier(max_depth=2)"
   ]
  },
  {
   "cell_type": "markdown",
   "metadata": {},
   "source": [
    "###  K Fold Cross Validation"
   ]
  },
  {
   "cell_type": "code",
   "execution_count": 226,
   "metadata": {},
   "outputs": [],
   "source": [
    "kf = KFold(n_splits=5,shuffle=True,random_state=0)"
   ]
  },
  {
   "cell_type": "code",
   "execution_count": 227,
   "metadata": {},
   "outputs": [
    {
     "name": "stdout",
     "output_type": "stream",
     "text": [
      " Accuracy: 0.87  F1: 0.38 ROC-AOC: 0.62\n"
     ]
    }
   ],
   "source": [
    "F1=[]\n",
    "roc_auc = []\n",
    "accuracy=[]\n",
    "for train,test in kf.split(X,Y):\n",
    "    xtrain,xtest=X.iloc[train,:],X.iloc[test,:]\n",
    "    ytrain,ytest=Y.iloc[train],Y.iloc[test]\n",
    "    DT.fit(xtrain,ytrain)\n",
    "    y_predict = DT.predict(xtest)\n",
    "    F1.append(metrics.f1_score(ytest,y_predict))\n",
    "    fpr,tpr,_=metrics.roc_curve(ytest,y_predict)\n",
    "    roc_auc.append(metrics.auc(fpr,tpr))\n",
    "    accuracy.append(metrics.accuracy_score(ytest,y_predict))\n",
    "print(' Accuracy: %0.02f  F1: %0.02f ROC-AOC: %0.02F'\n",
    "      %(np.mean(accuracy),np.mean(F1),np.mean(roc_auc)))"
   ]
  },
  {
   "cell_type": "code",
   "execution_count": 228,
   "metadata": {},
   "outputs": [
    {
     "data": {
      "text/html": [
       "<div>\n",
       "<style scoped>\n",
       "    .dataframe tbody tr th:only-of-type {\n",
       "        vertical-align: middle;\n",
       "    }\n",
       "\n",
       "    .dataframe tbody tr th {\n",
       "        vertical-align: top;\n",
       "    }\n",
       "\n",
       "    .dataframe thead th {\n",
       "        text-align: right;\n",
       "    }\n",
       "</style>\n",
       "<table border=\"1\" class=\"dataframe\">\n",
       "  <thead>\n",
       "    <tr style=\"text-align: right;\">\n",
       "      <th></th>\n",
       "      <th>Scaling</th>\n",
       "      <th>Model</th>\n",
       "      <th>Accuracy</th>\n",
       "      <th>F1 Score</th>\n",
       "      <th>ROC-AUC</th>\n",
       "    </tr>\n",
       "  </thead>\n",
       "  <tbody>\n",
       "    <tr>\n",
       "      <th>0</th>\n",
       "      <td>Standard</td>\n",
       "      <td>Logistic Regression</td>\n",
       "      <td>0.884266</td>\n",
       "      <td>0.501025</td>\n",
       "      <td>0.676718</td>\n",
       "    </tr>\n",
       "    <tr>\n",
       "      <th>0</th>\n",
       "      <td>Standard</td>\n",
       "      <td>Decision Tree</td>\n",
       "      <td>0.871046</td>\n",
       "      <td>0.326190</td>\n",
       "      <td>0.597803</td>\n",
       "    </tr>\n",
       "    <tr>\n",
       "      <th>0</th>\n",
       "      <td>Standard</td>\n",
       "      <td>Random Forest</td>\n",
       "      <td>0.875426</td>\n",
       "      <td>0.372520</td>\n",
       "      <td>0.615600</td>\n",
       "    </tr>\n",
       "    <tr>\n",
       "      <th>0</th>\n",
       "      <td>MinMax</td>\n",
       "      <td>Logistic Regression</td>\n",
       "      <td>0.846796</td>\n",
       "      <td>0.046464</td>\n",
       "      <td>0.510790</td>\n",
       "    </tr>\n",
       "    <tr>\n",
       "      <th>0</th>\n",
       "      <td>MinMax</td>\n",
       "      <td>Decision Tree</td>\n",
       "      <td>0.854015</td>\n",
       "      <td>0.217509</td>\n",
       "      <td>0.560389</td>\n",
       "    </tr>\n",
       "    <tr>\n",
       "      <th>0</th>\n",
       "      <td>MinMax</td>\n",
       "      <td>Random Forest</td>\n",
       "      <td>0.853609</td>\n",
       "      <td>0.116509</td>\n",
       "      <td>0.530452</td>\n",
       "    </tr>\n",
       "    <tr>\n",
       "      <th>0</th>\n",
       "      <td>MinAbs</td>\n",
       "      <td>Logistic Regression</td>\n",
       "      <td>0.875101</td>\n",
       "      <td>0.404829</td>\n",
       "      <td>0.630048</td>\n",
       "    </tr>\n",
       "    <tr>\n",
       "      <th>0</th>\n",
       "      <td>MaxAbs</td>\n",
       "      <td>Decision Tree</td>\n",
       "      <td>0.879724</td>\n",
       "      <td>0.442958</td>\n",
       "      <td>0.647131</td>\n",
       "    </tr>\n",
       "    <tr>\n",
       "      <th>0</th>\n",
       "      <td>MaxAbs</td>\n",
       "      <td>Random Forest</td>\n",
       "      <td>0.885483</td>\n",
       "      <td>0.574297</td>\n",
       "      <td>0.728319</td>\n",
       "    </tr>\n",
       "    <tr>\n",
       "      <th>0</th>\n",
       "      <td>Robust</td>\n",
       "      <td>Logistic Regression</td>\n",
       "      <td>0.883617</td>\n",
       "      <td>0.491802</td>\n",
       "      <td>0.671506</td>\n",
       "    </tr>\n",
       "    <tr>\n",
       "      <th>0</th>\n",
       "      <td>Robust</td>\n",
       "      <td>Decision Tree</td>\n",
       "      <td>0.883617</td>\n",
       "      <td>0.493922</td>\n",
       "      <td>0.673976</td>\n",
       "    </tr>\n",
       "    <tr>\n",
       "      <th>0</th>\n",
       "      <td>Robust</td>\n",
       "      <td>Random Forest</td>\n",
       "      <td>0.891890</td>\n",
       "      <td>0.635275</td>\n",
       "      <td>0.776545</td>\n",
       "    </tr>\n",
       "    <tr>\n",
       "      <th>0</th>\n",
       "      <td>Quantile-N</td>\n",
       "      <td>Logistic Regression</td>\n",
       "      <td>0.894647</td>\n",
       "      <td>0.641103</td>\n",
       "      <td>0.778070</td>\n",
       "    </tr>\n",
       "    <tr>\n",
       "      <th>0</th>\n",
       "      <td>Quantile-N</td>\n",
       "      <td>Decision Tree</td>\n",
       "      <td>0.875669</td>\n",
       "      <td>0.663917</td>\n",
       "      <td>0.842730</td>\n",
       "    </tr>\n",
       "    <tr>\n",
       "      <th>0</th>\n",
       "      <td>Quantile-N</td>\n",
       "      <td>Random Forest</td>\n",
       "      <td>0.866829</td>\n",
       "      <td>0.307659</td>\n",
       "      <td>0.597101</td>\n",
       "    </tr>\n",
       "    <tr>\n",
       "      <th>0</th>\n",
       "      <td>Quantile-U</td>\n",
       "      <td>Logistic Regression</td>\n",
       "      <td>0.894972</td>\n",
       "      <td>0.642978</td>\n",
       "      <td>0.779370</td>\n",
       "    </tr>\n",
       "    <tr>\n",
       "      <th>0</th>\n",
       "      <td>Quantile-U</td>\n",
       "      <td>Decision Tree</td>\n",
       "      <td>0.880535</td>\n",
       "      <td>0.522551</td>\n",
       "      <td>0.696129</td>\n",
       "    </tr>\n",
       "    <tr>\n",
       "      <th>0</th>\n",
       "      <td>Quantile-U</td>\n",
       "      <td>Random Forest</td>\n",
       "      <td>0.890592</td>\n",
       "      <td>0.559144</td>\n",
       "      <td>0.709865</td>\n",
       "    </tr>\n",
       "    <tr>\n",
       "      <th>0</th>\n",
       "      <td>Power Transform</td>\n",
       "      <td>Logistic Regression</td>\n",
       "      <td>0.892863</td>\n",
       "      <td>0.643969</td>\n",
       "      <td>0.784254</td>\n",
       "    </tr>\n",
       "    <tr>\n",
       "      <th>0</th>\n",
       "      <td>Power Transform</td>\n",
       "      <td>Decision Tree</td>\n",
       "      <td>0.883617</td>\n",
       "      <td>0.592870</td>\n",
       "      <td>0.755787</td>\n",
       "    </tr>\n",
       "    <tr>\n",
       "      <th>0</th>\n",
       "      <td>Power Transform</td>\n",
       "      <td>Random Forest</td>\n",
       "      <td>0.880535</td>\n",
       "      <td>0.439515</td>\n",
       "      <td>0.645447</td>\n",
       "    </tr>\n",
       "    <tr>\n",
       "      <th>0</th>\n",
       "      <td>Normalizer</td>\n",
       "      <td>Logistic Regression</td>\n",
       "      <td>0.862368</td>\n",
       "      <td>0.217597</td>\n",
       "      <td>0.560668</td>\n",
       "    </tr>\n",
       "    <tr>\n",
       "      <th>0</th>\n",
       "      <td>Normalizer</td>\n",
       "      <td>Decision Tree</td>\n",
       "      <td>0.874777</td>\n",
       "      <td>0.377967</td>\n",
       "      <td>0.618430</td>\n",
       "    </tr>\n",
       "  </tbody>\n",
       "</table>\n",
       "</div>"
      ],
      "text/plain": [
       "           Scaling                Model  Accuracy  F1 Score   ROC-AUC\n",
       "0         Standard  Logistic Regression  0.884266  0.501025  0.676718\n",
       "0         Standard        Decision Tree  0.871046  0.326190  0.597803\n",
       "0         Standard        Random Forest  0.875426  0.372520  0.615600\n",
       "0           MinMax  Logistic Regression  0.846796  0.046464  0.510790\n",
       "0           MinMax        Decision Tree  0.854015  0.217509  0.560389\n",
       "0           MinMax        Random Forest  0.853609  0.116509  0.530452\n",
       "0           MinAbs  Logistic Regression  0.875101  0.404829  0.630048\n",
       "0           MaxAbs        Decision Tree  0.879724  0.442958  0.647131\n",
       "0           MaxAbs        Random Forest  0.885483  0.574297  0.728319\n",
       "0           Robust  Logistic Regression  0.883617  0.491802  0.671506\n",
       "0           Robust        Decision Tree  0.883617  0.493922  0.673976\n",
       "0           Robust        Random Forest  0.891890  0.635275  0.776545\n",
       "0       Quantile-N  Logistic Regression  0.894647  0.641103  0.778070\n",
       "0       Quantile-N        Decision Tree  0.875669  0.663917  0.842730\n",
       "0       Quantile-N        Random Forest  0.866829  0.307659  0.597101\n",
       "0       Quantile-U  Logistic Regression  0.894972  0.642978  0.779370\n",
       "0       Quantile-U        Decision Tree  0.880535  0.522551  0.696129\n",
       "0       Quantile-U        Random Forest  0.890592  0.559144  0.709865\n",
       "0  Power Transform  Logistic Regression  0.892863  0.643969  0.784254\n",
       "0  Power Transform        Decision Tree  0.883617  0.592870  0.755787\n",
       "0  Power Transform        Random Forest  0.880535  0.439515  0.645447\n",
       "0       Normalizer  Logistic Regression  0.862368  0.217597  0.560668\n",
       "0       Normalizer        Decision Tree  0.874777  0.377967  0.618430"
      ]
     },
     "execution_count": 228,
     "metadata": {},
     "output_type": "execute_result"
    }
   ],
   "source": [
    "# Storing results in a dataframe\n",
    "tempResultsDf = pd.DataFrame({'Scaling':['Normalizer'],'Model':['Decision Tree'], \n",
    "                          'Accuracy': [np.mean(accuracy)], 'F1 Score': [np.mean(F1)],'ROC-AUC':[np.mean(roc_auc)]})\n",
    "resultsDf = pd.concat([resultsDf, tempResultsDf])\n",
    "resultsDf = resultsDf[['Scaling','Model', 'Accuracy','F1 Score','ROC-AUC']]\n",
    "resultsDf"
   ]
  },
  {
   "cell_type": "markdown",
   "metadata": {},
   "source": [
    "## Random Forest"
   ]
  },
  {
   "cell_type": "code",
   "execution_count": 229,
   "metadata": {},
   "outputs": [],
   "source": [
    "RT = RandomForestClassifier(random_state=0)"
   ]
  },
  {
   "cell_type": "code",
   "execution_count": 230,
   "metadata": {},
   "outputs": [
    {
     "data": {
      "text/plain": [
       "GridSearchCV(cv=3, error_score='raise-deprecating',\n",
       "       estimator=RandomForestClassifier(bootstrap=True, class_weight=None, criterion='gini',\n",
       "            max_depth=None, max_features='auto', max_leaf_nodes=None,\n",
       "            min_impurity_decrease=0.0, min_impurity_split=None,\n",
       "            min_samples_leaf=1, min_samples_split=2,\n",
       "            min_weight_fraction_leaf=0.0, n_estimators='warn', n_jobs=None,\n",
       "            oob_score=False, random_state=0, verbose=0, warm_start=False),\n",
       "       fit_params=None, iid='warn', n_jobs=None,\n",
       "       param_grid={'n_estimators': array([1, 2, 3, 4, 5, 6, 7, 8, 9]), 'max_depth': array([1, 2, 3, 4, 5, 6, 7, 8, 9])},\n",
       "       pre_dispatch='2*n_jobs', refit=True, return_train_score='warn',\n",
       "       scoring=None, verbose=0)"
      ]
     },
     "execution_count": 230,
     "metadata": {},
     "output_type": "execute_result"
    }
   ],
   "source": [
    "parameter ={'n_estimators':np.arange(1,10),'max_depth':np.arange(1,10)}\n",
    "GS=GridSearchCV(RT,parameter,cv=3)\n",
    "GS.fit(X,Y)"
   ]
  },
  {
   "cell_type": "code",
   "execution_count": 231,
   "metadata": {},
   "outputs": [
    {
     "data": {
      "text/plain": [
       "{'max_depth': 6, 'n_estimators': 6}"
      ]
     },
     "execution_count": 231,
     "metadata": {},
     "output_type": "execute_result"
    }
   ],
   "source": [
    "GS.best_params_"
   ]
  },
  {
   "cell_type": "code",
   "execution_count": 232,
   "metadata": {},
   "outputs": [],
   "source": [
    "RT = RandomForestClassifier(n_estimators=6,max_depth=6)"
   ]
  },
  {
   "cell_type": "markdown",
   "metadata": {},
   "source": [
    "###  K Fold Cross Validation"
   ]
  },
  {
   "cell_type": "code",
   "execution_count": 233,
   "metadata": {},
   "outputs": [],
   "source": [
    "kf = KFold(n_splits=5,shuffle=True,random_state=0)"
   ]
  },
  {
   "cell_type": "code",
   "execution_count": 234,
   "metadata": {},
   "outputs": [
    {
     "name": "stdout",
     "output_type": "stream",
     "text": [
      " Accuracy: 0.88  F1: 0.48 ROC-AOC: 0.66\n"
     ]
    }
   ],
   "source": [
    "F1=[]\n",
    "roc_auc = []\n",
    "accuracy=[]\n",
    "for train,test in kf.split(X,Y):\n",
    "    xtrain,xtest=X.iloc[train,:],X.iloc[test,:]\n",
    "    ytrain,ytest=Y.iloc[train],Y.iloc[test]\n",
    "    RT.fit(xtrain,ytrain)\n",
    "    y_predict = RT.predict(xtest)\n",
    "    F1.append(metrics.f1_score(ytest,y_predict))\n",
    "    fpr,tpr,_=metrics.roc_curve(ytest,y_predict)\n",
    "    roc_auc.append(metrics.auc(fpr,tpr))\n",
    "    accuracy.append(metrics.accuracy_score(ytest,y_predict))\n",
    "print(' Accuracy: %0.02f  F1: %0.02f ROC-AOC: %0.02F'\n",
    "      %(np.mean(accuracy),np.mean(F1),np.mean(roc_auc)))"
   ]
  },
  {
   "cell_type": "code",
   "execution_count": 235,
   "metadata": {},
   "outputs": [
    {
     "data": {
      "text/html": [
       "<div>\n",
       "<style scoped>\n",
       "    .dataframe tbody tr th:only-of-type {\n",
       "        vertical-align: middle;\n",
       "    }\n",
       "\n",
       "    .dataframe tbody tr th {\n",
       "        vertical-align: top;\n",
       "    }\n",
       "\n",
       "    .dataframe thead th {\n",
       "        text-align: right;\n",
       "    }\n",
       "</style>\n",
       "<table border=\"1\" class=\"dataframe\">\n",
       "  <thead>\n",
       "    <tr style=\"text-align: right;\">\n",
       "      <th></th>\n",
       "      <th>Scaling</th>\n",
       "      <th>Model</th>\n",
       "      <th>Accuracy</th>\n",
       "      <th>F1 Score</th>\n",
       "      <th>ROC-AUC</th>\n",
       "    </tr>\n",
       "  </thead>\n",
       "  <tbody>\n",
       "    <tr>\n",
       "      <th>0</th>\n",
       "      <td>Standard</td>\n",
       "      <td>Logistic Regression</td>\n",
       "      <td>0.884266</td>\n",
       "      <td>0.501025</td>\n",
       "      <td>0.676718</td>\n",
       "    </tr>\n",
       "    <tr>\n",
       "      <th>1</th>\n",
       "      <td>Standard</td>\n",
       "      <td>Decision Tree</td>\n",
       "      <td>0.871046</td>\n",
       "      <td>0.326190</td>\n",
       "      <td>0.597803</td>\n",
       "    </tr>\n",
       "    <tr>\n",
       "      <th>2</th>\n",
       "      <td>Standard</td>\n",
       "      <td>Random Forest</td>\n",
       "      <td>0.875426</td>\n",
       "      <td>0.372520</td>\n",
       "      <td>0.615600</td>\n",
       "    </tr>\n",
       "    <tr>\n",
       "      <th>3</th>\n",
       "      <td>MinMax</td>\n",
       "      <td>Logistic Regression</td>\n",
       "      <td>0.846796</td>\n",
       "      <td>0.046464</td>\n",
       "      <td>0.510790</td>\n",
       "    </tr>\n",
       "    <tr>\n",
       "      <th>4</th>\n",
       "      <td>MinMax</td>\n",
       "      <td>Decision Tree</td>\n",
       "      <td>0.854015</td>\n",
       "      <td>0.217509</td>\n",
       "      <td>0.560389</td>\n",
       "    </tr>\n",
       "    <tr>\n",
       "      <th>5</th>\n",
       "      <td>MinMax</td>\n",
       "      <td>Random Forest</td>\n",
       "      <td>0.853609</td>\n",
       "      <td>0.116509</td>\n",
       "      <td>0.530452</td>\n",
       "    </tr>\n",
       "    <tr>\n",
       "      <th>6</th>\n",
       "      <td>MinAbs</td>\n",
       "      <td>Logistic Regression</td>\n",
       "      <td>0.875101</td>\n",
       "      <td>0.404829</td>\n",
       "      <td>0.630048</td>\n",
       "    </tr>\n",
       "    <tr>\n",
       "      <th>7</th>\n",
       "      <td>MaxAbs</td>\n",
       "      <td>Decision Tree</td>\n",
       "      <td>0.879724</td>\n",
       "      <td>0.442958</td>\n",
       "      <td>0.647131</td>\n",
       "    </tr>\n",
       "    <tr>\n",
       "      <th>8</th>\n",
       "      <td>MaxAbs</td>\n",
       "      <td>Random Forest</td>\n",
       "      <td>0.885483</td>\n",
       "      <td>0.574297</td>\n",
       "      <td>0.728319</td>\n",
       "    </tr>\n",
       "    <tr>\n",
       "      <th>9</th>\n",
       "      <td>Robust</td>\n",
       "      <td>Logistic Regression</td>\n",
       "      <td>0.883617</td>\n",
       "      <td>0.491802</td>\n",
       "      <td>0.671506</td>\n",
       "    </tr>\n",
       "    <tr>\n",
       "      <th>10</th>\n",
       "      <td>Robust</td>\n",
       "      <td>Decision Tree</td>\n",
       "      <td>0.883617</td>\n",
       "      <td>0.493922</td>\n",
       "      <td>0.673976</td>\n",
       "    </tr>\n",
       "    <tr>\n",
       "      <th>11</th>\n",
       "      <td>Robust</td>\n",
       "      <td>Random Forest</td>\n",
       "      <td>0.891890</td>\n",
       "      <td>0.635275</td>\n",
       "      <td>0.776545</td>\n",
       "    </tr>\n",
       "    <tr>\n",
       "      <th>12</th>\n",
       "      <td>Quantile-N</td>\n",
       "      <td>Logistic Regression</td>\n",
       "      <td>0.894647</td>\n",
       "      <td>0.641103</td>\n",
       "      <td>0.778070</td>\n",
       "    </tr>\n",
       "    <tr>\n",
       "      <th>13</th>\n",
       "      <td>Quantile-N</td>\n",
       "      <td>Decision Tree</td>\n",
       "      <td>0.875669</td>\n",
       "      <td>0.663917</td>\n",
       "      <td>0.842730</td>\n",
       "    </tr>\n",
       "    <tr>\n",
       "      <th>14</th>\n",
       "      <td>Quantile-N</td>\n",
       "      <td>Random Forest</td>\n",
       "      <td>0.866829</td>\n",
       "      <td>0.307659</td>\n",
       "      <td>0.597101</td>\n",
       "    </tr>\n",
       "    <tr>\n",
       "      <th>15</th>\n",
       "      <td>Quantile-U</td>\n",
       "      <td>Logistic Regression</td>\n",
       "      <td>0.894972</td>\n",
       "      <td>0.642978</td>\n",
       "      <td>0.779370</td>\n",
       "    </tr>\n",
       "    <tr>\n",
       "      <th>16</th>\n",
       "      <td>Quantile-U</td>\n",
       "      <td>Decision Tree</td>\n",
       "      <td>0.880535</td>\n",
       "      <td>0.522551</td>\n",
       "      <td>0.696129</td>\n",
       "    </tr>\n",
       "    <tr>\n",
       "      <th>17</th>\n",
       "      <td>Quantile-U</td>\n",
       "      <td>Random Forest</td>\n",
       "      <td>0.890592</td>\n",
       "      <td>0.559144</td>\n",
       "      <td>0.709865</td>\n",
       "    </tr>\n",
       "    <tr>\n",
       "      <th>18</th>\n",
       "      <td>Power Transform</td>\n",
       "      <td>Logistic Regression</td>\n",
       "      <td>0.892863</td>\n",
       "      <td>0.643969</td>\n",
       "      <td>0.784254</td>\n",
       "    </tr>\n",
       "    <tr>\n",
       "      <th>19</th>\n",
       "      <td>Power Transform</td>\n",
       "      <td>Decision Tree</td>\n",
       "      <td>0.883617</td>\n",
       "      <td>0.592870</td>\n",
       "      <td>0.755787</td>\n",
       "    </tr>\n",
       "    <tr>\n",
       "      <th>20</th>\n",
       "      <td>Power Transform</td>\n",
       "      <td>Random Forest</td>\n",
       "      <td>0.880535</td>\n",
       "      <td>0.439515</td>\n",
       "      <td>0.645447</td>\n",
       "    </tr>\n",
       "    <tr>\n",
       "      <th>21</th>\n",
       "      <td>Normalizer</td>\n",
       "      <td>Logistic Regression</td>\n",
       "      <td>0.862368</td>\n",
       "      <td>0.217597</td>\n",
       "      <td>0.560668</td>\n",
       "    </tr>\n",
       "    <tr>\n",
       "      <th>22</th>\n",
       "      <td>Normalizer</td>\n",
       "      <td>Decision Tree</td>\n",
       "      <td>0.874777</td>\n",
       "      <td>0.377967</td>\n",
       "      <td>0.618430</td>\n",
       "    </tr>\n",
       "    <tr>\n",
       "      <th>23</th>\n",
       "      <td>Normalizer</td>\n",
       "      <td>Random Forest</td>\n",
       "      <td>0.883536</td>\n",
       "      <td>0.477393</td>\n",
       "      <td>0.663045</td>\n",
       "    </tr>\n",
       "  </tbody>\n",
       "</table>\n",
       "</div>"
      ],
      "text/plain": [
       "            Scaling                Model  Accuracy  F1 Score   ROC-AUC\n",
       "0          Standard  Logistic Regression  0.884266  0.501025  0.676718\n",
       "1          Standard        Decision Tree  0.871046  0.326190  0.597803\n",
       "2          Standard        Random Forest  0.875426  0.372520  0.615600\n",
       "3            MinMax  Logistic Regression  0.846796  0.046464  0.510790\n",
       "4            MinMax        Decision Tree  0.854015  0.217509  0.560389\n",
       "5            MinMax        Random Forest  0.853609  0.116509  0.530452\n",
       "6            MinAbs  Logistic Regression  0.875101  0.404829  0.630048\n",
       "7            MaxAbs        Decision Tree  0.879724  0.442958  0.647131\n",
       "8            MaxAbs        Random Forest  0.885483  0.574297  0.728319\n",
       "9            Robust  Logistic Regression  0.883617  0.491802  0.671506\n",
       "10           Robust        Decision Tree  0.883617  0.493922  0.673976\n",
       "11           Robust        Random Forest  0.891890  0.635275  0.776545\n",
       "12       Quantile-N  Logistic Regression  0.894647  0.641103  0.778070\n",
       "13       Quantile-N        Decision Tree  0.875669  0.663917  0.842730\n",
       "14       Quantile-N        Random Forest  0.866829  0.307659  0.597101\n",
       "15       Quantile-U  Logistic Regression  0.894972  0.642978  0.779370\n",
       "16       Quantile-U        Decision Tree  0.880535  0.522551  0.696129\n",
       "17       Quantile-U        Random Forest  0.890592  0.559144  0.709865\n",
       "18  Power Transform  Logistic Regression  0.892863  0.643969  0.784254\n",
       "19  Power Transform        Decision Tree  0.883617  0.592870  0.755787\n",
       "20  Power Transform        Random Forest  0.880535  0.439515  0.645447\n",
       "21       Normalizer  Logistic Regression  0.862368  0.217597  0.560668\n",
       "22       Normalizer        Decision Tree  0.874777  0.377967  0.618430\n",
       "23       Normalizer        Random Forest  0.883536  0.477393  0.663045"
      ]
     },
     "execution_count": 235,
     "metadata": {},
     "output_type": "execute_result"
    }
   ],
   "source": [
    "# Storing results in a dataframe\n",
    "tempResultsDf = pd.DataFrame({'Scaling':['Normalizer'],'Model':['Random Forest'], \n",
    "                          'Accuracy': [np.mean(accuracy)], 'F1 Score': [np.mean(F1)],'ROC-AUC':[np.mean(roc_auc)]})\n",
    "resultsDf = pd.concat([resultsDf, tempResultsDf])\n",
    "resultsDf = resultsDf[['Scaling','Model', 'Accuracy','F1 Score','ROC-AUC']]\n",
    "resultsDf.index = [i for i in range(len(resultsDf))]\n",
    "resultsDf"
   ]
  },
  {
   "cell_type": "code",
   "execution_count": 236,
   "metadata": {},
   "outputs": [],
   "source": [
    "resultsDf['Accuracy'] = np.round(resultsDf['Accuracy'],2)\n",
    "resultsDf['F1 Score'] = np.round(resultsDf['F1 Score'],2)\n",
    "resultsDf['ROC-AUC'] = np.round(resultsDf['ROC-AUC'],2)"
   ]
  },
  {
   "cell_type": "code",
   "execution_count": 237,
   "metadata": {},
   "outputs": [
    {
     "data": {
      "text/plain": [
       "Scaling          Standard\n",
       "Model       Random Forest\n",
       "Accuracy             0.89\n",
       "F1 Score             0.66\n",
       "ROC-AUC              0.84\n",
       "dtype: object"
      ]
     },
     "execution_count": 237,
     "metadata": {},
     "output_type": "execute_result"
    }
   ],
   "source": [
    "resultsDf.max()"
   ]
  },
  {
   "cell_type": "markdown",
   "metadata": {},
   "source": [
    "# Inference:\n",
    "    From all the scaling methods Standard scaling has provided us the best scores\n",
    "    From all the model scores of Random Forest is par 80 for all the metrics.\n",
    "    It provided us a good Auc as well only .16 percent has chances of misclassification.\n",
    "    Applying PCA doesnt make any big impact in the models."
   ]
  }
 ],
 "metadata": {
  "kernelspec": {
   "display_name": "Python 3",
   "language": "python",
   "name": "python3"
  },
  "language_info": {
   "codemirror_mode": {
    "name": "ipython",
    "version": 3
   },
   "file_extension": ".py",
   "mimetype": "text/x-python",
   "name": "python",
   "nbconvert_exporter": "python",
   "pygments_lexer": "ipython3",
   "version": "3.7.1"
  }
 },
 "nbformat": 4,
 "nbformat_minor": 2
}
